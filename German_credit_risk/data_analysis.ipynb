{
 "cells": [
  {
   "cell_type": "code",
   "execution_count": 1,
   "id": "initial_id",
   "metadata": {
    "collapsed": true,
    "ExecuteTime": {
     "end_time": "2024-05-31T17:40:50.910333Z",
     "start_time": "2024-05-31T17:40:48.852466Z"
    }
   },
   "outputs": [],
   "source": [
    "import pandas as pd \n",
    "import ucimlrepo"
   ]
  },
  {
   "cell_type": "code",
   "outputs": [
    {
     "data": {
      "text/plain": "(1000, 9)"
     },
     "execution_count": 24,
     "metadata": {},
     "output_type": "execute_result"
    }
   ],
   "source": [
    "df = pd.read_csv('german_credit_data.csv')\n",
    "df.drop('Unnamed: 0', axis=1, inplace=True)\n",
    "df.shape"
   ],
   "metadata": {
    "collapsed": false,
    "ExecuteTime": {
     "end_time": "2024-05-30T13:58:39.750639Z",
     "start_time": "2024-05-30T13:58:39.745438Z"
    }
   },
   "id": "26529eb105e29c86",
   "execution_count": 24
  },
  {
   "cell_type": "code",
   "outputs": [
    {
     "data": {
      "text/plain": "{'business',\n 'car',\n 'domestic appliances',\n 'education',\n 'furniture/equipment',\n 'radio/TV',\n 'repairs',\n 'vacation/others'}"
     },
     "execution_count": 25,
     "metadata": {},
     "output_type": "execute_result"
    }
   ],
   "source": [
    "set(list(df['Purpose']))"
   ],
   "metadata": {
    "collapsed": false,
    "ExecuteTime": {
     "end_time": "2024-05-30T13:58:44.355615Z",
     "start_time": "2024-05-30T13:58:44.352858Z"
    }
   },
   "id": "60eec8f776a2cd25",
   "execution_count": 25
  },
  {
   "cell_type": "code",
   "outputs": [],
   "source": [
    "data  = ucimlrepo.fetch_ucirepo(id=144)"
   ],
   "metadata": {
    "collapsed": false,
    "ExecuteTime": {
     "end_time": "2024-05-30T13:58:50.173714Z",
     "start_time": "2024-05-30T13:58:48.856952Z"
    }
   },
   "id": "63fc31d59ed7a423",
   "execution_count": 27
  },
  {
   "cell_type": "code",
   "outputs": [
    {
     "data": {
      "text/plain": "(1000, 1)"
     },
     "execution_count": 28,
     "metadata": {},
     "output_type": "execute_result"
    }
   ],
   "source": [
    "data.data.targets.shape"
   ],
   "metadata": {
    "collapsed": false,
    "ExecuteTime": {
     "end_time": "2024-05-30T13:58:50.177659Z",
     "start_time": "2024-05-30T13:58:50.174418Z"
    }
   },
   "id": "9f151104d1d7facb",
   "execution_count": 28
  },
  {
   "cell_type": "code",
   "outputs": [],
   "source": [
    "final_dataset = pd.concat([df,  data.data.targets], axis = 1)"
   ],
   "metadata": {
    "collapsed": false,
    "ExecuteTime": {
     "end_time": "2024-05-30T13:58:52.458851Z",
     "start_time": "2024-05-30T13:58:52.456668Z"
    }
   },
   "id": "ce423d797c258f50",
   "execution_count": 29
  },
  {
   "cell_type": "code",
   "outputs": [
    {
     "data": {
      "text/plain": "   Age     Sex  Job Housing Saving accounts Checking account  Credit amount  \\\n0   67    male    2     own             NaN           little           1169   \n1   22  female    2     own          little         moderate           5951   \n2   49    male    1     own          little              NaN           2096   \n3   45    male    2    free          little           little           7882   \n4   53    male    2    free          little           little           4870   \n\n   Duration              Purpose  class  \n0         6             radio/TV      1  \n1        48             radio/TV      2  \n2        12            education      1  \n3        42  furniture/equipment      1  \n4        24                  car      2  ",
      "text/html": "<div>\n<style scoped>\n    .dataframe tbody tr th:only-of-type {\n        vertical-align: middle;\n    }\n\n    .dataframe tbody tr th {\n        vertical-align: top;\n    }\n\n    .dataframe thead th {\n        text-align: right;\n    }\n</style>\n<table border=\"1\" class=\"dataframe\">\n  <thead>\n    <tr style=\"text-align: right;\">\n      <th></th>\n      <th>Age</th>\n      <th>Sex</th>\n      <th>Job</th>\n      <th>Housing</th>\n      <th>Saving accounts</th>\n      <th>Checking account</th>\n      <th>Credit amount</th>\n      <th>Duration</th>\n      <th>Purpose</th>\n      <th>class</th>\n    </tr>\n  </thead>\n  <tbody>\n    <tr>\n      <th>0</th>\n      <td>67</td>\n      <td>male</td>\n      <td>2</td>\n      <td>own</td>\n      <td>NaN</td>\n      <td>little</td>\n      <td>1169</td>\n      <td>6</td>\n      <td>radio/TV</td>\n      <td>1</td>\n    </tr>\n    <tr>\n      <th>1</th>\n      <td>22</td>\n      <td>female</td>\n      <td>2</td>\n      <td>own</td>\n      <td>little</td>\n      <td>moderate</td>\n      <td>5951</td>\n      <td>48</td>\n      <td>radio/TV</td>\n      <td>2</td>\n    </tr>\n    <tr>\n      <th>2</th>\n      <td>49</td>\n      <td>male</td>\n      <td>1</td>\n      <td>own</td>\n      <td>little</td>\n      <td>NaN</td>\n      <td>2096</td>\n      <td>12</td>\n      <td>education</td>\n      <td>1</td>\n    </tr>\n    <tr>\n      <th>3</th>\n      <td>45</td>\n      <td>male</td>\n      <td>2</td>\n      <td>free</td>\n      <td>little</td>\n      <td>little</td>\n      <td>7882</td>\n      <td>42</td>\n      <td>furniture/equipment</td>\n      <td>1</td>\n    </tr>\n    <tr>\n      <th>4</th>\n      <td>53</td>\n      <td>male</td>\n      <td>2</td>\n      <td>free</td>\n      <td>little</td>\n      <td>little</td>\n      <td>4870</td>\n      <td>24</td>\n      <td>car</td>\n      <td>2</td>\n    </tr>\n  </tbody>\n</table>\n</div>"
     },
     "execution_count": 30,
     "metadata": {},
     "output_type": "execute_result"
    }
   ],
   "source": [
    "final_dataset.head()"
   ],
   "metadata": {
    "collapsed": false,
    "ExecuteTime": {
     "end_time": "2024-05-30T13:59:05.027719Z",
     "start_time": "2024-05-30T13:59:05.022744Z"
    }
   },
   "id": "460c2d3323a92c0a",
   "execution_count": 30
  },
  {
   "cell_type": "code",
   "outputs": [],
   "source": [
    "final_dataset.to_csv(\"german_credit_data_final.csv\", index=False)"
   ],
   "metadata": {
    "collapsed": false,
    "ExecuteTime": {
     "end_time": "2024-05-30T13:59:55.272977Z",
     "start_time": "2024-05-30T13:59:55.261638Z"
    }
   },
   "id": "1342039b6898aa2e",
   "execution_count": 31
  },
  {
   "cell_type": "code",
   "outputs": [
    {
     "data": {
      "text/plain": "(1000, 10)"
     },
     "execution_count": 35,
     "metadata": {},
     "output_type": "execute_result"
    }
   ],
   "source": [
    "df = pd.read_csv('german_credit_data_final.csv')\n",
    "df.shape"
   ],
   "metadata": {
    "collapsed": false,
    "ExecuteTime": {
     "end_time": "2024-05-30T14:02:21.058005Z",
     "start_time": "2024-05-30T14:02:21.053661Z"
    }
   },
   "id": "5f179ed08f4c04f6",
   "execution_count": 35
  },
  {
   "cell_type": "code",
   "outputs": [],
   "source": [
    "df_new = df.dropna(how='any')\n",
    "df_new.to_csv(\"german_credit_data_final.csv\")"
   ],
   "metadata": {
    "collapsed": false,
    "ExecuteTime": {
     "end_time": "2024-05-31T11:18:10.919217Z",
     "start_time": "2024-05-31T11:18:10.914970Z"
    }
   },
   "id": "c02b81e2080d0d02",
   "execution_count": 37
  },
  {
   "cell_type": "code",
   "outputs": [
    {
     "data": {
      "text/plain": "(522, 11)"
     },
     "execution_count": 38,
     "metadata": {},
     "output_type": "execute_result"
    }
   ],
   "source": [
    "df = pd.read_csv('german_credit_data_final.csv')\n",
    "df.shape"
   ],
   "metadata": {
    "collapsed": false,
    "ExecuteTime": {
     "end_time": "2024-05-31T11:18:25.502255Z",
     "start_time": "2024-05-31T11:18:25.491572Z"
    }
   },
   "id": "9bee72361f0073df",
   "execution_count": 38
  },
  {
   "cell_type": "code",
   "outputs": [
    {
     "data": {
      "text/plain": "   Unnamed: 0  Age     Sex  Job Housing Saving accounts Checking account  \\\n0           1   22  female    2     own          little         moderate   \n1           3   45    male    2    free          little           little   \n2           4   53    male    2    free          little           little   \n3           7   35    male    3    rent          little         moderate   \n4           9   28    male    3     own          little         moderate   \n\n   Credit amount  Duration              Purpose  class  \n0           5951        48             radio/TV      2  \n1           7882        42  furniture/equipment      1  \n2           4870        24                  car      2  \n3           6948        36                  car      1  \n4           5234        30                  car      2  ",
      "text/html": "<div>\n<style scoped>\n    .dataframe tbody tr th:only-of-type {\n        vertical-align: middle;\n    }\n\n    .dataframe tbody tr th {\n        vertical-align: top;\n    }\n\n    .dataframe thead th {\n        text-align: right;\n    }\n</style>\n<table border=\"1\" class=\"dataframe\">\n  <thead>\n    <tr style=\"text-align: right;\">\n      <th></th>\n      <th>Unnamed: 0</th>\n      <th>Age</th>\n      <th>Sex</th>\n      <th>Job</th>\n      <th>Housing</th>\n      <th>Saving accounts</th>\n      <th>Checking account</th>\n      <th>Credit amount</th>\n      <th>Duration</th>\n      <th>Purpose</th>\n      <th>class</th>\n    </tr>\n  </thead>\n  <tbody>\n    <tr>\n      <th>0</th>\n      <td>1</td>\n      <td>22</td>\n      <td>female</td>\n      <td>2</td>\n      <td>own</td>\n      <td>little</td>\n      <td>moderate</td>\n      <td>5951</td>\n      <td>48</td>\n      <td>radio/TV</td>\n      <td>2</td>\n    </tr>\n    <tr>\n      <th>1</th>\n      <td>3</td>\n      <td>45</td>\n      <td>male</td>\n      <td>2</td>\n      <td>free</td>\n      <td>little</td>\n      <td>little</td>\n      <td>7882</td>\n      <td>42</td>\n      <td>furniture/equipment</td>\n      <td>1</td>\n    </tr>\n    <tr>\n      <th>2</th>\n      <td>4</td>\n      <td>53</td>\n      <td>male</td>\n      <td>2</td>\n      <td>free</td>\n      <td>little</td>\n      <td>little</td>\n      <td>4870</td>\n      <td>24</td>\n      <td>car</td>\n      <td>2</td>\n    </tr>\n    <tr>\n      <th>3</th>\n      <td>7</td>\n      <td>35</td>\n      <td>male</td>\n      <td>3</td>\n      <td>rent</td>\n      <td>little</td>\n      <td>moderate</td>\n      <td>6948</td>\n      <td>36</td>\n      <td>car</td>\n      <td>1</td>\n    </tr>\n    <tr>\n      <th>4</th>\n      <td>9</td>\n      <td>28</td>\n      <td>male</td>\n      <td>3</td>\n      <td>own</td>\n      <td>little</td>\n      <td>moderate</td>\n      <td>5234</td>\n      <td>30</td>\n      <td>car</td>\n      <td>2</td>\n    </tr>\n  </tbody>\n</table>\n</div>"
     },
     "execution_count": 39,
     "metadata": {},
     "output_type": "execute_result"
    }
   ],
   "source": [
    "df.head()\n",
    "# Job (numeric: 0 - unskilled and non-resident, 1 - unskilled and resident, 2 - skilled, 3 - highly skilled)"
   ],
   "metadata": {
    "collapsed": false,
    "ExecuteTime": {
     "end_time": "2024-05-31T11:18:30.662861Z",
     "start_time": "2024-05-31T11:18:30.658786Z"
    }
   },
   "id": "edb34c77f0b8083a",
   "execution_count": 39
  },
  {
   "cell_type": "markdown",
   "source": [
    "## lets  create the training data and label encoding  for categorical columns "
   ],
   "metadata": {
    "collapsed": false
   },
   "id": "28da22d046bf28a7"
  },
  {
   "cell_type": "code",
   "outputs": [
    {
     "name": "stdout",
     "output_type": "stream",
     "text": [
      "Mapping for column 'Sex':\n",
      "  female -> 0\n",
      "  male -> 1\n",
      "Mapping for column 'Housing':\n",
      "  free -> 0\n",
      "  own -> 1\n",
      "  rent -> 2\n",
      "Mapping for column 'Saving accounts':\n",
      "  little -> 0\n",
      "  moderate -> 1\n",
      "  quite rich -> 2\n",
      "  rich -> 3\n",
      "Mapping for column 'Checking account':\n",
      "  little -> 0\n",
      "  moderate -> 1\n",
      "  rich -> 2\n",
      "Mapping for column 'Purpose':\n",
      "  business -> 0\n",
      "  car -> 1\n",
      "  domestic appliances -> 2\n",
      "  education -> 3\n",
      "  furniture/equipment -> 4\n",
      "  radio/TV -> 5\n",
      "  repairs -> 6\n",
      "  vacation/others -> 7\n"
     ]
    }
   ],
   "source": [
    "import pandas as pd\n",
    "from sklearn.preprocessing import LabelEncoder\n",
    "\n",
    "\n",
    "def encode_categorical_columns(df):\n",
    "    label_encoders = {}\n",
    "    for column in df.select_dtypes(include=['object']).columns:\n",
    "        le = LabelEncoder()\n",
    "        df[column] = le.fit_transform(df[column])\n",
    "        label_encoders[column] = le\n",
    "        print(f\"Mapping for column '{column}':\")\n",
    "        for class_, val in zip(le.classes_, le.transform(le.classes_)):\n",
    "            print(f\"  {class_} -> {val}\")\n",
    "    return df, label_encoders\n",
    "\n",
    "df_encoded, label_encoders  = encode_categorical_columns(df)"
   ],
   "metadata": {
    "collapsed": false,
    "ExecuteTime": {
     "end_time": "2024-05-31T11:28:35.915997Z",
     "start_time": "2024-05-31T11:28:35.912278Z"
    }
   },
   "id": "631ced4729c1a5cf",
   "execution_count": 45
  },
  {
   "cell_type": "code",
   "outputs": [],
   "source": [
    "import pickle\n",
    "def save_label_encoders(encoders, filepath):\n",
    "    with open(filepath, 'wb') as file:\n",
    "        pickle.dump(encoders, file)\n",
    "    print(f\"Label encoders saved to {filepath}\")\n",
    "\n",
    "def load_label_encoders(filepath):\n",
    "    with open(filepath, 'rb') as file:\n",
    "        encoders = pickle.load(file)\n",
    "    print(f\"Label encoders loaded from {filepath}\")\n",
    "    return encoders\n"
   ],
   "metadata": {
    "collapsed": false,
    "ExecuteTime": {
     "end_time": "2024-05-31T11:30:51.547723Z",
     "start_time": "2024-05-31T11:30:51.544977Z"
    }
   },
   "id": "2e3e6929b5c54c3c",
   "execution_count": 48
  },
  {
   "cell_type": "markdown",
   "source": [
    "## Save all the label encoders for future analysis"
   ],
   "metadata": {
    "collapsed": false
   },
   "id": "61242d0a7c295f67"
  },
  {
   "cell_type": "code",
   "outputs": [
    {
     "name": "stdout",
     "output_type": "stream",
     "text": [
      "Label encoders saved to label_encoders.pkl\n",
      "Label encoders loaded from label_encoders.pkl\n",
      "Mapping for column 'Sex':\n",
      "  female -> 0\n",
      "  male -> 1\n",
      "Mapping for column 'Housing':\n",
      "  free -> 0\n",
      "  own -> 1\n",
      "  rent -> 2\n",
      "Mapping for column 'Saving accounts':\n",
      "  little -> 0\n",
      "  moderate -> 1\n",
      "  quite rich -> 2\n",
      "  rich -> 3\n",
      "Mapping for column 'Checking account':\n",
      "  little -> 0\n",
      "  moderate -> 1\n",
      "  rich -> 2\n",
      "Mapping for column 'Purpose':\n",
      "  business -> 0\n",
      "  car -> 1\n",
      "  domestic appliances -> 2\n",
      "  education -> 3\n",
      "  furniture/equipment -> 4\n",
      "  radio/TV -> 5\n",
      "  repairs -> 6\n",
      "  vacation/others -> 7\n"
     ]
    }
   ],
   "source": [
    "save_label_encoders(label_encoders, 'label_encoders.pkl')\n",
    "\n",
    "# Load the label encoders from the file\n",
    "loaded_encoders = load_label_encoders('label_encoders.pkl')\n",
    "\n",
    "for key, value in label_encoders.items():\n",
    "    print(f\"Mapping for column '{key}':\")\n",
    "    for class_, val in zip(value.classes_, value.transform(value.classes_)):\n",
    "        print(f\"  {class_} -> {val}\")\n",
    "    "
   ],
   "metadata": {
    "collapsed": false,
    "ExecuteTime": {
     "end_time": "2024-05-31T11:31:12.621377Z",
     "start_time": "2024-05-31T11:31:12.613728Z"
    }
   },
   "id": "94644adebd40443",
   "execution_count": 49
  },
  {
   "cell_type": "markdown",
   "source": [
    "## save the encoded dataframe"
   ],
   "metadata": {
    "collapsed": false
   },
   "id": "a0b380b6591cbabc"
  },
  {
   "cell_type": "code",
   "outputs": [],
   "source": [
    "df_encoded.to_csv(\"encoded_final_data.csv\")"
   ],
   "metadata": {
    "collapsed": false,
    "ExecuteTime": {
     "end_time": "2024-05-31T11:33:01.486717Z",
     "start_time": "2024-05-31T11:33:01.482639Z"
    }
   },
   "id": "f0aaf7d580b122c8",
   "execution_count": 51
  },
  {
   "cell_type": "markdown",
   "source": [
    "## lets create and save train and test split for training"
   ],
   "metadata": {
    "collapsed": false
   },
   "id": "4f9f999dadbc9fb9"
  },
  {
   "cell_type": "code",
   "outputs": [
    {
     "name": "stdout",
     "output_type": "stream",
     "text": [
      "Training data saved to train.csv\n",
      "Testing data saved to test.csv\n"
     ]
    }
   ],
   "source": [
    "from sklearn.model_selection import train_test_split\n",
    "\n",
    "def split_and_save_data(df, test_size=0.2, train_filepath='train.csv', test_filepath='test.csv', random_state=None):\n",
    "    # Split the DataFrame into training and testing sets\n",
    "    train_df, test_df = train_test_split(df, test_size=test_size, random_state=random_state)\n",
    "    \n",
    "    # Save the training set to a CSV file\n",
    "    train_df.to_csv(train_filepath, index=False)\n",
    "    print(f\"Training data saved to {train_filepath}\")\n",
    "    \n",
    "    # Save the testing set to a CSV file\n",
    "    test_df.to_csv(test_filepath, index=False)\n",
    "    print(f\"Testing data saved to {test_filepath}\")\n",
    "    \n",
    "    return train_df, test_df\n",
    "\n",
    "train_df, test_df = split_and_save_data(df_encoded)\n"
   ],
   "metadata": {
    "collapsed": false,
    "ExecuteTime": {
     "end_time": "2024-05-31T11:35:54.962216Z",
     "start_time": "2024-05-31T11:35:54.730151Z"
    }
   },
   "id": "6fb83ee56a182536",
   "execution_count": 52
  },
  {
   "cell_type": "code",
   "outputs": [
    {
     "name": "stdout",
     "output_type": "stream",
     "text": [
      "shape of training data (417, 11)\n",
      "shape of testing data (105, 11)\n"
     ]
    }
   ],
   "source": [
    "print(\"shape of training data\", train_df.shape)\n",
    "print(\"shape of testing data\", test_df.shape)"
   ],
   "metadata": {
    "collapsed": false,
    "ExecuteTime": {
     "end_time": "2024-05-31T11:37:07.443534Z",
     "start_time": "2024-05-31T11:37:07.441750Z"
    }
   },
   "id": "df566df833eb302",
   "execution_count": 56
  },
  {
   "cell_type": "markdown",
   "source": [
    "## lets look at the bounds for each column"
   ],
   "metadata": {
    "collapsed": false
   },
   "id": "29c906595453c707"
  },
  {
   "cell_type": "code",
   "outputs": [
    {
     "data": {
      "text/plain": "<Figure size 1000x800 with 12 Axes>",
      "image/png": "[encoded data removed]"
     },
     "metadata": {},
     "output_type": "display_data"
    }
   ],
   "source": [
    "import matplotlib.pyplot as plt\n",
    "import pandas as pd\n",
    "\n",
    "df_encoded = pd.read_csv(\"encoded_final_data.csv\")\n",
    "\n",
    "\n",
    "df_encoded.hist(bins=10, figsize=(10, 8))\n",
    "\n",
    "\n",
    "plt.tight_layout()\n",
    "plt.show()"
   ],
   "metadata": {
    "collapsed": false,
    "ExecuteTime": {
     "end_time": "2024-05-31T18:24:38.502253Z",
     "start_time": "2024-05-31T18:24:36.280076Z"
    }
   },
   "id": "b4eb30a6221769a3",
   "execution_count": 2
  },
  {
   "cell_type": "code",
   "outputs": [
    {
     "data": {
      "text/plain": "       Unnamed: 0.1  Unnamed: 0         Age         Sex         Job  \\\ncount    522.000000  522.000000  522.000000  522.000000  522.000000   \nmean     260.500000  493.522989   34.888889    0.678161    1.875479   \nstd      150.832689  291.131014   11.787918    0.467630    0.682811   \nmin        0.000000    1.000000   19.000000    0.000000    0.000000   \n25%      130.250000  233.500000   26.000000    0.000000    2.000000   \n50%      260.500000  502.500000   31.500000    1.000000    2.000000   \n75%      390.750000  736.750000   41.000000    1.000000    2.000000   \nmax      521.000000  999.000000   75.000000    1.000000    3.000000   \n\n          Housing  Saving accounts  Checking account  Credit amount  \\\ncount  522.000000       522.000000        522.000000     522.000000   \nmean     1.082375         0.342912          0.632184    3278.745211   \nstd      0.570311         0.760870          0.660627    2929.155177   \nmin      0.000000         0.000000          0.000000     276.000000   \n25%      1.000000         0.000000          0.000000    1297.500000   \n50%      1.000000         0.000000          1.000000    2326.500000   \n75%      1.000000         0.000000          1.000000    3971.250000   \nmax      2.000000         3.000000          2.000000   18424.000000   \n\n         Duration     Purpose       class  \ncount  522.000000  522.000000  522.000000  \nmean    21.339080    2.881226    1.442529  \nstd     12.474079    1.994540    0.497163  \nmin      6.000000    0.000000    1.000000  \n25%     12.000000    1.000000    1.000000  \n50%     18.000000    4.000000    1.000000  \n75%     26.750000    5.000000    2.000000  \nmax     72.000000    7.000000    2.000000  ",
      "text/html": "<div>\n<style scoped>\n    .dataframe tbody tr th:only-of-type {\n        vertical-align: middle;\n    }\n\n    .dataframe tbody tr th {\n        vertical-align: top;\n    }\n\n    .dataframe thead th {\n        text-align: right;\n    }\n</style>\n<table border=\"1\" class=\"dataframe\">\n  <thead>\n    <tr style=\"text-align: right;\">\n      <th></th>\n      <th>Unnamed: 0.1</th>\n      <th>Unnamed: 0</th>\n      <th>Age</th>\n      <th>Sex</th>\n      <th>Job</th>\n      <th>Housing</th>\n      <th>Saving accounts</th>\n      <th>Checking account</th>\n      <th>Credit amount</th>\n      <th>Duration</th>\n      <th>Purpose</th>\n      <th>class</th>\n    </tr>\n  </thead>\n  <tbody>\n    <tr>\n      <th>count</th>\n      <td>522.000000</td>\n      <td>522.000000</td>\n      <td>522.000000</td>\n      <td>522.000000</td>\n      <td>522.000000</td>\n      <td>522.000000</td>\n      <td>522.000000</td>\n      <td>522.000000</td>\n      <td>522.000000</td>\n      <td>522.000000</td>\n      <td>522.000000</td>\n      <td>522.000000</td>\n    </tr>\n    <tr>\n      <th>mean</th>\n      <td>260.500000</td>\n      <td>493.522989</td>\n      <td>34.888889</td>\n      <td>0.678161</td>\n      <td>1.875479</td>\n      <td>1.082375</td>\n      <td>0.342912</td>\n      <td>0.632184</td>\n      <td>3278.745211</td>\n      <td>21.339080</td>\n      <td>2.881226</td>\n      <td>1.442529</td>\n    </tr>\n    <tr>\n      <th>std</th>\n      <td>150.832689</td>\n      <td>291.131014</td>\n      <td>11.787918</td>\n      <td>0.467630</td>\n      <td>0.682811</td>\n      <td>0.570311</td>\n      <td>0.760870</td>\n      <td>0.660627</td>\n      <td>2929.155177</td>\n      <td>12.474079</td>\n      <td>1.994540</td>\n      <td>0.497163</td>\n    </tr>\n    <tr>\n      <th>min</th>\n      <td>0.000000</td>\n      <td>1.000000</td>\n      <td>19.000000</td>\n      <td>0.000000</td>\n      <td>0.000000</td>\n      <td>0.000000</td>\n      <td>0.000000</td>\n      <td>0.000000</td>\n      <td>276.000000</td>\n      <td>6.000000</td>\n      <td>0.000000</td>\n      <td>1.000000</td>\n    </tr>\n    <tr>\n      <th>25%</th>\n      <td>130.250000</td>\n      <td>233.500000</td>\n      <td>26.000000</td>\n      <td>0.000000</td>\n      <td>2.000000</td>\n      <td>1.000000</td>\n      <td>0.000000</td>\n      <td>0.000000</td>\n      <td>1297.500000</td>\n      <td>12.000000</td>\n      <td>1.000000</td>\n      <td>1.000000</td>\n    </tr>\n    <tr>\n      <th>50%</th>\n      <td>260.500000</td>\n      <td>502.500000</td>\n      <td>31.500000</td>\n      <td>1.000000</td>\n      <td>2.000000</td>\n      <td>1.000000</td>\n      <td>0.000000</td>\n      <td>1.000000</td>\n      <td>2326.500000</td>\n      <td>18.000000</td>\n      <td>4.000000</td>\n      <td>1.000000</td>\n    </tr>\n    <tr>\n      <th>75%</th>\n      <td>390.750000</td>\n      <td>736.750000</td>\n      <td>41.000000</td>\n      <td>1.000000</td>\n      <td>2.000000</td>\n      <td>1.000000</td>\n      <td>0.000000</td>\n      <td>1.000000</td>\n      <td>3971.250000</td>\n      <td>26.750000</td>\n      <td>5.000000</td>\n      <td>2.000000</td>\n    </tr>\n    <tr>\n      <th>max</th>\n      <td>521.000000</td>\n      <td>999.000000</td>\n      <td>75.000000</td>\n      <td>1.000000</td>\n      <td>3.000000</td>\n      <td>2.000000</td>\n      <td>3.000000</td>\n      <td>2.000000</td>\n      <td>18424.000000</td>\n      <td>72.000000</td>\n      <td>7.000000</td>\n      <td>2.000000</td>\n    </tr>\n  </tbody>\n</table>\n</div>"
     },
     "execution_count": 3,
     "metadata": {},
     "output_type": "execute_result"
    }
   ],
   "source": [
    "df_encoded.describe()"
   ],
   "metadata": {
    "collapsed": false,
    "ExecuteTime": {
     "end_time": "2024-05-31T18:24:47.856315Z",
     "start_time": "2024-05-31T18:24:47.838223Z"
    }
   },
   "id": "ceefe6dc4f4f998",
   "execution_count": 3
  },
  {
   "cell_type": "code",
   "outputs": [],
   "source": [],
   "metadata": {
    "collapsed": false
   },
   "id": "33b62222fd941228"
  }
 ],
 "metadata": {
  "kernelspec": {
   "display_name": "Python 3",
   "language": "python",
   "name": "python3"
  },
  "language_info": {
   "codemirror_mode": {
    "name": "ipython",
    "version": 2
   },
   "file_extension": ".py",
   "mimetype": "text/x-python",
   "name": "python",
   "nbconvert_exporter": "python",
   "pygments_lexer": "ipython2",
   "version": "2.7.6"
  }
 },
 "nbformat": 4,
 "nbformat_minor": 5
}
