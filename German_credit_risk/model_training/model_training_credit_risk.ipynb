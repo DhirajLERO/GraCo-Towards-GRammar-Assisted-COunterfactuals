{
 "cells": [
  {
   "cell_type": "code",
   "execution_count": 1,
   "id": "initial_id",
   "metadata": {
    "collapsed": true,
    "ExecuteTime": {
     "end_time": "2024-05-31T14:28:00.817615Z",
     "start_time": "2024-05-31T14:27:55.804422Z"
    }
   },
   "outputs": [],
   "source": [
    "import torch\n",
    "import torch.nn as nn\n",
    "import torch.optim as optim\n",
    "import pandas as pd"
   ]
  },
  {
   "cell_type": "code",
   "outputs": [],
   "source": [
    "def replace_column_values(df, column_name, old_value, new_value):\n",
    "    if column_name in df.columns:\n",
    "        df[column_name] = df[column_name].replace(old_value, new_value)\n",
    "        print(f\"All instances of '{old_value}' in column '{column_name}' have been changed to '{new_value}'.\")\n",
    "    else:\n",
    "        print(f\"Column '{column_name}' does not exist in the DataFrame.\")\n",
    "    return df"
   ],
   "metadata": {
    "collapsed": false,
    "ExecuteTime": {
     "end_time": "2024-05-31T16:27:39.395409Z",
     "start_time": "2024-05-31T16:27:39.389144Z"
    }
   },
   "id": "d8481c585bee3a38",
   "execution_count": 15
  },
  {
   "cell_type": "markdown",
   "source": [
    "## load dataset for training and testing"
   ],
   "metadata": {
    "collapsed": false
   },
   "id": "adc62e1101041835"
  },
  {
   "cell_type": "code",
   "outputs": [
    {
     "name": "stdout",
     "output_type": "stream",
     "text": [
      "All instances of '2' in column 'class' have been changed to '0'.\n",
      "All instances of '2' in column 'class' have been changed to '0'.\n"
     ]
    }
   ],
   "source": [
    "train = pd.read_csv('./../train.csv')\n",
    "train.drop(['Unnamed: 0'], axis=1, inplace=True)\n",
    "train = replace_column_values(train, 'class', 2 , 0)\n",
    "test = pd.read_csv('./../test.csv')\n",
    "test.drop(['Unnamed: 0'], axis=1, inplace=True)\n",
    "test = replace_column_values(test, 'class', 2 , 0)"
   ],
   "metadata": {
    "collapsed": false,
    "ExecuteTime": {
     "end_time": "2024-05-31T16:28:42.720278Z",
     "start_time": "2024-05-31T16:28:42.691478Z"
    }
   },
   "id": "dd2d7fcc9c374b6e",
   "execution_count": 16
  },
  {
   "cell_type": "code",
   "outputs": [],
   "source": [
    "X_train = train.iloc[:, 0:9].values\n",
    "y_train = train.iloc[:, 9].values\n",
    "# print(y_train)\n",
    "X_train = torch.tensor(X_train, dtype=torch.float32)\n",
    "y_train = torch.tensor(y_train, dtype=torch.float32).reshape(-1, 1)"
   ],
   "metadata": {
    "collapsed": false,
    "ExecuteTime": {
     "end_time": "2024-05-31T16:43:51.249328Z",
     "start_time": "2024-05-31T16:43:51.242674Z"
    }
   },
   "id": "f9babd9b7bf944f3",
   "execution_count": 33
  },
  {
   "cell_type": "code",
   "outputs": [],
   "source": [
    "X_test = test.iloc[:, 0:9].values\n",
    "y_test = test.iloc[:, 9].values\n",
    "\n",
    "X_test = torch.tensor(X_test, dtype=torch.float32)\n",
    "y_test = torch.tensor(y_test, dtype=torch.float32).reshape(-1, 1)"
   ],
   "metadata": {
    "collapsed": false,
    "ExecuteTime": {
     "end_time": "2024-05-31T16:30:34.505244Z",
     "start_time": "2024-05-31T16:30:34.501171Z"
    }
   },
   "id": "a6a132d4ef70594c",
   "execution_count": 23
  },
  {
   "cell_type": "code",
   "outputs": [
    {
     "name": "stdout",
     "output_type": "stream",
     "text": [
      "RiskClassifier(\n",
      "  (hidden1): Linear(in_features=9, out_features=16, bias=True)\n",
      "  (act1): ReLU()\n",
      "  (hidden2): Linear(in_features=16, out_features=32, bias=True)\n",
      "  (act2): ReLU()\n",
      "  (hidden3): Linear(in_features=32, out_features=64, bias=True)\n",
      "  (act3): ReLU()\n",
      "  (output): Linear(in_features=64, out_features=1, bias=True)\n",
      "  (act_output): Sigmoid()\n",
      ")\n"
     ]
    }
   ],
   "source": [
    "class RiskClassifier(nn.Module):\n",
    "    def __init__(self):\n",
    "        super().__init__()\n",
    "        self.hidden1 = nn.Linear(9, 16)\n",
    "        self.act1 = nn.ReLU()\n",
    "        self.hidden2 = nn.Linear(16, 32)\n",
    "        self.act2 = nn.ReLU()\n",
    "        self.hidden3 = nn.Linear(32, 64)\n",
    "        self.act3 = nn.ReLU()\n",
    "        self.output = nn.Linear(64, 1)\n",
    "        self.act_output = nn.Sigmoid()\n",
    "\n",
    "    def forward(self, x):\n",
    "        x = self.act1(self.hidden1(x))\n",
    "        x = self.act2(self.hidden2(x))\n",
    "        x = self.act3(self.hidden3(x))\n",
    "        x = self.act_output(self.output(x))\n",
    "        return x\n",
    "\n",
    "model = RiskClassifier()\n",
    "print(model)\n",
    "\n",
    "# loss function and optimizer\n",
    "loss_fn = nn.BCELoss()  # binary cross entropy\n",
    "optimizer = optim.Adam(model.parameters(), lr=0.001)"
   ],
   "metadata": {
    "collapsed": false,
    "ExecuteTime": {
     "end_time": "2024-05-31T17:35:21.875367Z",
     "start_time": "2024-05-31T17:35:21.871841Z"
    }
   },
   "id": "9530e4a4e95acc07",
   "execution_count": 91
  },
  {
   "cell_type": "code",
   "outputs": [],
   "source": [
    "def evaluate(model, X_test, y_test):\n",
    "  with torch.no_grad():\n",
    "    y_pred = model(X_test)\n",
    "  accuracy = (y_pred.round() == y_test).float().mean()\n",
    "  return accuracy"
   ],
   "metadata": {
    "collapsed": false,
    "ExecuteTime": {
     "end_time": "2024-05-31T17:35:23.803546Z",
     "start_time": "2024-05-31T17:35:23.801919Z"
    }
   },
   "id": "cb77b9d87d7ac441",
   "execution_count": 92
  },
  {
   "cell_type": "code",
   "outputs": [
    {
     "name": "stdout",
     "output_type": "stream",
     "text": [
      "accuracy before training 0.34285715222358704\n",
      "Finished epoch 0,  accuracy 0.34285715222358704\n",
      "Finished epoch 1,  accuracy 0.6571428775787354\n",
      "Finished epoch 2,  accuracy 0.34285715222358704\n",
      "Finished epoch 3,  accuracy 0.6571428775787354\n",
      "Finished epoch 4,  accuracy 0.3523809611797333\n",
      "Finished epoch 5,  accuracy 0.34285715222358704\n",
      "Finished epoch 6,  accuracy 0.3619047701358795\n",
      "Finished epoch 7,  accuracy 0.37142857909202576\n",
      "Finished epoch 8,  accuracy 0.37142857909202576\n",
      "Finished epoch 9,  accuracy 0.39047619700431824\n",
      "Finished epoch 10,  accuracy 0.39047619700431824\n",
      "Finished epoch 11,  accuracy 0.39047619700431824\n",
      "Finished epoch 12,  accuracy 0.39047619700431824\n",
      "Finished epoch 13,  accuracy 0.4095238149166107\n",
      "Finished epoch 14,  accuracy 0.4285714328289032\n",
      "Finished epoch 15,  accuracy 0.39047619700431824\n",
      "Finished epoch 16,  accuracy 0.4285714328289032\n",
      "Finished epoch 17,  accuracy 0.4285714328289032\n",
      "Finished epoch 18,  accuracy 0.4285714328289032\n",
      "Finished epoch 19,  accuracy 0.41904762387275696\n",
      "Finished epoch 20,  accuracy 0.4285714328289032\n",
      "Finished epoch 21,  accuracy 0.4000000059604645\n",
      "Finished epoch 22,  accuracy 0.39047619700431824\n",
      "Finished epoch 23,  accuracy 0.4000000059604645\n",
      "Finished epoch 24,  accuracy 0.4000000059604645\n",
      "Finished epoch 25,  accuracy 0.4000000059604645\n",
      "Finished epoch 26,  accuracy 0.41904762387275696\n",
      "Finished epoch 27,  accuracy 0.4000000059604645\n",
      "Finished epoch 28,  accuracy 0.4095238149166107\n",
      "Finished epoch 29,  accuracy 0.41904762387275696\n",
      "Finished epoch 30,  accuracy 0.4285714328289032\n",
      "Finished epoch 31,  accuracy 0.41904762387275696\n",
      "Finished epoch 32,  accuracy 0.43809524178504944\n",
      "Finished epoch 33,  accuracy 0.4761904776096344\n",
      "Finished epoch 34,  accuracy 0.39047619700431824\n",
      "Finished epoch 35,  accuracy 0.4571428596973419\n",
      "Finished epoch 36,  accuracy 0.4476190507411957\n",
      "Finished epoch 37,  accuracy 0.4476190507411957\n",
      "Finished epoch 38,  accuracy 0.4476190507411957\n",
      "Finished epoch 39,  accuracy 0.4476190507411957\n",
      "Finished epoch 40,  accuracy 0.523809552192688\n",
      "Finished epoch 41,  accuracy 0.39047619700431824\n",
      "Finished epoch 42,  accuracy 0.4952380955219269\n",
      "Finished epoch 43,  accuracy 0.4285714328289032\n",
      "Finished epoch 44,  accuracy 0.46666666865348816\n",
      "Finished epoch 45,  accuracy 0.4285714328289032\n",
      "Finished epoch 46,  accuracy 0.46666666865348816\n",
      "Finished epoch 47,  accuracy 0.4285714328289032\n",
      "Finished epoch 48,  accuracy 0.4285714328289032\n",
      "Finished epoch 49,  accuracy 0.4285714328289032\n",
      "Finished epoch 50,  accuracy 0.4285714328289032\n",
      "Finished epoch 51,  accuracy 0.41904762387275696\n",
      "Finished epoch 52,  accuracy 0.39047619700431824\n",
      "Finished epoch 53,  accuracy 0.37142857909202576\n",
      "Finished epoch 54,  accuracy 0.6571428775787354\n",
      "Finished epoch 55,  accuracy 0.4952380955219269\n",
      "Finished epoch 56,  accuracy 0.5428571701049805\n",
      "Finished epoch 57,  accuracy 0.3523809611797333\n",
      "Finished epoch 58,  accuracy 0.37142857909202576\n",
      "Finished epoch 59,  accuracy 0.37142857909202576\n",
      "Finished epoch 60,  accuracy 0.380952388048172\n",
      "Finished epoch 61,  accuracy 0.37142857909202576\n",
      "Finished epoch 62,  accuracy 0.380952388048172\n",
      "Finished epoch 63,  accuracy 0.380952388048172\n",
      "Finished epoch 64,  accuracy 0.39047619700431824\n",
      "Finished epoch 65,  accuracy 0.39047619700431824\n",
      "Finished epoch 66,  accuracy 0.4285714328289032\n",
      "Finished epoch 67,  accuracy 0.43809524178504944\n",
      "Finished epoch 68,  accuracy 0.4285714328289032\n",
      "Finished epoch 69,  accuracy 0.43809524178504944\n",
      "Finished epoch 70,  accuracy 0.4285714328289032\n",
      "Finished epoch 71,  accuracy 0.4476190507411957\n",
      "Finished epoch 72,  accuracy 0.4571428596973419\n",
      "Finished epoch 73,  accuracy 0.46666666865348816\n",
      "Finished epoch 74,  accuracy 0.46666666865348816\n",
      "Finished epoch 75,  accuracy 0.48571428656578064\n",
      "Finished epoch 76,  accuracy 0.4285714328289032\n",
      "Finished epoch 77,  accuracy 0.4285714328289032\n",
      "Finished epoch 78,  accuracy 0.5047619342803955\n",
      "Finished epoch 79,  accuracy 0.4952380955219269\n",
      "Finished epoch 80,  accuracy 0.4952380955219269\n",
      "Finished epoch 81,  accuracy 0.4952380955219269\n",
      "Finished epoch 82,  accuracy 0.5142857432365417\n",
      "Finished epoch 83,  accuracy 0.523809552192688\n",
      "Finished epoch 84,  accuracy 0.5142857432365417\n",
      "Finished epoch 85,  accuracy 0.4952380955219269\n",
      "Finished epoch 86,  accuracy 0.5142857432365417\n",
      "Finished epoch 87,  accuracy 0.5142857432365417\n",
      "Finished epoch 88,  accuracy 0.5142857432365417\n",
      "Finished epoch 89,  accuracy 0.5142857432365417\n",
      "Finished epoch 90,  accuracy 0.5142857432365417\n",
      "Finished epoch 91,  accuracy 0.5333333611488342\n",
      "Finished epoch 92,  accuracy 0.5333333611488342\n",
      "Finished epoch 93,  accuracy 0.5333333611488342\n",
      "Finished epoch 94,  accuracy 0.5333333611488342\n",
      "Finished epoch 95,  accuracy 0.5333333611488342\n",
      "Finished epoch 96,  accuracy 0.5333333611488342\n",
      "Finished epoch 97,  accuracy 0.523809552192688\n",
      "Finished epoch 98,  accuracy 0.5523809790611267\n",
      "Finished epoch 99,  accuracy 0.523809552192688\n",
      "Finished epoch 100,  accuracy 0.5428571701049805\n",
      "Finished epoch 101,  accuracy 0.6000000238418579\n",
      "Finished epoch 102,  accuracy 0.5809524059295654\n",
      "Finished epoch 103,  accuracy 0.5904762148857117\n",
      "Finished epoch 104,  accuracy 0.6190476417541504\n",
      "Finished epoch 105,  accuracy 0.6380952596664429\n",
      "Finished epoch 106,  accuracy 0.6476190686225891\n",
      "Finished epoch 107,  accuracy 0.6761904954910278\n",
      "Finished epoch 108,  accuracy 0.6761904954910278\n",
      "Finished epoch 109,  accuracy 0.6857143044471741\n",
      "Finished epoch 110,  accuracy 0.6666666865348816\n",
      "Finished epoch 111,  accuracy 0.6857143044471741\n",
      "Finished epoch 112,  accuracy 0.6571428775787354\n",
      "Finished epoch 113,  accuracy 0.723809540271759\n",
      "Finished epoch 114,  accuracy 0.7047619223594666\n",
      "Finished epoch 115,  accuracy 0.7047619223594666\n",
      "Finished epoch 116,  accuracy 0.7047619223594666\n",
      "Finished epoch 117,  accuracy 0.6952381134033203\n",
      "Finished epoch 118,  accuracy 0.7047619223594666\n",
      "Finished epoch 119,  accuracy 0.6952381134033203\n"
     ]
    }
   ],
   "source": [
    "n_epochs = 120\n",
    "batch_size = 16\n",
    "\n",
    "\n",
    "accuracy = evaluate(model, X_test, y_test)\n",
    "print('accuracy before training {}'.format(accuracy))\n",
    "for epoch in range(n_epochs):\n",
    "    for i in range(0, len(X_train), batch_size):\n",
    "        Xbatch = X_train[i:i+batch_size]\n",
    "        y_pred = model(Xbatch)\n",
    "        ybatch = y_train[i:i+batch_size]\n",
    "        loss = loss_fn(y_pred, ybatch)\n",
    "        # print(loss.tolist())\n",
    "        optimizer.zero_grad()\n",
    "        loss.backward()\n",
    "        optimizer.step()\n",
    "    # evaluate model on each epoch\n",
    "    accuracy = evaluate(model, X_test, y_test)\n",
    "    print(f'Finished epoch {epoch},  accuracy {accuracy}')"
   ],
   "metadata": {
    "collapsed": false,
    "ExecuteTime": {
     "end_time": "2024-05-31T17:35:27.911507Z",
     "start_time": "2024-05-31T17:35:27.209614Z"
    }
   },
   "id": "6d054ba0c0eb0e32",
   "execution_count": 93
  },
  {
   "cell_type": "code",
   "outputs": [
    {
     "name": "stdout",
     "output_type": "stream",
     "text": [
      "tensor(0.6952)\n"
     ]
    }
   ],
   "source": [
    "accuracy = evaluate(model, X_test, y_test)\n",
    "print(accuracy)"
   ],
   "metadata": {
    "collapsed": false,
    "ExecuteTime": {
     "end_time": "2024-05-31T17:35:33.080759Z",
     "start_time": "2024-05-31T17:35:33.074852Z"
    }
   },
   "id": "628729e8f4789c6b",
   "execution_count": 94
  },
  {
   "cell_type": "markdown",
   "source": [
    "## Save/load model and evaluate "
   ],
   "metadata": {
    "collapsed": false
   },
   "id": "4cfc25b525193e8d"
  },
  {
   "cell_type": "code",
   "outputs": [],
   "source": [
    "torch.save(model, 'credit_risk_model')"
   ],
   "metadata": {
    "collapsed": false,
    "ExecuteTime": {
     "end_time": "2024-05-31T17:36:11.350642Z",
     "start_time": "2024-05-31T17:36:11.345814Z"
    }
   },
   "id": "ec654b09bf985386",
   "execution_count": 95
  },
  {
   "cell_type": "code",
   "outputs": [
    {
     "name": "stdout",
     "output_type": "stream",
     "text": [
      "tensor(0.6952)\n"
     ]
    }
   ],
   "source": [
    "model = torch.load('credit_risk_model')\n",
    "model.eval()\n",
    "accuracy = evaluate(model, X_test, y_test)\n",
    "print(accuracy)"
   ],
   "metadata": {
    "collapsed": false,
    "ExecuteTime": {
     "end_time": "2024-05-31T17:37:12.157367Z",
     "start_time": "2024-05-31T17:37:12.145563Z"
    }
   },
   "id": "9f48106c0cbc9d4b",
   "execution_count": 97
  },
  {
   "cell_type": "code",
   "outputs": [],
   "source": [],
   "metadata": {
    "collapsed": false
   },
   "id": "87bb7c1c00b4e79f"
  }
 ],
 "metadata": {
  "kernelspec": {
   "display_name": "Python 3",
   "language": "python",
   "name": "python3"
  },
  "language_info": {
   "codemirror_mode": {
    "name": "ipython",
    "version": 2
   },
   "file_extension": ".py",
   "mimetype": "text/x-python",
   "name": "python",
   "nbconvert_exporter": "python",
   "pygments_lexer": "ipython2",
   "version": "2.7.6"
  }
 },
 "nbformat": 4,
 "nbformat_minor": 5
}
