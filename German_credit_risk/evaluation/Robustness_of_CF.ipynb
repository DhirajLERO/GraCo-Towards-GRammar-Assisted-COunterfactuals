{
 "cells": [
  {
   "cell_type": "code",
   "execution_count": 2,
   "id": "initial_id",
   "metadata": {
    "collapsed": true,
    "ExecuteTime": {
     "end_time": "2024-06-26T10:10:34.347900Z",
     "start_time": "2024-06-26T10:10:34.342097Z"
    }
   },
   "outputs": [],
   "source": [
    "import torch\n",
    "import torch.nn as nn\n",
    "import torch.optim as optim\n",
    "from pickle import dump , load\n",
    "import pandas as pd\n",
    "import numpy as np\n",
    "import os"
   ]
  },
  {
   "cell_type": "code",
   "outputs": [],
   "source": [
    "class RiskClassifier(nn.Module):\n",
    "    def __init__(self):\n",
    "        super().__init__()\n",
    "        self.hidden1 = nn.Linear(9, 16)\n",
    "        self.act1 = nn.ReLU()\n",
    "        self.hidden2 = nn.Linear(16, 32)\n",
    "        self.act2 = nn.ReLU()\n",
    "        self.hidden3 = nn.Linear(32, 64)\n",
    "        self.act3 = nn.ReLU()\n",
    "        self.output = nn.Linear(64, 1)\n",
    "        self.act_output = nn.Sigmoid()\n",
    "\n",
    "    def forward(self, x):\n",
    "        x = self.act1(self.hidden1(x))\n",
    "        x = self.act2(self.hidden2(x))\n",
    "        x = self.act3(self.hidden3(x))\n",
    "        x = self.act_output(self.output(x))\n",
    "        return x\n",
    "    \n",
    "    \n",
    "def load_model(input_folder = './../model_training/credit_risk_model'):\n",
    "    model = torch.load(input_folder)\n",
    "    model.eval()\n",
    "    return model\n",
    "\n",
    "\n",
    "def evaluate(model, X_test, y_test):\n",
    "    model.eval()\n",
    "    with torch.no_grad():\n",
    "        y_pred = model(X_test)\n",
    "    accuracy = (y_pred.round() == y_test).float().mean()\n",
    "    return accuracy\n",
    "\n",
    "    \n",
    "def create_and_train_model(X_train, y_train, X_test, y_test, num_epochs, seed):\n",
    "    torch.manual_seed(seed)\n",
    "    \n",
    "    model = RiskClassifier()\n",
    "    batch_size = 128\n",
    "    loss_fn = nn.BCELoss() \n",
    "    optimizer = optim.Adam(model.parameters(), lr=0.001)\n",
    "    \n",
    "    model.eval()\n",
    "    accuracy = evaluate(model, X_test, y_test)\n",
    "    print('accuracy before training {}'.format(accuracy))\n",
    "    model.train()\n",
    "    for epoch in range(num_epochs):\n",
    "        optimizer.zero_grad()\n",
    "        for i in range(0, len(X_train), batch_size):\n",
    "            Xbatch = X_train[i:i+batch_size]\n",
    "            y_pred = model(Xbatch)\n",
    "            ybatch = y_train[i:i+batch_size]\n",
    "            loss = loss_fn(y_pred, ybatch)\n",
    "            # print(loss)\n",
    "            loss.backward()\n",
    "            optimizer.step()\n",
    "        # print(loss.tolist())\n",
    "        # evaluate model on each epoch\n",
    "    model.eval()\n",
    "    accuracy = evaluate(model, X_test, y_test)\n",
    "    print(f'Finished epoch {epoch},  accuracy {accuracy}')\n",
    "    return model\n",
    "\n",
    "def replace_column_values(df, column_name, old_value, new_value):\n",
    "    if column_name in df.columns:\n",
    "        df[column_name] = df[column_name].replace(old_value, new_value)\n",
    "        print(f\"All instances of '{old_value}' in column '{column_name}' have been changed to '{new_value}'.\")\n",
    "    else:\n",
    "        print(f\"Column '{column_name}' does not exist in the DataFrame.\")\n",
    "    return df\n",
    "\n",
    "\n",
    "def create_data(train_df_loc, test_df_loc):\n",
    "    \n",
    "    train = pd.read_csv('./../train.csv')\n",
    "    train.drop(['Unnamed: 0'], axis=1, inplace=True)\n",
    "    train = replace_column_values(train, 'class', 2 , 0)\n",
    "    test = pd.read_csv('./../test.csv')\n",
    "    test.drop(['Unnamed: 0'], axis=1, inplace=True)\n",
    "    test = replace_column_values(test, 'class', 2 , 0)\n",
    "    \n",
    "    X_train = train.iloc[:, 0:9].values\n",
    "    y_train = train.iloc[:, 9].values\n",
    "    # print(y_train)\n",
    "    X_train = torch.tensor(X_train, dtype=torch.float32)\n",
    "    y_train = torch.tensor(y_train, dtype=torch.float32).reshape(-1, 1)\n",
    "    X_test = test.iloc[:, 0:9].values\n",
    "    y_test = test.iloc[:, 9].values\n",
    "    \n",
    "    X_test = torch.tensor(X_test, dtype=torch.float32)\n",
    "    y_test = torch.tensor(y_test, dtype=torch.float32).reshape(-1, 1)\n",
    "    \n",
    "    return X_train, y_train, X_test, y_test\n",
    "\n",
    "\n",
    "def create_list_of_model(count, X_train, y_train, X_test, y_test, num_epochs):\n",
    "    list_of_models = []\n",
    "    for i in range(count):\n",
    "        model = create_and_train_model(X_train, y_train, X_test, y_test, num_epochs, i)\n",
    "        list_of_models.append(model)\n",
    "    return list_of_models\n",
    "\n",
    "\n",
    "def eval_model(model, input):\n",
    "    # print(input)\n",
    "    model.eval()\n",
    "    input = torch.tensor(input, dtype=torch.float32)\n",
    "    with torch.no_grad():\n",
    "        prob = model(input)\n",
    "    return prob.tolist()[0]\n",
    "\n",
    "\n",
    "def evaluate_model_for_df(df , model_list):\n",
    "    probability_list = []\n",
    "    if df.shape[0] == 0:\n",
    "        return 0\n",
    "    else:\n",
    "        for index, row in df.iterrows():\n",
    "            counterfactual_success =[]\n",
    "            x = row.to_numpy()\n",
    "            for model in model_list:\n",
    "                prob = eval_model(model, x)\n",
    "                if prob > 0.5:\n",
    "                    counterfactual_success.append(1)\n",
    "                else:\n",
    "                    counterfactual_success.append(0)\n",
    "            probability_list.append(sum(counterfactual_success)/len(counterfactual_success))\n",
    "        return sum(probability_list)/len(probability_list)"
   ],
   "metadata": {
    "collapsed": false,
    "ExecuteTime": {
     "end_time": "2024-06-26T10:11:29.210956Z",
     "start_time": "2024-06-26T10:11:29.199069Z"
    }
   },
   "id": "5ed94de3ff390540",
   "execution_count": 9
  },
  {
   "cell_type": "code",
   "outputs": [],
   "source": [
    "def calculate_robustness(input_data_loc, dice_loc, ge_cf_loc, ge_nsga2_loc, certif_cf_loc, model_list):\n",
    "    metric_dict = {'dice_robustness' : [],\n",
    "                   'Our_method_robustness' : [],\n",
    "                   'certif_robustness' : [],\n",
    "                   'GE_NSGAII_robustness': []}\n",
    "    \n",
    "    output_dict = {}\n",
    "        \n",
    "    for i in os.listdir(input_data_loc):\n",
    "        if i=='.DS_Store':\n",
    "            continue\n",
    "        dice_df = pd.read_csv(dice_loc +  i + '.csv')\n",
    "        dice_df.drop(columns=['outcome'], inplace=True)\n",
    "        Our_method_df  = pd.read_csv(ge_cf_loc +  i + '.csv')\n",
    "        certif_df = pd.read_csv(certif_cf_loc +  i + '.csv')\n",
    "        NSGAII_df = pd.read_csv(ge_nsga2_loc +  i + '.csv')\n",
    "        \n",
    "        \n",
    "        metric_dict['dice_robustness'].append(evaluate_model_for_df(dice_df, model_list ))\n",
    "        metric_dict['Our_method_robustness'].append(evaluate_model_for_df(Our_method_df, model_list))\n",
    "        metric_dict['certif_robustness'].append(evaluate_model_for_df(certif_df, model_list))\n",
    "        metric_dict['GE_NSGAII_robustness'].append(evaluate_model_for_df(NSGAII_df, model_list))\n",
    "    \n",
    "    for key, value in metric_dict.items():\n",
    "        output_dict[key] = sum(value)/ len(value)\n",
    "        \n",
    "        \n",
    "    return output_dict, metric_dict\n"
   ],
   "metadata": {
    "collapsed": false,
    "ExecuteTime": {
     "end_time": "2024-06-26T10:11:29.481438Z",
     "start_time": "2024-06-26T10:11:29.477326Z"
    }
   },
   "id": "19079261d13f84d7",
   "execution_count": 10
  },
  {
   "cell_type": "code",
   "outputs": [],
   "source": [
    "\n",
    "model_orig = load_model()\n",
    "\n",
    "input_data_loc = './../output/NSGAIII_multi/'\n",
    "dice_loc = 'Dice_cf/'\n",
    "ge_cf_loc = 'Ge_cf/'\n",
    "ge_nsga2_loc = 'Ge_NSGAII_cf/'\n",
    "certif_cf_loc = 'Certif_cf/'\n",
    "train_df_loc = \"./../train.csv\"\n",
    "test_df_loc = \"./../test.csv\"\n"
   ],
   "metadata": {
    "collapsed": false,
    "ExecuteTime": {
     "end_time": "2024-06-26T10:11:30.034339Z",
     "start_time": "2024-06-26T10:11:30.031495Z"
    }
   },
   "id": "1ae4dd207c8d8200",
   "execution_count": 11
  },
  {
   "cell_type": "code",
   "outputs": [
    {
     "name": "stdout",
     "output_type": "stream",
     "text": [
      "All instances of '2' in column 'class' have been changed to '0'.\n",
      "All instances of '2' in column 'class' have been changed to '0'.\n"
     ]
    }
   ],
   "source": [
    "X_train, y_train, X_test, y_test = create_data(train_df_loc, test_df_loc)"
   ],
   "metadata": {
    "collapsed": false,
    "ExecuteTime": {
     "end_time": "2024-06-26T10:11:30.386083Z",
     "start_time": "2024-06-26T10:11:30.362563Z"
    }
   },
   "id": "43db4365138be789",
   "execution_count": 12
  },
  {
   "cell_type": "code",
   "outputs": [
    {
     "name": "stdout",
     "output_type": "stream",
     "text": [
      "torch.Size([417, 9]) torch.Size([105, 9])\n"
     ]
    }
   ],
   "source": [
    "print(X_train.shape, X_test.shape)"
   ],
   "metadata": {
    "collapsed": false,
    "ExecuteTime": {
     "end_time": "2024-06-26T10:12:16.036420Z",
     "start_time": "2024-06-26T10:12:16.033821Z"
    }
   },
   "id": "17af343f12e1ce7d",
   "execution_count": 14
  },
  {
   "cell_type": "code",
   "outputs": [
    {
     "name": "stdout",
     "output_type": "stream",
     "text": [
      "accuracy before training 0.6571428775787354\n",
      "Finished epoch 99,  accuracy 0.6571428775787354\n",
      "accuracy before training 0.6571428775787354\n",
      "Finished epoch 99,  accuracy 0.6571428775787354\n",
      "accuracy before training 0.6571428775787354\n",
      "Finished epoch 99,  accuracy 0.5428571701049805\n",
      "accuracy before training 0.34285715222358704\n",
      "Finished epoch 99,  accuracy 0.6571428775787354\n",
      "accuracy before training 0.34285715222358704\n",
      "Finished epoch 99,  accuracy 0.37142857909202576\n",
      "accuracy before training 0.34285715222358704\n",
      "Finished epoch 99,  accuracy 0.43809524178504944\n",
      "accuracy before training 0.6571428775787354\n",
      "Finished epoch 99,  accuracy 0.4761904776096344\n",
      "accuracy before training 0.6571428775787354\n",
      "Finished epoch 99,  accuracy 0.6571428775787354\n",
      "accuracy before training 0.6571428775787354\n",
      "Finished epoch 99,  accuracy 0.6571428775787354\n",
      "accuracy before training 0.6571428775787354\n",
      "Finished epoch 99,  accuracy 0.6571428775787354\n",
      "accuracy before training 0.6571428775787354\n",
      "Finished epoch 99,  accuracy 0.34285715222358704\n",
      "accuracy before training 0.34285715222358704\n",
      "Finished epoch 99,  accuracy 0.6000000238418579\n",
      "accuracy before training 0.34285715222358704\n",
      "Finished epoch 99,  accuracy 0.6571428775787354\n",
      "accuracy before training 0.6571428775787354\n",
      "Finished epoch 99,  accuracy 0.34285715222358704\n",
      "accuracy before training 0.6571428775787354\n",
      "Finished epoch 99,  accuracy 0.6571428775787354\n",
      "accuracy before training 0.34285715222358704\n",
      "Finished epoch 99,  accuracy 0.34285715222358704\n",
      "accuracy before training 0.34285715222358704\n",
      "Finished epoch 99,  accuracy 0.561904788017273\n",
      "accuracy before training 0.6571428775787354\n",
      "Finished epoch 99,  accuracy 0.6571428775787354\n",
      "accuracy before training 0.6571428775787354\n",
      "Finished epoch 99,  accuracy 0.6571428775787354\n",
      "accuracy before training 0.34285715222358704\n",
      "Finished epoch 99,  accuracy 0.3523809611797333\n",
      "accuracy before training 0.34285715222358704\n",
      "Finished epoch 99,  accuracy 0.6571428775787354\n",
      "accuracy before training 0.6571428775787354\n",
      "Finished epoch 99,  accuracy 0.5809524059295654\n",
      "accuracy before training 0.34285715222358704\n",
      "Finished epoch 99,  accuracy 0.6571428775787354\n",
      "accuracy before training 0.34285715222358704\n",
      "Finished epoch 99,  accuracy 0.5523809790611267\n",
      "accuracy before training 0.34285715222358704\n",
      "Finished epoch 99,  accuracy 0.6571428775787354\n",
      "accuracy before training 0.34285715222358704\n",
      "Finished epoch 99,  accuracy 0.5333333611488342\n",
      "accuracy before training 0.6571428775787354\n",
      "Finished epoch 99,  accuracy 0.6571428775787354\n",
      "accuracy before training 0.6571428775787354\n",
      "Finished epoch 99,  accuracy 0.6571428775787354\n",
      "accuracy before training 0.6571428775787354\n",
      "Finished epoch 99,  accuracy 0.6571428775787354\n",
      "accuracy before training 0.34285715222358704\n",
      "Finished epoch 99,  accuracy 0.6476190686225891\n",
      "accuracy before training 0.34285715222358704\n",
      "Finished epoch 99,  accuracy 0.34285715222358704\n",
      "accuracy before training 0.6571428775787354\n",
      "Finished epoch 99,  accuracy 0.37142857909202576\n",
      "accuracy before training 0.34285715222358704\n",
      "Finished epoch 99,  accuracy 0.6571428775787354\n",
      "accuracy before training 0.6571428775787354\n",
      "Finished epoch 99,  accuracy 0.6571428775787354\n",
      "accuracy before training 0.6571428775787354\n",
      "Finished epoch 99,  accuracy 0.6571428775787354\n",
      "accuracy before training 0.34285715222358704\n",
      "Finished epoch 99,  accuracy 0.3619047701358795\n",
      "accuracy before training 0.34285715222358704\n",
      "Finished epoch 99,  accuracy 0.6571428775787354\n",
      "accuracy before training 0.34285715222358704\n",
      "Finished epoch 99,  accuracy 0.48571428656578064\n",
      "accuracy before training 0.6571428775787354\n",
      "Finished epoch 99,  accuracy 0.4952380955219269\n",
      "accuracy before training 0.34285715222358704\n",
      "Finished epoch 99,  accuracy 0.6285714507102966\n"
     ]
    }
   ],
   "source": [
    "list_of_models = create_list_of_model(40, X_train, y_train, X_test, y_test, num_epochs=100)"
   ],
   "metadata": {
    "collapsed": false,
    "ExecuteTime": {
     "end_time": "2024-06-26T10:11:43.313425Z",
     "start_time": "2024-06-26T10:11:37.304887Z"
    }
   },
   "id": "ad61785cdcd784da",
   "execution_count": 13
  },
  {
   "cell_type": "code",
   "outputs": [],
   "source": [
    "output_dict, metric_dict = calculate_robustness(input_data_loc, dice_loc, ge_cf_loc, ge_nsga2_loc, certif_cf_loc, list_of_models)"
   ],
   "metadata": {
    "collapsed": false,
    "ExecuteTime": {
     "end_time": "2024-06-26T10:12:41.609592Z",
     "start_time": "2024-06-26T10:12:21.420247Z"
    }
   },
   "id": "98461b4aafe084b5",
   "execution_count": 15
  },
  {
   "cell_type": "code",
   "outputs": [
    {
     "data": {
      "text/plain": "{'dice_robustness': [0.5247272727272754,\n  0.5408482142857133,\n  0.546746031746033,\n  0.6258561643835626,\n  0.524921630094047,\n  0.5251082251082273,\n  0.5250000000000034,\n  0.5403669724770632,\n  0.6020661157024801,\n  0.636419753086421,\n  0.525000000000002,\n  0.5595394736842111,\n  0.5280434782608686,\n  0.732974137931035,\n  0.655,\n  0.6196942446043173,\n  0.5248655913978507,\n  0.6922645739910323],\n 'Our_method_robustness': [0.5258181818181846,\n  0.5256696428571419,\n  0.5304761904761939,\n  0.5773972602739741,\n  0.5250000000000031,\n  0.5280303030303051,\n  0.5259445843828751,\n  0.5256880733944945,\n  0.5802685950413228,\n  0.618930041152262,\n  0.5261853448275883,\n  0.5564967105263168,\n  0.524999999999999,\n  0.6545258620689658,\n  0.6129999999999999,\n  0.5914568345323722,\n  0.525940860215055,\n  0.6403587443946174],\n 'certif_robustness': [0.5270000000000011,\n  0.5500000000000007,\n  0.5636250000000008,\n  0.6850000000000004,\n  0.527750000000001,\n  0.5253750000000016,\n  0.529000000000001,\n  0.5443750000000003,\n  0.6317500000000005,\n  0.6843750000000004,\n  0.5272500000000012,\n  0.5948750000000009,\n  0.5250000000000017,\n  0.7135000000000005,\n  0.6811250000000001,\n  0.6806250000000005,\n  0.5250000000000017,\n  0.7106250000000002],\n 'GE_NSGAII_robustness': [0.5267210144927564,\n  0.5252906976744178,\n  0.534558823529412,\n  0.5633333333333334,\n  0.528508771929824,\n  0.5324728260869578,\n  0.5297468354430386,\n  0.525,\n  0.6403846153846154,\n  0.5960526315789473,\n  0.5285714285714286,\n  0.5502777777777771,\n  0.527325581395348,\n  0.6730232558139536,\n  0.625,\n  0.5882812499999998,\n  0.5336914062500024,\n  0.6310185185185176]}"
     },
     "execution_count": 16,
     "metadata": {},
     "output_type": "execute_result"
    }
   ],
   "source": [
    "metric_dict"
   ],
   "metadata": {
    "collapsed": false,
    "ExecuteTime": {
     "end_time": "2024-06-26T10:13:02.083696Z",
     "start_time": "2024-06-26T10:13:02.075308Z"
    }
   },
   "id": "d50db24030bf523",
   "execution_count": 16
  },
  {
   "cell_type": "code",
   "outputs": [
    {
     "data": {
      "text/plain": "{'dice_robustness': 0.5794134377488969,\n 'Our_method_robustness': 0.5608992904995375,\n 'certif_robustness': 0.5959027777777786,\n 'GE_NSGAII_robustness': 0.564403264876685}"
     },
     "execution_count": 17,
     "metadata": {},
     "output_type": "execute_result"
    }
   ],
   "source": [
    "output_dict"
   ],
   "metadata": {
    "collapsed": false,
    "ExecuteTime": {
     "end_time": "2024-06-26T10:13:11.727325Z",
     "start_time": "2024-06-26T10:13:11.723138Z"
    }
   },
   "id": "7a2a71ea52d948db",
   "execution_count": 17
  },
  {
   "cell_type": "code",
   "outputs": [],
   "source": [
    "import matplotlib.pyplot as plt\n",
    "\n",
    "def plot_bar_graph(data_dict, title=\"Bar Graph\", xlabel=\"Labels\", ylabel=\"Values\"):\n",
    "    \n",
    "    labels = list(data_dict.keys())\n",
    "    values = list(data_dict.values())\n",
    "    \n",
    "    plt.figure(figsize=(8, 6))\n",
    "    plt.bar(labels, values, color='skyblue', width=0.4)\n",
    "    \n",
    "    plt.title(title)\n",
    "    plt.xlabel(xlabel)\n",
    "    plt.ylabel(ylabel)\n",
    "    \n",
    "    plt.xticks(rotation=45)\n",
    "    plt.tight_layout()\n",
    "    plt.show()"
   ],
   "metadata": {
    "collapsed": false,
    "ExecuteTime": {
     "end_time": "2024-06-26T10:13:19.823434Z",
     "start_time": "2024-06-26T10:13:19.819428Z"
    }
   },
   "id": "c89fa360cfe4c9c8",
   "execution_count": 18
  },
  {
   "cell_type": "code",
   "outputs": [
    {
     "data": {
      "text/plain": "<Figure size 800x600 with 1 Axes>",
      "image/png": "[encoded data removed]"
     },
     "metadata": {},
     "output_type": "display_data"
    }
   ],
   "source": [
    "plot_bar_graph(output_dict, title=\"Robustness\", xlabel=\"methods\", ylabel=\"robustness\")"
   ],
   "metadata": {
    "collapsed": false,
    "ExecuteTime": {
     "end_time": "2024-06-26T10:13:23.690185Z",
     "start_time": "2024-06-26T10:13:23.261085Z"
    }
   },
   "id": "3bc29d0ce678424",
   "execution_count": 19
  },
  {
   "cell_type": "code",
   "outputs": [],
   "source": [],
   "metadata": {
    "collapsed": false
   },
   "id": "f08766b9fd10f015"
  }
 ],
 "metadata": {
  "kernelspec": {
   "display_name": "Python 3",
   "language": "python",
   "name": "python3"
  },
  "language_info": {
   "codemirror_mode": {
    "name": "ipython",
    "version": 2
   },
   "file_extension": ".py",
   "mimetype": "text/x-python",
   "name": "python",
   "nbconvert_exporter": "python",
   "pygments_lexer": "ipython2",
   "version": "2.7.6"
  }
 },
 "nbformat": 4,
 "nbformat_minor": 5
}
