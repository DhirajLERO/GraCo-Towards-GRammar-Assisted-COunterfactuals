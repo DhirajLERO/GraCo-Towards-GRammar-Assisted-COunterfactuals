{
 "cells": [
  {
   "cell_type": "code",
   "execution_count": 2,
   "id": "initial_id",
   "metadata": {
    "collapsed": true,
    "ExecuteTime": {
     "end_time": "2024-06-01T23:14:15.378085Z",
     "start_time": "2024-06-01T23:14:14.954884Z"
    }
   },
   "outputs": [],
   "source": [
    "import os\n",
    "import pandas as pd\n",
    "import numpy as np\n"
   ]
  },
  {
   "cell_type": "code",
   "outputs": [],
   "source": [
    "def load_hypervolume_data(base_dir):\n",
    "    data_dict = {}\n",
    "    \n",
    "    for folder_name in os.listdir(base_dir):\n",
    "        folder_path = os.path.join(base_dir, folder_name)\n",
    "        \n",
    "        # Ensure it's a directory\n",
    "        if os.path.isdir(folder_path):\n",
    "            hypervolume_path = os.path.join(folder_path, 'hyper_volume.csv')\n",
    "            \n",
    "            # Check if hyper_volume.csv exists in the folder\n",
    "            if os.path.exists(hypervolume_path):\n",
    "                df = pd.read_csv(hypervolume_path)\n",
    "                data_dict[folder_name] = df\n",
    "    \n",
    "    return data_dict"
   ],
   "metadata": {
    "collapsed": false,
    "ExecuteTime": {
     "end_time": "2024-06-01T23:14:15.381341Z",
     "start_time": "2024-06-01T23:14:15.379666Z"
    }
   },
   "id": "51441ea312ef931d",
   "execution_count": 3
  },
  {
   "cell_type": "code",
   "outputs": [],
   "source": [
    "def remove_exceeding_rows(df, column_name, value):\n",
    "    \"\"\"\n",
    "    Remove rows from the DataFrame where the column's value exceeds the given value.\n",
    "\n",
    "    Parameters:\n",
    "    df (pd.DataFrame): The input DataFrame.\n",
    "    column_name (str): The name of the column to check the values.\n",
    "    value (numeric): The threshold value.\n",
    "\n",
    "    Returns:\n",
    "    pd.DataFrame: A DataFrame with the rows removed where the column's value exceeds the given value.\n",
    "    \"\"\"\n",
    "    # Ensure the column exists in the DataFrame\n",
    "    if column_name not in df.columns:\n",
    "        raise ValueError(f\"Column '{column_name}' does not exist in the DataFrame\")\n",
    "    \n",
    "    # Filter the DataFrame\n",
    "    filtered_df = df[df[column_name] <= value]\n",
    "    \n",
    "    return filtered_df"
   ],
   "metadata": {
    "collapsed": false,
    "ExecuteTime": {
     "end_time": "2024-06-01T23:14:15.413782Z",
     "start_time": "2024-06-01T23:14:15.409966Z"
    }
   },
   "id": "51fa2167d5add9a1",
   "execution_count": 4
  },
  {
   "cell_type": "markdown",
   "source": [
    "### load all the hyper-volume data"
   ],
   "metadata": {
    "collapsed": false
   },
   "id": "772649ff6d84bcf6"
  },
  {
   "cell_type": "code",
   "outputs": [],
   "source": [
    "NSGAIII_directory =  \"output/NSGAIII_multi\"\n",
    "NSGAIII_hypervolume = load_hypervolume_data(NSGAIII_directory)\n",
    "\n",
    "NSGAII_directory =  \"output/NSGAII_multi\"\n",
    "NSGAII_hypervolume = load_hypervolume_data(NSGAII_directory)"
   ],
   "metadata": {
    "collapsed": false,
    "ExecuteTime": {
     "end_time": "2024-06-01T23:14:16.607141Z",
     "start_time": "2024-06-01T23:14:16.572057Z"
    }
   },
   "id": "4a12935d8a73bde5",
   "execution_count": 5
  },
  {
   "cell_type": "markdown",
   "source": [
    "## Calculate the mean of hyper-volume across all the runs and across all the examples."
   ],
   "metadata": {
    "collapsed": false
   },
   "id": "ba66ad8077accbb2"
  },
  {
   "cell_type": "markdown",
   "source": [
    "#### 1. NSGA-II"
   ],
   "metadata": {
    "collapsed": false
   },
   "id": "17eef32054083430"
  },
  {
   "cell_type": "code",
   "outputs": [
    {
     "name": "stdout",
     "output_type": "stream",
     "text": [
      "9 :  0.6008552925260119\n",
      "0 :  0.5299730025966445\n",
      "11 :  0.5999024339100667\n",
      "7 :  0.5897842562809388\n",
      "16 :  0.5972363779878606\n",
      "6 :  0.6255931847890907\n",
      "17 :  0.6493944929348762\n",
      "1 :  0.5078404979471561\n",
      "10 :  0.6023040933433549\n",
      "8 :  0.5975705681859116\n",
      "4 :  0.5445338838033043\n",
      "15 :  0.5792505488888537\n",
      "3 :  0.6045717139774259\n",
      "12 :  0.6020344542133368\n",
      "2 :  0.5168178277865707\n",
      "13 :  0.6320077559299686\n",
      "5 :  0.554935431334142\n",
      "14 :  0.6056085724648597\n",
      "[0.6008552925260119, 0.5299730025966445, 0.5999024339100667, 0.5897842562809388, 0.5972363779878606, 0.6255931847890907, 0.6493944929348762, 0.5078404979471561, 0.6023040933433549, 0.5975705681859116, 0.5445338838033043, 0.5792505488888537, 0.6045717139774259, 0.6020344542133368, 0.5168178277865707, 0.6320077559299686, 0.554935431334142, 0.6056085724648597]\n",
      "Hypervolume mean for NSGA-II over all the input and run:  0.5855674660500206\n"
     ]
    }
   ],
   "source": [
    "NSGAII_hypervolume_list = []\n",
    "for key, value in NSGAII_hypervolume.items():\n",
    "    value = remove_exceeding_rows(value, \"hyper_volume\", 1.0)\n",
    "    print(key, \": \",  value['hyper_volume'].mean())\n",
    "    NSGAII_hypervolume_list.append(value['hyper_volume'].mean())\n",
    "\n",
    "print(NSGAII_hypervolume_list)\n",
    "print(\"Hypervolume mean for NSGA-II over all the input and run: \", np.mean(NSGAII_hypervolume_list))\n",
    "    "
   ],
   "metadata": {
    "collapsed": false,
    "ExecuteTime": {
     "end_time": "2024-06-01T23:14:19.789890Z",
     "start_time": "2024-06-01T23:14:19.782564Z"
    }
   },
   "id": "91a060ef5e96e5c6",
   "execution_count": 6
  },
  {
   "cell_type": "code",
   "outputs": [
    {
     "name": "stdout",
     "output_type": "stream",
     "text": [
      "9 :  0.6117758051394275\n",
      "0 :  0.5391445067332294\n",
      "11 :  0.6588159999375459\n",
      "7 :  0.6318670724216758\n",
      "16 :  0.6064528842491957\n",
      "6 :  0.6305508126042241\n",
      "17 :  0.6657265471446256\n",
      "1 :  0.5742131834693661\n",
      "10 :  0.6490787487624023\n",
      "8 :  0.6398715141142475\n",
      "4 :  0.6172059006254926\n",
      "15 :  0.6035351306749248\n",
      "3 :  0.6091822079299808\n",
      "12 :  0.6258530766687045\n",
      "2 :  0.5615663826318344\n",
      "13 :  0.6782440414184824\n",
      "5 :  0.5593069157749634\n",
      "14 :  0.6047357471801471\n",
      "[0.6117758051394275, 0.5391445067332294, 0.6588159999375459, 0.6318670724216758, 0.6064528842491957, 0.6305508126042241, 0.6657265471446256, 0.5742131834693661, 0.6490787487624023, 0.6398715141142475, 0.6172059006254926, 0.6035351306749248, 0.6091822079299808, 0.6258530766687045, 0.5615663826318344, 0.6782440414184824, 0.5593069157749634, 0.6047357471801471]\n",
      "Hypervolume mean for NSGA-III over all the input and run:  0.614840359860026\n"
     ]
    }
   ],
   "source": [
    "NSGAIII_hypervolume_list = []\n",
    "for key, value in NSGAIII_hypervolume.items():\n",
    "    value = remove_exceeding_rows(value, \"hyper_volume\", 1.0)\n",
    "    print(key, \": \",  value['hyper_volume'].mean())\n",
    "    NSGAIII_hypervolume_list.append(value['hyper_volume'].mean())\n",
    "\n",
    "print(NSGAIII_hypervolume_list)\n",
    "print(\"Hypervolume mean for NSGA-III over all the input and run: \", np.mean(NSGAIII_hypervolume_list))"
   ],
   "metadata": {
    "collapsed": false,
    "ExecuteTime": {
     "end_time": "2024-06-01T23:14:22.738924Z",
     "start_time": "2024-06-01T23:14:22.730361Z"
    }
   },
   "id": "73e833f82b6a7d64",
   "execution_count": 7
  },
  {
   "cell_type": "code",
   "outputs": [],
   "source": [],
   "metadata": {
    "collapsed": false
   },
   "id": "7d40b77f809ca74c"
  }
 ],
 "metadata": {
  "kernelspec": {
   "display_name": "Python 3",
   "language": "python",
   "name": "python3"
  },
  "language_info": {
   "codemirror_mode": {
    "name": "ipython",
    "version": 2
   },
   "file_extension": ".py",
   "mimetype": "text/x-python",
   "name": "python",
   "nbconvert_exporter": "python",
   "pygments_lexer": "ipython2",
   "version": "2.7.6"
  }
 },
 "nbformat": 4,
 "nbformat_minor": 5
}
