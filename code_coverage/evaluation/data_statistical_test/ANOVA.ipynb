{
 "cells": [
  {
   "cell_type": "code",
   "outputs": [],
   "source": [
    "import numpy as np\n",
    "from scipy.stats import f_oneway\n",
    "from statsmodels.stats.multicomp import pairwise_tukeyhsd\n",
    "\n",
    "data= np.load('sparsity.pickle', allow_pickle=True)"
   ],
   "metadata": {
    "collapsed": false,
    "ExecuteTime": {
     "end_time": "2024-08-16T08:12:00.536614Z",
     "start_time": "2024-08-16T08:11:59.352387Z"
    }
   },
   "id": "bbd5935169c902d4",
   "execution_count": 1
  },
  {
   "cell_type": "code",
   "outputs": [],
   "source": [
    "filenames = [\"average_shift.pickle\", \"cohesive.pickle\", \"conformity.pickle\", \"proximity.pickle\", \"sparsity.pickle\" ]"
   ],
   "metadata": {
    "collapsed": false,
    "ExecuteTime": {
     "end_time": "2024-08-16T08:12:00.539075Z",
     "start_time": "2024-08-16T08:12:00.537611Z"
    }
   },
   "id": "6e47e5dfe3161454",
   "execution_count": 2
  },
  {
   "cell_type": "code",
   "outputs": [],
   "source": [
    "def statistical_test(filenames):\n",
    "    for filename in filenames:\n",
    "        print(\"Testing for :\", filename.split(\".\")[0])\n",
    "        data= np.load(filename, allow_pickle=True)\n",
    "        Dice = np.array(data['Dice'])\n",
    "        Certif = np.array(data['Certif'])\n",
    "        Our_method = np.array(data['Our_method'])\n",
    "        GE_NSGAII = np.array(data['GE_NSGAII'])\n",
    "        f_statistic, p_value = f_oneway(Dice, Certif, Our_method, GE_NSGAII)\n",
    "\n",
    "        print(\"F-Statistic:\", f_statistic)\n",
    "        print(\"P-Value:\", p_value)\n",
    "        \n",
    "        print(\"---------Turkey pairwise hsd-----------------\")\n",
    "        \n",
    "        tukey_results = pairwise_tukeyhsd(np.concatenate([Dice, Certif, Our_method, GE_NSGAII]),\n",
    "                                  np.concatenate([['Dice'] * len(Dice), ['Certif'] * len(Certif), ['Our_method'] * len(Our_method), ['GE_NSGAII'] * len(GE_NSGAII)]), alpha=0.05)\n",
    "\n",
    "        print(tukey_results)\n",
    "        \n",
    "        print(\"--\"*30)\n",
    "        \n",
    "                \n",
    "            "
   ],
   "metadata": {
    "collapsed": false,
    "ExecuteTime": {
     "end_time": "2024-08-16T08:12:00.542331Z",
     "start_time": "2024-08-16T08:12:00.539810Z"
    }
   },
   "id": "fd16d99f57913d29",
   "execution_count": 3
  },
  {
   "cell_type": "code",
   "outputs": [
    {
     "name": "stdout",
     "output_type": "stream",
     "text": [
      "Testing for : average_shift\n",
      "F-Statistic: 24.472592294207626\n",
      "P-Value: 7.4884484492533e-11\n",
      "---------Turkey pairwise hsd-----------------\n",
      "    Multiple Comparison of Means - Tukey HSD, FWER=0.05    \n",
      "===========================================================\n",
      "  group1    group2   meandiff p-adj   lower   upper  reject\n",
      "-----------------------------------------------------------\n",
      "   Certif       Dice  -0.0763 0.0001 -0.1202 -0.0323   True\n",
      "   Certif  GE_NSGAII  -0.1185    0.0 -0.1625 -0.0746   True\n",
      "   Certif Our_method  -0.1282    0.0 -0.1722 -0.0843   True\n",
      "     Dice  GE_NSGAII  -0.0423 0.0637 -0.0862  0.0017  False\n",
      "     Dice Our_method   -0.052  0.014 -0.0959  -0.008   True\n",
      "GE_NSGAII Our_method  -0.0097 0.9375 -0.0536  0.0343  False\n",
      "-----------------------------------------------------------\n",
      "------------------------------------------------------------\n",
      "Testing for : cohesive\n",
      "F-Statistic: 19.417473945567348\n",
      "P-Value: 3.3511979063771435e-09\n",
      "---------Turkey pairwise hsd-----------------\n",
      "        Multiple Comparison of Means - Tukey HSD, FWER=0.05        \n",
      "===================================================================\n",
      "  group1    group2    meandiff  p-adj    lower      upper    reject\n",
      "-------------------------------------------------------------------\n",
      "   Certif       Dice  1264.7489    0.0   594.8466  1934.6512   True\n",
      "   Certif  GE_NSGAII  -288.3735 0.6701  -958.2758   381.5288  False\n",
      "   Certif Our_method  -506.7285  0.201 -1176.6308   163.1738  False\n",
      "     Dice  GE_NSGAII -1553.1224    0.0 -2223.0247  -883.2201   True\n",
      "     Dice Our_method -1771.4775    0.0 -2441.3798 -1101.5752   True\n",
      "GE_NSGAII Our_method   -218.355 0.8261  -888.2574   451.5473  False\n",
      "-------------------------------------------------------------------\n",
      "------------------------------------------------------------\n",
      "Testing for : conformity\n",
      "F-Statistic: 4.9470104150552086\n",
      "P-Value: 0.0036356764191516266\n",
      "---------Turkey pairwise hsd-----------------\n",
      "    Multiple Comparison of Means - Tukey HSD, FWER=0.05    \n",
      "===========================================================\n",
      "  group1    group2   meandiff p-adj   lower   upper  reject\n",
      "-----------------------------------------------------------\n",
      "   Certif       Dice  -0.8132 0.0256 -1.5529 -0.0735   True\n",
      "   Certif  GE_NSGAII  -0.3929 0.5044 -1.1326  0.3468  False\n",
      "   Certif Our_method  -0.9847 0.0044 -1.7244  -0.245   True\n",
      "     Dice  GE_NSGAII   0.4203 0.4454 -0.3195    1.16  False\n",
      "     Dice Our_method  -0.1715 0.9284 -0.9112  0.5682  False\n",
      "GE_NSGAII Our_method  -0.5918 0.1613 -1.3315   0.148  False\n",
      "-----------------------------------------------------------\n",
      "------------------------------------------------------------\n",
      "Testing for : proximity\n",
      "F-Statistic: 10.982084650991922\n",
      "P-Value: 5.73220642921764e-06\n",
      "---------Turkey pairwise hsd-----------------\n",
      "       Multiple Comparison of Means - Tukey HSD, FWER=0.05       \n",
      "=================================================================\n",
      "  group1    group2    meandiff p-adj    lower      upper   reject\n",
      "-----------------------------------------------------------------\n",
      "   Certif       Dice  490.3254  0.028    39.0759  941.5748   True\n",
      "   Certif  GE_NSGAII -255.0696 0.4499   -706.319  196.1799  False\n",
      "   Certif Our_method -433.5087 0.0642  -884.7582   17.7408  False\n",
      "     Dice  GE_NSGAII -745.3949 0.0003 -1196.6444 -294.1455   True\n",
      "     Dice Our_method -923.8341    0.0 -1375.0835 -472.5846   True\n",
      "GE_NSGAII Our_method -178.4391 0.7258  -629.6886  272.8103  False\n",
      "-----------------------------------------------------------------\n",
      "------------------------------------------------------------\n",
      "Testing for : sparsity\n",
      "F-Statistic: 808.3884164909731\n",
      "P-Value: 4.294117284623147e-53\n",
      "---------Turkey pairwise hsd-----------------\n",
      "    Multiple Comparison of Means - Tukey HSD, FWER=0.05    \n",
      "===========================================================\n",
      "  group1    group2   meandiff p-adj   lower   upper  reject\n",
      "-----------------------------------------------------------\n",
      "   Certif       Dice  -5.3075    0.0 -5.6433 -4.9718   True\n",
      "   Certif  GE_NSGAII  -4.9434    0.0 -5.2791 -4.6077   True\n",
      "   Certif Our_method  -5.0996    0.0 -5.4353 -4.7638   True\n",
      "     Dice  GE_NSGAII   0.3641 0.0284  0.0284  0.6999   True\n",
      "     Dice Our_method    0.208 0.3681 -0.1278  0.5437  False\n",
      "GE_NSGAII Our_method  -0.1562 0.6133 -0.4919  0.1796  False\n",
      "-----------------------------------------------------------\n",
      "------------------------------------------------------------\n"
     ]
    }
   ],
   "source": [
    "statistical_test(filenames)"
   ],
   "metadata": {
    "collapsed": false,
    "ExecuteTime": {
     "end_time": "2024-08-16T08:12:01.803220Z",
     "start_time": "2024-08-16T08:12:00.543102Z"
    }
   },
   "id": "7cdedafe5b4c6745",
   "execution_count": 4
  },
  {
   "cell_type": "code",
   "outputs": [
    {
     "name": "stdout",
     "output_type": "stream",
     "text": [
      "F-Statistic: 1.267391655204623\n",
      "P-Value: 0.29254059285333456\n",
      "---------Turkey pairwise hsd-----------------\n",
      "   Multiple Comparison of Means - Tukey HSD, FWER=0.05    \n",
      "==========================================================\n",
      "  group1    group2   meandiff p-adj   lower  upper  reject\n",
      "----------------------------------------------------------\n",
      "   Certif       Dice  -0.0165 0.8445 -0.0694 0.0364  False\n",
      "   Certif  GE_NSGAII  -0.0315 0.4037 -0.0844 0.0214  False\n",
      "   Certif Our_method   -0.035 0.3103 -0.0879 0.0179  False\n",
      "     Dice  GE_NSGAII   -0.015 0.8776 -0.0679 0.0379  False\n",
      "     Dice Our_method  -0.0185 0.7935 -0.0714 0.0344  False\n",
      "GE_NSGAII Our_method  -0.0035 0.9981 -0.0564 0.0494  False\n",
      "----------------------------------------------------------\n",
      "------------------------------------------------------------\n"
     ]
    }
   ],
   "source": [
    "robustness_dict={'dice_robustness': [0.5247272727272754,\n",
    "  0.5408482142857133,\n",
    "  0.546746031746033,\n",
    "  0.6258561643835626,\n",
    "  0.524921630094047,\n",
    "  0.5251082251082273,\n",
    "  0.5250000000000034,\n",
    "  0.5403669724770632,\n",
    "  0.6020661157024801,\n",
    "  0.636419753086421,\n",
    "  0.525000000000002,\n",
    "  0.5595394736842111,\n",
    "  0.5280434782608686,\n",
    "  0.732974137931035,\n",
    "  0.655,\n",
    "  0.6196942446043173,\n",
    "  0.5248655913978507,\n",
    "  0.6922645739910323],\n",
    " 'Our_method_robustness': [0.5258181818181846,\n",
    "  0.5256696428571419,\n",
    "  0.5304761904761939,\n",
    "  0.5773972602739741,\n",
    "  0.5250000000000031,\n",
    "  0.5280303030303051,\n",
    "  0.5259445843828751,\n",
    "  0.5256880733944945,\n",
    "  0.5802685950413228,\n",
    "  0.618930041152262,\n",
    "  0.5261853448275883,\n",
    "  0.5564967105263168,\n",
    "  0.524999999999999,\n",
    "  0.6545258620689658,\n",
    "  0.6129999999999999,\n",
    "  0.5914568345323722,\n",
    "  0.525940860215055,\n",
    "  0.6403587443946174],\n",
    " 'certif_robustness': [0.5270000000000011,\n",
    "  0.5500000000000007,\n",
    "  0.5636250000000008,\n",
    "  0.6850000000000004,\n",
    "  0.527750000000001,\n",
    "  0.5253750000000016,\n",
    "  0.529000000000001,\n",
    "  0.5443750000000003,\n",
    "  0.6317500000000005,\n",
    "  0.6843750000000004,\n",
    "  0.5272500000000012,\n",
    "  0.5948750000000009,\n",
    "  0.5250000000000017,\n",
    "  0.7135000000000005,\n",
    "  0.6811250000000001,\n",
    "  0.6806250000000005,\n",
    "  0.5250000000000017,\n",
    "  0.7106250000000002],\n",
    " 'GE_NSGAII_robustness': [0.5267210144927564,\n",
    "  0.5252906976744178,\n",
    "  0.534558823529412,\n",
    "  0.5633333333333334,\n",
    "  0.528508771929824,\n",
    "  0.5324728260869578,\n",
    "  0.5297468354430386,\n",
    "  0.525,\n",
    "  0.6403846153846154,\n",
    "  0.5960526315789473,\n",
    "  0.5285714285714286,\n",
    "  0.5502777777777771,\n",
    "  0.527325581395348,\n",
    "  0.6730232558139536,\n",
    "  0.625,\n",
    "  0.5882812499999998,\n",
    "  0.5336914062500024,\n",
    "  0.6310185185185176]}\n",
    "\n",
    "def statistical_test_robustness(data):\n",
    "    \n",
    "    Dice = np.array(data['dice_robustness'])\n",
    "    Certif = np.array(data['certif_robustness'])\n",
    "    Our_method = np.array(data['Our_method_robustness'])\n",
    "    GE_NSGAII = np.array(data['GE_NSGAII_robustness'])\n",
    "    f_statistic, p_value = f_oneway(Dice, Certif, Our_method, GE_NSGAII)\n",
    "\n",
    "    print(\"F-Statistic:\", f_statistic)\n",
    "    print(\"P-Value:\", p_value)\n",
    "    \n",
    "    print(\"---------Turkey pairwise hsd-----------------\")\n",
    "    \n",
    "    tukey_results = pairwise_tukeyhsd(np.concatenate([Dice, Certif, Our_method, GE_NSGAII]),\n",
    "                              np.concatenate([['Dice'] * len(Dice), ['Certif'] * len(Certif), ['Our_method'] * len(Our_method), ['GE_NSGAII'] * len(GE_NSGAII)]), alpha=0.05)\n",
    "\n",
    "    print(tukey_results)\n",
    "        \n",
    "    print(\"--\"*30)\n",
    "    \n",
    "statistical_test_robustness(robustness_dict)"
   ],
   "metadata": {
    "collapsed": false,
    "ExecuteTime": {
     "end_time": "2024-08-16T08:31:01.105832Z",
     "start_time": "2024-08-16T08:31:00.830067Z"
    }
   },
   "id": "43bd11c0a84302a1",
   "execution_count": 5
  },
  {
   "cell_type": "code",
   "outputs": [],
   "source": [],
   "metadata": {
    "collapsed": false
   },
   "id": "ee3e5365cb3f16e0"
  }
 ],
 "metadata": {
  "kernelspec": {
   "display_name": "Python 3",
   "language": "python",
   "name": "python3"
  },
  "language_info": {
   "codemirror_mode": {
    "name": "ipython",
    "version": 2
   },
   "file_extension": ".py",
   "mimetype": "text/x-python",
   "name": "python",
   "nbconvert_exporter": "python",
   "pygments_lexer": "ipython2",
   "version": "2.7.6"
  }
 },
 "nbformat": 4,
 "nbformat_minor": 5
}
