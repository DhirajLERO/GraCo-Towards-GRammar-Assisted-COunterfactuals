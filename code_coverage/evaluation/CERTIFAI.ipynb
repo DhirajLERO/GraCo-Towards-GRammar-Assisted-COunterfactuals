{
 "cells": [
  {
   "cell_type": "code",
   "execution_count": 20,
   "id": "initial_id",
   "metadata": {
    "collapsed": true,
    "ExecuteTime": {
     "end_time": "2024-06-15T10:12:30.286976Z",
     "start_time": "2024-06-15T10:12:30.285313Z"
    }
   },
   "outputs": [],
   "source": [
    "from CERTIFAI import CERTIFAI\n",
    "import numpy as np\n",
    "import torch.nn as nn\n",
    "import torch\n",
    "import os\n",
    "import pandas as pd "
   ]
  },
  {
   "cell_type": "code",
   "outputs": [],
   "source": [
    "def load_data(data):\n",
    "    return np.load(data)\n",
    "\n",
    "class RiskClassifier(nn.Module):\n",
    "    def __init__(self):\n",
    "        super().__init__()\n",
    "        self.hidden1 = nn.Linear(9, 16)\n",
    "        self.act1 = nn.ReLU()\n",
    "        self.hidden2 = nn.Linear(16, 32)\n",
    "        self.act2 = nn.ReLU()\n",
    "        self.hidden3 = nn.Linear(32, 64)\n",
    "        self.act3 = nn.ReLU()\n",
    "        self.output = nn.Linear(64, 1)\n",
    "        self.act_output = nn.Sigmoid()\n",
    "\n",
    "    def forward(self, x):\n",
    "        x = self.act1(self.hidden1(x))\n",
    "        x = self.act2(self.hidden2(x))\n",
    "        x = self.act3(self.hidden3(x))\n",
    "        x = self.act_output(self.output(x))\n",
    "        return x\n",
    "    \n",
    "    \n",
    "def load_model(input_folder = 'model_training/credit_risk_model'):\n",
    "    model = torch.load(input_folder)\n",
    "    model.eval()\n",
    "    return model\n"
   ],
   "metadata": {
    "collapsed": false,
    "ExecuteTime": {
     "end_time": "2024-06-15T10:12:30.585746Z",
     "start_time": "2024-06-15T10:12:30.580845Z"
    }
   },
   "id": "89f26eeee7c67ce5",
   "execution_count": 21
  },
  {
   "cell_type": "code",
   "outputs": [],
   "source": [
    "# file_path = \"./../output/NSGAIII/1/input_data.npy\"\n",
    "# input_array = load_data(file_path)\n",
    "model = load_model(input_folder = './../model_training/credit_risk_model')"
   ],
   "metadata": {
    "collapsed": false,
    "ExecuteTime": {
     "end_time": "2024-06-15T10:12:31.338157Z",
     "start_time": "2024-06-15T10:12:31.333546Z"
    }
   },
   "id": "bc3fa81df4f273eb",
   "execution_count": 22
  },
  {
   "cell_type": "code",
   "outputs": [],
   "source": [
    "def create_pd_dataframe(input_folder):\n",
    "    features = ['Age','Sex','Job','Housing','Saving accounts','Checking account','Credit amount','Duration','Purpose']\n",
    "    max = [80, 1, 3, 2, 3, 2, 50000.0, 100, 7]\n",
    "    min = [18, 0, 0, 0, 0, 0, 100.0, 3, 0]\n",
    "    input_data_list = []\n",
    "    order_list = []\n",
    "    for i in os.listdir(input_folder):\n",
    "        if i=='.DS_Store':\n",
    "            continue\n",
    "        # print(i)\n",
    "        input_array_location = input_folder + '/' + i + '/' + 'input_data.npy'\n",
    "        input = load_data(input_array_location)\n",
    "        input_data_list.append(input)\n",
    "        order_list.append(i)\n",
    "    input_data_list.append(min)\n",
    "    input_data_list.append(max)\n",
    "    data_frame  = pd.DataFrame(data=input_data_list, columns=features)\n",
    "    return data_frame, order_list\n",
    "\n",
    "input_df, order_list = create_pd_dataframe(input_folder=\"./../output/NSGAIII_multi/\")\n",
    "input_df.to_csv('certif_input_df.csv', index=False)"
   ],
   "metadata": {
    "collapsed": false,
    "ExecuteTime": {
     "end_time": "2024-06-15T10:12:33.226177Z",
     "start_time": "2024-06-15T10:12:33.214490Z"
    }
   },
   "id": "baa17857956504e3",
   "execution_count": 23
  },
  {
   "cell_type": "code",
   "outputs": [
    {
     "name": "stdout",
     "output_type": "stream",
     "text": [
      "<class 'pandas.core.frame.DataFrame'>\n"
     ]
    }
   ],
   "source": [
    "certifai_instance = CERTIFAI.from_csv('certif_input_df.csv')\n",
    "print(type(certifai_instance.tab_dataset))"
   ],
   "metadata": {
    "collapsed": false,
    "ExecuteTime": {
     "end_time": "2024-06-15T10:08:58.256929Z",
     "start_time": "2024-06-15T10:08:58.252579Z"
    }
   },
   "id": "cf121afe1d458a89",
   "execution_count": 16
  },
  {
   "cell_type": "code",
   "outputs": [
    {
     "name": "stderr",
     "output_type": "stream",
     "text": [
      "Generating counterfactual(s) for sample 19: 100%|██████████| 20/20 [00:17<00:00,  1.13it/s]\n"
     ]
    }
   ],
   "source": [
    "certifai_instance.fit(model, generations=100, verbose=True, final_k= 200, classification=False, experiment=True, distance='L2')"
   ],
   "metadata": {
    "collapsed": false,
    "ExecuteTime": {
     "end_time": "2024-06-15T10:12:55.475668Z",
     "start_time": "2024-06-15T10:12:37.710017Z"
    }
   },
   "id": "982c9a851412a458",
   "execution_count": 24
  },
  {
   "cell_type": "code",
   "outputs": [],
   "source": [
    "def save_certif_counterfactuals(certifai_instance_results, order_list):\n",
    "    certif_save_loc = 'Certif_cf'\n",
    "    features =['Age','Sex','Job','Housing','Saving accounts','Checking account','Credit amount','Duration','Purpose']\n",
    "    \n",
    "    for i in range(len(order_list)):\n",
    "        cf_list = certifai_instance_results[i][1]\n",
    "        \n",
    "        certif_df  = pd.DataFrame(data=cf_list, columns=features)\n",
    "        isExist = os.path.exists(certif_save_loc)\n",
    "        if not isExist:\n",
    "            os.makedirs(certif_save_loc)\n",
    "        certif_df.to_csv(certif_save_loc + \"/\" + order_list[i] + '.csv'  , index=False)\n",
    "    "
   ],
   "metadata": {
    "collapsed": false,
    "ExecuteTime": {
     "end_time": "2024-06-15T10:12:58.924639Z",
     "start_time": "2024-06-15T10:12:58.922683Z"
    }
   },
   "id": "f2b297da4f76b1f8",
   "execution_count": 25
  },
  {
   "cell_type": "code",
   "outputs": [],
   "source": [
    "save_certif_counterfactuals(certifai_instance.results, order_list)"
   ],
   "metadata": {
    "collapsed": false,
    "ExecuteTime": {
     "end_time": "2024-06-15T10:12:59.840423Z",
     "start_time": "2024-06-15T10:12:59.814037Z"
    }
   },
   "id": "9b9cd0d25d264060",
   "execution_count": 26
  },
  {
   "cell_type": "code",
   "outputs": [],
   "source": [],
   "metadata": {
    "collapsed": false
   },
   "id": "c94a56e424825c07"
  }
 ],
 "metadata": {
  "kernelspec": {
   "display_name": "Python 3",
   "language": "python",
   "name": "python3"
  },
  "language_info": {
   "codemirror_mode": {
    "name": "ipython",
    "version": 2
   },
   "file_extension": ".py",
   "mimetype": "text/x-python",
   "name": "python",
   "nbconvert_exporter": "python",
   "pygments_lexer": "ipython2",
   "version": "2.7.6"
  }
 },
 "nbformat": 4,
 "nbformat_minor": 5
}
