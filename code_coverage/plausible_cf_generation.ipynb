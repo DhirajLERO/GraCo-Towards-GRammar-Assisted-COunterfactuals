{
 "cells": [
  {
   "cell_type": "code",
   "execution_count": 71,
   "id": "initial_id",
   "metadata": {
    "collapsed": true,
    "ExecuteTime": {
     "end_time": "2024-07-14T19:00:49.210016Z",
     "start_time": "2024-07-14T19:00:49.206846Z"
    }
   },
   "outputs": [],
   "source": [
    "# 31 1 2 2 0 0 2302 36 5\n",
    "# 32 1 2 1 0 1 2273 36 3"
   ]
  },
  {
   "cell_type": "code",
   "outputs": [],
   "source": [
    "import pandas as pd\n",
    "import torch.nn as nn\n",
    "import torch\n",
    "\n",
    "import copy\n",
    "\n",
    "import numpy as np\n",
    "\n",
    "class RiskClassifier(nn.Module):\n",
    "    def __init__(self):\n",
    "        super().__init__()\n",
    "        self.hidden1 = nn.Linear(9, 16)\n",
    "        self.act1 = nn.ReLU()\n",
    "        self.hidden2 = nn.Linear(16, 32)\n",
    "        self.act2 = nn.ReLU()\n",
    "        self.hidden3 = nn.Linear(32, 64)\n",
    "        self.act3 = nn.ReLU()\n",
    "        self.output = nn.Linear(64, 1)\n",
    "        self.act_output = nn.Sigmoid()\n",
    "\n",
    "    def forward(self, x):\n",
    "        x = self.act1(self.hidden1(x))\n",
    "        x = self.act2(self.hidden2(x))\n",
    "        x = self.act3(self.hidden3(x))\n",
    "        x = self.act_output(self.output(x))\n",
    "        return x\n",
    "    \n",
    "    \n",
    "def load_model():\n",
    "    model = torch.load('model_training/credit_risk_model')\n",
    "    model.eval()\n",
    "    return model\n",
    "\n",
    "def eval_model(model, input):\n",
    "    # print(input)\n",
    "    with torch.no_grad():\n",
    "        prob = model(input)\n",
    "    return prob.tolist()[0]\n",
    "\n",
    "\n",
    "def load_data(data):\n",
    "    return np.load(data)\n",
    "\n"
   ],
   "metadata": {
    "collapsed": false,
    "ExecuteTime": {
     "end_time": "2024-07-14T19:00:49.484579Z",
     "start_time": "2024-07-14T19:00:49.481113Z"
    }
   },
   "id": "82db5070b12fc3fc",
   "execution_count": 72
  },
  {
   "cell_type": "code",
   "outputs": [],
   "source": [
    "data = pd.read_csv('output/NSGAIII_plausible/7/final_gen.csv')"
   ],
   "metadata": {
    "collapsed": false,
    "ExecuteTime": {
     "end_time": "2024-07-14T19:00:49.856855Z",
     "start_time": "2024-07-14T19:00:49.850943Z"
    }
   },
   "id": "9ee92e9ab4ee0761",
   "execution_count": 73
  },
  {
   "cell_type": "code",
   "outputs": [
    {
     "name": "stdout",
     "output_type": "stream",
     "text": [
      "[  31    1    2    2    0    0 2302   36    5]\n"
     ]
    }
   ],
   "source": [
    "input = load_data('output/NSGAIII_plausible/7/input_data.npy')\n",
    "model = load_model()\n",
    "print(input)"
   ],
   "metadata": {
    "collapsed": false,
    "ExecuteTime": {
     "end_time": "2024-07-14T19:00:50.372508Z",
     "start_time": "2024-07-14T19:00:50.366426Z"
    }
   },
   "id": "5d6763c3daabb54e",
   "execution_count": 74
  },
  {
   "cell_type": "code",
   "outputs": [
    {
     "name": "stdout",
     "output_type": "stream",
     "text": [
      "0.443714439868927\n"
     ]
    }
   ],
   "source": [
    "output = eval_model(model, torch.tensor(input, dtype=torch.float32))\n",
    "print(output)"
   ],
   "metadata": {
    "collapsed": false,
    "ExecuteTime": {
     "end_time": "2024-07-14T19:00:51.640921Z",
     "start_time": "2024-07-14T19:00:51.638189Z"
    }
   },
   "id": "56f2b92f76cf2839",
   "execution_count": 75
  },
  {
   "cell_type": "code",
   "outputs": [
    {
     "data": {
      "text/plain": "   Unnamed: 0                                          Phenotype  \\\n0           0  x[7] -= 6 ; x[6] *= 1.0 ; x[7] -= 8 ; x[7] -= ...   \n1           1                x[7] -= 8 ; x[6] += 500 ; x[7] += 4   \n2           2                              x[7] -= 7 ; x[7] -= 4   \n3           3  x[7] -= 6 ; x[6] *= 1.0 ; x[7] -= 8 ; x[7] -= ...   \n4           4  x[7] -= 6 ; x[7] -= 8 ; x[7] -= 7 ; x[6] += 0....   \n5           5                  x[7] -= 8 ; x[7] -= 8 ; x[2] += 1   \n6           6                        x[6] -= 1000 ; x[6] += 1000   \n7           7  x[7] -= 6 ; x[6] *= 1.0 ; x[7] -= 4 ; x[6] *= ...   \n8           8      x[7] -= 4 ; x[4] += 1 ; x[8] += 4 ; x[4] -= 4   \n9           9                            x[7] -= 9 ; x[6] *= 200   \n\n            o_1           o_2           o_3           o_4  \n0      0.365933      0.365933      0.365933      0.365933  \n1      0.506947      0.506947      0.506947      0.506947  \n2      0.466225      0.466225      0.466225      0.466225  \n3      0.365866      0.365866      0.365866      0.365866  \n4      0.307164      0.307164      0.307164      0.307164  \n5      0.418752      0.418752      0.418752      0.418752  \n6      0.556286      0.556286      0.556286      0.556286  \n7      0.497273      0.497273      0.497273      0.497273  \n8  10000.000000  10000.000000  10000.000000  10000.000000  \n9  10000.000000  10000.000000  10000.000000  10000.000000  ",
      "text/html": "<div>\n<style scoped>\n    .dataframe tbody tr th:only-of-type {\n        vertical-align: middle;\n    }\n\n    .dataframe tbody tr th {\n        vertical-align: top;\n    }\n\n    .dataframe thead th {\n        text-align: right;\n    }\n</style>\n<table border=\"1\" class=\"dataframe\">\n  <thead>\n    <tr style=\"text-align: right;\">\n      <th></th>\n      <th>Unnamed: 0</th>\n      <th>Phenotype</th>\n      <th>o_1</th>\n      <th>o_2</th>\n      <th>o_3</th>\n      <th>o_4</th>\n    </tr>\n  </thead>\n  <tbody>\n    <tr>\n      <th>0</th>\n      <td>0</td>\n      <td>x[7] -= 6 ; x[6] *= 1.0 ; x[7] -= 8 ; x[7] -= ...</td>\n      <td>0.365933</td>\n      <td>0.365933</td>\n      <td>0.365933</td>\n      <td>0.365933</td>\n    </tr>\n    <tr>\n      <th>1</th>\n      <td>1</td>\n      <td>x[7] -= 8 ; x[6] += 500 ; x[7] += 4</td>\n      <td>0.506947</td>\n      <td>0.506947</td>\n      <td>0.506947</td>\n      <td>0.506947</td>\n    </tr>\n    <tr>\n      <th>2</th>\n      <td>2</td>\n      <td>x[7] -= 7 ; x[7] -= 4</td>\n      <td>0.466225</td>\n      <td>0.466225</td>\n      <td>0.466225</td>\n      <td>0.466225</td>\n    </tr>\n    <tr>\n      <th>3</th>\n      <td>3</td>\n      <td>x[7] -= 6 ; x[6] *= 1.0 ; x[7] -= 8 ; x[7] -= ...</td>\n      <td>0.365866</td>\n      <td>0.365866</td>\n      <td>0.365866</td>\n      <td>0.365866</td>\n    </tr>\n    <tr>\n      <th>4</th>\n      <td>4</td>\n      <td>x[7] -= 6 ; x[7] -= 8 ; x[7] -= 7 ; x[6] += 0....</td>\n      <td>0.307164</td>\n      <td>0.307164</td>\n      <td>0.307164</td>\n      <td>0.307164</td>\n    </tr>\n    <tr>\n      <th>5</th>\n      <td>5</td>\n      <td>x[7] -= 8 ; x[7] -= 8 ; x[2] += 1</td>\n      <td>0.418752</td>\n      <td>0.418752</td>\n      <td>0.418752</td>\n      <td>0.418752</td>\n    </tr>\n    <tr>\n      <th>6</th>\n      <td>6</td>\n      <td>x[6] -= 1000 ; x[6] += 1000</td>\n      <td>0.556286</td>\n      <td>0.556286</td>\n      <td>0.556286</td>\n      <td>0.556286</td>\n    </tr>\n    <tr>\n      <th>7</th>\n      <td>7</td>\n      <td>x[7] -= 6 ; x[6] *= 1.0 ; x[7] -= 4 ; x[6] *= ...</td>\n      <td>0.497273</td>\n      <td>0.497273</td>\n      <td>0.497273</td>\n      <td>0.497273</td>\n    </tr>\n    <tr>\n      <th>8</th>\n      <td>8</td>\n      <td>x[7] -= 4 ; x[4] += 1 ; x[8] += 4 ; x[4] -= 4</td>\n      <td>10000.000000</td>\n      <td>10000.000000</td>\n      <td>10000.000000</td>\n      <td>10000.000000</td>\n    </tr>\n    <tr>\n      <th>9</th>\n      <td>9</td>\n      <td>x[7] -= 9 ; x[6] *= 200</td>\n      <td>10000.000000</td>\n      <td>10000.000000</td>\n      <td>10000.000000</td>\n      <td>10000.000000</td>\n    </tr>\n  </tbody>\n</table>\n</div>"
     },
     "execution_count": 76,
     "metadata": {},
     "output_type": "execute_result"
    }
   ],
   "source": [
    "data.head(10)"
   ],
   "metadata": {
    "collapsed": false,
    "ExecuteTime": {
     "end_time": "2024-07-14T19:01:08.814277Z",
     "start_time": "2024-07-14T19:01:08.809874Z"
    }
   },
   "id": "23162d34db4e9cf2",
   "execution_count": 76
  },
  {
   "cell_type": "code",
   "outputs": [
    {
     "data": {
      "text/plain": "(26, 6)"
     },
     "execution_count": 77,
     "metadata": {},
     "output_type": "execute_result"
    }
   ],
   "source": [
    "data = data.sort_values(by=['o_1'])\n",
    "data = data[data['o_1'] < 0.45]\n",
    "data.shape"
   ],
   "metadata": {
    "collapsed": false,
    "ExecuteTime": {
     "end_time": "2024-07-14T19:01:26.735940Z",
     "start_time": "2024-07-14T19:01:26.732956Z"
    }
   },
   "id": "e7e20640dcc585d9",
   "execution_count": 77
  },
  {
   "cell_type": "code",
   "outputs": [
    {
     "data": {
      "text/plain": "     Unnamed: 0                                          Phenotype       o_1  \\\n455         455  x[7] -= 8 ; x[4] += 1 ; x[7] -= 7 ; x[2] += 1 ...  0.240118   \n16           16  x[7] -= 8 ; x[4] += 1 ; x[7] -= 7 ; x[7] += 1 ...  0.250756   \n92           92  x[7] -= 6 ; x[7] -= 6 ; x[2] += 1 ; x[7] -= 9 ...  0.263476   \n31           31  x[7] -= 8 ; x[4] += 1 ; x[7] -= 7 ; x[2] += 1 ...  0.267581   \n4             4  x[7] -= 6 ; x[7] -= 8 ; x[7] -= 7 ; x[6] += 0....  0.307164   \n260         260      x[7] -= 7 ; x[7] -= 4 ; x[7] -= 7 ; x[7] -= 9  0.323427   \n10           10  x[7] -= 4 ; x[7] -= 1 ; x[7] -= 6 ; x[2] += 1 ...  0.358287   \n3             3  x[7] -= 6 ; x[6] *= 1.0 ; x[7] -= 8 ; x[7] -= ...  0.365866   \n0             0  x[7] -= 6 ; x[6] *= 1.0 ; x[7] -= 8 ; x[7] -= ...  0.365933   \n17           17    x[7] -= 6 ; x[7] -= 8 ; x[7] -= 7 ; x[6] += 0.3  0.374717   \n164         164                              x[7] -= 8 ; x[7] -= 9  0.410635   \n15           15                              x[7] -= 8 ; x[7] -= 9  0.410635   \n23           23                x[7] -= 8 ; x[7] -= 7 ; x[6] += 500  0.411311   \n5             5                  x[7] -= 8 ; x[7] -= 8 ; x[2] += 1  0.418752   \n73           73                              x[7] -= 8 ; x[7] -= 8  0.419782   \n74           74                x[7] -= 6 ; x[7] -= 9 ; x[6] += 1.2  0.428948   \n18           18                x[7] -= 8 ; x[7] -= 7 ; x[6] += 0.4  0.428984   \n58           58    x[7] -= 6 ; x[7] -= 4 ; x[7] -= 4 ; x[6] += 1.3  0.438200   \n52           52                              x[7] -= 7 ; x[7] -= 7  0.438236   \n154         154                              x[7] -= 9 ; x[7] -= 5  0.438236   \n62           62  x[6] += 0.4 ; x[7] -= 8 ; x[6] += 0.6 ; x[7] -= 5  0.447531   \n64           64  x[7] -= 8 ; x[4] += 1 ; x[7] -= 4 ; x[6] += 0....  0.447531   \n22           22                              x[7] -= 4 ; x[7] -= 9  0.447531   \n54           54                           x[7] -= 9 ; x[6] += 1000  0.448913   \n79           79             x[7] -= 9 ; x[6] += 1000 ; x[6] -= 0.6  0.448950   \n39           39  x[7] -= 9 ; x[7] -= 4 ; x[6] += 1.2 ; x[7] += ...  0.449599   \n\n          o_2       o_3       o_4  \n455  0.240118  0.240118  0.240118  \n16   0.250756  0.250756  0.250756  \n92   0.263476  0.263476  0.263476  \n31   0.267581  0.267581  0.267581  \n4    0.307164  0.307164  0.307164  \n260  0.323427  0.323427  0.323427  \n10   0.358287  0.358287  0.358287  \n3    0.365866  0.365866  0.365866  \n0    0.365933  0.365933  0.365933  \n17   0.374717  0.374717  0.374717  \n164  0.410635  0.410635  0.410635  \n15   0.410635  0.410635  0.410635  \n23   0.411311  0.411311  0.411311  \n5    0.418752  0.418752  0.418752  \n73   0.419782  0.419782  0.419782  \n74   0.428948  0.428948  0.428948  \n18   0.428984  0.428984  0.428984  \n58   0.438200  0.438200  0.438200  \n52   0.438236  0.438236  0.438236  \n154  0.438236  0.438236  0.438236  \n62   0.447531  0.447531  0.447531  \n64   0.447531  0.447531  0.447531  \n22   0.447531  0.447531  0.447531  \n54   0.448913  0.448913  0.448913  \n79   0.448950  0.448950  0.448950  \n39   0.449599  0.449599  0.449599  ",
      "text/html": "<div>\n<style scoped>\n    .dataframe tbody tr th:only-of-type {\n        vertical-align: middle;\n    }\n\n    .dataframe tbody tr th {\n        vertical-align: top;\n    }\n\n    .dataframe thead th {\n        text-align: right;\n    }\n</style>\n<table border=\"1\" class=\"dataframe\">\n  <thead>\n    <tr style=\"text-align: right;\">\n      <th></th>\n      <th>Unnamed: 0</th>\n      <th>Phenotype</th>\n      <th>o_1</th>\n      <th>o_2</th>\n      <th>o_3</th>\n      <th>o_4</th>\n    </tr>\n  </thead>\n  <tbody>\n    <tr>\n      <th>455</th>\n      <td>455</td>\n      <td>x[7] -= 8 ; x[4] += 1 ; x[7] -= 7 ; x[2] += 1 ...</td>\n      <td>0.240118</td>\n      <td>0.240118</td>\n      <td>0.240118</td>\n      <td>0.240118</td>\n    </tr>\n    <tr>\n      <th>16</th>\n      <td>16</td>\n      <td>x[7] -= 8 ; x[4] += 1 ; x[7] -= 7 ; x[7] += 1 ...</td>\n      <td>0.250756</td>\n      <td>0.250756</td>\n      <td>0.250756</td>\n      <td>0.250756</td>\n    </tr>\n    <tr>\n      <th>92</th>\n      <td>92</td>\n      <td>x[7] -= 6 ; x[7] -= 6 ; x[2] += 1 ; x[7] -= 9 ...</td>\n      <td>0.263476</td>\n      <td>0.263476</td>\n      <td>0.263476</td>\n      <td>0.263476</td>\n    </tr>\n    <tr>\n      <th>31</th>\n      <td>31</td>\n      <td>x[7] -= 8 ; x[4] += 1 ; x[7] -= 7 ; x[2] += 1 ...</td>\n      <td>0.267581</td>\n      <td>0.267581</td>\n      <td>0.267581</td>\n      <td>0.267581</td>\n    </tr>\n    <tr>\n      <th>4</th>\n      <td>4</td>\n      <td>x[7] -= 6 ; x[7] -= 8 ; x[7] -= 7 ; x[6] += 0....</td>\n      <td>0.307164</td>\n      <td>0.307164</td>\n      <td>0.307164</td>\n      <td>0.307164</td>\n    </tr>\n    <tr>\n      <th>260</th>\n      <td>260</td>\n      <td>x[7] -= 7 ; x[7] -= 4 ; x[7] -= 7 ; x[7] -= 9</td>\n      <td>0.323427</td>\n      <td>0.323427</td>\n      <td>0.323427</td>\n      <td>0.323427</td>\n    </tr>\n    <tr>\n      <th>10</th>\n      <td>10</td>\n      <td>x[7] -= 4 ; x[7] -= 1 ; x[7] -= 6 ; x[2] += 1 ...</td>\n      <td>0.358287</td>\n      <td>0.358287</td>\n      <td>0.358287</td>\n      <td>0.358287</td>\n    </tr>\n    <tr>\n      <th>3</th>\n      <td>3</td>\n      <td>x[7] -= 6 ; x[6] *= 1.0 ; x[7] -= 8 ; x[7] -= ...</td>\n      <td>0.365866</td>\n      <td>0.365866</td>\n      <td>0.365866</td>\n      <td>0.365866</td>\n    </tr>\n    <tr>\n      <th>0</th>\n      <td>0</td>\n      <td>x[7] -= 6 ; x[6] *= 1.0 ; x[7] -= 8 ; x[7] -= ...</td>\n      <td>0.365933</td>\n      <td>0.365933</td>\n      <td>0.365933</td>\n      <td>0.365933</td>\n    </tr>\n    <tr>\n      <th>17</th>\n      <td>17</td>\n      <td>x[7] -= 6 ; x[7] -= 8 ; x[7] -= 7 ; x[6] += 0.3</td>\n      <td>0.374717</td>\n      <td>0.374717</td>\n      <td>0.374717</td>\n      <td>0.374717</td>\n    </tr>\n    <tr>\n      <th>164</th>\n      <td>164</td>\n      <td>x[7] -= 8 ; x[7] -= 9</td>\n      <td>0.410635</td>\n      <td>0.410635</td>\n      <td>0.410635</td>\n      <td>0.410635</td>\n    </tr>\n    <tr>\n      <th>15</th>\n      <td>15</td>\n      <td>x[7] -= 8 ; x[7] -= 9</td>\n      <td>0.410635</td>\n      <td>0.410635</td>\n      <td>0.410635</td>\n      <td>0.410635</td>\n    </tr>\n    <tr>\n      <th>23</th>\n      <td>23</td>\n      <td>x[7] -= 8 ; x[7] -= 7 ; x[6] += 500</td>\n      <td>0.411311</td>\n      <td>0.411311</td>\n      <td>0.411311</td>\n      <td>0.411311</td>\n    </tr>\n    <tr>\n      <th>5</th>\n      <td>5</td>\n      <td>x[7] -= 8 ; x[7] -= 8 ; x[2] += 1</td>\n      <td>0.418752</td>\n      <td>0.418752</td>\n      <td>0.418752</td>\n      <td>0.418752</td>\n    </tr>\n    <tr>\n      <th>73</th>\n      <td>73</td>\n      <td>x[7] -= 8 ; x[7] -= 8</td>\n      <td>0.419782</td>\n      <td>0.419782</td>\n      <td>0.419782</td>\n      <td>0.419782</td>\n    </tr>\n    <tr>\n      <th>74</th>\n      <td>74</td>\n      <td>x[7] -= 6 ; x[7] -= 9 ; x[6] += 1.2</td>\n      <td>0.428948</td>\n      <td>0.428948</td>\n      <td>0.428948</td>\n      <td>0.428948</td>\n    </tr>\n    <tr>\n      <th>18</th>\n      <td>18</td>\n      <td>x[7] -= 8 ; x[7] -= 7 ; x[6] += 0.4</td>\n      <td>0.428984</td>\n      <td>0.428984</td>\n      <td>0.428984</td>\n      <td>0.428984</td>\n    </tr>\n    <tr>\n      <th>58</th>\n      <td>58</td>\n      <td>x[7] -= 6 ; x[7] -= 4 ; x[7] -= 4 ; x[6] += 1.3</td>\n      <td>0.438200</td>\n      <td>0.438200</td>\n      <td>0.438200</td>\n      <td>0.438200</td>\n    </tr>\n    <tr>\n      <th>52</th>\n      <td>52</td>\n      <td>x[7] -= 7 ; x[7] -= 7</td>\n      <td>0.438236</td>\n      <td>0.438236</td>\n      <td>0.438236</td>\n      <td>0.438236</td>\n    </tr>\n    <tr>\n      <th>154</th>\n      <td>154</td>\n      <td>x[7] -= 9 ; x[7] -= 5</td>\n      <td>0.438236</td>\n      <td>0.438236</td>\n      <td>0.438236</td>\n      <td>0.438236</td>\n    </tr>\n    <tr>\n      <th>62</th>\n      <td>62</td>\n      <td>x[6] += 0.4 ; x[7] -= 8 ; x[6] += 0.6 ; x[7] -= 5</td>\n      <td>0.447531</td>\n      <td>0.447531</td>\n      <td>0.447531</td>\n      <td>0.447531</td>\n    </tr>\n    <tr>\n      <th>64</th>\n      <td>64</td>\n      <td>x[7] -= 8 ; x[4] += 1 ; x[7] -= 4 ; x[6] += 0....</td>\n      <td>0.447531</td>\n      <td>0.447531</td>\n      <td>0.447531</td>\n      <td>0.447531</td>\n    </tr>\n    <tr>\n      <th>22</th>\n      <td>22</td>\n      <td>x[7] -= 4 ; x[7] -= 9</td>\n      <td>0.447531</td>\n      <td>0.447531</td>\n      <td>0.447531</td>\n      <td>0.447531</td>\n    </tr>\n    <tr>\n      <th>54</th>\n      <td>54</td>\n      <td>x[7] -= 9 ; x[6] += 1000</td>\n      <td>0.448913</td>\n      <td>0.448913</td>\n      <td>0.448913</td>\n      <td>0.448913</td>\n    </tr>\n    <tr>\n      <th>79</th>\n      <td>79</td>\n      <td>x[7] -= 9 ; x[6] += 1000 ; x[6] -= 0.6</td>\n      <td>0.448950</td>\n      <td>0.448950</td>\n      <td>0.448950</td>\n      <td>0.448950</td>\n    </tr>\n    <tr>\n      <th>39</th>\n      <td>39</td>\n      <td>x[7] -= 9 ; x[7] -= 4 ; x[6] += 1.2 ; x[7] += ...</td>\n      <td>0.449599</td>\n      <td>0.449599</td>\n      <td>0.449599</td>\n      <td>0.449599</td>\n    </tr>\n  </tbody>\n</table>\n</div>"
     },
     "execution_count": 78,
     "metadata": {},
     "output_type": "execute_result"
    }
   ],
   "source": [
    "data"
   ],
   "metadata": {
    "collapsed": false,
    "ExecuteTime": {
     "end_time": "2024-07-14T19:01:28.135357Z",
     "start_time": "2024-07-14T19:01:28.130294Z"
    }
   },
   "id": "144e6a59c8623003",
   "execution_count": 78
  },
  {
   "cell_type": "code",
   "outputs": [
    {
     "name": "stdout",
     "output_type": "stream",
     "text": [
      "x[7] -= 8 ; x[4] += 1 ; x[7] -= 7 ; x[2] += 1 ; x[7] -= 9 ; x[7] -= 9 ; x[6] += 1000 ; x[6] += 0.9 ; x[6] += 1.2 ; x[6] -= 1000\n",
      "[  31    1    3    2    1    0 2303    3    5]\n"
     ]
    }
   ],
   "source": [
    "def apply_phenotype(array, phenotype):\n",
    "    # Split the phenotype string into individual operations\n",
    "    operations = phenotype.split(';')\n",
    "    x = copy.deepcopy(array)\n",
    "    # Iterate over each operation and execute it\n",
    "    for operation in operations:\n",
    "        # Strip any leading/trailing whitespace from the operation\n",
    "        operation = operation.strip()\n",
    "        \n",
    "        # Use the exec function to execute the operation on the array\n",
    "        if operation:\n",
    "            exec(operation)\n",
    "\n",
    "    return x\n",
    "\n",
    "\n",
    "print(data['Phenotype'][31])\n",
    "input_evolved = apply_phenotype(input, data['Phenotype'][31])\n",
    "print(input_evolved)"
   ],
   "metadata": {
    "collapsed": false,
    "ExecuteTime": {
     "end_time": "2024-07-14T19:03:45.810760Z",
     "start_time": "2024-07-14T19:03:45.808272Z"
    }
   },
   "id": "506f22e4b8b530b2",
   "execution_count": 83
  },
  {
   "cell_type": "code",
   "outputs": [
    {
     "name": "stdout",
     "output_type": "stream",
     "text": [
      "0.7324192523956299\n"
     ]
    }
   ],
   "source": [
    "output = eval_model(model, torch.tensor(input_evolved, dtype=torch.float32))\n",
    "print(output)"
   ],
   "metadata": {
    "collapsed": false,
    "ExecuteTime": {
     "end_time": "2024-07-14T19:03:47.570473Z",
     "start_time": "2024-07-14T19:03:47.565639Z"
    }
   },
   "id": "6079fe78bddc462c",
   "execution_count": 84
  },
  {
   "cell_type": "code",
   "outputs": [],
   "source": [],
   "metadata": {
    "collapsed": false
   },
   "id": "ddf87f5c65eeb706"
  }
 ],
 "metadata": {
  "kernelspec": {
   "display_name": "Python 3",
   "language": "python",
   "name": "python3"
  },
  "language_info": {
   "codemirror_mode": {
    "name": "ipython",
    "version": 2
   },
   "file_extension": ".py",
   "mimetype": "text/x-python",
   "name": "python",
   "nbconvert_exporter": "python",
   "pygments_lexer": "ipython2",
   "version": "2.7.6"
  }
 },
 "nbformat": 4,
 "nbformat_minor": 5
}
