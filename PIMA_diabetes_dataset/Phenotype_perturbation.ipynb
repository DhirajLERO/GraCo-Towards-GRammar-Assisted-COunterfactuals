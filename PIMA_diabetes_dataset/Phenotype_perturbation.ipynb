{
 "cells": [
  {
   "cell_type": "code",
   "execution_count": 65,
   "id": "initial_id",
   "metadata": {
    "collapsed": true,
    "ExecuteTime": {
     "end_time": "2024-06-17T15:12:51.987403Z",
     "start_time": "2024-06-17T15:12:51.979626Z"
    }
   },
   "outputs": [],
   "source": [
    "import pandas as pd\n",
    "\n",
    "import torch.nn as nn\n",
    "import torch\n",
    "\n",
    "import copy\n",
    "import re\n",
    "import networkx as nx\n",
    "import matplotlib.pyplot as plt\n",
    "\n",
    "import plotly.graph_objects as go\n",
    "import os\n",
    "import numpy as np\n",
    "\n",
    "import seaborn as sns"
   ]
  },
  {
   "cell_type": "code",
   "outputs": [],
   "source": [
    "class PimaClassifier(nn.Module):\n",
    "    def __init__(self):\n",
    "        super().__init__()\n",
    "        self.hidden1 = nn.Linear(8, 32)\n",
    "        self.act1 = nn.ReLU()\n",
    "        self.hidden2 = nn.Linear(32, 64)\n",
    "        self.act2 = nn.ReLU()\n",
    "        self.hidden3 = nn.Linear(64, 16)\n",
    "        self.act3 = nn.ReLU()\n",
    "        self.output = nn.Linear(16, 1)\n",
    "        self.act_output = nn.Sigmoid()\n",
    "\n",
    "    def forward(self, x):\n",
    "        x = self.act1(self.hidden1(x))\n",
    "        x = self.act2(self.hidden2(x))\n",
    "        x = self.act3(self.hidden3(x))\n",
    "        x = self.act_output(self.output(x))\n",
    "        return x\n",
    "    \n",
    "    \n",
    "def load_model():\n",
    "    model = torch.load('model_training/model')\n",
    "    model.eval()\n",
    "    return model\n",
    "\n",
    "def eval_model(model, input):\n",
    "    # print(input)\n",
    "    with torch.no_grad():\n",
    "        prob = model(input)\n",
    "    return prob.tolist()[0]\n",
    "\n",
    "\n",
    "def load_data(data):\n",
    "    return np.load(data)\n",
    "\n",
    "def apply_phenotype(array, phenotype):\n",
    "    # Split the phenotype string into individual operations\n",
    "    operations = phenotype.split(';')\n",
    "    x = copy.deepcopy(array)\n",
    "    # Iterate over each operation and execute it\n",
    "    for operation in operations:\n",
    "        # Strip any leading/trailing whitespace from the operation\n",
    "        operation = operation.strip()\n",
    "        \n",
    "        # Use the exec function to execute the operation on the array\n",
    "        if operation:\n",
    "            exec(operation)\n",
    "\n",
    "    return x\n",
    "\n",
    "def combine_operations(phenotype, original_input):\n",
    "    combined_operations = []\n",
    "    processed_input = apply_phenotype(original_input, phenotype)\n",
    "    change =  processed_input - original_input\n",
    "    \n",
    "    # print(change)\n",
    "    for i, j  in enumerate(change):\n",
    "        if j == 0:\n",
    "            continue\n",
    "        else:\n",
    "            if j > 0:\n",
    "                combined_operations.append(f'x[{i}] += {j}')\n",
    "            else:\n",
    "                combined_operations.append(f'x[{i}] -= {-j}')\n",
    "                \n",
    "    return '; '.join(combined_operations)\n",
    "\n",
    "def permute_phenotype(phenotype):\n",
    "    \n",
    "    split_phenotype = [i.strip() for i in phenotype.split(\";\")]\n",
    "    if len(split_phenotype) == 1:\n",
    "        return None\n",
    "    permute_dict = {}\n",
    "    for i, j in enumerate(split_phenotype):\n",
    "        split_phenotype_copy = copy.deepcopy(split_phenotype)\n",
    "        key_string = split_phenotype_copy.pop(i)\n",
    "        key = key_string.split(\" \")[0][2]\n",
    "        permute_dict[key] = '; '.join(split_phenotype_copy)\n",
    "    return permute_dict\n",
    "\n",
    "\n",
    "def eval_phenotype(model, input):\n",
    "    with torch.no_grad():\n",
    "        prob = model(input)\n",
    "        # print(prob.tolist()[0])\n",
    "    if prob.tolist()[0] > 0.5:\n",
    "        return 1\n",
    "    else:\n",
    "        return 0\n",
    "\n",
    "\n",
    "def perturbation_effect(phenotype_list, model, input, features_index):\n",
    "    \"\"\"\n",
    "    number of failure signifies that how many times  after removing the feature, the\n",
    "    phenotype still worked \n",
    "    \"\"\"\n",
    "    \n",
    "    num_failure = {str(i) : 0 for i in range(features_index)}\n",
    "    total = {str(i) : 0 for i in range(features_index)}\n",
    "    for phenotype in phenotype_list:\n",
    "        modified_input  = apply_phenotype(input, phenotype)\n",
    "        phenotype_output_model = eval_model(model, torch.tensor(modified_input, dtype=torch.float32))\n",
    "        if phenotype_output_model < 0.5:\n",
    "            continue\n",
    "        permute_dict = permute_phenotype(phenotype)\n",
    "        if permute_dict is not None:\n",
    "            # print(permute_dict)\n",
    "            for key, value in permute_dict.items():\n",
    "                input_evolved =  apply_phenotype(input, value)\n",
    "                total[key] += 1\n",
    "                num_failure[key] += eval_phenotype(model, torch.tensor(input_evolved, dtype=torch.float32))\n",
    "    return num_failure, total\n",
    "                \n",
    "\n",
    "def phenotype_perturbation_analysis(input_folder, features, model, features_index=8):\n",
    "    permutation_result = {}\n",
    "    for i in os.listdir(input_folder):\n",
    "        if i=='.DS_Store':\n",
    "            continue\n",
    "        filename = input_folder + '/' + i + '/' \"final_gen.csv\"\n",
    "        input_array_location = input_folder + '/' + i + '/' + 'input_data.npy'\n",
    "        input = load_data(input_array_location)\n",
    "        model_out = eval_model(model, torch.tensor(input, dtype=torch.float32))\n",
    "        data = pd.read_csv(filename)\n",
    "        data = data.sort_values(by=['o_1'])\n",
    "        # data = data[data['o_1'] < 0.45]\n",
    "        data['combined_phenotype'] = data.apply(lambda row: combine_operations(row['Phenotype'], input), axis=1)\n",
    "        num_failure, total = perturbation_effect(list(data['combined_phenotype']), model, input, features_index)\n",
    "        permutation_result[i] = (num_failure, total)\n",
    "    return permutation_result\n",
    "        \n"
   ],
   "metadata": {
    "collapsed": false,
    "ExecuteTime": {
     "end_time": "2024-06-17T15:19:22.374417Z",
     "start_time": "2024-06-17T15:19:22.369875Z"
    }
   },
   "id": "7a950377a8960261",
   "execution_count": 84
  },
  {
   "cell_type": "code",
   "outputs": [],
   "source": [
    "model = load_model()\n",
    "input_folder = 'output/NSGAIII'\n",
    "features = [\"Pregnancies\",'Glucose','Blood Pressure','Skin Thickness','Insulin', 'BMI', 'DiabetesPedigreeFunction','Age']\n",
    "permutation_result = phenotype_perturbation_analysis(input_folder, features, model, features_index=8)"
   ],
   "metadata": {
    "collapsed": false,
    "ExecuteTime": {
     "end_time": "2024-06-17T15:19:24.162816Z",
     "start_time": "2024-06-17T15:19:23.384104Z"
    }
   },
   "id": "7adbeb9577ad29ac",
   "execution_count": 85
  },
  {
   "cell_type": "code",
   "outputs": [],
   "source": [
    "def plot_bar_graph(data_dict, title=\"Bar Graph\", xlabel=\"Labels\", ylabel=\"Values\"):\n",
    "    \n",
    "    labels = list(data_dict.keys())\n",
    "    values = list(data_dict.values())\n",
    "    \n",
    "    plt.figure(figsize=(8, 6))\n",
    "    plt.bar(labels, values, color='skyblue', width=0.4)\n",
    "    \n",
    "    plt.title(title)\n",
    "    plt.xlabel(xlabel)\n",
    "    plt.ylabel(ylabel)\n",
    "    \n",
    "    plt.xticks(rotation=45)\n",
    "    plt.tight_layout()\n",
    "    plt.show()\n",
    "\n",
    "\n",
    "def add_dict_values(dict1, dict2):\n",
    "    if dict1.keys() != dict2.keys():\n",
    "        raise ValueError(\"Both dictionaries must have the same keys\")\n",
    "\n",
    "    result_dict = {}\n",
    "\n",
    "    for key in dict1:\n",
    "        result_dict[key] = dict1[key] + dict2[key]\n",
    "\n",
    "    return result_dict\n",
    "\n",
    "\n",
    "success_dict = {str(i) : 0 for i in range(8)}\n",
    "total_dict = {str(i) : 0 for i in range(8)}\n",
    "for key, value in permutation_result.items():\n",
    "    success_dict  =  add_dict_values(success_dict, value[0])\n",
    "    total_dict  =  add_dict_values(total_dict, value[1])"
   ],
   "metadata": {
    "collapsed": false,
    "ExecuteTime": {
     "end_time": "2024-06-17T15:39:34.153768Z",
     "start_time": "2024-06-17T15:39:34.150797Z"
    }
   },
   "id": "1c7152f3d74c2000",
   "execution_count": 100
  },
  {
   "cell_type": "code",
   "outputs": [
    {
     "data": {
      "text/plain": "({'0': 304,\n  '1': 219,\n  '2': 171,\n  '3': 123,\n  '4': 91,\n  '5': 104,\n  '6': 139,\n  '7': 168},\n {'0': 347,\n  '1': 417,\n  '2': 527,\n  '3': 170,\n  '4': 128,\n  '5': 132,\n  '6': 142,\n  '7': 705})"
     },
     "execution_count": 97,
     "metadata": {},
     "output_type": "execute_result"
    }
   ],
   "source": [
    "success_dict, total_dict"
   ],
   "metadata": {
    "collapsed": false,
    "ExecuteTime": {
     "end_time": "2024-06-17T15:31:51.762851Z",
     "start_time": "2024-06-17T15:31:51.759943Z"
    }
   },
   "id": "9319b78b793149d4",
   "execution_count": 97
  },
  {
   "cell_type": "code",
   "outputs": [
    {
     "data": {
      "text/plain": "({'0': 12.391930835734868,\n  '1': 47.48201438848921,\n  '2': 67.55218216318787,\n  '3': 27.64705882352942,\n  '4': 28.90625,\n  '5': 21.212121212121218,\n  '6': 2.1126760563380316,\n  '7': 76.17021276595744},\n {'Pregnancies': 12.391930835734868,\n  'Glucose': 47.48201438848921,\n  'Blood Pressure': 67.55218216318787,\n  'Skin Thickness': 27.64705882352942,\n  'Insulin': 28.90625,\n  'BMI': 21.212121212121218,\n  'DiabetesPedigreeFunction': 2.1126760563380316,\n  'Age': 76.17021276595744})"
     },
     "execution_count": 103,
     "metadata": {},
     "output_type": "execute_result"
    }
   ],
   "source": [
    "# percentage time the counterfactual fails if the feature change is removed.\n",
    "features = [\"Pregnancies\",'Glucose','Blood Pressure','Skin Thickness','Insulin', 'BMI', 'DiabetesPedigreeFunction','Age']\n",
    "percentage_dict = {}\n",
    "percentage_dict_with_features = {}\n",
    "for key, value in total_dict.items():\n",
    "    percentage_dict[key] = 100 - success_dict[key]/total_dict[key] * 100\n",
    "    percentage_dict_with_features[features[int(key)]] = 100 - success_dict[key]/total_dict[key] * 100\n",
    "percentage_dict, percentage_dict_with_features"
   ],
   "metadata": {
    "collapsed": false,
    "ExecuteTime": {
     "end_time": "2024-06-17T16:02:29.927136Z",
     "start_time": "2024-06-17T16:02:29.923982Z"
    }
   },
   "id": "312358a4b5861b16",
   "execution_count": 103
  },
  {
   "cell_type": "code",
   "outputs": [
    {
     "data": {
      "text/plain": "<Figure size 800x600 with 1 Axes>",
      "image/png": "[encoded data removed]"
     },
     "metadata": {},
     "output_type": "display_data"
    }
   ],
   "source": [
    "plot_bar_graph(percentage_dict_with_features, title=\"Percentage of CF failure if the feature is removed from phenotype\", xlabel=\"Features\", ylabel=\"Percentage\")"
   ],
   "metadata": {
    "collapsed": false,
    "ExecuteTime": {
     "end_time": "2024-06-17T16:02:35.144961Z",
     "start_time": "2024-06-17T16:02:35.058573Z"
    }
   },
   "id": "48dedeef7261d8ea",
   "execution_count": 104
  },
  {
   "cell_type": "code",
   "outputs": [],
   "source": [],
   "metadata": {
    "collapsed": false
   },
   "id": "c66605bdb74b45b9"
  }
 ],
 "metadata": {
  "kernelspec": {
   "display_name": "Python 3",
   "language": "python",
   "name": "python3"
  },
  "language_info": {
   "codemirror_mode": {
    "name": "ipython",
    "version": 2
   },
   "file_extension": ".py",
   "mimetype": "text/x-python",
   "name": "python",
   "nbconvert_exporter": "python",
   "pygments_lexer": "ipython2",
   "version": "2.7.6"
  }
 },
 "nbformat": 4,
 "nbformat_minor": 5
}
