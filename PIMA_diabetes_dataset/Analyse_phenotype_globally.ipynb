{
 "cells": [
  {
   "cell_type": "code",
   "execution_count": 10,
   "id": "initial_id",
   "metadata": {
    "collapsed": true,
    "ExecuteTime": {
     "end_time": "2024-06-25T11:40:13.002654Z",
     "start_time": "2024-06-25T11:40:12.996338Z"
    }
   },
   "outputs": [],
   "source": [
    "import pandas as pd\n",
    "\n",
    "import torch.nn as nn\n",
    "import torch\n",
    "\n",
    "import copy\n",
    "import re\n",
    "import networkx as nx\n",
    "import matplotlib.pyplot as plt\n",
    "\n",
    "import plotly.graph_objects as go\n",
    "import os\n",
    "import numpy as np\n",
    "\n",
    "import seaborn as sns"
   ]
  },
  {
   "cell_type": "code",
   "outputs": [],
   "source": [
    "class PimaClassifier(nn.Module):\n",
    "    def __init__(self):\n",
    "        super().__init__()\n",
    "        self.hidden1 = nn.Linear(8, 32)\n",
    "        self.act1 = nn.ReLU()\n",
    "        self.hidden2 = nn.Linear(32, 64)\n",
    "        self.act2 = nn.ReLU()\n",
    "        self.hidden3 = nn.Linear(64, 16)\n",
    "        self.act3 = nn.ReLU()\n",
    "        self.output = nn.Linear(16, 1)\n",
    "        self.act_output = nn.Sigmoid()\n",
    "\n",
    "    def forward(self, x):\n",
    "        x = self.act1(self.hidden1(x))\n",
    "        x = self.act2(self.hidden2(x))\n",
    "        x = self.act3(self.hidden3(x))\n",
    "        x = self.act_output(self.output(x))\n",
    "        return x\n",
    "    \n",
    "    \n",
    "def load_model():\n",
    "    model = torch.load('model_training/model')\n",
    "    model.eval()\n",
    "    return model\n",
    "\n",
    "def eval_model(model, input):\n",
    "    # print(input)\n",
    "    with torch.no_grad():\n",
    "        prob = model(input)\n",
    "    return prob.tolist()[0]\n",
    "\n",
    "\n",
    "def load_data(data):\n",
    "    return np.load(data)\n",
    "\n",
    "def apply_phenotype(array, phenotype):\n",
    "    # Split the phenotype string into individual operations\n",
    "    operations = phenotype.split(';')\n",
    "    x = copy.deepcopy(array)\n",
    "    # Iterate over each operation and execute it\n",
    "    for operation in operations:\n",
    "        # Strip any leading/trailing whitespace from the operation\n",
    "        operation = operation.strip()\n",
    "        \n",
    "        # Use the exec function to execute the operation on the array\n",
    "        if operation:\n",
    "            exec(operation)\n",
    "\n",
    "    return x\n",
    "\n",
    "def combine_operations(phenotype, original_input):\n",
    "    combined_operations = []\n",
    "    processed_input = apply_phenotype(original_input, phenotype)\n",
    "    change =  processed_input - original_input\n",
    "    \n",
    "    # print(change)\n",
    "    for i, j  in enumerate(change):\n",
    "        if j == 0:\n",
    "            continue\n",
    "        else:\n",
    "            if j > 0:\n",
    "                combined_operations.append(f'x[{i}] += {j}')\n",
    "            else:\n",
    "                combined_operations.append(f'x[{i}] -= {-j}')\n",
    "                \n",
    "    return '; '.join(combined_operations)\n",
    "\n",
    "def count_index_cooccurrences(phenotypes, num_indices):\n",
    "    # Initialize the correlation matrix\n",
    "    correlation_matrix = np.zeros((num_indices, num_indices), dtype=int)\n",
    "    \n",
    "    # Iterate over each phenotype\n",
    "    for phenotype in phenotypes:\n",
    "        # Split the phenotype string into individual operations\n",
    "        operations = phenotype.split(';')\n",
    "        \n",
    "        for index, operation in enumerate(operations):\n",
    "            # print(index)\n",
    "            if index == len(operations) - 1:\n",
    "                continue\n",
    "            else:\n",
    "                operation = operation.strip()\n",
    "                # print(operation)\n",
    "                \n",
    "                if not operation:\n",
    "                    continue\n",
    "                \n",
    "                # Parse the operation to extract the index\n",
    "                current_feature = int(operation.split()[0][2:-1])\n",
    "                next_feature = int(operations[index + 1].split()[0][2:-1])# Extract the index\n",
    "                \n",
    "                # print(current_feature, next_feature)\n",
    "                \n",
    "                if current_feature == next_feature:\n",
    "                    continue\n",
    "                else:\n",
    "                    correlation_matrix[current_feature, next_feature] += 1\n",
    "                    correlation_matrix[next_feature, current_feature] += 1\n",
    "    \n",
    "\n",
    "    normalized_matrix = correlation_matrix/np.linalg.norm(correlation_matrix) \n",
    "    \n",
    "    return normalized_matrix, correlation_matrix\n",
    "\n",
    "# def count_index_cooccurrences(phenotypes, num_indices):\n",
    "#     # Initialize the correlation matrix\n",
    "#     correlation_matrix = np.zeros((num_indices, num_indices), dtype=int)\n",
    "# \n",
    "#     # Iterate over each phenotype\n",
    "#     for phenotype in phenotypes:\n",
    "#         # Split the phenotype string into individual operations\n",
    "#         operations = phenotype.split(';')\n",
    "# \n",
    "#         # Track the indices that appear in the current phenotype\n",
    "#         indices_set = set()\n",
    "# \n",
    "#         for operation in operations:\n",
    "#             # Strip any leading/trailing whitespace from the operation\n",
    "#             operation = operation.strip()\n",
    "# \n",
    "#             if not operation:\n",
    "#                 continue\n",
    "# \n",
    "#             # Parse the operation to extract the index\n",
    "#             index = int(operation.split()[0][2:-1])  # Extract the index\n",
    "#             indices_set.add(index)\n",
    "# \n",
    "#         # Convert set to list for iteration\n",
    "#         indices_list = list(indices_set)\n",
    "# \n",
    "#         # Update the correlation matrix based on the current phenotype\n",
    "#         for i in range(len(indices_list)):\n",
    "#             for j in range(i + 1, len(indices_list)):\n",
    "#                 # Off-diagonal elements, count co-occurrences\n",
    "#                 correlation_matrix[indices_list[i], indices_list[j]] += 1\n",
    "#                 correlation_matrix[indices_list[j], indices_list[i]] += 1\n",
    "# \n",
    "#     # Set the diagonal elements to the number of phenotypes\n",
    "#     # np.fill_diagonal(correlation_matrix, len(phenotypes))\n",
    "#     # \n",
    "#     # # Normalize the correlation matrix by dividing by the number of phenotypes\n",
    "#     # normalized_matrix = correlation_matrix / len(phenotypes)\n",
    "#     normalized_matrix = correlation_matrix/np.linalg.norm(correlation_matrix) \n",
    "# \n",
    "#     return normalized_matrix, correlation_matrix\n",
    "\n",
    "def create_graph_from_matrix(matrix):\n",
    "    # Create an undirected graph\n",
    "    G = nx.Graph()\n",
    "    \n",
    "    # Get the number of nodes\n",
    "    num_nodes = matrix.shape[0]\n",
    "    \n",
    "    # Add nodes to the graph\n",
    "    for i in range(num_nodes):\n",
    "        G.add_node(i)\n",
    "    \n",
    "    # Add edges to the graph based on the normalized co-occurrence matrix\n",
    "    for i in range(num_nodes):\n",
    "        for j in range(i + 1, num_nodes):\n",
    "            if matrix[i, j] > 0:\n",
    "                G.add_edge(i, j, weight=matrix[i, j])\n",
    "    \n",
    "    return G\n",
    "\n",
    "\n",
    "def draw_graph_plotly(G, features):\n",
    "    # Extract node positions\n",
    "    pos = nx.spring_layout(G, seed=10)\n",
    "    \n",
    "    # Create edges\n",
    "    edge_x = []\n",
    "    edge_y = []\n",
    "    edge_weights = []\n",
    "    mnode_x, mnode_y, mnode_txt = [], [], []\n",
    "    for edge in G.edges(data=True):\n",
    "        x0, y0 = pos[edge[0]]\n",
    "        x1, y1 = pos[edge[1]]\n",
    "        edge_x.extend([x0, x1, None])\n",
    "        edge_y.extend([y0, y1, None])\n",
    "        edge_weights.append(edge[2]['weight'])\n",
    "        mnode_x.extend([(x0 + x1)/2]) # assuming values positive/get midpoint\n",
    "        mnode_y.extend([(y0 + y1)/2]) # assumes positive vals/get midpoint\n",
    "        mnode_txt.extend([f\"Edge ({edge[0]} - {edge[1]}): {edge[2]['weight']}\"])\n",
    "    \n",
    "    # Create edge trace\n",
    "    edge_trace = go.Scatter(\n",
    "        x=edge_x, y=edge_y,\n",
    "        line=dict(width=0.5, color='#888'),\n",
    "        hoverinfo='text',\n",
    "        mode='lines')\n",
    "    \n",
    "    # Create edge text for hovering\n",
    "    mnode_trace = go.Scatter(x = mnode_x, y = mnode_y, mode = \"markers\", showlegend = False,\n",
    "                         hovertemplate = \" %{hovertext}<extra></extra>\",\n",
    "                         hovertext = mnode_txt, marker = go.scatter.Marker(opacity = 0))\n",
    "\n",
    "    \n",
    "    # Create node trace\n",
    "    node_x = []\n",
    "    node_y = []\n",
    "    for node in G.nodes():\n",
    "        x, y = pos[node]\n",
    "        node_x.append(x)\n",
    "        node_y.append(y)\n",
    "    \n",
    "    node_trace = go.Scatter(\n",
    "        x=node_x, y=node_y,\n",
    "        mode='markers',\n",
    "        hoverinfo='text',\n",
    "        marker=dict(\n",
    "            showscale=True,\n",
    "            colorscale='YlGnBu',\n",
    "            reversescale=True,\n",
    "            color=[],\n",
    "            size=10,\n",
    "            colorbar=dict(\n",
    "                thickness=15,\n",
    "                title='Node Connections',\n",
    "                xanchor='left',\n",
    "                titleside='right'\n",
    "            ),\n",
    "            line_width=2))\n",
    "    \n",
    "    # Add node connectivity as node attribute\n",
    "    node_adjacencies = []\n",
    "    node_text = []\n",
    "    for node, adjacencies in enumerate(G.adjacency()):\n",
    "        node_adjacencies.append(len(adjacencies[1]))\n",
    "        node_text.append(f'Index: {node}, feature: {features[int(node)]}<br># of connections: {len(adjacencies[1])}')\n",
    "    node_trace.marker.color = node_adjacencies\n",
    "    node_trace.text = node_text\n",
    "    \n",
    "    # Add edge weights to edge text\n",
    "    edge_trace.text = [f'Weight: {weight}' for weight in edge_weights]\n",
    "    \n",
    "    # Create figure\n",
    "    fig = go.Figure(data=[edge_trace, node_trace, mnode_trace],\n",
    "                    layout=go.Layout(\n",
    "                        title='<br>Relation Graph between different features',\n",
    "                        titlefont_size=16,\n",
    "                        showlegend=False,\n",
    "                        hovermode='closest',\n",
    "                        margin=dict(b=20,l=5,r=5,t=40),\n",
    "                        annotations=[ dict(\n",
    "                            text=\"Phenotype graph\",\n",
    "                            showarrow=False,\n",
    "                            xref=\"paper\", yref=\"paper\",\n",
    "                            x=0.005, y=-0.002 ) ],\n",
    "                        xaxis=dict(showgrid=False, zeroline=False, showticklabels=False),\n",
    "                        yaxis=dict(showgrid=False, zeroline=False, showticklabels=False))\n",
    "                    )\n",
    "    \n",
    "    # Show plot\n",
    "    fig.show()\n",
    "    \n",
    "def load_data(data):\n",
    "    return np.load(data)\n",
    "\n",
    "def generate_phenotype_graph(data_location, features, input_data_location,  num_indices = 8):\n",
    "    data = pd.read_csv(data_location)\n",
    "    input = load_data(input_data_location)\n",
    "    data = data.sort_values(by=['o_1'])\n",
    "    data = data[data['o_1'] < 0.45]\n",
    "    data['combined_phenotype'] = data.apply(lambda row: combine_operations(row['Phenotype'], input), axis=1)\n",
    "    cooccurrence_matrix, temp = count_index_cooccurrences(list(data['Phenotype']), num_indices)\n",
    "    cooccurrence_matrix = np.round(cooccurrence_matrix,decimals = 3) \n",
    "    G = create_graph_from_matrix(cooccurrence_matrix)\n",
    "    draw_graph_plotly(G, features)\n",
    "    return cooccurrence_matrix, G, data\n",
    "\n",
    "def check_movement(phenotype_list, features,  features_index=8):\n",
    "    # create a data dict \n",
    "    out_dict = {}\n",
    "    x = [0, 0, 0, 0, 0, 0, 0, 0]\n",
    "    evolved_x = []\n",
    "    \n",
    "    for phenotype in phenotype_list:\n",
    "        x_out = apply_phenotype(x, phenotype)\n",
    "        evolved_x.append(x_out)\n",
    "    \n",
    "    # print(evolved_x)\n",
    "        \n",
    "    average_change = np.mean(evolved_x, axis=0)\n",
    "    for i in range(features_index):\n",
    "        out_dict[features[i]] =  average_change[i]\n",
    "    \n",
    "    return out_dict, evolved_x\n",
    "\n",
    "def analyse_phenotype(input_data_loc, features, input_array_location, features_index=8):\n",
    "    co_mat, graph, data_filtered = generate_phenotype_graph(input_data_loc, features, input_array_location)\n",
    "    phenotype_list = data_filtered['combined_phenotype'].tolist()\n",
    "    average_movement, evolved_x = check_movement(phenotype_list,features)  \n",
    "    print(average_movement)\n",
    "    # print(co_mat)\n",
    "    return average_movement, evolved_x, co_mat, graph, data_filtered\n",
    "\n",
    "def analyse_folder(input_folder, features_list, features_index=8):\n",
    "    for i in os.listdir(input_folder):\n",
    "        if i=='.DS_Store':\n",
    "            continue\n",
    "        filename = input_folder + '/' + i + '/' + \"final_gen.csv\"\n",
    "        input_array_location = input_folder + '/' + i + '/' + 'input_data.npy'\n",
    "        print(filename)\n",
    "        average_movement, evolved_x, co_mat, graph, data_filtered = analyse_phenotype(filename, features_list, input_array_location)\n",
    "        # print(co_mat)\n",
    "        print(\"\\n --------------------------------------- \\n\")\n",
    "    "
   ],
   "metadata": {
    "collapsed": false,
    "ExecuteTime": {
     "end_time": "2024-06-25T11:40:13.250769Z",
     "start_time": "2024-06-25T11:40:13.245851Z"
    }
   },
   "id": "817abba739a58271",
   "execution_count": 11
  },
  {
   "cell_type": "code",
   "outputs": [],
   "source": [
    "def analyse_global_phenotype(input_folder, features, features_index=8):\n",
    "    phenotype_list = []\n",
    "    input_list = []\n",
    "    phenotype_list_combined = []\n",
    "    for i in os.listdir(input_folder):\n",
    "        if i=='.DS_Store':\n",
    "            continue\n",
    "        filename = input_folder + '/' + i + '/' \"final_gen.csv\"\n",
    "        input_array_location = input_folder + '/' + i + '/' + 'input_data.npy'\n",
    "        input = load_data(input_array_location)\n",
    "        # print(filename)\n",
    "        data = pd.read_csv(filename)\n",
    "        data = data.sort_values(by=['o_1'])\n",
    "        data = data[data['o_1'] < 0.45]\n",
    "        data['combined_phenotype'] = data.apply(lambda row: combine_operations(row['Phenotype'], input), axis=1)\n",
    "        phenotype_list.extend(list(data['Phenotype']))\n",
    "        phenotype_list_combined.extend(list(data['combined_phenotype']))\n",
    "        input_list.append(input)\n",
    "    \n",
    "    #  create co-occurence matrix\n",
    "    cooccurrence_matrix, correlation_matrix = count_index_cooccurrences(phenotype_list, features_index)\n",
    "    cooccurrence_matrix = np.round(cooccurrence_matrix,decimals = 3) \n",
    "    \n",
    "    G = create_graph_from_matrix(cooccurrence_matrix)\n",
    "    draw_graph_plotly(G, features)\n",
    "    average_movement, evolved_x = check_movement(phenotype_list_combined,features)  \n",
    "    print(average_movement)\n",
    "    return average_movement, evolved_x, cooccurrence_matrix, G, phenotype_list, correlation_matrix\n",
    "            \n",
    "    "
   ],
   "metadata": {
    "collapsed": false,
    "ExecuteTime": {
     "end_time": "2024-06-25T11:40:13.447084Z",
     "start_time": "2024-06-25T11:40:13.444913Z"
    }
   },
   "id": "7abf705fccb702b",
   "execution_count": 12
  },
  {
   "cell_type": "code",
   "outputs": [],
   "source": [
    "input_folder = 'output/NSGAIII'\n",
    "features = [\"Pregnancies\",'Glucose','Blood Pressure','Skin Thickness','Insulin', 'BMI', 'DiabetesPedigreeFunction','Age']"
   ],
   "metadata": {
    "collapsed": false,
    "ExecuteTime": {
     "end_time": "2024-06-25T11:40:14.011397Z",
     "start_time": "2024-06-25T11:40:14.009281Z"
    }
   },
   "id": "17dea2ee1b2c0b12",
   "execution_count": 13
  },
  {
   "cell_type": "code",
   "outputs": [
    {
     "data": {
      "application/vnd.plotly.v1+json": {
       "data": [
        {
         "hoverinfo": "text",
         "line": {
          "color": "#888",
          "width": 0.5
         },
         "mode": "lines",
         "text": [
          "Weight: 0.106",
          "Weight: 0.103",
          "Weight: 0.03",
          "Weight: 0.059",
          "Weight: 0.047",
          "Weight: 0.021",
          "Weight: 0.187",
          "Weight: 0.131",
          "Weight: 0.058",
          "Weight: 0.111",
          "Weight: 0.035",
          "Weight: 0.046",
          "Weight: 0.352",
          "Weight: 0.074",
          "Weight: 0.125",
          "Weight: 0.048",
          "Weight: 0.09",
          "Weight: 0.396",
          "Weight: 0.042",
          "Weight: 0.041",
          "Weight: 0.019",
          "Weight: 0.175",
          "Weight: 0.02",
          "Weight: 0.023",
          "Weight: 0.208",
          "Weight: 0.007",
          "Weight: 0.072",
          "Weight: 0.065"
         ],
         "x": [
          0.6187955395204764,
          0.22221628265854465,
          null,
          0.6187955395204764,
          -0.3522126672663308,
          null,
          0.6187955395204764,
          -0.2922769959803074,
          null,
          0.6187955395204764,
          -0.009088701034777972,
          null,
          0.6187955395204764,
          0.7751682971185057,
          null,
          0.6187955395204764,
          -0.9999999999999999,
          null,
          0.6187955395204764,
          0.037398244983890015,
          null,
          0.22221628265854465,
          -0.3522126672663308,
          null,
          0.22221628265854465,
          -0.2922769959803074,
          null,
          0.22221628265854465,
          -0.009088701034777972,
          null,
          0.22221628265854465,
          0.7751682971185057,
          null,
          0.22221628265854465,
          -0.9999999999999999,
          null,
          0.22221628265854465,
          0.037398244983890015,
          null,
          -0.3522126672663308,
          -0.2922769959803074,
          null,
          -0.3522126672663308,
          -0.009088701034777972,
          null,
          -0.3522126672663308,
          0.7751682971185057,
          null,
          -0.3522126672663308,
          -0.9999999999999999,
          null,
          -0.3522126672663308,
          0.037398244983890015,
          null,
          -0.2922769959803074,
          -0.009088701034777972,
          null,
          -0.2922769959803074,
          0.7751682971185057,
          null,
          -0.2922769959803074,
          -0.9999999999999999,
          null,
          -0.2922769959803074,
          0.037398244983890015,
          null,
          -0.009088701034777972,
          0.7751682971185057,
          null,
          -0.009088701034777972,
          -0.9999999999999999,
          null,
          -0.009088701034777972,
          0.037398244983890015,
          null,
          0.7751682971185057,
          -0.9999999999999999,
          null,
          0.7751682971185057,
          0.037398244983890015,
          null,
          -0.9999999999999999,
          0.037398244983890015,
          null
         ],
         "y": [
          -0.33041461477399736,
          0.2260231875142035,
          null,
          -0.33041461477399736,
          -0.09046029048183377,
          null,
          -0.33041461477399736,
          0.6456819926376136,
          null,
          -0.33041461477399736,
          -0.6788939825424735,
          null,
          -0.33041461477399736,
          0.6279266447365613,
          null,
          -0.33041461477399736,
          -0.29970073149675025,
          null,
          -0.33041461477399736,
          -0.10016220559332306,
          null,
          0.2260231875142035,
          -0.09046029048183377,
          null,
          0.2260231875142035,
          0.6456819926376136,
          null,
          0.2260231875142035,
          -0.6788939825424735,
          null,
          0.2260231875142035,
          0.6279266447365613,
          null,
          0.2260231875142035,
          -0.29970073149675025,
          null,
          0.2260231875142035,
          -0.10016220559332306,
          null,
          -0.09046029048183377,
          0.6456819926376136,
          null,
          -0.09046029048183377,
          -0.6788939825424735,
          null,
          -0.09046029048183377,
          0.6279266447365613,
          null,
          -0.09046029048183377,
          -0.29970073149675025,
          null,
          -0.09046029048183377,
          -0.10016220559332306,
          null,
          0.6456819926376136,
          -0.6788939825424735,
          null,
          0.6456819926376136,
          0.6279266447365613,
          null,
          0.6456819926376136,
          -0.29970073149675025,
          null,
          0.6456819926376136,
          -0.10016220559332306,
          null,
          -0.6788939825424735,
          0.6279266447365613,
          null,
          -0.6788939825424735,
          -0.29970073149675025,
          null,
          -0.6788939825424735,
          -0.10016220559332306,
          null,
          0.6279266447365613,
          -0.29970073149675025,
          null,
          0.6279266447365613,
          -0.10016220559332306,
          null,
          -0.29970073149675025,
          -0.10016220559332306,
          null
         ],
         "type": "scatter"
        },
        {
         "hoverinfo": "text",
         "marker": {
          "color": [
           7,
           7,
           7,
           7,
           7,
           7,
           7,
           7
          ],
          "colorbar": {
           "thickness": 15,
           "title": {
            "side": "right",
            "text": "Node Connections"
           },
           "xanchor": "left"
          },
          "colorscale": [
           [
            0.0,
            "rgb(255,255,217)"
           ],
           [
            0.125,
            "rgb(237,248,177)"
           ],
           [
            0.25,
            "rgb(199,233,180)"
           ],
           [
            0.375,
            "rgb(127,205,187)"
           ],
           [
            0.5,
            "rgb(65,182,196)"
           ],
           [
            0.625,
            "rgb(29,145,192)"
           ],
           [
            0.75,
            "rgb(34,94,168)"
           ],
           [
            0.875,
            "rgb(37,52,148)"
           ],
           [
            1.0,
            "rgb(8,29,88)"
           ]
          ],
          "line": {
           "width": 2
          },
          "reversescale": true,
          "showscale": true,
          "size": 10
         },
         "mode": "markers",
         "text": [
          "Index: 0, feature: Pregnancies<br># of connections: 7",
          "Index: 1, feature: Glucose<br># of connections: 7",
          "Index: 2, feature: Blood Pressure<br># of connections: 7",
          "Index: 3, feature: Skin Thickness<br># of connections: 7",
          "Index: 4, feature: Insulin<br># of connections: 7",
          "Index: 5, feature: BMI<br># of connections: 7",
          "Index: 6, feature: DiabetesPedigreeFunction<br># of connections: 7",
          "Index: 7, feature: Age<br># of connections: 7"
         ],
         "x": [
          0.6187955395204764,
          0.22221628265854465,
          -0.3522126672663308,
          -0.2922769959803074,
          -0.009088701034777972,
          0.7751682971185057,
          -0.9999999999999999,
          0.037398244983890015
         ],
         "y": [
          -0.33041461477399736,
          0.2260231875142035,
          -0.09046029048183377,
          0.6456819926376136,
          -0.6788939825424735,
          0.6279266447365613,
          -0.29970073149675025,
          -0.10016220559332306
         ],
         "type": "scatter"
        },
        {
         "hovertemplate": " %{hovertext}<extra></extra>",
         "hovertext": [
          "Edge (0 - 1): 0.106",
          "Edge (0 - 2): 0.103",
          "Edge (0 - 3): 0.03",
          "Edge (0 - 4): 0.059",
          "Edge (0 - 5): 0.047",
          "Edge (0 - 6): 0.021",
          "Edge (0 - 7): 0.187",
          "Edge (1 - 2): 0.131",
          "Edge (1 - 3): 0.058",
          "Edge (1 - 4): 0.111",
          "Edge (1 - 5): 0.035",
          "Edge (1 - 6): 0.046",
          "Edge (1 - 7): 0.352",
          "Edge (2 - 3): 0.074",
          "Edge (2 - 4): 0.125",
          "Edge (2 - 5): 0.048",
          "Edge (2 - 6): 0.09",
          "Edge (2 - 7): 0.396",
          "Edge (3 - 4): 0.042",
          "Edge (3 - 5): 0.041",
          "Edge (3 - 6): 0.019",
          "Edge (3 - 7): 0.175",
          "Edge (4 - 5): 0.02",
          "Edge (4 - 6): 0.023",
          "Edge (4 - 7): 0.208",
          "Edge (5 - 6): 0.007",
          "Edge (5 - 7): 0.072",
          "Edge (6 - 7): 0.065"
         ],
         "marker": {
          "opacity": 0
         },
         "mode": "markers",
         "showlegend": false,
         "x": [
          0.4205059110895105,
          0.13329143612707278,
          0.1632592717700845,
          0.3048534192428492,
          0.696981918319491,
          -0.19060223023976175,
          0.3280968922521832,
          -0.06499819230389309,
          -0.03503035666088136,
          0.10656379081188334,
          0.49869228988852515,
          -0.3888918586707276,
          0.12980726382121732,
          -0.3222448316233191,
          -0.1806506841505544,
          0.21147781492608742,
          -0.6761063336331654,
          -0.15740721114122042,
          -0.15068284850754268,
          0.24144565056909914,
          -0.6461384979901537,
          -0.1274393754982087,
          0.38303979804186383,
          -0.5045443505173889,
          0.014154771974556023,
          -0.11241585144074712,
          0.4062832710511978,
          -0.48130087750805495
         ],
         "y": [
          -0.05219571362989693,
          -0.21043745262791558,
          0.15763368893180812,
          -0.5046542986582354,
          0.148756014981282,
          -0.3150576731353738,
          -0.2152884101836602,
          0.06778144851618487,
          0.43585259007590854,
          -0.226435397514135,
          0.4269749161253824,
          -0.036838771991273375,
          0.06293049096044022,
          0.2776108510778899,
          -0.38467713651215363,
          0.2687331771273638,
          -0.19508051098929202,
          -0.09531124803757841,
          -0.016605994952429926,
          0.6368043186870875,
          0.17299063057043168,
          0.27275989352214525,
          -0.025483668902956058,
          -0.48929735701961186,
          -0.38952809406789823,
          0.16411295661990555,
          0.26388221957161917,
          -0.19993146854503666
         ],
         "type": "scatter"
        }
       ],
       "layout": {
        "annotations": [
         {
          "showarrow": false,
          "text": "Phenotype graph",
          "x": 0.005,
          "xref": "paper",
          "y": -0.002,
          "yref": "paper"
         }
        ],
        "hovermode": "closest",
        "margin": {
         "b": 20,
         "l": 5,
         "r": 5,
         "t": 40
        },
        "showlegend": false,
        "title": {
         "font": {
          "size": 16
         },
         "text": "<br>Relation Graph between different features"
        },
        "xaxis": {
         "showgrid": false,
         "showticklabels": false,
         "zeroline": false
        },
        "yaxis": {
         "showgrid": false,
         "showticklabels": false,
         "zeroline": false
        },
        "template": {
         "data": {
          "histogram2dcontour": [
           {
            "type": "histogram2dcontour",
            "colorbar": {
             "outlinewidth": 0,
             "ticks": ""
            },
            "colorscale": [
             [
              0.0,
              "#0d0887"
             ],
             [
              0.1111111111111111,
              "#46039f"
             ],
             [
              0.2222222222222222,
              "#7201a8"
             ],
             [
              0.3333333333333333,
              "#9c179e"
             ],
             [
              0.4444444444444444,
              "#bd3786"
             ],
             [
              0.5555555555555556,
              "#d8576b"
             ],
             [
              0.6666666666666666,
              "#ed7953"
             ],
             [
              0.7777777777777778,
              "#fb9f3a"
             ],
             [
              0.8888888888888888,
              "#fdca26"
             ],
             [
              1.0,
              "#f0f921"
             ]
            ]
           }
          ],
          "choropleth": [
           {
            "type": "choropleth",
            "colorbar": {
             "outlinewidth": 0,
             "ticks": ""
            }
           }
          ],
          "histogram2d": [
           {
            "type": "histogram2d",
            "colorbar": {
             "outlinewidth": 0,
             "ticks": ""
            },
            "colorscale": [
             [
              0.0,
              "#0d0887"
             ],
             [
              0.1111111111111111,
              "#46039f"
             ],
             [
              0.2222222222222222,
              "#7201a8"
             ],
             [
              0.3333333333333333,
              "#9c179e"
             ],
             [
              0.4444444444444444,
              "#bd3786"
             ],
             [
              0.5555555555555556,
              "#d8576b"
             ],
             [
              0.6666666666666666,
              "#ed7953"
             ],
             [
              0.7777777777777778,
              "#fb9f3a"
             ],
             [
              0.8888888888888888,
              "#fdca26"
             ],
             [
              1.0,
              "#f0f921"
             ]
            ]
           }
          ],
          "heatmap": [
           {
            "type": "heatmap",
            "colorbar": {
             "outlinewidth": 0,
             "ticks": ""
            },
            "colorscale": [
             [
              0.0,
              "#0d0887"
             ],
             [
              0.1111111111111111,
              "#46039f"
             ],
             [
              0.2222222222222222,
              "#7201a8"
             ],
             [
              0.3333333333333333,
              "#9c179e"
             ],
             [
              0.4444444444444444,
              "#bd3786"
             ],
             [
              0.5555555555555556,
              "#d8576b"
             ],
             [
              0.6666666666666666,
              "#ed7953"
             ],
             [
              0.7777777777777778,
              "#fb9f3a"
             ],
             [
              0.8888888888888888,
              "#fdca26"
             ],
             [
              1.0,
              "#f0f921"
             ]
            ]
           }
          ],
          "heatmapgl": [
           {
            "type": "heatmapgl",
            "colorbar": {
             "outlinewidth": 0,
             "ticks": ""
            },
            "colorscale": [
             [
              0.0,
              "#0d0887"
             ],
             [
              0.1111111111111111,
              "#46039f"
             ],
             [
              0.2222222222222222,
              "#7201a8"
             ],
             [
              0.3333333333333333,
              "#9c179e"
             ],
             [
              0.4444444444444444,
              "#bd3786"
             ],
             [
              0.5555555555555556,
              "#d8576b"
             ],
             [
              0.6666666666666666,
              "#ed7953"
             ],
             [
              0.7777777777777778,
              "#fb9f3a"
             ],
             [
              0.8888888888888888,
              "#fdca26"
             ],
             [
              1.0,
              "#f0f921"
             ]
            ]
           }
          ],
          "contourcarpet": [
           {
            "type": "contourcarpet",
            "colorbar": {
             "outlinewidth": 0,
             "ticks": ""
            }
           }
          ],
          "contour": [
           {
            "type": "contour",
            "colorbar": {
             "outlinewidth": 0,
             "ticks": ""
            },
            "colorscale": [
             [
              0.0,
              "#0d0887"
             ],
             [
              0.1111111111111111,
              "#46039f"
             ],
             [
              0.2222222222222222,
              "#7201a8"
             ],
             [
              0.3333333333333333,
              "#9c179e"
             ],
             [
              0.4444444444444444,
              "#bd3786"
             ],
             [
              0.5555555555555556,
              "#d8576b"
             ],
             [
              0.6666666666666666,
              "#ed7953"
             ],
             [
              0.7777777777777778,
              "#fb9f3a"
             ],
             [
              0.8888888888888888,
              "#fdca26"
             ],
             [
              1.0,
              "#f0f921"
             ]
            ]
           }
          ],
          "surface": [
           {
            "type": "surface",
            "colorbar": {
             "outlinewidth": 0,
             "ticks": ""
            },
            "colorscale": [
             [
              0.0,
              "#0d0887"
             ],
             [
              0.1111111111111111,
              "#46039f"
             ],
             [
              0.2222222222222222,
              "#7201a8"
             ],
             [
              0.3333333333333333,
              "#9c179e"
             ],
             [
              0.4444444444444444,
              "#bd3786"
             ],
             [
              0.5555555555555556,
              "#d8576b"
             ],
             [
              0.6666666666666666,
              "#ed7953"
             ],
             [
              0.7777777777777778,
              "#fb9f3a"
             ],
             [
              0.8888888888888888,
              "#fdca26"
             ],
             [
              1.0,
              "#f0f921"
             ]
            ]
           }
          ],
          "mesh3d": [
           {
            "type": "mesh3d",
            "colorbar": {
             "outlinewidth": 0,
             "ticks": ""
            }
           }
          ],
          "scatter": [
           {
            "marker": {
             "line": {
              "color": "#283442"
             }
            },
            "type": "scatter"
           }
          ],
          "parcoords": [
           {
            "type": "parcoords",
            "line": {
             "colorbar": {
              "outlinewidth": 0,
              "ticks": ""
             }
            }
           }
          ],
          "scatterpolargl": [
           {
            "type": "scatterpolargl",
            "marker": {
             "colorbar": {
              "outlinewidth": 0,
              "ticks": ""
             }
            }
           }
          ],
          "bar": [
           {
            "error_x": {
             "color": "#f2f5fa"
            },
            "error_y": {
             "color": "#f2f5fa"
            },
            "marker": {
             "line": {
              "color": "rgb(17,17,17)",
              "width": 0.5
             },
             "pattern": {
              "fillmode": "overlay",
              "size": 10,
              "solidity": 0.2
             }
            },
            "type": "bar"
           }
          ],
          "scattergeo": [
           {
            "type": "scattergeo",
            "marker": {
             "colorbar": {
              "outlinewidth": 0,
              "ticks": ""
             }
            }
           }
          ],
          "scatterpolar": [
           {
            "type": "scatterpolar",
            "marker": {
             "colorbar": {
              "outlinewidth": 0,
              "ticks": ""
             }
            }
           }
          ],
          "histogram": [
           {
            "marker": {
             "pattern": {
              "fillmode": "overlay",
              "size": 10,
              "solidity": 0.2
             }
            },
            "type": "histogram"
           }
          ],
          "scattergl": [
           {
            "marker": {
             "line": {
              "color": "#283442"
             }
            },
            "type": "scattergl"
           }
          ],
          "scatter3d": [
           {
            "type": "scatter3d",
            "line": {
             "colorbar": {
              "outlinewidth": 0,
              "ticks": ""
             }
            },
            "marker": {
             "colorbar": {
              "outlinewidth": 0,
              "ticks": ""
             }
            }
           }
          ],
          "scattermapbox": [
           {
            "type": "scattermapbox",
            "marker": {
             "colorbar": {
              "outlinewidth": 0,
              "ticks": ""
             }
            }
           }
          ],
          "scatterternary": [
           {
            "type": "scatterternary",
            "marker": {
             "colorbar": {
              "outlinewidth": 0,
              "ticks": ""
             }
            }
           }
          ],
          "scattercarpet": [
           {
            "type": "scattercarpet",
            "marker": {
             "colorbar": {
              "outlinewidth": 0,
              "ticks": ""
             }
            }
           }
          ],
          "carpet": [
           {
            "aaxis": {
             "endlinecolor": "#A2B1C6",
             "gridcolor": "#506784",
             "linecolor": "#506784",
             "minorgridcolor": "#506784",
             "startlinecolor": "#A2B1C6"
            },
            "baxis": {
             "endlinecolor": "#A2B1C6",
             "gridcolor": "#506784",
             "linecolor": "#506784",
             "minorgridcolor": "#506784",
             "startlinecolor": "#A2B1C6"
            },
            "type": "carpet"
           }
          ],
          "table": [
           {
            "cells": {
             "fill": {
              "color": "#506784"
             },
             "line": {
              "color": "rgb(17,17,17)"
             }
            },
            "header": {
             "fill": {
              "color": "#2a3f5f"
             },
             "line": {
              "color": "rgb(17,17,17)"
             }
            },
            "type": "table"
           }
          ],
          "barpolar": [
           {
            "marker": {
             "line": {
              "color": "rgb(17,17,17)",
              "width": 0.5
             },
             "pattern": {
              "fillmode": "overlay",
              "size": 10,
              "solidity": 0.2
             }
            },
            "type": "barpolar"
           }
          ],
          "pie": [
           {
            "automargin": true,
            "type": "pie"
           }
          ]
         },
         "layout": {
          "autotypenumbers": "strict",
          "colorway": [
           "#636efa",
           "#EF553B",
           "#00cc96",
           "#ab63fa",
           "#FFA15A",
           "#19d3f3",
           "#FF6692",
           "#B6E880",
           "#FF97FF",
           "#FECB52"
          ],
          "font": {
           "color": "#f2f5fa"
          },
          "hovermode": "closest",
          "hoverlabel": {
           "align": "left"
          },
          "paper_bgcolor": "rgb(17,17,17)",
          "plot_bgcolor": "rgb(17,17,17)",
          "polar": {
           "bgcolor": "rgb(17,17,17)",
           "angularaxis": {
            "gridcolor": "#506784",
            "linecolor": "#506784",
            "ticks": ""
           },
           "radialaxis": {
            "gridcolor": "#506784",
            "linecolor": "#506784",
            "ticks": ""
           }
          },
          "ternary": {
           "bgcolor": "rgb(17,17,17)",
           "aaxis": {
            "gridcolor": "#506784",
            "linecolor": "#506784",
            "ticks": ""
           },
           "baxis": {
            "gridcolor": "#506784",
            "linecolor": "#506784",
            "ticks": ""
           },
           "caxis": {
            "gridcolor": "#506784",
            "linecolor": "#506784",
            "ticks": ""
           }
          },
          "coloraxis": {
           "colorbar": {
            "outlinewidth": 0,
            "ticks": ""
           }
          },
          "colorscale": {
           "sequential": [
            [
             0.0,
             "#0d0887"
            ],
            [
             0.1111111111111111,
             "#46039f"
            ],
            [
             0.2222222222222222,
             "#7201a8"
            ],
            [
             0.3333333333333333,
             "#9c179e"
            ],
            [
             0.4444444444444444,
             "#bd3786"
            ],
            [
             0.5555555555555556,
             "#d8576b"
            ],
            [
             0.6666666666666666,
             "#ed7953"
            ],
            [
             0.7777777777777778,
             "#fb9f3a"
            ],
            [
             0.8888888888888888,
             "#fdca26"
            ],
            [
             1.0,
             "#f0f921"
            ]
           ],
           "sequentialminus": [
            [
             0.0,
             "#0d0887"
            ],
            [
             0.1111111111111111,
             "#46039f"
            ],
            [
             0.2222222222222222,
             "#7201a8"
            ],
            [
             0.3333333333333333,
             "#9c179e"
            ],
            [
             0.4444444444444444,
             "#bd3786"
            ],
            [
             0.5555555555555556,
             "#d8576b"
            ],
            [
             0.6666666666666666,
             "#ed7953"
            ],
            [
             0.7777777777777778,
             "#fb9f3a"
            ],
            [
             0.8888888888888888,
             "#fdca26"
            ],
            [
             1.0,
             "#f0f921"
            ]
           ],
           "diverging": [
            [
             0,
             "#8e0152"
            ],
            [
             0.1,
             "#c51b7d"
            ],
            [
             0.2,
             "#de77ae"
            ],
            [
             0.3,
             "#f1b6da"
            ],
            [
             0.4,
             "#fde0ef"
            ],
            [
             0.5,
             "#f7f7f7"
            ],
            [
             0.6,
             "#e6f5d0"
            ],
            [
             0.7,
             "#b8e186"
            ],
            [
             0.8,
             "#7fbc41"
            ],
            [
             0.9,
             "#4d9221"
            ],
            [
             1,
             "#276419"
            ]
           ]
          },
          "xaxis": {
           "gridcolor": "#283442",
           "linecolor": "#506784",
           "ticks": "",
           "title": {
            "standoff": 15
           },
           "zerolinecolor": "#283442",
           "automargin": true,
           "zerolinewidth": 2
          },
          "yaxis": {
           "gridcolor": "#283442",
           "linecolor": "#506784",
           "ticks": "",
           "title": {
            "standoff": 15
           },
           "zerolinecolor": "#283442",
           "automargin": true,
           "zerolinewidth": 2
          },
          "scene": {
           "xaxis": {
            "backgroundcolor": "rgb(17,17,17)",
            "gridcolor": "#506784",
            "linecolor": "#506784",
            "showbackground": true,
            "ticks": "",
            "zerolinecolor": "#C8D4E3",
            "gridwidth": 2
           },
           "yaxis": {
            "backgroundcolor": "rgb(17,17,17)",
            "gridcolor": "#506784",
            "linecolor": "#506784",
            "showbackground": true,
            "ticks": "",
            "zerolinecolor": "#C8D4E3",
            "gridwidth": 2
           },
           "zaxis": {
            "backgroundcolor": "rgb(17,17,17)",
            "gridcolor": "#506784",
            "linecolor": "#506784",
            "showbackground": true,
            "ticks": "",
            "zerolinecolor": "#C8D4E3",
            "gridwidth": 2
           }
          },
          "shapedefaults": {
           "line": {
            "color": "#f2f5fa"
           }
          },
          "annotationdefaults": {
           "arrowcolor": "#f2f5fa",
           "arrowhead": 0,
           "arrowwidth": 1
          },
          "geo": {
           "bgcolor": "rgb(17,17,17)",
           "landcolor": "rgb(17,17,17)",
           "subunitcolor": "#506784",
           "showland": true,
           "showlakes": true,
           "lakecolor": "rgb(17,17,17)"
          },
          "title": {
           "x": 0.05
          },
          "updatemenudefaults": {
           "bgcolor": "#506784",
           "borderwidth": 0
          },
          "sliderdefaults": {
           "bgcolor": "#C8D4E3",
           "borderwidth": 1,
           "bordercolor": "rgb(17,17,17)",
           "tickwidth": 0
          },
          "mapbox": {
           "style": "dark"
          }
         }
        }
       },
       "config": {
        "plotlyServerURL": "https://plot.ly"
       }
      },
      "text/html": "<div>                            <div id=\"513692d5-8a86-4c47-8cc6-fefa6c0c0f4c\" class=\"plotly-graph-div\" style=\"height:525px; width:100%;\"></div>            <script type=\"text/javascript\">                require([\"plotly\"], function(Plotly) {                    window.PLOTLYENV=window.PLOTLYENV || {};                                    if (document.getElementById(\"513692d5-8a86-4c47-8cc6-fefa6c0c0f4c\")) {                    Plotly.newPlot(                        \"513692d5-8a86-4c47-8cc6-fefa6c0c0f4c\",                        [{\"hoverinfo\":\"text\",\"line\":{\"color\":\"#888\",\"width\":0.5},\"mode\":\"lines\",\"text\":[\"Weight: 0.106\",\"Weight: 0.103\",\"Weight: 0.03\",\"Weight: 0.059\",\"Weight: 0.047\",\"Weight: 0.021\",\"Weight: 0.187\",\"Weight: 0.131\",\"Weight: 0.058\",\"Weight: 0.111\",\"Weight: 0.035\",\"Weight: 0.046\",\"Weight: 0.352\",\"Weight: 0.074\",\"Weight: 0.125\",\"Weight: 0.048\",\"Weight: 0.09\",\"Weight: 0.396\",\"Weight: 0.042\",\"Weight: 0.041\",\"Weight: 0.019\",\"Weight: 0.175\",\"Weight: 0.02\",\"Weight: 0.023\",\"Weight: 0.208\",\"Weight: 0.007\",\"Weight: 0.072\",\"Weight: 0.065\"],\"x\":[0.6187955395204764,0.22221628265854465,null,0.6187955395204764,-0.3522126672663308,null,0.6187955395204764,-0.2922769959803074,null,0.6187955395204764,-0.009088701034777972,null,0.6187955395204764,0.7751682971185057,null,0.6187955395204764,-0.9999999999999999,null,0.6187955395204764,0.037398244983890015,null,0.22221628265854465,-0.3522126672663308,null,0.22221628265854465,-0.2922769959803074,null,0.22221628265854465,-0.009088701034777972,null,0.22221628265854465,0.7751682971185057,null,0.22221628265854465,-0.9999999999999999,null,0.22221628265854465,0.037398244983890015,null,-0.3522126672663308,-0.2922769959803074,null,-0.3522126672663308,-0.009088701034777972,null,-0.3522126672663308,0.7751682971185057,null,-0.3522126672663308,-0.9999999999999999,null,-0.3522126672663308,0.037398244983890015,null,-0.2922769959803074,-0.009088701034777972,null,-0.2922769959803074,0.7751682971185057,null,-0.2922769959803074,-0.9999999999999999,null,-0.2922769959803074,0.037398244983890015,null,-0.009088701034777972,0.7751682971185057,null,-0.009088701034777972,-0.9999999999999999,null,-0.009088701034777972,0.037398244983890015,null,0.7751682971185057,-0.9999999999999999,null,0.7751682971185057,0.037398244983890015,null,-0.9999999999999999,0.037398244983890015,null],\"y\":[-0.33041461477399736,0.2260231875142035,null,-0.33041461477399736,-0.09046029048183377,null,-0.33041461477399736,0.6456819926376136,null,-0.33041461477399736,-0.6788939825424735,null,-0.33041461477399736,0.6279266447365613,null,-0.33041461477399736,-0.29970073149675025,null,-0.33041461477399736,-0.10016220559332306,null,0.2260231875142035,-0.09046029048183377,null,0.2260231875142035,0.6456819926376136,null,0.2260231875142035,-0.6788939825424735,null,0.2260231875142035,0.6279266447365613,null,0.2260231875142035,-0.29970073149675025,null,0.2260231875142035,-0.10016220559332306,null,-0.09046029048183377,0.6456819926376136,null,-0.09046029048183377,-0.6788939825424735,null,-0.09046029048183377,0.6279266447365613,null,-0.09046029048183377,-0.29970073149675025,null,-0.09046029048183377,-0.10016220559332306,null,0.6456819926376136,-0.6788939825424735,null,0.6456819926376136,0.6279266447365613,null,0.6456819926376136,-0.29970073149675025,null,0.6456819926376136,-0.10016220559332306,null,-0.6788939825424735,0.6279266447365613,null,-0.6788939825424735,-0.29970073149675025,null,-0.6788939825424735,-0.10016220559332306,null,0.6279266447365613,-0.29970073149675025,null,0.6279266447365613,-0.10016220559332306,null,-0.29970073149675025,-0.10016220559332306,null],\"type\":\"scatter\"},{\"hoverinfo\":\"text\",\"marker\":{\"color\":[7,7,7,7,7,7,7,7],\"colorbar\":{\"thickness\":15,\"title\":{\"side\":\"right\",\"text\":\"Node Connections\"},\"xanchor\":\"left\"},\"colorscale\":[[0.0,\"rgb(255,255,217)\"],[0.125,\"rgb(237,248,177)\"],[0.25,\"rgb(199,233,180)\"],[0.375,\"rgb(127,205,187)\"],[0.5,\"rgb(65,182,196)\"],[0.625,\"rgb(29,145,192)\"],[0.75,\"rgb(34,94,168)\"],[0.875,\"rgb(37,52,148)\"],[1.0,\"rgb(8,29,88)\"]],\"line\":{\"width\":2},\"reversescale\":true,\"showscale\":true,\"size\":10},\"mode\":\"markers\",\"text\":[\"Index: 0, feature: Pregnancies\\u003cbr\\u003e# of connections: 7\",\"Index: 1, feature: Glucose\\u003cbr\\u003e# of connections: 7\",\"Index: 2, feature: Blood Pressure\\u003cbr\\u003e# of connections: 7\",\"Index: 3, feature: Skin Thickness\\u003cbr\\u003e# of connections: 7\",\"Index: 4, feature: Insulin\\u003cbr\\u003e# of connections: 7\",\"Index: 5, feature: BMI\\u003cbr\\u003e# of connections: 7\",\"Index: 6, feature: DiabetesPedigreeFunction\\u003cbr\\u003e# of connections: 7\",\"Index: 7, feature: Age\\u003cbr\\u003e# of connections: 7\"],\"x\":[0.6187955395204764,0.22221628265854465,-0.3522126672663308,-0.2922769959803074,-0.009088701034777972,0.7751682971185057,-0.9999999999999999,0.037398244983890015],\"y\":[-0.33041461477399736,0.2260231875142035,-0.09046029048183377,0.6456819926376136,-0.6788939825424735,0.6279266447365613,-0.29970073149675025,-0.10016220559332306],\"type\":\"scatter\"},{\"hovertemplate\":\" %{hovertext}\\u003cextra\\u003e\\u003c\\u002fextra\\u003e\",\"hovertext\":[\"Edge (0 - 1): 0.106\",\"Edge (0 - 2): 0.103\",\"Edge (0 - 3): 0.03\",\"Edge (0 - 4): 0.059\",\"Edge (0 - 5): 0.047\",\"Edge (0 - 6): 0.021\",\"Edge (0 - 7): 0.187\",\"Edge (1 - 2): 0.131\",\"Edge (1 - 3): 0.058\",\"Edge (1 - 4): 0.111\",\"Edge (1 - 5): 0.035\",\"Edge (1 - 6): 0.046\",\"Edge (1 - 7): 0.352\",\"Edge (2 - 3): 0.074\",\"Edge (2 - 4): 0.125\",\"Edge (2 - 5): 0.048\",\"Edge (2 - 6): 0.09\",\"Edge (2 - 7): 0.396\",\"Edge (3 - 4): 0.042\",\"Edge (3 - 5): 0.041\",\"Edge (3 - 6): 0.019\",\"Edge (3 - 7): 0.175\",\"Edge (4 - 5): 0.02\",\"Edge (4 - 6): 0.023\",\"Edge (4 - 7): 0.208\",\"Edge (5 - 6): 0.007\",\"Edge (5 - 7): 0.072\",\"Edge (6 - 7): 0.065\"],\"marker\":{\"opacity\":0},\"mode\":\"markers\",\"showlegend\":false,\"x\":[0.4205059110895105,0.13329143612707278,0.1632592717700845,0.3048534192428492,0.696981918319491,-0.19060223023976175,0.3280968922521832,-0.06499819230389309,-0.03503035666088136,0.10656379081188334,0.49869228988852515,-0.3888918586707276,0.12980726382121732,-0.3222448316233191,-0.1806506841505544,0.21147781492608742,-0.6761063336331654,-0.15740721114122042,-0.15068284850754268,0.24144565056909914,-0.6461384979901537,-0.1274393754982087,0.38303979804186383,-0.5045443505173889,0.014154771974556023,-0.11241585144074712,0.4062832710511978,-0.48130087750805495],\"y\":[-0.05219571362989693,-0.21043745262791558,0.15763368893180812,-0.5046542986582354,0.148756014981282,-0.3150576731353738,-0.2152884101836602,0.06778144851618487,0.43585259007590854,-0.226435397514135,0.4269749161253824,-0.036838771991273375,0.06293049096044022,0.2776108510778899,-0.38467713651215363,0.2687331771273638,-0.19508051098929202,-0.09531124803757841,-0.016605994952429926,0.6368043186870875,0.17299063057043168,0.27275989352214525,-0.025483668902956058,-0.48929735701961186,-0.38952809406789823,0.16411295661990555,0.26388221957161917,-0.19993146854503666],\"type\":\"scatter\"}],                        {\"annotations\":[{\"showarrow\":false,\"text\":\"Phenotype graph\",\"x\":0.005,\"xref\":\"paper\",\"y\":-0.002,\"yref\":\"paper\"}],\"hovermode\":\"closest\",\"margin\":{\"b\":20,\"l\":5,\"r\":5,\"t\":40},\"showlegend\":false,\"title\":{\"font\":{\"size\":16},\"text\":\"\\u003cbr\\u003eRelation Graph between different features\"},\"xaxis\":{\"showgrid\":false,\"showticklabels\":false,\"zeroline\":false},\"yaxis\":{\"showgrid\":false,\"showticklabels\":false,\"zeroline\":false},\"template\":{\"data\":{\"histogram2dcontour\":[{\"type\":\"histogram2dcontour\",\"colorbar\":{\"outlinewidth\":0,\"ticks\":\"\"},\"colorscale\":[[0.0,\"#0d0887\"],[0.1111111111111111,\"#46039f\"],[0.2222222222222222,\"#7201a8\"],[0.3333333333333333,\"#9c179e\"],[0.4444444444444444,\"#bd3786\"],[0.5555555555555556,\"#d8576b\"],[0.6666666666666666,\"#ed7953\"],[0.7777777777777778,\"#fb9f3a\"],[0.8888888888888888,\"#fdca26\"],[1.0,\"#f0f921\"]]}],\"choropleth\":[{\"type\":\"choropleth\",\"colorbar\":{\"outlinewidth\":0,\"ticks\":\"\"}}],\"histogram2d\":[{\"type\":\"histogram2d\",\"colorbar\":{\"outlinewidth\":0,\"ticks\":\"\"},\"colorscale\":[[0.0,\"#0d0887\"],[0.1111111111111111,\"#46039f\"],[0.2222222222222222,\"#7201a8\"],[0.3333333333333333,\"#9c179e\"],[0.4444444444444444,\"#bd3786\"],[0.5555555555555556,\"#d8576b\"],[0.6666666666666666,\"#ed7953\"],[0.7777777777777778,\"#fb9f3a\"],[0.8888888888888888,\"#fdca26\"],[1.0,\"#f0f921\"]]}],\"heatmap\":[{\"type\":\"heatmap\",\"colorbar\":{\"outlinewidth\":0,\"ticks\":\"\"},\"colorscale\":[[0.0,\"#0d0887\"],[0.1111111111111111,\"#46039f\"],[0.2222222222222222,\"#7201a8\"],[0.3333333333333333,\"#9c179e\"],[0.4444444444444444,\"#bd3786\"],[0.5555555555555556,\"#d8576b\"],[0.6666666666666666,\"#ed7953\"],[0.7777777777777778,\"#fb9f3a\"],[0.8888888888888888,\"#fdca26\"],[1.0,\"#f0f921\"]]}],\"heatmapgl\":[{\"type\":\"heatmapgl\",\"colorbar\":{\"outlinewidth\":0,\"ticks\":\"\"},\"colorscale\":[[0.0,\"#0d0887\"],[0.1111111111111111,\"#46039f\"],[0.2222222222222222,\"#7201a8\"],[0.3333333333333333,\"#9c179e\"],[0.4444444444444444,\"#bd3786\"],[0.5555555555555556,\"#d8576b\"],[0.6666666666666666,\"#ed7953\"],[0.7777777777777778,\"#fb9f3a\"],[0.8888888888888888,\"#fdca26\"],[1.0,\"#f0f921\"]]}],\"contourcarpet\":[{\"type\":\"contourcarpet\",\"colorbar\":{\"outlinewidth\":0,\"ticks\":\"\"}}],\"contour\":[{\"type\":\"contour\",\"colorbar\":{\"outlinewidth\":0,\"ticks\":\"\"},\"colorscale\":[[0.0,\"#0d0887\"],[0.1111111111111111,\"#46039f\"],[0.2222222222222222,\"#7201a8\"],[0.3333333333333333,\"#9c179e\"],[0.4444444444444444,\"#bd3786\"],[0.5555555555555556,\"#d8576b\"],[0.6666666666666666,\"#ed7953\"],[0.7777777777777778,\"#fb9f3a\"],[0.8888888888888888,\"#fdca26\"],[1.0,\"#f0f921\"]]}],\"surface\":[{\"type\":\"surface\",\"colorbar\":{\"outlinewidth\":0,\"ticks\":\"\"},\"colorscale\":[[0.0,\"#0d0887\"],[0.1111111111111111,\"#46039f\"],[0.2222222222222222,\"#7201a8\"],[0.3333333333333333,\"#9c179e\"],[0.4444444444444444,\"#bd3786\"],[0.5555555555555556,\"#d8576b\"],[0.6666666666666666,\"#ed7953\"],[0.7777777777777778,\"#fb9f3a\"],[0.8888888888888888,\"#fdca26\"],[1.0,\"#f0f921\"]]}],\"mesh3d\":[{\"type\":\"mesh3d\",\"colorbar\":{\"outlinewidth\":0,\"ticks\":\"\"}}],\"scatter\":[{\"marker\":{\"line\":{\"color\":\"#283442\"}},\"type\":\"scatter\"}],\"parcoords\":[{\"type\":\"parcoords\",\"line\":{\"colorbar\":{\"outlinewidth\":0,\"ticks\":\"\"}}}],\"scatterpolargl\":[{\"type\":\"scatterpolargl\",\"marker\":{\"colorbar\":{\"outlinewidth\":0,\"ticks\":\"\"}}}],\"bar\":[{\"error_x\":{\"color\":\"#f2f5fa\"},\"error_y\":{\"color\":\"#f2f5fa\"},\"marker\":{\"line\":{\"color\":\"rgb(17,17,17)\",\"width\":0.5},\"pattern\":{\"fillmode\":\"overlay\",\"size\":10,\"solidity\":0.2}},\"type\":\"bar\"}],\"scattergeo\":[{\"type\":\"scattergeo\",\"marker\":{\"colorbar\":{\"outlinewidth\":0,\"ticks\":\"\"}}}],\"scatterpolar\":[{\"type\":\"scatterpolar\",\"marker\":{\"colorbar\":{\"outlinewidth\":0,\"ticks\":\"\"}}}],\"histogram\":[{\"marker\":{\"pattern\":{\"fillmode\":\"overlay\",\"size\":10,\"solidity\":0.2}},\"type\":\"histogram\"}],\"scattergl\":[{\"marker\":{\"line\":{\"color\":\"#283442\"}},\"type\":\"scattergl\"}],\"scatter3d\":[{\"type\":\"scatter3d\",\"line\":{\"colorbar\":{\"outlinewidth\":0,\"ticks\":\"\"}},\"marker\":{\"colorbar\":{\"outlinewidth\":0,\"ticks\":\"\"}}}],\"scattermapbox\":[{\"type\":\"scattermapbox\",\"marker\":{\"colorbar\":{\"outlinewidth\":0,\"ticks\":\"\"}}}],\"scatterternary\":[{\"type\":\"scatterternary\",\"marker\":{\"colorbar\":{\"outlinewidth\":0,\"ticks\":\"\"}}}],\"scattercarpet\":[{\"type\":\"scattercarpet\",\"marker\":{\"colorbar\":{\"outlinewidth\":0,\"ticks\":\"\"}}}],\"carpet\":[{\"aaxis\":{\"endlinecolor\":\"#A2B1C6\",\"gridcolor\":\"#506784\",\"linecolor\":\"#506784\",\"minorgridcolor\":\"#506784\",\"startlinecolor\":\"#A2B1C6\"},\"baxis\":{\"endlinecolor\":\"#A2B1C6\",\"gridcolor\":\"#506784\",\"linecolor\":\"#506784\",\"minorgridcolor\":\"#506784\",\"startlinecolor\":\"#A2B1C6\"},\"type\":\"carpet\"}],\"table\":[{\"cells\":{\"fill\":{\"color\":\"#506784\"},\"line\":{\"color\":\"rgb(17,17,17)\"}},\"header\":{\"fill\":{\"color\":\"#2a3f5f\"},\"line\":{\"color\":\"rgb(17,17,17)\"}},\"type\":\"table\"}],\"barpolar\":[{\"marker\":{\"line\":{\"color\":\"rgb(17,17,17)\",\"width\":0.5},\"pattern\":{\"fillmode\":\"overlay\",\"size\":10,\"solidity\":0.2}},\"type\":\"barpolar\"}],\"pie\":[{\"automargin\":true,\"type\":\"pie\"}]},\"layout\":{\"autotypenumbers\":\"strict\",\"colorway\":[\"#636efa\",\"#EF553B\",\"#00cc96\",\"#ab63fa\",\"#FFA15A\",\"#19d3f3\",\"#FF6692\",\"#B6E880\",\"#FF97FF\",\"#FECB52\"],\"font\":{\"color\":\"#f2f5fa\"},\"hovermode\":\"closest\",\"hoverlabel\":{\"align\":\"left\"},\"paper_bgcolor\":\"rgb(17,17,17)\",\"plot_bgcolor\":\"rgb(17,17,17)\",\"polar\":{\"bgcolor\":\"rgb(17,17,17)\",\"angularaxis\":{\"gridcolor\":\"#506784\",\"linecolor\":\"#506784\",\"ticks\":\"\"},\"radialaxis\":{\"gridcolor\":\"#506784\",\"linecolor\":\"#506784\",\"ticks\":\"\"}},\"ternary\":{\"bgcolor\":\"rgb(17,17,17)\",\"aaxis\":{\"gridcolor\":\"#506784\",\"linecolor\":\"#506784\",\"ticks\":\"\"},\"baxis\":{\"gridcolor\":\"#506784\",\"linecolor\":\"#506784\",\"ticks\":\"\"},\"caxis\":{\"gridcolor\":\"#506784\",\"linecolor\":\"#506784\",\"ticks\":\"\"}},\"coloraxis\":{\"colorbar\":{\"outlinewidth\":0,\"ticks\":\"\"}},\"colorscale\":{\"sequential\":[[0.0,\"#0d0887\"],[0.1111111111111111,\"#46039f\"],[0.2222222222222222,\"#7201a8\"],[0.3333333333333333,\"#9c179e\"],[0.4444444444444444,\"#bd3786\"],[0.5555555555555556,\"#d8576b\"],[0.6666666666666666,\"#ed7953\"],[0.7777777777777778,\"#fb9f3a\"],[0.8888888888888888,\"#fdca26\"],[1.0,\"#f0f921\"]],\"sequentialminus\":[[0.0,\"#0d0887\"],[0.1111111111111111,\"#46039f\"],[0.2222222222222222,\"#7201a8\"],[0.3333333333333333,\"#9c179e\"],[0.4444444444444444,\"#bd3786\"],[0.5555555555555556,\"#d8576b\"],[0.6666666666666666,\"#ed7953\"],[0.7777777777777778,\"#fb9f3a\"],[0.8888888888888888,\"#fdca26\"],[1.0,\"#f0f921\"]],\"diverging\":[[0,\"#8e0152\"],[0.1,\"#c51b7d\"],[0.2,\"#de77ae\"],[0.3,\"#f1b6da\"],[0.4,\"#fde0ef\"],[0.5,\"#f7f7f7\"],[0.6,\"#e6f5d0\"],[0.7,\"#b8e186\"],[0.8,\"#7fbc41\"],[0.9,\"#4d9221\"],[1,\"#276419\"]]},\"xaxis\":{\"gridcolor\":\"#283442\",\"linecolor\":\"#506784\",\"ticks\":\"\",\"title\":{\"standoff\":15},\"zerolinecolor\":\"#283442\",\"automargin\":true,\"zerolinewidth\":2},\"yaxis\":{\"gridcolor\":\"#283442\",\"linecolor\":\"#506784\",\"ticks\":\"\",\"title\":{\"standoff\":15},\"zerolinecolor\":\"#283442\",\"automargin\":true,\"zerolinewidth\":2},\"scene\":{\"xaxis\":{\"backgroundcolor\":\"rgb(17,17,17)\",\"gridcolor\":\"#506784\",\"linecolor\":\"#506784\",\"showbackground\":true,\"ticks\":\"\",\"zerolinecolor\":\"#C8D4E3\",\"gridwidth\":2},\"yaxis\":{\"backgroundcolor\":\"rgb(17,17,17)\",\"gridcolor\":\"#506784\",\"linecolor\":\"#506784\",\"showbackground\":true,\"ticks\":\"\",\"zerolinecolor\":\"#C8D4E3\",\"gridwidth\":2},\"zaxis\":{\"backgroundcolor\":\"rgb(17,17,17)\",\"gridcolor\":\"#506784\",\"linecolor\":\"#506784\",\"showbackground\":true,\"ticks\":\"\",\"zerolinecolor\":\"#C8D4E3\",\"gridwidth\":2}},\"shapedefaults\":{\"line\":{\"color\":\"#f2f5fa\"}},\"annotationdefaults\":{\"arrowcolor\":\"#f2f5fa\",\"arrowhead\":0,\"arrowwidth\":1},\"geo\":{\"bgcolor\":\"rgb(17,17,17)\",\"landcolor\":\"rgb(17,17,17)\",\"subunitcolor\":\"#506784\",\"showland\":true,\"showlakes\":true,\"lakecolor\":\"rgb(17,17,17)\"},\"title\":{\"x\":0.05},\"updatemenudefaults\":{\"bgcolor\":\"#506784\",\"borderwidth\":0},\"sliderdefaults\":{\"bgcolor\":\"#C8D4E3\",\"borderwidth\":1,\"bordercolor\":\"rgb(17,17,17)\",\"tickwidth\":0},\"mapbox\":{\"style\":\"dark\"}}}},                        {\"responsive\": true}                    ).then(function(){\n                            \nvar gd = document.getElementById('513692d5-8a86-4c47-8cc6-fefa6c0c0f4c');\nvar x = new MutationObserver(function (mutations, observer) {{\n        var display = window.getComputedStyle(gd).display;\n        if (!display || display === 'none') {{\n            console.log([gd, 'removed!']);\n            Plotly.purge(gd);\n            observer.disconnect();\n        }}\n}});\n\n// Listen for the removal of the full notebook cells\nvar notebookContainer = gd.closest('#notebook-container');\nif (notebookContainer) {{\n    x.observe(notebookContainer, {childList: true});\n}}\n\n// Listen for the clearing of the current output cell\nvar outputEl = gd.closest('.output');\nif (outputEl) {{\n    x.observe(outputEl, {childList: true});\n}}\n\n                        })                };                });            </script>        </div>"
     },
     "metadata": {},
     "output_type": "display_data"
    },
    {
     "name": "stdout",
     "output_type": "stream",
     "text": [
      "{'Pregnancies': -0.14164285714285726, 'Glucose': 8.109030652173937, 'Blood Pressure': -19.567743788819797, 'Skin Thickness': -0.9180631987577639, 'Insulin': -1.9346343167701865, 'BMI': -0.23160590062111788, 'DiabetesPedigreeFunction': -0.0030056832298136662, 'Age': -20.64503707142856}\n",
      "[[0.    0.106 0.103 0.03  0.059 0.047 0.021 0.187]\n",
      " [0.106 0.    0.131 0.058 0.111 0.035 0.046 0.352]\n",
      " [0.103 0.131 0.    0.074 0.125 0.048 0.09  0.396]\n",
      " [0.03  0.058 0.074 0.    0.042 0.041 0.019 0.175]\n",
      " [0.059 0.111 0.125 0.042 0.    0.02  0.023 0.208]\n",
      " [0.047 0.035 0.048 0.041 0.02  0.    0.007 0.072]\n",
      " [0.021 0.046 0.09  0.019 0.023 0.007 0.    0.065]\n",
      " [0.187 0.352 0.396 0.175 0.208 0.072 0.065 0.   ]]\n"
     ]
    }
   ],
   "source": [
    "average_movement, evolved_x, cooccurrence_matrix, Graph, phenotype_list, correlation_matrix = analyse_global_phenotype(input_folder, features)\n",
    "print(cooccurrence_matrix)"
   ],
   "metadata": {
    "collapsed": false,
    "ExecuteTime": {
     "end_time": "2024-06-25T11:40:14.537939Z",
     "start_time": "2024-06-25T11:40:14.431959Z"
    }
   },
   "id": "79f95b8dfb3f1c06",
   "execution_count": 14
  },
  {
   "cell_type": "markdown",
   "source": [
    "## Lets analyse the node centrality and degree centrality"
   ],
   "metadata": {
    "collapsed": false
   },
   "id": "72db566c87dc9b5d"
  },
  {
   "cell_type": "code",
   "outputs": [],
   "source": [
    "x = list(range(0, 8))\n",
    "degrees = [Graph.degree(n, weight='weight') for n in Graph.nodes()]\n"
   ],
   "metadata": {
    "collapsed": false,
    "ExecuteTime": {
     "end_time": "2024-06-25T11:40:18.176759Z",
     "start_time": "2024-06-25T11:40:18.166140Z"
    }
   },
   "id": "3d8bb23659608d31",
   "execution_count": 15
  },
  {
   "cell_type": "code",
   "outputs": [
    {
     "data": {
      "text/plain": "<BarContainer object of 8 artists>"
     },
     "execution_count": 16,
     "metadata": {},
     "output_type": "execute_result"
    },
    {
     "data": {
      "text/plain": "<Figure size 640x480 with 1 Axes>",
      "image/png": "[encoded data removed]"
     },
     "metadata": {},
     "output_type": "display_data"
    }
   ],
   "source": [
    "plt.bar(x, degrees)"
   ],
   "metadata": {
    "collapsed": false,
    "ExecuteTime": {
     "end_time": "2024-06-25T11:40:18.574720Z",
     "start_time": "2024-06-25T11:40:18.479424Z"
    }
   },
   "id": "7d4c4ea9daf80f86",
   "execution_count": 16
  },
  {
   "cell_type": "markdown",
   "source": [
    "# lets look at other-ways to find shift in the distribution"
   ],
   "metadata": {
    "collapsed": false
   },
   "id": "209839d68d88a59f"
  },
  {
   "cell_type": "code",
   "outputs": [],
   "source": [
    "\n",
    "def plot_nth_element_pdf(arrays1, arrays2, n, feature_name):\n",
    "\n",
    "    # Extract the nth element from each array in the first list\n",
    "    nth_elements1 = [array[n] for array in arrays1 if len(array) > n]\n",
    "    \n",
    "    # Extract the nth element from each array in the second list\n",
    "    nth_elements2 = [array[n] for array in arrays2 if len(array) > n]\n",
    "    \n",
    "    # Check if both nth_elements lists are not empty\n",
    "    if not nth_elements1:\n",
    "        print(f\"No elements found at index {n} in the first list of arrays.\")\n",
    "        return\n",
    "    if not nth_elements2:\n",
    "        print(f\"No elements found at index {n} in the second list of arrays.\")\n",
    "        return\n",
    "    \n",
    "    # Convert lists to numpy arrays for convenience\n",
    "    nth_elements1 = np.array(nth_elements1)\n",
    "    nth_elements2 = np.array(nth_elements2)\n",
    "    \n",
    "    # Plot the PDF using seaborn for both sets of elements\n",
    "    sns.kdeplot(nth_elements1, fill=True, label='Input distribution')\n",
    "    sns.kdeplot(nth_elements2, fill=True, label='Evolved distribution')\n",
    "    \n",
    "    # Adding labels, title, and legend\n",
    "    plt.xlabel(f'feature space: {feature_name}')\n",
    "    plt.ylabel('Density')\n",
    "    plt.title(f'PDF distribution for the {feature_name}')\n",
    "    plt.legend()\n",
    "    \n",
    "    # Show the plot\n",
    "    plt.show()\n",
    "    \n",
    "def plot_distribution_shift_for_each_element(input_list, evolved_x, features):\n",
    "    for i in range(0, len(features)):\n",
    "        plot_nth_element_pdf(input_list, evolved_x, i, features[i])\n",
    "\n",
    "def analyse_distribution_shift(phenotype_per_sample_collection, input_list, features):\n",
    "    evolved_x = []\n",
    "    for i, sample in enumerate(phenotype_per_sample_collection):\n",
    "        changed_input = []\n",
    "        for phenotype in sample:\n",
    "            x = copy.deepcopy(input_list[i])\n",
    "            x_out = apply_phenotype(x, phenotype)\n",
    "            changed_input.append(x_out)\n",
    "        # print(np.array(changed_input).shape)\n",
    "        evolved_x.append(np.mean(np.array(changed_input), axis=0))\n",
    "    return evolved_x, input_list\n",
    "    \n",
    "    \n",
    "def analyse_global_phenotype(input_folder, features, features_index=8):\n",
    "    phenotype_list = []\n",
    "    phenotype_per_sample_collection = []\n",
    "    input_list = []\n",
    "    for i in os.listdir(input_folder):\n",
    "        if i=='.DS_Store':\n",
    "            continue\n",
    "        filename = input_folder + '/' + i + '/' \"final_gen.csv\"\n",
    "        input_array_location = input_folder + '/' + i + '/' + 'input_data.npy'\n",
    "        # print(filename)\n",
    "        input = load_data(input_array_location)\n",
    "        # print(input)\n",
    "        # print(filename)\n",
    "        data = pd.read_csv(filename)\n",
    "        data = data.sort_values(by=['o_1'])\n",
    "        data = data[data['o_1'] < 0.45]\n",
    "        data['combined_phenotype'] = data.apply(lambda row: combine_operations(row['Phenotype'], input), axis=1)\n",
    "        phenotype_list.extend(list(data['Phenotype']))\n",
    "        phenotype_per_sample_collection.append(list(data['combined_phenotype']))\n",
    "        input_list.append(input)\n",
    "    \n",
    "    #  create co-occurence matrix\n",
    "    cooccurrence_matrix, correlation_matrix = count_index_cooccurrences(phenotype_list, features_index)\n",
    "    cooccurrence_matrix = np.round(cooccurrence_matrix,decimals = 3) \n",
    "    \n",
    "    G = create_graph_from_matrix(cooccurrence_matrix)\n",
    "    draw_graph_plotly(G, features)\n",
    "    evolved_x, input_list = analyse_distribution_shift(phenotype_per_sample_collection, input_list, features)\n",
    "    \n",
    "    plot_distribution_shift_for_each_element(input_list, evolved_x, features)\n",
    "    # print(average_movement)\n",
    "    return input_list, evolved_x, cooccurrence_matrix, G, phenotype_per_sample_collection, correlation_matrix\n",
    "\n"
   ],
   "metadata": {
    "collapsed": false,
    "ExecuteTime": {
     "end_time": "2024-06-25T11:40:19.312034Z",
     "start_time": "2024-06-25T11:40:19.309487Z"
    }
   },
   "id": "5157dcfce33b9b15",
   "execution_count": 17
  },
  {
   "cell_type": "code",
   "outputs": [
    {
     "data": {
      "application/vnd.plotly.v1+json": {
       "data": [
        {
         "hoverinfo": "text",
         "line": {
          "color": "#888",
          "width": 0.5
         },
         "mode": "lines",
         "text": [
          "Weight: 0.106",
          "Weight: 0.103",
          "Weight: 0.03",
          "Weight: 0.059",
          "Weight: 0.047",
          "Weight: 0.021",
          "Weight: 0.187",
          "Weight: 0.131",
          "Weight: 0.058",
          "Weight: 0.111",
          "Weight: 0.035",
          "Weight: 0.046",
          "Weight: 0.352",
          "Weight: 0.074",
          "Weight: 0.125",
          "Weight: 0.048",
          "Weight: 0.09",
          "Weight: 0.396",
          "Weight: 0.042",
          "Weight: 0.041",
          "Weight: 0.019",
          "Weight: 0.175",
          "Weight: 0.02",
          "Weight: 0.023",
          "Weight: 0.208",
          "Weight: 0.007",
          "Weight: 0.072",
          "Weight: 0.065"
         ],
         "x": [
          0.6187955395204764,
          0.22221628265854465,
          null,
          0.6187955395204764,
          -0.3522126672663308,
          null,
          0.6187955395204764,
          -0.2922769959803074,
          null,
          0.6187955395204764,
          -0.009088701034777972,
          null,
          0.6187955395204764,
          0.7751682971185057,
          null,
          0.6187955395204764,
          -0.9999999999999999,
          null,
          0.6187955395204764,
          0.037398244983890015,
          null,
          0.22221628265854465,
          -0.3522126672663308,
          null,
          0.22221628265854465,
          -0.2922769959803074,
          null,
          0.22221628265854465,
          -0.009088701034777972,
          null,
          0.22221628265854465,
          0.7751682971185057,
          null,
          0.22221628265854465,
          -0.9999999999999999,
          null,
          0.22221628265854465,
          0.037398244983890015,
          null,
          -0.3522126672663308,
          -0.2922769959803074,
          null,
          -0.3522126672663308,
          -0.009088701034777972,
          null,
          -0.3522126672663308,
          0.7751682971185057,
          null,
          -0.3522126672663308,
          -0.9999999999999999,
          null,
          -0.3522126672663308,
          0.037398244983890015,
          null,
          -0.2922769959803074,
          -0.009088701034777972,
          null,
          -0.2922769959803074,
          0.7751682971185057,
          null,
          -0.2922769959803074,
          -0.9999999999999999,
          null,
          -0.2922769959803074,
          0.037398244983890015,
          null,
          -0.009088701034777972,
          0.7751682971185057,
          null,
          -0.009088701034777972,
          -0.9999999999999999,
          null,
          -0.009088701034777972,
          0.037398244983890015,
          null,
          0.7751682971185057,
          -0.9999999999999999,
          null,
          0.7751682971185057,
          0.037398244983890015,
          null,
          -0.9999999999999999,
          0.037398244983890015,
          null
         ],
         "y": [
          -0.33041461477399736,
          0.2260231875142035,
          null,
          -0.33041461477399736,
          -0.09046029048183377,
          null,
          -0.33041461477399736,
          0.6456819926376136,
          null,
          -0.33041461477399736,
          -0.6788939825424735,
          null,
          -0.33041461477399736,
          0.6279266447365613,
          null,
          -0.33041461477399736,
          -0.29970073149675025,
          null,
          -0.33041461477399736,
          -0.10016220559332306,
          null,
          0.2260231875142035,
          -0.09046029048183377,
          null,
          0.2260231875142035,
          0.6456819926376136,
          null,
          0.2260231875142035,
          -0.6788939825424735,
          null,
          0.2260231875142035,
          0.6279266447365613,
          null,
          0.2260231875142035,
          -0.29970073149675025,
          null,
          0.2260231875142035,
          -0.10016220559332306,
          null,
          -0.09046029048183377,
          0.6456819926376136,
          null,
          -0.09046029048183377,
          -0.6788939825424735,
          null,
          -0.09046029048183377,
          0.6279266447365613,
          null,
          -0.09046029048183377,
          -0.29970073149675025,
          null,
          -0.09046029048183377,
          -0.10016220559332306,
          null,
          0.6456819926376136,
          -0.6788939825424735,
          null,
          0.6456819926376136,
          0.6279266447365613,
          null,
          0.6456819926376136,
          -0.29970073149675025,
          null,
          0.6456819926376136,
          -0.10016220559332306,
          null,
          -0.6788939825424735,
          0.6279266447365613,
          null,
          -0.6788939825424735,
          -0.29970073149675025,
          null,
          -0.6788939825424735,
          -0.10016220559332306,
          null,
          0.6279266447365613,
          -0.29970073149675025,
          null,
          0.6279266447365613,
          -0.10016220559332306,
          null,
          -0.29970073149675025,
          -0.10016220559332306,
          null
         ],
         "type": "scatter"
        },
        {
         "hoverinfo": "text",
         "marker": {
          "color": [
           7,
           7,
           7,
           7,
           7,
           7,
           7,
           7
          ],
          "colorbar": {
           "thickness": 15,
           "title": {
            "side": "right",
            "text": "Node Connections"
           },
           "xanchor": "left"
          },
          "colorscale": [
           [
            0.0,
            "rgb(255,255,217)"
           ],
           [
            0.125,
            "rgb(237,248,177)"
           ],
           [
            0.25,
            "rgb(199,233,180)"
           ],
           [
            0.375,
            "rgb(127,205,187)"
           ],
           [
            0.5,
            "rgb(65,182,196)"
           ],
           [
            0.625,
            "rgb(29,145,192)"
           ],
           [
            0.75,
            "rgb(34,94,168)"
           ],
           [
            0.875,
            "rgb(37,52,148)"
           ],
           [
            1.0,
            "rgb(8,29,88)"
           ]
          ],
          "line": {
           "width": 2
          },
          "reversescale": true,
          "showscale": true,
          "size": 10
         },
         "mode": "markers",
         "text": [
          "Index: 0, feature: Pregnancies<br># of connections: 7",
          "Index: 1, feature: Glucose<br># of connections: 7",
          "Index: 2, feature: Blood Pressure<br># of connections: 7",
          "Index: 3, feature: Skin Thickness<br># of connections: 7",
          "Index: 4, feature: Insulin<br># of connections: 7",
          "Index: 5, feature: BMI<br># of connections: 7",
          "Index: 6, feature: DiabetesPedigreeFunction<br># of connections: 7",
          "Index: 7, feature: Age<br># of connections: 7"
         ],
         "x": [
          0.6187955395204764,
          0.22221628265854465,
          -0.3522126672663308,
          -0.2922769959803074,
          -0.009088701034777972,
          0.7751682971185057,
          -0.9999999999999999,
          0.037398244983890015
         ],
         "y": [
          -0.33041461477399736,
          0.2260231875142035,
          -0.09046029048183377,
          0.6456819926376136,
          -0.6788939825424735,
          0.6279266447365613,
          -0.29970073149675025,
          -0.10016220559332306
         ],
         "type": "scatter"
        },
        {
         "hovertemplate": " %{hovertext}<extra></extra>",
         "hovertext": [
          "Edge (0 - 1): 0.106",
          "Edge (0 - 2): 0.103",
          "Edge (0 - 3): 0.03",
          "Edge (0 - 4): 0.059",
          "Edge (0 - 5): 0.047",
          "Edge (0 - 6): 0.021",
          "Edge (0 - 7): 0.187",
          "Edge (1 - 2): 0.131",
          "Edge (1 - 3): 0.058",
          "Edge (1 - 4): 0.111",
          "Edge (1 - 5): 0.035",
          "Edge (1 - 6): 0.046",
          "Edge (1 - 7): 0.352",
          "Edge (2 - 3): 0.074",
          "Edge (2 - 4): 0.125",
          "Edge (2 - 5): 0.048",
          "Edge (2 - 6): 0.09",
          "Edge (2 - 7): 0.396",
          "Edge (3 - 4): 0.042",
          "Edge (3 - 5): 0.041",
          "Edge (3 - 6): 0.019",
          "Edge (3 - 7): 0.175",
          "Edge (4 - 5): 0.02",
          "Edge (4 - 6): 0.023",
          "Edge (4 - 7): 0.208",
          "Edge (5 - 6): 0.007",
          "Edge (5 - 7): 0.072",
          "Edge (6 - 7): 0.065"
         ],
         "marker": {
          "opacity": 0
         },
         "mode": "markers",
         "showlegend": false,
         "x": [
          0.4205059110895105,
          0.13329143612707278,
          0.1632592717700845,
          0.3048534192428492,
          0.696981918319491,
          -0.19060223023976175,
          0.3280968922521832,
          -0.06499819230389309,
          -0.03503035666088136,
          0.10656379081188334,
          0.49869228988852515,
          -0.3888918586707276,
          0.12980726382121732,
          -0.3222448316233191,
          -0.1806506841505544,
          0.21147781492608742,
          -0.6761063336331654,
          -0.15740721114122042,
          -0.15068284850754268,
          0.24144565056909914,
          -0.6461384979901537,
          -0.1274393754982087,
          0.38303979804186383,
          -0.5045443505173889,
          0.014154771974556023,
          -0.11241585144074712,
          0.4062832710511978,
          -0.48130087750805495
         ],
         "y": [
          -0.05219571362989693,
          -0.21043745262791558,
          0.15763368893180812,
          -0.5046542986582354,
          0.148756014981282,
          -0.3150576731353738,
          -0.2152884101836602,
          0.06778144851618487,
          0.43585259007590854,
          -0.226435397514135,
          0.4269749161253824,
          -0.036838771991273375,
          0.06293049096044022,
          0.2776108510778899,
          -0.38467713651215363,
          0.2687331771273638,
          -0.19508051098929202,
          -0.09531124803757841,
          -0.016605994952429926,
          0.6368043186870875,
          0.17299063057043168,
          0.27275989352214525,
          -0.025483668902956058,
          -0.48929735701961186,
          -0.38952809406789823,
          0.16411295661990555,
          0.26388221957161917,
          -0.19993146854503666
         ],
         "type": "scatter"
        }
       ],
       "layout": {
        "annotations": [
         {
          "showarrow": false,
          "text": "Phenotype graph",
          "x": 0.005,
          "xref": "paper",
          "y": -0.002,
          "yref": "paper"
         }
        ],
        "hovermode": "closest",
        "margin": {
         "b": 20,
         "l": 5,
         "r": 5,
         "t": 40
        },
        "showlegend": false,
        "title": {
         "font": {
          "size": 16
         },
         "text": "<br>Relation Graph between different features"
        },
        "xaxis": {
         "showgrid": false,
         "showticklabels": false,
         "zeroline": false
        },
        "yaxis": {
         "showgrid": false,
         "showticklabels": false,
         "zeroline": false
        },
        "template": {
         "data": {
          "histogram2dcontour": [
           {
            "type": "histogram2dcontour",
            "colorbar": {
             "outlinewidth": 0,
             "ticks": ""
            },
            "colorscale": [
             [
              0.0,
              "#0d0887"
             ],
             [
              0.1111111111111111,
              "#46039f"
             ],
             [
              0.2222222222222222,
              "#7201a8"
             ],
             [
              0.3333333333333333,
              "#9c179e"
             ],
             [
              0.4444444444444444,
              "#bd3786"
             ],
             [
              0.5555555555555556,
              "#d8576b"
             ],
             [
              0.6666666666666666,
              "#ed7953"
             ],
             [
              0.7777777777777778,
              "#fb9f3a"
             ],
             [
              0.8888888888888888,
              "#fdca26"
             ],
             [
              1.0,
              "#f0f921"
             ]
            ]
           }
          ],
          "choropleth": [
           {
            "type": "choropleth",
            "colorbar": {
             "outlinewidth": 0,
             "ticks": ""
            }
           }
          ],
          "histogram2d": [
           {
            "type": "histogram2d",
            "colorbar": {
             "outlinewidth": 0,
             "ticks": ""
            },
            "colorscale": [
             [
              0.0,
              "#0d0887"
             ],
             [
              0.1111111111111111,
              "#46039f"
             ],
             [
              0.2222222222222222,
              "#7201a8"
             ],
             [
              0.3333333333333333,
              "#9c179e"
             ],
             [
              0.4444444444444444,
              "#bd3786"
             ],
             [
              0.5555555555555556,
              "#d8576b"
             ],
             [
              0.6666666666666666,
              "#ed7953"
             ],
             [
              0.7777777777777778,
              "#fb9f3a"
             ],
             [
              0.8888888888888888,
              "#fdca26"
             ],
             [
              1.0,
              "#f0f921"
             ]
            ]
           }
          ],
          "heatmap": [
           {
            "type": "heatmap",
            "colorbar": {
             "outlinewidth": 0,
             "ticks": ""
            },
            "colorscale": [
             [
              0.0,
              "#0d0887"
             ],
             [
              0.1111111111111111,
              "#46039f"
             ],
             [
              0.2222222222222222,
              "#7201a8"
             ],
             [
              0.3333333333333333,
              "#9c179e"
             ],
             [
              0.4444444444444444,
              "#bd3786"
             ],
             [
              0.5555555555555556,
              "#d8576b"
             ],
             [
              0.6666666666666666,
              "#ed7953"
             ],
             [
              0.7777777777777778,
              "#fb9f3a"
             ],
             [
              0.8888888888888888,
              "#fdca26"
             ],
             [
              1.0,
              "#f0f921"
             ]
            ]
           }
          ],
          "heatmapgl": [
           {
            "type": "heatmapgl",
            "colorbar": {
             "outlinewidth": 0,
             "ticks": ""
            },
            "colorscale": [
             [
              0.0,
              "#0d0887"
             ],
             [
              0.1111111111111111,
              "#46039f"
             ],
             [
              0.2222222222222222,
              "#7201a8"
             ],
             [
              0.3333333333333333,
              "#9c179e"
             ],
             [
              0.4444444444444444,
              "#bd3786"
             ],
             [
              0.5555555555555556,
              "#d8576b"
             ],
             [
              0.6666666666666666,
              "#ed7953"
             ],
             [
              0.7777777777777778,
              "#fb9f3a"
             ],
             [
              0.8888888888888888,
              "#fdca26"
             ],
             [
              1.0,
              "#f0f921"
             ]
            ]
           }
          ],
          "contourcarpet": [
           {
            "type": "contourcarpet",
            "colorbar": {
             "outlinewidth": 0,
             "ticks": ""
            }
           }
          ],
          "contour": [
           {
            "type": "contour",
            "colorbar": {
             "outlinewidth": 0,
             "ticks": ""
            },
            "colorscale": [
             [
              0.0,
              "#0d0887"
             ],
             [
              0.1111111111111111,
              "#46039f"
             ],
             [
              0.2222222222222222,
              "#7201a8"
             ],
             [
              0.3333333333333333,
              "#9c179e"
             ],
             [
              0.4444444444444444,
              "#bd3786"
             ],
             [
              0.5555555555555556,
              "#d8576b"
             ],
             [
              0.6666666666666666,
              "#ed7953"
             ],
             [
              0.7777777777777778,
              "#fb9f3a"
             ],
             [
              0.8888888888888888,
              "#fdca26"
             ],
             [
              1.0,
              "#f0f921"
             ]
            ]
           }
          ],
          "surface": [
           {
            "type": "surface",
            "colorbar": {
             "outlinewidth": 0,
             "ticks": ""
            },
            "colorscale": [
             [
              0.0,
              "#0d0887"
             ],
             [
              0.1111111111111111,
              "#46039f"
             ],
             [
              0.2222222222222222,
              "#7201a8"
             ],
             [
              0.3333333333333333,
              "#9c179e"
             ],
             [
              0.4444444444444444,
              "#bd3786"
             ],
             [
              0.5555555555555556,
              "#d8576b"
             ],
             [
              0.6666666666666666,
              "#ed7953"
             ],
             [
              0.7777777777777778,
              "#fb9f3a"
             ],
             [
              0.8888888888888888,
              "#fdca26"
             ],
             [
              1.0,
              "#f0f921"
             ]
            ]
           }
          ],
          "mesh3d": [
           {
            "type": "mesh3d",
            "colorbar": {
             "outlinewidth": 0,
             "ticks": ""
            }
           }
          ],
          "scatter": [
           {
            "marker": {
             "line": {
              "color": "#283442"
             }
            },
            "type": "scatter"
           }
          ],
          "parcoords": [
           {
            "type": "parcoords",
            "line": {
             "colorbar": {
              "outlinewidth": 0,
              "ticks": ""
             }
            }
           }
          ],
          "scatterpolargl": [
           {
            "type": "scatterpolargl",
            "marker": {
             "colorbar": {
              "outlinewidth": 0,
              "ticks": ""
             }
            }
           }
          ],
          "bar": [
           {
            "error_x": {
             "color": "#f2f5fa"
            },
            "error_y": {
             "color": "#f2f5fa"
            },
            "marker": {
             "line": {
              "color": "rgb(17,17,17)",
              "width": 0.5
             },
             "pattern": {
              "fillmode": "overlay",
              "size": 10,
              "solidity": 0.2
             }
            },
            "type": "bar"
           }
          ],
          "scattergeo": [
           {
            "type": "scattergeo",
            "marker": {
             "colorbar": {
              "outlinewidth": 0,
              "ticks": ""
             }
            }
           }
          ],
          "scatterpolar": [
           {
            "type": "scatterpolar",
            "marker": {
             "colorbar": {
              "outlinewidth": 0,
              "ticks": ""
             }
            }
           }
          ],
          "histogram": [
           {
            "marker": {
             "pattern": {
              "fillmode": "overlay",
              "size": 10,
              "solidity": 0.2
             }
            },
            "type": "histogram"
           }
          ],
          "scattergl": [
           {
            "marker": {
             "line": {
              "color": "#283442"
             }
            },
            "type": "scattergl"
           }
          ],
          "scatter3d": [
           {
            "type": "scatter3d",
            "line": {
             "colorbar": {
              "outlinewidth": 0,
              "ticks": ""
             }
            },
            "marker": {
             "colorbar": {
              "outlinewidth": 0,
              "ticks": ""
             }
            }
           }
          ],
          "scattermapbox": [
           {
            "type": "scattermapbox",
            "marker": {
             "colorbar": {
              "outlinewidth": 0,
              "ticks": ""
             }
            }
           }
          ],
          "scatterternary": [
           {
            "type": "scatterternary",
            "marker": {
             "colorbar": {
              "outlinewidth": 0,
              "ticks": ""
             }
            }
           }
          ],
          "scattercarpet": [
           {
            "type": "scattercarpet",
            "marker": {
             "colorbar": {
              "outlinewidth": 0,
              "ticks": ""
             }
            }
           }
          ],
          "carpet": [
           {
            "aaxis": {
             "endlinecolor": "#A2B1C6",
             "gridcolor": "#506784",
             "linecolor": "#506784",
             "minorgridcolor": "#506784",
             "startlinecolor": "#A2B1C6"
            },
            "baxis": {
             "endlinecolor": "#A2B1C6",
             "gridcolor": "#506784",
             "linecolor": "#506784",
             "minorgridcolor": "#506784",
             "startlinecolor": "#A2B1C6"
            },
            "type": "carpet"
           }
          ],
          "table": [
           {
            "cells": {
             "fill": {
              "color": "#506784"
             },
             "line": {
              "color": "rgb(17,17,17)"
             }
            },
            "header": {
             "fill": {
              "color": "#2a3f5f"
             },
             "line": {
              "color": "rgb(17,17,17)"
             }
            },
            "type": "table"
           }
          ],
          "barpolar": [
           {
            "marker": {
             "line": {
              "color": "rgb(17,17,17)",
              "width": 0.5
             },
             "pattern": {
              "fillmode": "overlay",
              "size": 10,
              "solidity": 0.2
             }
            },
            "type": "barpolar"
           }
          ],
          "pie": [
           {
            "automargin": true,
            "type": "pie"
           }
          ]
         },
         "layout": {
          "autotypenumbers": "strict",
          "colorway": [
           "#636efa",
           "#EF553B",
           "#00cc96",
           "#ab63fa",
           "#FFA15A",
           "#19d3f3",
           "#FF6692",
           "#B6E880",
           "#FF97FF",
           "#FECB52"
          ],
          "font": {
           "color": "#f2f5fa"
          },
          "hovermode": "closest",
          "hoverlabel": {
           "align": "left"
          },
          "paper_bgcolor": "rgb(17,17,17)",
          "plot_bgcolor": "rgb(17,17,17)",
          "polar": {
           "bgcolor": "rgb(17,17,17)",
           "angularaxis": {
            "gridcolor": "#506784",
            "linecolor": "#506784",
            "ticks": ""
           },
           "radialaxis": {
            "gridcolor": "#506784",
            "linecolor": "#506784",
            "ticks": ""
           }
          },
          "ternary": {
           "bgcolor": "rgb(17,17,17)",
           "aaxis": {
            "gridcolor": "#506784",
            "linecolor": "#506784",
            "ticks": ""
           },
           "baxis": {
            "gridcolor": "#506784",
            "linecolor": "#506784",
            "ticks": ""
           },
           "caxis": {
            "gridcolor": "#506784",
            "linecolor": "#506784",
            "ticks": ""
           }
          },
          "coloraxis": {
           "colorbar": {
            "outlinewidth": 0,
            "ticks": ""
           }
          },
          "colorscale": {
           "sequential": [
            [
             0.0,
             "#0d0887"
            ],
            [
             0.1111111111111111,
             "#46039f"
            ],
            [
             0.2222222222222222,
             "#7201a8"
            ],
            [
             0.3333333333333333,
             "#9c179e"
            ],
            [
             0.4444444444444444,
             "#bd3786"
            ],
            [
             0.5555555555555556,
             "#d8576b"
            ],
            [
             0.6666666666666666,
             "#ed7953"
            ],
            [
             0.7777777777777778,
             "#fb9f3a"
            ],
            [
             0.8888888888888888,
             "#fdca26"
            ],
            [
             1.0,
             "#f0f921"
            ]
           ],
           "sequentialminus": [
            [
             0.0,
             "#0d0887"
            ],
            [
             0.1111111111111111,
             "#46039f"
            ],
            [
             0.2222222222222222,
             "#7201a8"
            ],
            [
             0.3333333333333333,
             "#9c179e"
            ],
            [
             0.4444444444444444,
             "#bd3786"
            ],
            [
             0.5555555555555556,
             "#d8576b"
            ],
            [
             0.6666666666666666,
             "#ed7953"
            ],
            [
             0.7777777777777778,
             "#fb9f3a"
            ],
            [
             0.8888888888888888,
             "#fdca26"
            ],
            [
             1.0,
             "#f0f921"
            ]
           ],
           "diverging": [
            [
             0,
             "#8e0152"
            ],
            [
             0.1,
             "#c51b7d"
            ],
            [
             0.2,
             "#de77ae"
            ],
            [
             0.3,
             "#f1b6da"
            ],
            [
             0.4,
             "#fde0ef"
            ],
            [
             0.5,
             "#f7f7f7"
            ],
            [
             0.6,
             "#e6f5d0"
            ],
            [
             0.7,
             "#b8e186"
            ],
            [
             0.8,
             "#7fbc41"
            ],
            [
             0.9,
             "#4d9221"
            ],
            [
             1,
             "#276419"
            ]
           ]
          },
          "xaxis": {
           "gridcolor": "#283442",
           "linecolor": "#506784",
           "ticks": "",
           "title": {
            "standoff": 15
           },
           "zerolinecolor": "#283442",
           "automargin": true,
           "zerolinewidth": 2
          },
          "yaxis": {
           "gridcolor": "#283442",
           "linecolor": "#506784",
           "ticks": "",
           "title": {
            "standoff": 15
           },
           "zerolinecolor": "#283442",
           "automargin": true,
           "zerolinewidth": 2
          },
          "scene": {
           "xaxis": {
            "backgroundcolor": "rgb(17,17,17)",
            "gridcolor": "#506784",
            "linecolor": "#506784",
            "showbackground": true,
            "ticks": "",
            "zerolinecolor": "#C8D4E3",
            "gridwidth": 2
           },
           "yaxis": {
            "backgroundcolor": "rgb(17,17,17)",
            "gridcolor": "#506784",
            "linecolor": "#506784",
            "showbackground": true,
            "ticks": "",
            "zerolinecolor": "#C8D4E3",
            "gridwidth": 2
           },
           "zaxis": {
            "backgroundcolor": "rgb(17,17,17)",
            "gridcolor": "#506784",
            "linecolor": "#506784",
            "showbackground": true,
            "ticks": "",
            "zerolinecolor": "#C8D4E3",
            "gridwidth": 2
           }
          },
          "shapedefaults": {
           "line": {
            "color": "#f2f5fa"
           }
          },
          "annotationdefaults": {
           "arrowcolor": "#f2f5fa",
           "arrowhead": 0,
           "arrowwidth": 1
          },
          "geo": {
           "bgcolor": "rgb(17,17,17)",
           "landcolor": "rgb(17,17,17)",
           "subunitcolor": "#506784",
           "showland": true,
           "showlakes": true,
           "lakecolor": "rgb(17,17,17)"
          },
          "title": {
           "x": 0.05
          },
          "updatemenudefaults": {
           "bgcolor": "#506784",
           "borderwidth": 0
          },
          "sliderdefaults": {
           "bgcolor": "#C8D4E3",
           "borderwidth": 1,
           "bordercolor": "rgb(17,17,17)",
           "tickwidth": 0
          },
          "mapbox": {
           "style": "dark"
          }
         }
        }
       },
       "config": {
        "plotlyServerURL": "https://plot.ly"
       }
      },
      "text/html": "<div>                            <div id=\"f284edd9-51b4-4636-9675-3d2aff7048e7\" class=\"plotly-graph-div\" style=\"height:525px; width:100%;\"></div>            <script type=\"text/javascript\">                require([\"plotly\"], function(Plotly) {                    window.PLOTLYENV=window.PLOTLYENV || {};                                    if (document.getElementById(\"f284edd9-51b4-4636-9675-3d2aff7048e7\")) {                    Plotly.newPlot(                        \"f284edd9-51b4-4636-9675-3d2aff7048e7\",                        [{\"hoverinfo\":\"text\",\"line\":{\"color\":\"#888\",\"width\":0.5},\"mode\":\"lines\",\"text\":[\"Weight: 0.106\",\"Weight: 0.103\",\"Weight: 0.03\",\"Weight: 0.059\",\"Weight: 0.047\",\"Weight: 0.021\",\"Weight: 0.187\",\"Weight: 0.131\",\"Weight: 0.058\",\"Weight: 0.111\",\"Weight: 0.035\",\"Weight: 0.046\",\"Weight: 0.352\",\"Weight: 0.074\",\"Weight: 0.125\",\"Weight: 0.048\",\"Weight: 0.09\",\"Weight: 0.396\",\"Weight: 0.042\",\"Weight: 0.041\",\"Weight: 0.019\",\"Weight: 0.175\",\"Weight: 0.02\",\"Weight: 0.023\",\"Weight: 0.208\",\"Weight: 0.007\",\"Weight: 0.072\",\"Weight: 0.065\"],\"x\":[0.6187955395204764,0.22221628265854465,null,0.6187955395204764,-0.3522126672663308,null,0.6187955395204764,-0.2922769959803074,null,0.6187955395204764,-0.009088701034777972,null,0.6187955395204764,0.7751682971185057,null,0.6187955395204764,-0.9999999999999999,null,0.6187955395204764,0.037398244983890015,null,0.22221628265854465,-0.3522126672663308,null,0.22221628265854465,-0.2922769959803074,null,0.22221628265854465,-0.009088701034777972,null,0.22221628265854465,0.7751682971185057,null,0.22221628265854465,-0.9999999999999999,null,0.22221628265854465,0.037398244983890015,null,-0.3522126672663308,-0.2922769959803074,null,-0.3522126672663308,-0.009088701034777972,null,-0.3522126672663308,0.7751682971185057,null,-0.3522126672663308,-0.9999999999999999,null,-0.3522126672663308,0.037398244983890015,null,-0.2922769959803074,-0.009088701034777972,null,-0.2922769959803074,0.7751682971185057,null,-0.2922769959803074,-0.9999999999999999,null,-0.2922769959803074,0.037398244983890015,null,-0.009088701034777972,0.7751682971185057,null,-0.009088701034777972,-0.9999999999999999,null,-0.009088701034777972,0.037398244983890015,null,0.7751682971185057,-0.9999999999999999,null,0.7751682971185057,0.037398244983890015,null,-0.9999999999999999,0.037398244983890015,null],\"y\":[-0.33041461477399736,0.2260231875142035,null,-0.33041461477399736,-0.09046029048183377,null,-0.33041461477399736,0.6456819926376136,null,-0.33041461477399736,-0.6788939825424735,null,-0.33041461477399736,0.6279266447365613,null,-0.33041461477399736,-0.29970073149675025,null,-0.33041461477399736,-0.10016220559332306,null,0.2260231875142035,-0.09046029048183377,null,0.2260231875142035,0.6456819926376136,null,0.2260231875142035,-0.6788939825424735,null,0.2260231875142035,0.6279266447365613,null,0.2260231875142035,-0.29970073149675025,null,0.2260231875142035,-0.10016220559332306,null,-0.09046029048183377,0.6456819926376136,null,-0.09046029048183377,-0.6788939825424735,null,-0.09046029048183377,0.6279266447365613,null,-0.09046029048183377,-0.29970073149675025,null,-0.09046029048183377,-0.10016220559332306,null,0.6456819926376136,-0.6788939825424735,null,0.6456819926376136,0.6279266447365613,null,0.6456819926376136,-0.29970073149675025,null,0.6456819926376136,-0.10016220559332306,null,-0.6788939825424735,0.6279266447365613,null,-0.6788939825424735,-0.29970073149675025,null,-0.6788939825424735,-0.10016220559332306,null,0.6279266447365613,-0.29970073149675025,null,0.6279266447365613,-0.10016220559332306,null,-0.29970073149675025,-0.10016220559332306,null],\"type\":\"scatter\"},{\"hoverinfo\":\"text\",\"marker\":{\"color\":[7,7,7,7,7,7,7,7],\"colorbar\":{\"thickness\":15,\"title\":{\"side\":\"right\",\"text\":\"Node Connections\"},\"xanchor\":\"left\"},\"colorscale\":[[0.0,\"rgb(255,255,217)\"],[0.125,\"rgb(237,248,177)\"],[0.25,\"rgb(199,233,180)\"],[0.375,\"rgb(127,205,187)\"],[0.5,\"rgb(65,182,196)\"],[0.625,\"rgb(29,145,192)\"],[0.75,\"rgb(34,94,168)\"],[0.875,\"rgb(37,52,148)\"],[1.0,\"rgb(8,29,88)\"]],\"line\":{\"width\":2},\"reversescale\":true,\"showscale\":true,\"size\":10},\"mode\":\"markers\",\"text\":[\"Index: 0, feature: Pregnancies\\u003cbr\\u003e# of connections: 7\",\"Index: 1, feature: Glucose\\u003cbr\\u003e# of connections: 7\",\"Index: 2, feature: Blood Pressure\\u003cbr\\u003e# of connections: 7\",\"Index: 3, feature: Skin Thickness\\u003cbr\\u003e# of connections: 7\",\"Index: 4, feature: Insulin\\u003cbr\\u003e# of connections: 7\",\"Index: 5, feature: BMI\\u003cbr\\u003e# of connections: 7\",\"Index: 6, feature: DiabetesPedigreeFunction\\u003cbr\\u003e# of connections: 7\",\"Index: 7, feature: Age\\u003cbr\\u003e# of connections: 7\"],\"x\":[0.6187955395204764,0.22221628265854465,-0.3522126672663308,-0.2922769959803074,-0.009088701034777972,0.7751682971185057,-0.9999999999999999,0.037398244983890015],\"y\":[-0.33041461477399736,0.2260231875142035,-0.09046029048183377,0.6456819926376136,-0.6788939825424735,0.6279266447365613,-0.29970073149675025,-0.10016220559332306],\"type\":\"scatter\"},{\"hovertemplate\":\" %{hovertext}\\u003cextra\\u003e\\u003c\\u002fextra\\u003e\",\"hovertext\":[\"Edge (0 - 1): 0.106\",\"Edge (0 - 2): 0.103\",\"Edge (0 - 3): 0.03\",\"Edge (0 - 4): 0.059\",\"Edge (0 - 5): 0.047\",\"Edge (0 - 6): 0.021\",\"Edge (0 - 7): 0.187\",\"Edge (1 - 2): 0.131\",\"Edge (1 - 3): 0.058\",\"Edge (1 - 4): 0.111\",\"Edge (1 - 5): 0.035\",\"Edge (1 - 6): 0.046\",\"Edge (1 - 7): 0.352\",\"Edge (2 - 3): 0.074\",\"Edge (2 - 4): 0.125\",\"Edge (2 - 5): 0.048\",\"Edge (2 - 6): 0.09\",\"Edge (2 - 7): 0.396\",\"Edge (3 - 4): 0.042\",\"Edge (3 - 5): 0.041\",\"Edge (3 - 6): 0.019\",\"Edge (3 - 7): 0.175\",\"Edge (4 - 5): 0.02\",\"Edge (4 - 6): 0.023\",\"Edge (4 - 7): 0.208\",\"Edge (5 - 6): 0.007\",\"Edge (5 - 7): 0.072\",\"Edge (6 - 7): 0.065\"],\"marker\":{\"opacity\":0},\"mode\":\"markers\",\"showlegend\":false,\"x\":[0.4205059110895105,0.13329143612707278,0.1632592717700845,0.3048534192428492,0.696981918319491,-0.19060223023976175,0.3280968922521832,-0.06499819230389309,-0.03503035666088136,0.10656379081188334,0.49869228988852515,-0.3888918586707276,0.12980726382121732,-0.3222448316233191,-0.1806506841505544,0.21147781492608742,-0.6761063336331654,-0.15740721114122042,-0.15068284850754268,0.24144565056909914,-0.6461384979901537,-0.1274393754982087,0.38303979804186383,-0.5045443505173889,0.014154771974556023,-0.11241585144074712,0.4062832710511978,-0.48130087750805495],\"y\":[-0.05219571362989693,-0.21043745262791558,0.15763368893180812,-0.5046542986582354,0.148756014981282,-0.3150576731353738,-0.2152884101836602,0.06778144851618487,0.43585259007590854,-0.226435397514135,0.4269749161253824,-0.036838771991273375,0.06293049096044022,0.2776108510778899,-0.38467713651215363,0.2687331771273638,-0.19508051098929202,-0.09531124803757841,-0.016605994952429926,0.6368043186870875,0.17299063057043168,0.27275989352214525,-0.025483668902956058,-0.48929735701961186,-0.38952809406789823,0.16411295661990555,0.26388221957161917,-0.19993146854503666],\"type\":\"scatter\"}],                        {\"annotations\":[{\"showarrow\":false,\"text\":\"Phenotype graph\",\"x\":0.005,\"xref\":\"paper\",\"y\":-0.002,\"yref\":\"paper\"}],\"hovermode\":\"closest\",\"margin\":{\"b\":20,\"l\":5,\"r\":5,\"t\":40},\"showlegend\":false,\"title\":{\"font\":{\"size\":16},\"text\":\"\\u003cbr\\u003eRelation Graph between different features\"},\"xaxis\":{\"showgrid\":false,\"showticklabels\":false,\"zeroline\":false},\"yaxis\":{\"showgrid\":false,\"showticklabels\":false,\"zeroline\":false},\"template\":{\"data\":{\"histogram2dcontour\":[{\"type\":\"histogram2dcontour\",\"colorbar\":{\"outlinewidth\":0,\"ticks\":\"\"},\"colorscale\":[[0.0,\"#0d0887\"],[0.1111111111111111,\"#46039f\"],[0.2222222222222222,\"#7201a8\"],[0.3333333333333333,\"#9c179e\"],[0.4444444444444444,\"#bd3786\"],[0.5555555555555556,\"#d8576b\"],[0.6666666666666666,\"#ed7953\"],[0.7777777777777778,\"#fb9f3a\"],[0.8888888888888888,\"#fdca26\"],[1.0,\"#f0f921\"]]}],\"choropleth\":[{\"type\":\"choropleth\",\"colorbar\":{\"outlinewidth\":0,\"ticks\":\"\"}}],\"histogram2d\":[{\"type\":\"histogram2d\",\"colorbar\":{\"outlinewidth\":0,\"ticks\":\"\"},\"colorscale\":[[0.0,\"#0d0887\"],[0.1111111111111111,\"#46039f\"],[0.2222222222222222,\"#7201a8\"],[0.3333333333333333,\"#9c179e\"],[0.4444444444444444,\"#bd3786\"],[0.5555555555555556,\"#d8576b\"],[0.6666666666666666,\"#ed7953\"],[0.7777777777777778,\"#fb9f3a\"],[0.8888888888888888,\"#fdca26\"],[1.0,\"#f0f921\"]]}],\"heatmap\":[{\"type\":\"heatmap\",\"colorbar\":{\"outlinewidth\":0,\"ticks\":\"\"},\"colorscale\":[[0.0,\"#0d0887\"],[0.1111111111111111,\"#46039f\"],[0.2222222222222222,\"#7201a8\"],[0.3333333333333333,\"#9c179e\"],[0.4444444444444444,\"#bd3786\"],[0.5555555555555556,\"#d8576b\"],[0.6666666666666666,\"#ed7953\"],[0.7777777777777778,\"#fb9f3a\"],[0.8888888888888888,\"#fdca26\"],[1.0,\"#f0f921\"]]}],\"heatmapgl\":[{\"type\":\"heatmapgl\",\"colorbar\":{\"outlinewidth\":0,\"ticks\":\"\"},\"colorscale\":[[0.0,\"#0d0887\"],[0.1111111111111111,\"#46039f\"],[0.2222222222222222,\"#7201a8\"],[0.3333333333333333,\"#9c179e\"],[0.4444444444444444,\"#bd3786\"],[0.5555555555555556,\"#d8576b\"],[0.6666666666666666,\"#ed7953\"],[0.7777777777777778,\"#fb9f3a\"],[0.8888888888888888,\"#fdca26\"],[1.0,\"#f0f921\"]]}],\"contourcarpet\":[{\"type\":\"contourcarpet\",\"colorbar\":{\"outlinewidth\":0,\"ticks\":\"\"}}],\"contour\":[{\"type\":\"contour\",\"colorbar\":{\"outlinewidth\":0,\"ticks\":\"\"},\"colorscale\":[[0.0,\"#0d0887\"],[0.1111111111111111,\"#46039f\"],[0.2222222222222222,\"#7201a8\"],[0.3333333333333333,\"#9c179e\"],[0.4444444444444444,\"#bd3786\"],[0.5555555555555556,\"#d8576b\"],[0.6666666666666666,\"#ed7953\"],[0.7777777777777778,\"#fb9f3a\"],[0.8888888888888888,\"#fdca26\"],[1.0,\"#f0f921\"]]}],\"surface\":[{\"type\":\"surface\",\"colorbar\":{\"outlinewidth\":0,\"ticks\":\"\"},\"colorscale\":[[0.0,\"#0d0887\"],[0.1111111111111111,\"#46039f\"],[0.2222222222222222,\"#7201a8\"],[0.3333333333333333,\"#9c179e\"],[0.4444444444444444,\"#bd3786\"],[0.5555555555555556,\"#d8576b\"],[0.6666666666666666,\"#ed7953\"],[0.7777777777777778,\"#fb9f3a\"],[0.8888888888888888,\"#fdca26\"],[1.0,\"#f0f921\"]]}],\"mesh3d\":[{\"type\":\"mesh3d\",\"colorbar\":{\"outlinewidth\":0,\"ticks\":\"\"}}],\"scatter\":[{\"marker\":{\"line\":{\"color\":\"#283442\"}},\"type\":\"scatter\"}],\"parcoords\":[{\"type\":\"parcoords\",\"line\":{\"colorbar\":{\"outlinewidth\":0,\"ticks\":\"\"}}}],\"scatterpolargl\":[{\"type\":\"scatterpolargl\",\"marker\":{\"colorbar\":{\"outlinewidth\":0,\"ticks\":\"\"}}}],\"bar\":[{\"error_x\":{\"color\":\"#f2f5fa\"},\"error_y\":{\"color\":\"#f2f5fa\"},\"marker\":{\"line\":{\"color\":\"rgb(17,17,17)\",\"width\":0.5},\"pattern\":{\"fillmode\":\"overlay\",\"size\":10,\"solidity\":0.2}},\"type\":\"bar\"}],\"scattergeo\":[{\"type\":\"scattergeo\",\"marker\":{\"colorbar\":{\"outlinewidth\":0,\"ticks\":\"\"}}}],\"scatterpolar\":[{\"type\":\"scatterpolar\",\"marker\":{\"colorbar\":{\"outlinewidth\":0,\"ticks\":\"\"}}}],\"histogram\":[{\"marker\":{\"pattern\":{\"fillmode\":\"overlay\",\"size\":10,\"solidity\":0.2}},\"type\":\"histogram\"}],\"scattergl\":[{\"marker\":{\"line\":{\"color\":\"#283442\"}},\"type\":\"scattergl\"}],\"scatter3d\":[{\"type\":\"scatter3d\",\"line\":{\"colorbar\":{\"outlinewidth\":0,\"ticks\":\"\"}},\"marker\":{\"colorbar\":{\"outlinewidth\":0,\"ticks\":\"\"}}}],\"scattermapbox\":[{\"type\":\"scattermapbox\",\"marker\":{\"colorbar\":{\"outlinewidth\":0,\"ticks\":\"\"}}}],\"scatterternary\":[{\"type\":\"scatterternary\",\"marker\":{\"colorbar\":{\"outlinewidth\":0,\"ticks\":\"\"}}}],\"scattercarpet\":[{\"type\":\"scattercarpet\",\"marker\":{\"colorbar\":{\"outlinewidth\":0,\"ticks\":\"\"}}}],\"carpet\":[{\"aaxis\":{\"endlinecolor\":\"#A2B1C6\",\"gridcolor\":\"#506784\",\"linecolor\":\"#506784\",\"minorgridcolor\":\"#506784\",\"startlinecolor\":\"#A2B1C6\"},\"baxis\":{\"endlinecolor\":\"#A2B1C6\",\"gridcolor\":\"#506784\",\"linecolor\":\"#506784\",\"minorgridcolor\":\"#506784\",\"startlinecolor\":\"#A2B1C6\"},\"type\":\"carpet\"}],\"table\":[{\"cells\":{\"fill\":{\"color\":\"#506784\"},\"line\":{\"color\":\"rgb(17,17,17)\"}},\"header\":{\"fill\":{\"color\":\"#2a3f5f\"},\"line\":{\"color\":\"rgb(17,17,17)\"}},\"type\":\"table\"}],\"barpolar\":[{\"marker\":{\"line\":{\"color\":\"rgb(17,17,17)\",\"width\":0.5},\"pattern\":{\"fillmode\":\"overlay\",\"size\":10,\"solidity\":0.2}},\"type\":\"barpolar\"}],\"pie\":[{\"automargin\":true,\"type\":\"pie\"}]},\"layout\":{\"autotypenumbers\":\"strict\",\"colorway\":[\"#636efa\",\"#EF553B\",\"#00cc96\",\"#ab63fa\",\"#FFA15A\",\"#19d3f3\",\"#FF6692\",\"#B6E880\",\"#FF97FF\",\"#FECB52\"],\"font\":{\"color\":\"#f2f5fa\"},\"hovermode\":\"closest\",\"hoverlabel\":{\"align\":\"left\"},\"paper_bgcolor\":\"rgb(17,17,17)\",\"plot_bgcolor\":\"rgb(17,17,17)\",\"polar\":{\"bgcolor\":\"rgb(17,17,17)\",\"angularaxis\":{\"gridcolor\":\"#506784\",\"linecolor\":\"#506784\",\"ticks\":\"\"},\"radialaxis\":{\"gridcolor\":\"#506784\",\"linecolor\":\"#506784\",\"ticks\":\"\"}},\"ternary\":{\"bgcolor\":\"rgb(17,17,17)\",\"aaxis\":{\"gridcolor\":\"#506784\",\"linecolor\":\"#506784\",\"ticks\":\"\"},\"baxis\":{\"gridcolor\":\"#506784\",\"linecolor\":\"#506784\",\"ticks\":\"\"},\"caxis\":{\"gridcolor\":\"#506784\",\"linecolor\":\"#506784\",\"ticks\":\"\"}},\"coloraxis\":{\"colorbar\":{\"outlinewidth\":0,\"ticks\":\"\"}},\"colorscale\":{\"sequential\":[[0.0,\"#0d0887\"],[0.1111111111111111,\"#46039f\"],[0.2222222222222222,\"#7201a8\"],[0.3333333333333333,\"#9c179e\"],[0.4444444444444444,\"#bd3786\"],[0.5555555555555556,\"#d8576b\"],[0.6666666666666666,\"#ed7953\"],[0.7777777777777778,\"#fb9f3a\"],[0.8888888888888888,\"#fdca26\"],[1.0,\"#f0f921\"]],\"sequentialminus\":[[0.0,\"#0d0887\"],[0.1111111111111111,\"#46039f\"],[0.2222222222222222,\"#7201a8\"],[0.3333333333333333,\"#9c179e\"],[0.4444444444444444,\"#bd3786\"],[0.5555555555555556,\"#d8576b\"],[0.6666666666666666,\"#ed7953\"],[0.7777777777777778,\"#fb9f3a\"],[0.8888888888888888,\"#fdca26\"],[1.0,\"#f0f921\"]],\"diverging\":[[0,\"#8e0152\"],[0.1,\"#c51b7d\"],[0.2,\"#de77ae\"],[0.3,\"#f1b6da\"],[0.4,\"#fde0ef\"],[0.5,\"#f7f7f7\"],[0.6,\"#e6f5d0\"],[0.7,\"#b8e186\"],[0.8,\"#7fbc41\"],[0.9,\"#4d9221\"],[1,\"#276419\"]]},\"xaxis\":{\"gridcolor\":\"#283442\",\"linecolor\":\"#506784\",\"ticks\":\"\",\"title\":{\"standoff\":15},\"zerolinecolor\":\"#283442\",\"automargin\":true,\"zerolinewidth\":2},\"yaxis\":{\"gridcolor\":\"#283442\",\"linecolor\":\"#506784\",\"ticks\":\"\",\"title\":{\"standoff\":15},\"zerolinecolor\":\"#283442\",\"automargin\":true,\"zerolinewidth\":2},\"scene\":{\"xaxis\":{\"backgroundcolor\":\"rgb(17,17,17)\",\"gridcolor\":\"#506784\",\"linecolor\":\"#506784\",\"showbackground\":true,\"ticks\":\"\",\"zerolinecolor\":\"#C8D4E3\",\"gridwidth\":2},\"yaxis\":{\"backgroundcolor\":\"rgb(17,17,17)\",\"gridcolor\":\"#506784\",\"linecolor\":\"#506784\",\"showbackground\":true,\"ticks\":\"\",\"zerolinecolor\":\"#C8D4E3\",\"gridwidth\":2},\"zaxis\":{\"backgroundcolor\":\"rgb(17,17,17)\",\"gridcolor\":\"#506784\",\"linecolor\":\"#506784\",\"showbackground\":true,\"ticks\":\"\",\"zerolinecolor\":\"#C8D4E3\",\"gridwidth\":2}},\"shapedefaults\":{\"line\":{\"color\":\"#f2f5fa\"}},\"annotationdefaults\":{\"arrowcolor\":\"#f2f5fa\",\"arrowhead\":0,\"arrowwidth\":1},\"geo\":{\"bgcolor\":\"rgb(17,17,17)\",\"landcolor\":\"rgb(17,17,17)\",\"subunitcolor\":\"#506784\",\"showland\":true,\"showlakes\":true,\"lakecolor\":\"rgb(17,17,17)\"},\"title\":{\"x\":0.05},\"updatemenudefaults\":{\"bgcolor\":\"#506784\",\"borderwidth\":0},\"sliderdefaults\":{\"bgcolor\":\"#C8D4E3\",\"borderwidth\":1,\"bordercolor\":\"rgb(17,17,17)\",\"tickwidth\":0},\"mapbox\":{\"style\":\"dark\"}}}},                        {\"responsive\": true}                    ).then(function(){\n                            \nvar gd = document.getElementById('f284edd9-51b4-4636-9675-3d2aff7048e7');\nvar x = new MutationObserver(function (mutations, observer) {{\n        var display = window.getComputedStyle(gd).display;\n        if (!display || display === 'none') {{\n            console.log([gd, 'removed!']);\n            Plotly.purge(gd);\n            observer.disconnect();\n        }}\n}});\n\n// Listen for the removal of the full notebook cells\nvar notebookContainer = gd.closest('#notebook-container');\nif (notebookContainer) {{\n    x.observe(notebookContainer, {childList: true});\n}}\n\n// Listen for the clearing of the current output cell\nvar outputEl = gd.closest('.output');\nif (outputEl) {{\n    x.observe(outputEl, {childList: true});\n}}\n\n                        })                };                });            </script>        </div>"
     },
     "metadata": {},
     "output_type": "display_data"
    },
    {
     "data": {
      "text/plain": "<Figure size 640x480 with 1 Axes>",
      "image/png": "[encoded data removed]"
     },
     "metadata": {},
     "output_type": "display_data"
    },
    {
     "data": {
      "text/plain": "<Figure size 640x480 with 1 Axes>",
      "image/png": "[encoded data removed]"
     },
     "metadata": {},
     "output_type": "display_data"
    },
    {
     "data": {
      "text/plain": "<Figure size 640x480 with 1 Axes>",
      "image/png": "[encoded data removed]"
     },
     "metadata": {},
     "output_type": "display_data"
    },
    {
     "data": {
      "text/plain": "<Figure size 640x480 with 1 Axes>",
      "image/png": "[encoded data removed]"
     },
     "metadata": {},
     "output_type": "display_data"
    },
    {
     "data": {
      "text/plain": "<Figure size 640x480 with 1 Axes>",
      "image/png": "[encoded data removed]"
     },
     "metadata": {},
     "output_type": "display_data"
    },
    {
     "data": {
      "text/plain": "<Figure size 640x480 with 1 Axes>",
      "image/png": "[encoded data removed]"
     },
     "metadata": {},
     "output_type": "display_data"
    },
    {
     "data": {
      "text/plain": "<Figure size 640x480 with 1 Axes>",
      "image/png": "[encoded data removed]"
     },
     "metadata": {},
     "output_type": "display_data"
    },
    {
     "data": {
      "text/plain": "<Figure size 640x480 with 1 Axes>",
      "image/png": "[encoded data removed]"
     },
     "metadata": {},
     "output_type": "display_data"
    }
   ],
   "source": [
    "input_list, evolved_x, cooccurrence_matrix, Graph, phenotype_per_sample_collection, correlation_matrix = analyse_global_phenotype(input_folder, features)"
   ],
   "metadata": {
    "collapsed": false,
    "ExecuteTime": {
     "end_time": "2024-06-25T11:40:24.783581Z",
     "start_time": "2024-06-25T11:40:22.755516Z"
    }
   },
   "id": "51c74b9e38cf5d5c",
   "execution_count": 18
  },
  {
   "cell_type": "code",
   "outputs": [],
   "source": [],
   "metadata": {
    "collapsed": false,
    "ExecuteTime": {
     "end_time": "2024-06-25T11:40:24.783823Z",
     "start_time": "2024-06-25T11:40:24.591225Z"
    }
   },
   "id": "1b94533db047a992",
   "execution_count": 18
  },
  {
   "cell_type": "code",
   "outputs": [],
   "source": [],
   "metadata": {
    "collapsed": false
   },
   "id": "12519892ad70cf30"
  }
 ],
 "metadata": {
  "kernelspec": {
   "display_name": "Python 3",
   "language": "python",
   "name": "python3"
  },
  "language_info": {
   "codemirror_mode": {
    "name": "ipython",
    "version": 2
   },
   "file_extension": ".py",
   "mimetype": "text/x-python",
   "name": "python",
   "nbconvert_exporter": "python",
   "pygments_lexer": "ipython2",
   "version": "2.7.6"
  }
 },
 "nbformat": 4,
 "nbformat_minor": 5
}
