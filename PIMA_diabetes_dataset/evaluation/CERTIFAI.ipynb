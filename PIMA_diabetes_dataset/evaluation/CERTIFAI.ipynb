{
 "cells": [
  {
   "cell_type": "code",
   "execution_count": 1,
   "id": "initial_id",
   "metadata": {
    "collapsed": true,
    "ExecuteTime": {
     "end_time": "2024-06-15T09:01:52.177974Z",
     "start_time": "2024-06-15T09:01:47.364647Z"
    }
   },
   "outputs": [],
   "source": [
    "from CERTIFAI import CERTIFAI\n",
    "import numpy as np\n",
    "import torch.nn as nn\n",
    "import torch\n",
    "import os\n",
    "import pandas as pd "
   ]
  },
  {
   "cell_type": "code",
   "outputs": [],
   "source": [
    "def load_data(data):\n",
    "    return np.load(data)\n",
    "\n",
    "class PimaClassifier(nn.Module):\n",
    "    def __init__(self):\n",
    "        super().__init__()\n",
    "        self.hidden1 = nn.Linear(8, 32)\n",
    "        self.act1 = nn.ReLU()\n",
    "        self.hidden2 = nn.Linear(32, 64)\n",
    "        self.act2 = nn.ReLU()\n",
    "        self.hidden3 = nn.Linear(64, 16)\n",
    "        self.act3 = nn.ReLU()\n",
    "        self.output = nn.Linear(16, 1)\n",
    "        self.act_output = nn.Sigmoid()\n",
    "\n",
    "    def forward(self, x):\n",
    "        x = self.act1(self.hidden1(x))\n",
    "        x = self.act2(self.hidden2(x))\n",
    "        x = self.act3(self.hidden3(x))\n",
    "        x = self.act_output(self.output(x))\n",
    "        return x\n",
    "    \n",
    "    \n",
    "def load_model(input_folder = 'model_training/model'):\n",
    "    model = torch.load(input_folder)\n",
    "    model.eval()\n",
    "    return model\n",
    "\n"
   ],
   "metadata": {
    "collapsed": false,
    "ExecuteTime": {
     "end_time": "2024-06-15T09:01:52.178717Z",
     "start_time": "2024-06-15T09:01:52.176787Z"
    }
   },
   "id": "89f26eeee7c67ce5",
   "execution_count": 2
  },
  {
   "cell_type": "code",
   "outputs": [],
   "source": [
    "file_path = \"./../output/NSGAIII/1/input_data.npy\"\n",
    "input_array = load_data(file_path)\n",
    "model = load_model(input_folder = './../model_training/model')"
   ],
   "metadata": {
    "collapsed": false,
    "ExecuteTime": {
     "end_time": "2024-06-15T09:02:10.032044Z",
     "start_time": "2024-06-15T09:02:10.010461Z"
    }
   },
   "id": "bc3fa81df4f273eb",
   "execution_count": 3
  },
  {
   "cell_type": "code",
   "outputs": [],
   "source": [
    "def create_pd_dataframe(input_folder):\n",
    "    features = [\"Pregnancies\",'Glucose','Blood Pressure','Skin Thickness','Insulin', 'BMI', 'DiabetesPedigreeFunction','Age']\n",
    "    max = [17, 200, 122, 99, 846, 67, 2.5000, 100]\n",
    "    min = [0, 25, 20, 0, 0, 10, 0.060, 0]\n",
    "    input_data_list = []\n",
    "    order_list = []\n",
    "    for i in os.listdir(input_folder):\n",
    "        if i=='.DS_Store':\n",
    "            continue\n",
    "        # print(i)\n",
    "        input_array_location = input_folder + '/' + i + '/' + 'input_data.npy'\n",
    "        input = load_data(input_array_location)\n",
    "        input_data_list.append(input)\n",
    "        order_list.append(i)\n",
    "    input_data_list.append(min)\n",
    "    input_data_list.append(max)\n",
    "    data_frame  = pd.DataFrame(data=input_data_list, columns=features)\n",
    "    return data_frame, order_list\n",
    "\n",
    "input_df, order_list = create_pd_dataframe(input_folder=\"./../output/NSGAIII/\")\n",
    "input_df.to_csv('certif_input_df.csv', index=False)"
   ],
   "metadata": {
    "collapsed": false,
    "ExecuteTime": {
     "end_time": "2024-06-15T09:06:58.502800Z",
     "start_time": "2024-06-15T09:06:58.489283Z"
    }
   },
   "id": "baa17857956504e3",
   "execution_count": 9
  },
  {
   "cell_type": "code",
   "outputs": [
    {
     "name": "stdout",
     "output_type": "stream",
     "text": [
      "<class 'pandas.core.frame.DataFrame'>\n"
     ]
    }
   ],
   "source": [
    "certifai_instance = CERTIFAI.from_csv('certif_input_df.csv')\n",
    "print(type(certifai_instance.tab_dataset))"
   ],
   "metadata": {
    "collapsed": false,
    "ExecuteTime": {
     "end_time": "2024-06-15T09:07:01.932471Z",
     "start_time": "2024-06-15T09:07:01.927308Z"
    }
   },
   "id": "cf121afe1d458a89",
   "execution_count": 10
  },
  {
   "cell_type": "code",
   "outputs": [
    {
     "name": "stdout",
     "output_type": "stream",
     "text": [
      "32\n"
     ]
    },
    {
     "name": "stderr",
     "output_type": "stream",
     "text": [
      "Generating counterfactual(s) for sample 31: 100%|██████████| 32/32 [00:23<00:00,  1.37it/s]\n"
     ]
    }
   ],
   "source": [
    "certifai_instance.fit(model, generations=100, verbose=True, final_k= 20, classification=False, experiment=True, distance='L2')"
   ],
   "metadata": {
    "collapsed": false,
    "ExecuteTime": {
     "end_time": "2024-06-15T09:07:28.074699Z",
     "start_time": "2024-06-15T09:07:04.745282Z"
    }
   },
   "id": "982c9a851412a458",
   "execution_count": 11
  },
  {
   "cell_type": "code",
   "outputs": [],
   "source": [
    "def save_certif_counterfactuals(certifai_instance_results, order_list):\n",
    "    certif_save_loc = 'Certif_cf'\n",
    "    features = [\"Pregnancies\",'Glucose','Blood Pressure','Skin Thickness','Insulin', 'BMI', 'DiabetesPedigreeFunction','Age']\n",
    "    \n",
    "    for i in range(len(order_list)):\n",
    "        cf_list = certifai_instance_results[i][1]\n",
    "        \n",
    "        certif_df  = pd.DataFrame(data=cf_list, columns=features)\n",
    "        isExist = os.path.exists(certif_save_loc)\n",
    "        if not isExist:\n",
    "            os.makedirs(certif_save_loc)\n",
    "        certif_df.to_csv(certif_save_loc + \"/\" + order_list[i] + '.csv'  , index=False)\n",
    "    "
   ],
   "metadata": {
    "collapsed": false,
    "ExecuteTime": {
     "end_time": "2024-06-15T09:08:48.698204Z",
     "start_time": "2024-06-15T09:08:48.693583Z"
    }
   },
   "id": "f2b297da4f76b1f8",
   "execution_count": 12
  },
  {
   "cell_type": "code",
   "outputs": [],
   "source": [
    "save_certif_counterfactuals(certifai_instance.results, order_list)"
   ],
   "metadata": {
    "collapsed": false,
    "ExecuteTime": {
     "end_time": "2024-06-15T09:08:50.562407Z",
     "start_time": "2024-06-15T09:08:50.392670Z"
    }
   },
   "id": "9b9cd0d25d264060",
   "execution_count": 13
  },
  {
   "cell_type": "code",
   "outputs": [],
   "source": [],
   "metadata": {
    "collapsed": false
   },
   "id": "c94a56e424825c07"
  }
 ],
 "metadata": {
  "kernelspec": {
   "display_name": "Python 3",
   "language": "python",
   "name": "python3"
  },
  "language_info": {
   "codemirror_mode": {
    "name": "ipython",
    "version": 2
   },
   "file_extension": ".py",
   "mimetype": "text/x-python",
   "name": "python",
   "nbconvert_exporter": "python",
   "pygments_lexer": "ipython2",
   "version": "2.7.6"
  }
 },
 "nbformat": 4,
 "nbformat_minor": 5
}
