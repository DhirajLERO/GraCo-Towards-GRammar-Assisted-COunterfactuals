{
 "cells": [
  {
   "cell_type": "code",
   "execution_count": 3,
   "id": "initial_id",
   "metadata": {
    "collapsed": true,
    "ExecuteTime": {
     "end_time": "2024-06-26T11:54:40.357163Z",
     "start_time": "2024-06-26T11:54:40.354339Z"
    }
   },
   "outputs": [],
   "source": [
    "import torch\n",
    "import torch.nn as nn\n",
    "import torch.optim as optim\n",
    "from pickle import dump , load\n",
    "import pandas as pd\n",
    "import numpy as np\n",
    "import os"
   ]
  },
  {
   "cell_type": "code",
   "outputs": [],
   "source": [
    "class PimaClassifier(nn.Module):\n",
    "    def __init__(self):\n",
    "        super().__init__()\n",
    "        self.hidden1 = nn.Linear(8, 32)\n",
    "        self.act1 = nn.ReLU()\n",
    "        self.hidden2 = nn.Linear(32, 64)\n",
    "        self.act2 = nn.ReLU()\n",
    "        self.hidden3 = nn.Linear(64, 16)\n",
    "        self.act3 = nn.ReLU()\n",
    "        self.output = nn.Linear(16, 1)\n",
    "        self.act_output = nn.Sigmoid()\n",
    "\n",
    "    def forward(self, x):\n",
    "        x = self.act1(self.hidden1(x))\n",
    "        x = self.act2(self.hidden2(x))\n",
    "        x = self.act3(self.hidden3(x))\n",
    "        x = self.act_output(self.output(x))\n",
    "        return x\n",
    "    \n",
    "    \n",
    "def load_model(input_folder = './../model_training/model'):\n",
    "    model = torch.load(input_folder)\n",
    "    model.eval()\n",
    "    return model\n",
    "\n",
    "\n",
    "def evaluate(model, X_test, y_test):\n",
    "    model.eval()\n",
    "    with torch.no_grad():\n",
    "        y_pred = model(X_test)\n",
    "    accuracy = (y_pred.round() == y_test).float().mean()\n",
    "    return accuracy\n",
    "\n",
    "    \n",
    "def create_and_train_model(X_train, y_train, X_test, y_test, num_epochs, seed):\n",
    "    torch.manual_seed(seed)\n",
    "    \n",
    "    model = PimaClassifier()\n",
    "    batch_size = 128\n",
    "    loss_fn = nn.BCELoss() \n",
    "    optimizer = optim.Adam(model.parameters(), lr=0.001)\n",
    "    \n",
    "    model.eval()\n",
    "    accuracy = evaluate(model, X_test, y_test)\n",
    "    print('accuracy before training {}'.format(accuracy))\n",
    "    model.train()\n",
    "    for epoch in range(num_epochs):\n",
    "        optimizer.zero_grad()\n",
    "        for i in range(0, len(X_train), batch_size):\n",
    "            Xbatch = X_train[i:i+batch_size]\n",
    "            y_pred = model(Xbatch)\n",
    "            ybatch = y_train[i:i+batch_size]\n",
    "            loss = loss_fn(y_pred, ybatch)\n",
    "            # print(loss)\n",
    "            loss.backward()\n",
    "            optimizer.step()\n",
    "        # print(loss.tolist())\n",
    "        # evaluate model on each epoch\n",
    "    model.eval()\n",
    "    accuracy = evaluate(model, X_test, y_test)\n",
    "    print(f'Finished epoch {epoch},  accuracy {accuracy}')\n",
    "    return model\n",
    "\n",
    "def replace_column_values(df, column_name, old_value, new_value):\n",
    "    if column_name in df.columns:\n",
    "        df[column_name] = df[column_name].replace(old_value, new_value)\n",
    "        print(f\"All instances of '{old_value}' in column '{column_name}' have been changed to '{new_value}'.\")\n",
    "    else:\n",
    "        print(f\"Column '{column_name}' does not exist in the DataFrame.\")\n",
    "    return df\n",
    "\n",
    "\n",
    "def create_data(train_df_loc, test_df_loc):\n",
    "    \n",
    "    train = pd.read_csv(train_df_loc)\n",
    "    train.drop(['Unnamed: 0'], axis=1, inplace=True)\n",
    "    # train = replace_column_values(train, 'class', 2 , 0)\n",
    "    test = pd.read_csv(test_df_loc)\n",
    "    test.drop(['Unnamed: 0'], axis=1, inplace=True)\n",
    "    # test = replace_column_values(test, 'class', 2 , 0)\n",
    "    \n",
    "    X_train = train.iloc[:, 0:8].values\n",
    "    y_train = train.iloc[:, 8].values\n",
    "    # print(y_train)\n",
    "    X_train = torch.tensor(X_train, dtype=torch.float32)\n",
    "    y_train = torch.tensor(y_train, dtype=torch.float32).reshape(-1, 1)\n",
    "    X_test = test.iloc[:, 0:8].values\n",
    "    y_test = test.iloc[:, 8].values\n",
    "    \n",
    "    X_test = torch.tensor(X_test, dtype=torch.float32)\n",
    "    y_test = torch.tensor(y_test, dtype=torch.float32).reshape(-1, 1)\n",
    "    \n",
    "    return X_train, y_train, X_test, y_test\n",
    "\n",
    "\n",
    "def create_list_of_model(count, X_train, y_train, X_test, y_test, num_epochs):\n",
    "    list_of_models = []\n",
    "    for i in range(count):\n",
    "        model = create_and_train_model(X_train, y_train, X_test, y_test, num_epochs, i)\n",
    "        list_of_models.append(model)\n",
    "    return list_of_models\n",
    "\n",
    "\n",
    "def eval_model(model, input):\n",
    "    # print(input)\n",
    "    model.eval()\n",
    "    input = torch.tensor(input, dtype=torch.float32)\n",
    "    with torch.no_grad():\n",
    "        prob = model(input)\n",
    "    return prob.tolist()[0]\n",
    "\n",
    "\n",
    "def evaluate_model_for_df(df , model_list):\n",
    "    probability_list = []\n",
    "    if df.shape[0] == 0:\n",
    "        return 0\n",
    "    else:\n",
    "        for index, row in df.iterrows():\n",
    "            counterfactual_success =[]\n",
    "            x = row.to_numpy()\n",
    "            for model in model_list:\n",
    "                prob = eval_model(model, x)\n",
    "                if prob > 0.5:\n",
    "                    counterfactual_success.append(1)\n",
    "                else:\n",
    "                    counterfactual_success.append(0)\n",
    "            probability_list.append(sum(counterfactual_success)/len(counterfactual_success))\n",
    "        return sum(probability_list)/len(probability_list)"
   ],
   "metadata": {
    "collapsed": false,
    "ExecuteTime": {
     "end_time": "2024-06-26T11:56:30.212502Z",
     "start_time": "2024-06-26T11:56:30.199592Z"
    }
   },
   "id": "5ed94de3ff390540",
   "execution_count": 15
  },
  {
   "cell_type": "code",
   "outputs": [],
   "source": [
    "def calculate_robustness(input_data_loc, dice_loc, ge_cf_loc, ge_nsga2_loc, certif_cf_loc, model_list):\n",
    "    metric_dict = {'dice_robustness' : [],\n",
    "                   'Our_method_robustness' : [],\n",
    "                   'certif_robustness' : [],\n",
    "                   'GE_NSGAII_robustness': []}\n",
    "    \n",
    "    output_dict = {}\n",
    "        \n",
    "    for i in os.listdir(input_data_loc):\n",
    "        if i=='.DS_Store':\n",
    "            continue\n",
    "        dice_df = pd.read_csv(dice_loc +  i + '.csv')\n",
    "        dice_df.drop(columns=['outcome'], inplace=True)\n",
    "        Our_method_df  = pd.read_csv(ge_cf_loc +  i + '.csv')\n",
    "        certif_df = pd.read_csv(certif_cf_loc +  i + '.csv')\n",
    "        NSGAII_df = pd.read_csv(ge_nsga2_loc +  i + '.csv')\n",
    "        \n",
    "        \n",
    "        metric_dict['dice_robustness'].append(evaluate_model_for_df(dice_df, model_list ))\n",
    "        metric_dict['Our_method_robustness'].append(evaluate_model_for_df(Our_method_df, model_list))\n",
    "        metric_dict['certif_robustness'].append(evaluate_model_for_df(certif_df, model_list))\n",
    "        metric_dict['GE_NSGAII_robustness'].append(evaluate_model_for_df(NSGAII_df, model_list))\n",
    "    \n",
    "    for key, value in metric_dict.items():\n",
    "        output_dict[key] = sum(value)/ len(value)\n",
    "        \n",
    "        \n",
    "    return output_dict, metric_dict\n"
   ],
   "metadata": {
    "collapsed": false,
    "ExecuteTime": {
     "end_time": "2024-06-26T11:56:30.573350Z",
     "start_time": "2024-06-26T11:56:30.568822Z"
    }
   },
   "id": "19079261d13f84d7",
   "execution_count": 16
  },
  {
   "cell_type": "code",
   "outputs": [],
   "source": [
    "\n",
    "model_orig = load_model()\n",
    "\n",
    "input_data_loc = './../output/NSGAIII/'\n",
    "dice_loc = 'Dice_cf/'\n",
    "ge_cf_loc = 'Ge_cf/'\n",
    "ge_nsga2_loc = 'Ge_NSGAII_cf/'\n",
    "certif_cf_loc = 'Certif_cf/'\n",
    "train_df_loc = \"./../model_training/train.csv\"\n",
    "test_df_loc = \"./../model_training/test.csv\"\n"
   ],
   "metadata": {
    "collapsed": false,
    "ExecuteTime": {
     "end_time": "2024-06-26T11:56:31.254238Z",
     "start_time": "2024-06-26T11:56:31.249768Z"
    }
   },
   "id": "1ae4dd207c8d8200",
   "execution_count": 17
  },
  {
   "cell_type": "code",
   "outputs": [],
   "source": [
    "X_train, y_train, X_test, y_test = create_data(train_df_loc, test_df_loc)"
   ],
   "metadata": {
    "collapsed": false,
    "ExecuteTime": {
     "end_time": "2024-06-26T11:56:31.666866Z",
     "start_time": "2024-06-26T11:56:31.654173Z"
    }
   },
   "id": "43db4365138be789",
   "execution_count": 18
  },
  {
   "cell_type": "code",
   "outputs": [
    {
     "name": "stdout",
     "output_type": "stream",
     "text": [
      "torch.Size([614, 8]) torch.Size([154, 8])\n"
     ]
    }
   ],
   "source": [
    "print(X_train.shape, X_test.shape)"
   ],
   "metadata": {
    "collapsed": false,
    "ExecuteTime": {
     "end_time": "2024-06-26T11:56:33.389565Z",
     "start_time": "2024-06-26T11:56:33.386469Z"
    }
   },
   "id": "17af343f12e1ce7d",
   "execution_count": 19
  },
  {
   "cell_type": "code",
   "outputs": [
    {
     "name": "stdout",
     "output_type": "stream",
     "text": [
      "accuracy before training 0.6623376607894897\n",
      "Finished epoch 99,  accuracy 0.7142857313156128\n",
      "accuracy before training 0.3311688303947449\n",
      "Finished epoch 99,  accuracy 0.6883116960525513\n",
      "accuracy before training 0.41558441519737244\n",
      "Finished epoch 99,  accuracy 0.6623376607894897\n",
      "accuracy before training 0.33766233921051025\n",
      "Finished epoch 99,  accuracy 0.7142857313156128\n",
      "accuracy before training 0.6558441519737244\n",
      "Finished epoch 99,  accuracy 0.6883116960525513\n",
      "accuracy before training 0.6688311696052551\n",
      "Finished epoch 99,  accuracy 0.7142857313156128\n",
      "accuracy before training 0.6363636255264282\n",
      "Finished epoch 99,  accuracy 0.6818181872367859\n",
      "accuracy before training 0.6818181872367859\n",
      "Finished epoch 99,  accuracy 0.7272727489471436\n",
      "accuracy before training 0.6688311696052551\n",
      "Finished epoch 99,  accuracy 0.7272727489471436\n",
      "accuracy before training 0.3311688303947449\n",
      "Finished epoch 99,  accuracy 0.6818181872367859\n",
      "accuracy before training 0.3311688303947449\n",
      "Finished epoch 99,  accuracy 0.701298713684082\n",
      "accuracy before training 0.6688311696052551\n",
      "Finished epoch 99,  accuracy 0.6168830990791321\n",
      "accuracy before training 0.5454545617103577\n",
      "Finished epoch 99,  accuracy 0.7337662577629089\n",
      "accuracy before training 0.6623376607894897\n",
      "Finished epoch 99,  accuracy 0.7207792401313782\n",
      "accuracy before training 0.6688311696052551\n",
      "Finished epoch 99,  accuracy 0.6298701167106628\n",
      "accuracy before training 0.37012988328933716\n",
      "Finished epoch 99,  accuracy 0.701298713684082\n",
      "accuracy before training 0.4610389471054077\n",
      "Finished epoch 99,  accuracy 0.6818181872367859\n",
      "accuracy before training 0.6688311696052551\n",
      "Finished epoch 99,  accuracy 0.6818181872367859\n",
      "accuracy before training 0.3311688303947449\n",
      "Finished epoch 99,  accuracy 0.6558441519737244\n",
      "accuracy before training 0.6428571343421936\n",
      "Finished epoch 99,  accuracy 0.7402597665786743\n",
      "accuracy before training 0.3311688303947449\n",
      "Finished epoch 99,  accuracy 0.649350643157959\n",
      "accuracy before training 0.31168830394744873\n",
      "Finished epoch 99,  accuracy 0.7077922224998474\n",
      "accuracy before training 0.5844155550003052\n",
      "Finished epoch 99,  accuracy 0.7077922224998474\n",
      "accuracy before training 0.6688311696052551\n",
      "Finished epoch 99,  accuracy 0.7142857313156128\n",
      "accuracy before training 0.5259740352630615\n",
      "Finished epoch 99,  accuracy 0.6298701167106628\n",
      "accuracy before training 0.649350643157959\n",
      "Finished epoch 99,  accuracy 0.7207792401313782\n",
      "accuracy before training 0.38311687111854553\n",
      "Finished epoch 99,  accuracy 0.649350643157959\n",
      "accuracy before training 0.3311688303947449\n",
      "Finished epoch 99,  accuracy 0.6753246784210205\n",
      "accuracy before training 0.3246753215789795\n",
      "Finished epoch 99,  accuracy 0.7662337422370911\n",
      "accuracy before training 0.6428571343421936\n",
      "Finished epoch 99,  accuracy 0.7402597665786743\n",
      "accuracy before training 0.6623376607894897\n",
      "Finished epoch 99,  accuracy 0.7272727489471436\n",
      "accuracy before training 0.3311688303947449\n",
      "Finished epoch 99,  accuracy 0.6688311696052551\n",
      "accuracy before training 0.3311688303947449\n",
      "Finished epoch 99,  accuracy 0.6948052048683167\n",
      "accuracy before training 0.33766233921051025\n",
      "Finished epoch 99,  accuracy 0.7467532753944397\n",
      "accuracy before training 0.6688311696052551\n",
      "Finished epoch 99,  accuracy 0.701298713684082\n",
      "accuracy before training 0.5649350881576538\n",
      "Finished epoch 99,  accuracy 0.701298713684082\n",
      "accuracy before training 0.6688311696052551\n",
      "Finished epoch 99,  accuracy 0.7207792401313782\n",
      "accuracy before training 0.6558441519737244\n",
      "Finished epoch 99,  accuracy 0.6623376607894897\n",
      "accuracy before training 0.6558441519737244\n",
      "Finished epoch 99,  accuracy 0.6623376607894897\n",
      "accuracy before training 0.3311688303947449\n",
      "Finished epoch 99,  accuracy 0.6883116960525513\n"
     ]
    }
   ],
   "source": [
    "list_of_models = create_list_of_model(40, X_train, y_train, X_test, y_test, num_epochs=100)"
   ],
   "metadata": {
    "collapsed": false,
    "ExecuteTime": {
     "end_time": "2024-06-26T11:56:43.236691Z",
     "start_time": "2024-06-26T11:56:38.553257Z"
    }
   },
   "id": "ad61785cdcd784da",
   "execution_count": 20
  },
  {
   "cell_type": "code",
   "outputs": [],
   "source": [
    "output_dict, metric_dict = calculate_robustness(input_data_loc, dice_loc, ge_cf_loc, ge_nsga2_loc, certif_cf_loc, list_of_models)"
   ],
   "metadata": {
    "collapsed": false,
    "ExecuteTime": {
     "end_time": "2024-06-26T11:56:55.186440Z",
     "start_time": "2024-06-26T11:56:46.760476Z"
    }
   },
   "id": "98461b4aafe084b5",
   "execution_count": 21
  },
  {
   "cell_type": "code",
   "outputs": [
    {
     "data": {
      "text/plain": "{'dice_robustness': [0.7638888888888888,\n  0.6233072916666665,\n  0.6678571428571428,\n  0.7814102564102564,\n  0.7732142857142857,\n  0.8333333333333334,\n  0.7579861111111112,\n  0.8064285714285713,\n  0.8211734693877546,\n  0.8510416666666666,\n  0.8772727272727274,\n  0.8362499999999999,\n  0.7518292682926828,\n  0.5,\n  0.7675,\n  0.6716666666666666,\n  0.6875,\n  0.6437499999999999,\n  0.7048780487804878,\n  0.8321428571428572,\n  0.6871093749999998,\n  0.7535714285714287,\n  0.6779940119760479,\n  0.835,\n  0.6699999999999999,\n  0.695065789473684,\n  0.6125,\n  0.6272727272727275,\n  0.765,\n  0.7187500000000001],\n 'Our_method_robustness': [0.49444444444444446,\n  0.751953125,\n  0.9892857142857142,\n  0.7711538461538462,\n  0.6642857142857143,\n  0.8416666666666667,\n  0.5430555555555554,\n  0.7888095238095235,\n  0.9131802721088427,\n  0.8468750000000006,\n  0.8659090909090907,\n  0.6262500000000001,\n  0.7586585365853658,\n  1.0,\n  0.5935,\n  0.9333333333333333,\n  0.3,\n  0.9,\n  0.9359756097560972,\n  0.744642857142857,\n  0.9710937500000001,\n  0.9678571428571429,\n  0.9431137724550899,\n  0.79,\n  0.35,\n  0.7707236842105254,\n  0.2625,\n  0.9029545454545455,\n  0.25,\n  0.91875],\n 'certif_robustness': [0.725,\n  0.4574999999999999,\n  0.6637500000000001,\n  0.6500000000000001,\n  0.6399999999999999,\n  0.4875,\n  0.5574999999999999,\n  0.6624999999999999,\n  0.705,\n  0.63125,\n  0.6475000000000001,\n  0.5024999999999998,\n  0.5724999999999999,\n  0.45125000000000004,\n  0.45249999999999996,\n  0.59625,\n  0.56,\n  0.5349999999999999,\n  0.6525,\n  0.57,\n  0.5925,\n  0.6675000000000001,\n  0.56,\n  0.49624999999999997,\n  0.42625,\n  0.5125,\n  0.61875,\n  0.50875,\n  0.49375,\n  0.7000000000000001],\n 'GE_NSGAII_robustness': [0.9071428571428571,\n  0.5769578313253008,\n  0.8625,\n  0.6635714285714286,\n  0.7488095238095237,\n  0.9125,\n  0.710714285714286,\n  0.861363636363637,\n  0.9210122699386495,\n  0.9921052631578948,\n  0.625,\n  0.36410256410256414,\n  0.7395061728395064,\n  0.14166666666666666,\n  0.8259615384615385,\n  0.6416666666666667,\n  0.975,\n  1.0,\n  0.911842105263158,\n  0.6866666666666666,\n  0.9774193548387097,\n  0.875,\n  0.9748595505617977,\n  0.725,\n  0.3416666666666666,\n  0.8964285714285715,\n  0.0375,\n  0.9473484848484848,\n  0.33749999999999997,\n  0.9600000000000002]}"
     },
     "execution_count": 22,
     "metadata": {},
     "output_type": "execute_result"
    }
   ],
   "source": [
    "metric_dict"
   ],
   "metadata": {
    "collapsed": false,
    "ExecuteTime": {
     "end_time": "2024-06-26T11:56:56.821842Z",
     "start_time": "2024-06-26T11:56:56.815360Z"
    }
   },
   "id": "d50db24030bf523",
   "execution_count": 22
  },
  {
   "cell_type": "code",
   "outputs": [
    {
     "data": {
      "text/plain": "{'dice_robustness': 0.7331564639304663,\n 'Our_method_robustness': 0.7463324061671451,\n 'certif_robustness': 0.5765416666666666,\n 'GE_NSGAII_robustness': 0.7380270701678192}"
     },
     "execution_count": 23,
     "metadata": {},
     "output_type": "execute_result"
    }
   ],
   "source": [
    "output_dict"
   ],
   "metadata": {
    "collapsed": false,
    "ExecuteTime": {
     "end_time": "2024-06-26T11:56:58.283841Z",
     "start_time": "2024-06-26T11:56:58.281241Z"
    }
   },
   "id": "7a2a71ea52d948db",
   "execution_count": 23
  },
  {
   "cell_type": "code",
   "outputs": [],
   "source": [
    "import matplotlib.pyplot as plt\n",
    "\n",
    "def plot_bar_graph(data_dict, title=\"Bar Graph\", xlabel=\"Labels\", ylabel=\"Values\"):\n",
    "    \n",
    "    labels = list(data_dict.keys())\n",
    "    values = list(data_dict.values())\n",
    "    \n",
    "    plt.figure(figsize=(8, 6))\n",
    "    plt.bar(labels, values, color='skyblue', width=0.4)\n",
    "    \n",
    "    plt.title(title)\n",
    "    plt.xlabel(xlabel)\n",
    "    plt.ylabel(ylabel)\n",
    "    \n",
    "    plt.xticks(rotation=45)\n",
    "    plt.tight_layout()\n",
    "    plt.show()"
   ],
   "metadata": {
    "collapsed": false,
    "ExecuteTime": {
     "end_time": "2024-06-26T11:57:03.292529Z",
     "start_time": "2024-06-26T11:57:03.288390Z"
    }
   },
   "id": "c89fa360cfe4c9c8",
   "execution_count": 24
  },
  {
   "cell_type": "code",
   "outputs": [
    {
     "data": {
      "text/plain": "<Figure size 800x600 with 1 Axes>",
      "image/png": "[encoded data removed]"
     },
     "metadata": {},
     "output_type": "display_data"
    }
   ],
   "source": [
    "plot_bar_graph(output_dict, title=\"Robustness\", xlabel=\"methods\", ylabel=\"robustness\")"
   ],
   "metadata": {
    "collapsed": false,
    "ExecuteTime": {
     "end_time": "2024-06-26T11:57:04.058016Z",
     "start_time": "2024-06-26T11:57:03.883750Z"
    }
   },
   "id": "3bc29d0ce678424",
   "execution_count": 25
  },
  {
   "cell_type": "code",
   "outputs": [],
   "source": [],
   "metadata": {
    "collapsed": false
   },
   "id": "f08766b9fd10f015"
  }
 ],
 "metadata": {
  "kernelspec": {
   "display_name": "Python 3",
   "language": "python",
   "name": "python3"
  },
  "language_info": {
   "codemirror_mode": {
    "name": "ipython",
    "version": 2
   },
   "file_extension": ".py",
   "mimetype": "text/x-python",
   "name": "python",
   "nbconvert_exporter": "python",
   "pygments_lexer": "ipython2",
   "version": "2.7.6"
  }
 },
 "nbformat": 4,
 "nbformat_minor": 5
}
