{
 "cells": [
  {
   "cell_type": "code",
   "execution_count": 1,
   "id": "initial_id",
   "metadata": {
    "collapsed": true,
    "ExecuteTime": {
     "end_time": "2024-06-01T23:13:15.873052Z",
     "start_time": "2024-06-01T23:13:15.386554Z"
    }
   },
   "outputs": [],
   "source": [
    "import os\n",
    "import pandas as pd\n",
    "import numpy as np\n"
   ]
  },
  {
   "cell_type": "code",
   "outputs": [],
   "source": [
    "def load_hypervolume_data(base_dir):\n",
    "    data_dict = {}\n",
    "    \n",
    "    for folder_name in os.listdir(base_dir):\n",
    "        folder_path = os.path.join(base_dir, folder_name)\n",
    "        \n",
    "        # Ensure it's a directory\n",
    "        if os.path.isdir(folder_path):\n",
    "            hypervolume_path = os.path.join(folder_path, 'hyper_volume.csv')\n",
    "            \n",
    "            # Check if hyper_volume.csv exists in the folder\n",
    "            if os.path.exists(hypervolume_path):\n",
    "                df = pd.read_csv(hypervolume_path)\n",
    "                data_dict[folder_name] = df\n",
    "    \n",
    "    return data_dict"
   ],
   "metadata": {
    "collapsed": false,
    "ExecuteTime": {
     "end_time": "2024-06-01T23:13:15.878059Z",
     "start_time": "2024-06-01T23:13:15.874047Z"
    }
   },
   "id": "51441ea312ef931d",
   "execution_count": 2
  },
  {
   "cell_type": "code",
   "outputs": [],
   "source": [
    "def remove_exceeding_rows(df, column_name, value):\n",
    "    \"\"\"\n",
    "    Remove rows from the DataFrame where the column's value exceeds the given value.\n",
    "\n",
    "    Parameters:\n",
    "    df (pd.DataFrame): The input DataFrame.\n",
    "    column_name (str): The name of the column to check the values.\n",
    "    value (numeric): The threshold value.\n",
    "\n",
    "    Returns:\n",
    "    pd.DataFrame: A DataFrame with the rows removed where the column's value exceeds the given value.\n",
    "    \"\"\"\n",
    "    # Ensure the column exists in the DataFrame\n",
    "    if column_name not in df.columns:\n",
    "        raise ValueError(f\"Column '{column_name}' does not exist in the DataFrame\")\n",
    "    \n",
    "    # Filter the DataFrame\n",
    "    filtered_df = df[df[column_name] <= value]\n",
    "    \n",
    "    return filtered_df"
   ],
   "metadata": {
    "collapsed": false,
    "ExecuteTime": {
     "end_time": "2024-06-01T23:13:16.317333Z",
     "start_time": "2024-06-01T23:13:16.313005Z"
    }
   },
   "id": "51fa2167d5add9a1",
   "execution_count": 3
  },
  {
   "cell_type": "markdown",
   "source": [
    "### load all the hyper-volume data"
   ],
   "metadata": {
    "collapsed": false
   },
   "id": "772649ff6d84bcf6"
  },
  {
   "cell_type": "code",
   "outputs": [],
   "source": [
    "NSGAIII_directory =  \"output/NSGAIII\"\n",
    "NSGAIII_hypervolume = load_hypervolume_data(NSGAIII_directory)\n",
    "\n",
    "NSGAII_directory =  \"output/NSGAII_multi\"\n",
    "NSGAII_hypervolume = load_hypervolume_data(NSGAII_directory)"
   ],
   "metadata": {
    "collapsed": false,
    "ExecuteTime": {
     "end_time": "2024-06-01T23:15:11.720655Z",
     "start_time": "2024-06-01T23:15:11.683972Z"
    }
   },
   "id": "4a12935d8a73bde5",
   "execution_count": 5
  },
  {
   "cell_type": "markdown",
   "source": [
    "## Calculate the mean of hyper-volume across all the runs and across all the examples."
   ],
   "metadata": {
    "collapsed": false
   },
   "id": "ba66ad8077accbb2"
  },
  {
   "cell_type": "markdown",
   "source": [
    "#### 1. NSGA-II"
   ],
   "metadata": {
    "collapsed": false
   },
   "id": "17eef32054083430"
  },
  {
   "cell_type": "code",
   "outputs": [
    {
     "name": "stdout",
     "output_type": "stream",
     "text": [
      "20 :  0.48471113188011017\n",
      "18 :  0.6812317425771377\n",
      "27 :  0.4763852991509103\n",
      "9 :  0.6483184052081205\n",
      "0 :  0.5916263834339834\n",
      "11 :  0.41648041220085946\n",
      "7 :  0.6694173313920828\n",
      "29 :  0.646341156637546\n",
      "16 :  0.7748169324364312\n",
      "6 :  0.6524482675968611\n",
      "28 :  0.49712196704983164\n",
      "17 :  0.590722113777802\n",
      "1 :  0.7500992054995019\n",
      "10 :  0.34220293171043076\n",
      "19 :  0.617242141937724\n",
      "26 :  0.5508593281112989\n",
      "8 :  0.4368112684807396\n",
      "21 :  0.3392006135279181\n",
      "24 :  0.541409268838427\n",
      "23 :  0.6231972565346666\n",
      "4 :  0.6094653465143248\n",
      "15 :  0.49085481405922643\n",
      "3 :  0.6940576392874883\n",
      "12 :  0.33375664193502835\n",
      "2 :  0.48110234143269415\n",
      "13 :  0.6912899937635365\n",
      "5 :  0.34413742519542284\n",
      "14 :  0.6581235580440338\n",
      "22 :  0.39800152946043216\n",
      "25 :  0.6412421132748861\n",
      "[0.48471113188011017, 0.6812317425771377, 0.4763852991509103, 0.6483184052081205, 0.5916263834339834, 0.41648041220085946, 0.6694173313920828, 0.646341156637546, 0.7748169324364312, 0.6524482675968611, 0.49712196704983164, 0.590722113777802, 0.7500992054995019, 0.34220293171043076, 0.617242141937724, 0.5508593281112989, 0.4368112684807396, 0.3392006135279181, 0.541409268838427, 0.6231972565346666, 0.6094653465143248, 0.49085481405922643, 0.6940576392874883, 0.33375664193502835, 0.48110234143269415, 0.6912899937635365, 0.34413742519542284, 0.6581235580440338, 0.39800152946043216, 0.6412421132748861]\n",
      "Hypervolume mean for NSGA-II over all the input and run:  0.5557558186983153\n"
     ]
    }
   ],
   "source": [
    "NSGAII_hypervolume_list = []\n",
    "for key, value in NSGAII_hypervolume.items():\n",
    "    value = remove_exceeding_rows(value, \"hyper_volume\", 1.0)\n",
    "    print(key, \": \",  value['hyper_volume'].mean())\n",
    "    NSGAII_hypervolume_list.append(value['hyper_volume'].mean())\n",
    "\n",
    "print(NSGAII_hypervolume_list)\n",
    "print(\"Hypervolume mean for NSGA-II over all the input and run: \", np.mean(NSGAII_hypervolume_list))\n",
    "    "
   ],
   "metadata": {
    "collapsed": false,
    "ExecuteTime": {
     "end_time": "2024-06-01T23:15:15.374931Z",
     "start_time": "2024-06-01T23:15:15.368645Z"
    }
   },
   "id": "91a060ef5e96e5c6",
   "execution_count": 6
  },
  {
   "cell_type": "code",
   "outputs": [
    {
     "name": "stdout",
     "output_type": "stream",
     "text": [
      "9 :  0.6483184052081205\n",
      "0 :  0.5916263834339834\n",
      "7 :  0.6694173313920828\n",
      "6 :  0.6524482675968611\n",
      "1 :  0.7500992054995019\n",
      "8 :  0.4368112684807396\n",
      "4 :  0.6094653465143248\n",
      "3 :  0.6940576392874883\n",
      "2 :  0.48110234143269415\n",
      "5 :  0.34413742519542284\n",
      "[0.6483184052081205, 0.5916263834339834, 0.6694173313920828, 0.6524482675968611, 0.7500992054995019, 0.4368112684807396, 0.6094653465143248, 0.6940576392874883, 0.48110234143269415, 0.34413742519542284]\n",
      "Hypervolume mean for NSGA-II over all the input and run:  0.5877483614041219\n"
     ]
    }
   ],
   "source": [
    "NSGAII_directory =  \"output/NSGAII\"\n",
    "NSGAII_hypervolume = load_hypervolume_data(NSGAII_directory)\n",
    "NSGAII_hypervolume_list = []\n",
    "for key, value in NSGAII_hypervolume.items():\n",
    "    value = remove_exceeding_rows(value, \"hyper_volume\", 1.0)\n",
    "    print(key, \": \",  value['hyper_volume'].mean())\n",
    "    NSGAII_hypervolume_list.append(value['hyper_volume'].mean())\n",
    "\n",
    "print(NSGAII_hypervolume_list)\n",
    "print(\"Hypervolume mean for NSGA-II over all the input and run: \", np.mean(NSGAII_hypervolume_list))"
   ],
   "metadata": {
    "collapsed": false,
    "ExecuteTime": {
     "end_time": "2024-06-01T23:19:32.126923Z",
     "start_time": "2024-06-01T23:19:32.095162Z"
    }
   },
   "id": "4c8180e10473a81a",
   "execution_count": 9
  },
  {
   "cell_type": "code",
   "outputs": [
    {
     "name": "stdout",
     "output_type": "stream",
     "text": [
      "20 :  0.4845062725811545\n",
      "18 :  0.681631463145061\n",
      "27 :  0.5662807028531281\n",
      "9 :  0.6713115688202644\n",
      "0 :  0.6231786524232632\n",
      "11 :  0.3995483954535487\n",
      "7 :  0.6868429930518687\n",
      "29 :  0.6750367031585369\n",
      "16 :  0.7757014633651924\n",
      "6 :  0.6570281739181609\n",
      "28 :  0.5444219921799107\n",
      "17 :  0.5965287389234811\n",
      "1 :  0.7535082554845455\n",
      "10 :  0.31334803899668867\n",
      "19 :  0.630540165711443\n",
      "26 :  0.5453402473323953\n",
      "8 :  0.4075043761327405\n",
      "21 :  0.3405490905433886\n",
      "24 :  0.5531951855968121\n",
      "23 :  0.5995231078406293\n",
      "4 :  0.6254786509722449\n",
      "15 :  0.5367329295960626\n",
      "3 :  0.6964631728084745\n",
      "12 :  0.3193899325377265\n",
      "2 :  0.5524125453754597\n",
      "13 :  0.7077032463389324\n",
      "5 :  0.35055239467816446\n",
      "14 :  0.6567253535320674\n",
      "22 :  0.41078010700504364\n",
      "25 :  0.6423002305255185\n",
      "[0.4845062725811545, 0.681631463145061, 0.5662807028531281, 0.6713115688202644, 0.6231786524232632, 0.3995483954535487, 0.6868429930518687, 0.6750367031585369, 0.7757014633651924, 0.6570281739181609, 0.5444219921799107, 0.5965287389234811, 0.7535082554845455, 0.31334803899668867, 0.630540165711443, 0.5453402473323953, 0.4075043761327405, 0.3405490905433886, 0.5531951855968121, 0.5995231078406293, 0.6254786509722449, 0.5367329295960626, 0.6964631728084745, 0.3193899325377265, 0.5524125453754597, 0.7077032463389324, 0.35055239467816446, 0.6567253535320674, 0.41078010700504364, 0.6423002305255185]\n",
      "Hypervolume mean for NSGA-III over all the input and run:  0.5668021383627302\n"
     ]
    }
   ],
   "source": [
    "NSGAIII_hypervolume_list = []\n",
    "for key, value in NSGAIII_hypervolume.items():\n",
    "    value = remove_exceeding_rows(value, \"hyper_volume\", 1.0)\n",
    "    print(key, \": \",  value['hyper_volume'].mean())\n",
    "    NSGAIII_hypervolume_list.append(value['hyper_volume'].mean())\n",
    "\n",
    "print(NSGAIII_hypervolume_list)\n",
    "print(\"Hypervolume mean for NSGA-III over all the input and run: \", np.mean(NSGAIII_hypervolume_list))"
   ],
   "metadata": {
    "collapsed": false,
    "ExecuteTime": {
     "end_time": "2024-06-01T23:16:30.920423Z",
     "start_time": "2024-06-01T23:16:30.916884Z"
    }
   },
   "id": "73e833f82b6a7d64",
   "execution_count": 8
  },
  {
   "cell_type": "code",
   "outputs": [
    {
     "name": "stdout",
     "output_type": "stream",
     "text": [
      "0 :  0.6231786524232632\n",
      "1 :  0.7535082554845455\n",
      "2 :  0.5524125453754597\n",
      "3 :  0.6964631728084745\n",
      "4 :  0.6254786509722449\n",
      "5 :  0.35055239467816446\n",
      "6 :  0.6570281739181609\n",
      "7 :  0.6868429930518687\n",
      "8 :  0.4075043761327405\n",
      "9 :  0.6713115688202644\n",
      "[0.6231786524232632, 0.7535082554845455, 0.5524125453754597, 0.6964631728084745, 0.6254786509722449, 0.35055239467816446, 0.6570281739181609, 0.6868429930518687, 0.4075043761327405, 0.6713115688202644]\n",
      "Hypervolume mean for NSGA-III  over all the input and run:  0.6024280783665187\n"
     ]
    }
   ],
   "source": [
    "NSGAIII_hypervolume_list = []\n",
    "\n",
    "\n",
    "for i in range(0, 10):\n",
    "    key = str(i)\n",
    "    value = NSGAIII_hypervolume[str(i)]\n",
    "    value = remove_exceeding_rows(value, \"hyper_volume\", 1.0)\n",
    "    print(key, \": \",  value['hyper_volume'].mean())\n",
    "    NSGAIII_hypervolume_list.append(value['hyper_volume'].mean())\n",
    "    \n",
    "print(NSGAIII_hypervolume_list)\n",
    "print(\"Hypervolume mean for NSGA-III  over all the input and run: \", np.mean(NSGAIII_hypervolume_list))"
   ],
   "metadata": {
    "collapsed": false,
    "ExecuteTime": {
     "end_time": "2024-06-01T14:30:02.052286Z",
     "start_time": "2024-06-01T14:30:02.036605Z"
    }
   },
   "id": "402f22328908ac5f",
   "execution_count": 30
  },
  {
   "cell_type": "code",
   "outputs": [],
   "source": [],
   "metadata": {
    "collapsed": false
   },
   "id": "7d40b77f809ca74c"
  }
 ],
 "metadata": {
  "kernelspec": {
   "display_name": "Python 3",
   "language": "python",
   "name": "python3"
  },
  "language_info": {
   "codemirror_mode": {
    "name": "ipython",
    "version": 2
   },
   "file_extension": ".py",
   "mimetype": "text/x-python",
   "name": "python",
   "nbconvert_exporter": "python",
   "pygments_lexer": "ipython2",
   "version": "2.7.6"
  }
 },
 "nbformat": 4,
 "nbformat_minor": 5
}
