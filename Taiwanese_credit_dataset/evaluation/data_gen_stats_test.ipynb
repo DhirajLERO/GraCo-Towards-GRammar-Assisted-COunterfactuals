{
 "cells": [
  {
   "cell_type": "markdown",
   "source": [
    "## Evaluating CF generation\n",
    "1. Probability Increase\n",
    "2. proximity\n",
    "3. sparsity\n",
    "4. Cohesive\n"
   ],
   "metadata": {
    "collapsed": false
   },
   "id": "3cee158c0c843ea0"
  },
  {
   "cell_type": "code",
   "execution_count": 1,
   "id": "initial_id",
   "metadata": {
    "collapsed": true,
    "ExecuteTime": {
     "end_time": "2024-08-16T07:50:08.026654Z",
     "start_time": "2024-08-16T07:50:06.709316Z"
    }
   },
   "outputs": [],
   "source": [
    "import pandas as pd\n",
    "import torch.nn as nn\n",
    "import torch\n",
    "import os\n",
    "import numpy as np\n",
    "from pickle import dump , load\n",
    "import pickle\n"
   ]
  },
  {
   "cell_type": "code",
   "outputs": [],
   "source": [
    "import matplotlib.pyplot as plt\n",
    "\n",
    "def plot_bar_graph(data_dict, title=\"Bar Graph\", xlabel=\"Labels\", ylabel=\"Values\"):\n",
    "    \n",
    "    labels = list(data_dict.keys())\n",
    "    values = list(data_dict.values())\n",
    "    \n",
    "    plt.figure(figsize=(8, 6))\n",
    "    plt.bar(labels, values, color='skyblue', width=0.4)\n",
    "    \n",
    "    plt.title(title)\n",
    "    plt.xlabel(xlabel)\n",
    "    plt.ylabel(ylabel)\n",
    "    \n",
    "    plt.xticks(rotation=45)\n",
    "    plt.tight_layout()\n",
    "    plt.show()\n",
    "\n"
   ],
   "metadata": {
    "collapsed": false,
    "ExecuteTime": {
     "end_time": "2024-08-16T07:50:28.436371Z",
     "start_time": "2024-08-16T07:50:28.209970Z"
    }
   },
   "id": "23bee52be35ab580",
   "execution_count": 2
  },
  {
   "cell_type": "code",
   "outputs": [],
   "source": [
    "class TaiwaneseCreditClassifier(nn.Module):\n",
    "    def __init__(self):\n",
    "        super().__init__()\n",
    "        self.hidden1 = nn.Linear(23, 64)\n",
    "        self.act1 = nn.ReLU()\n",
    "        self.hidden2 = nn.Linear(64, 128)\n",
    "        self.act2 = nn.ReLU()\n",
    "        self.hidden3 = nn.Linear(128, 32)\n",
    "        self.act3 = nn.ReLU()\n",
    "        self.hidden4 = nn.Linear(32, 16)\n",
    "        self.act4 = nn.ReLU()\n",
    "        self.output = nn.Linear(16, 1)\n",
    "        self.act_output = nn.Sigmoid()\n",
    "        self.dropout = nn.Dropout(0.1)\n",
    "\n",
    "    def forward(self, x):\n",
    "        x = self.dropout(self.act1(self.hidden1(x)))\n",
    "        x = self.dropout(self.act2(self.hidden2(x)))\n",
    "        x = self.dropout(self.act3(self.hidden3(x)))\n",
    "        x = self.dropout(self.act4(self.hidden4(x)))\n",
    "        # x = self.output(x)\n",
    "        x = self.act_output(self.output(x))\n",
    "        return x\n",
    "    \n",
    "    \n",
    "def load_model():\n",
    "    model = torch.load('./../model_training/Taiwanese_credit_model')\n",
    "    model.eval()\n",
    "    return model\n",
    "\n",
    "def eval_model(model, input, scaler, columns_to_standardize):\n",
    "    model.eval()\n",
    "    # print(input)\n",
    "    input = input.reshape(-1, 23)\n",
    "    input = torch.tensor(input, dtype=torch.float32)\n",
    "    input = input.numpy()\n",
    "    input[:, columns_to_standardize] = scaler.transform(input[:, columns_to_standardize])\n",
    "    input = torch.from_numpy(input).type(torch.float)\n",
    "    with torch.no_grad():\n",
    "        prob = model(input)\n",
    "    return prob.tolist()[0][0]\n",
    "\n",
    "def load_scaler(scaler_loc):\n",
    "    return load(open(scaler_loc, 'rb'))\n",
    "\n",
    "def load_data(data):\n",
    "    return np.load(data)\n",
    "\n",
    "columns_to_standardize = list(range(23))"
   ],
   "metadata": {
    "collapsed": false,
    "ExecuteTime": {
     "end_time": "2024-08-16T07:50:28.581224Z",
     "start_time": "2024-08-16T07:50:28.577126Z"
    }
   },
   "id": "8969eff1405bb6aa",
   "execution_count": 3
  },
  {
   "cell_type": "code",
   "outputs": [],
   "source": [
    "model = load_model()\n",
    "scaler = load_scaler('./../model_training/StandardScaler.pkl')"
   ],
   "metadata": {
    "collapsed": false,
    "ExecuteTime": {
     "end_time": "2024-08-16T07:50:29.777259Z",
     "start_time": "2024-08-16T07:50:28.969103Z"
    }
   },
   "id": "1665656a23b106ab",
   "execution_count": 4
  },
  {
   "cell_type": "markdown",
   "source": [
    "### Evaluate average probability shift"
   ],
   "metadata": {
    "collapsed": false
   },
   "id": "68314a2b941807f9"
  },
  {
   "cell_type": "code",
   "outputs": [],
   "source": [
    "def evaluate_model_for_df(df , model, scaler, columns_to_standardize):\n",
    "    probability_list = []\n",
    "    if df.shape[0] == 0:\n",
    "        return 0\n",
    "    else:\n",
    "        for index, row in df.iterrows():\n",
    "            x = row.to_numpy()\n",
    "            prob = eval_model(model, x, scaler, columns_to_standardize)\n",
    "            probability_list.append(prob)\n",
    "        return sum(probability_list)/len(probability_list)\n",
    "        \n",
    "\n",
    "def average_probability_shift(input_data_loc, dice_loc, ge_cf_loc, ge_nsga2_loc, certif_cf_loc, model, scaler, columns_to_standardize):\n",
    "    metric_dict = {'initial_prob' : [],\n",
    "                   'dice_prob' : [],\n",
    "                   'Our_method_prob' : [],\n",
    "                   'certif_prob' : [],\n",
    "                   'GE_NSGAII_prob': []}\n",
    "        \n",
    "    for i in os.listdir(input_data_loc):\n",
    "        if i=='.DS_Store':\n",
    "            continue\n",
    "        # print(i)\n",
    "        input_array_location = input_data_loc + '/' + i + '/' + 'input_data.npy'\n",
    "        input = load_data(input_array_location)\n",
    "        prob = eval_model(model,  input, scaler, columns_to_standardize)\n",
    "        # print(prob)\n",
    "        dice_df = pd.read_csv(dice_loc +  i + '.csv')\n",
    "        dice_df.drop(columns=['outcome'], inplace=True)\n",
    "        Our_method_df  = pd.read_csv(ge_cf_loc +  i + '.csv')\n",
    "        certif_df = pd.read_csv(certif_cf_loc +  i + '.csv')\n",
    "        NSGAII_df = pd.read_csv(ge_nsga2_loc +  i + '.csv')\n",
    "        \n",
    "        metric_dict['initial_prob'].append(prob)\n",
    "        metric_dict['dice_prob'].append(evaluate_model_for_df(dice_df, model, scaler, columns_to_standardize ))\n",
    "        metric_dict['Our_method_prob'].append(evaluate_model_for_df(Our_method_df, model, scaler, columns_to_standardize))\n",
    "        metric_dict['certif_prob'].append(evaluate_model_for_df(certif_df, model, scaler, columns_to_standardize))\n",
    "        metric_dict['GE_NSGAII_prob'].append(evaluate_model_for_df(NSGAII_df, model, scaler, columns_to_standardize))\n",
    "        \n",
    "    return metric_dict\n",
    "\n",
    "def save_dict(d, filename):\n",
    "    with open(filename, 'wb') as handle:\n",
    "        pickle.dump(d, handle, protocol=pickle.HIGHEST_PROTOCOL)\n",
    "        "
   ],
   "metadata": {
    "collapsed": false,
    "ExecuteTime": {
     "end_time": "2024-08-16T07:50:31.815169Z",
     "start_time": "2024-08-16T07:50:31.807637Z"
    }
   },
   "id": "7de9c4d4131c6ad4",
   "execution_count": 5
  },
  {
   "cell_type": "code",
   "outputs": [],
   "source": [
    "input_data_loc = './../output/NSGAIII_multi/'\n",
    "dice_loc = 'Dice_cf/'\n",
    "ge_cf_loc = 'Ge_cf/'\n",
    "ge_nsga2_loc = 'Ge_NSGAII_cf/'\n",
    "certif_cf_loc = 'Certif_cf/'\n",
    "\n",
    "metric = average_probability_shift(input_data_loc, dice_loc, ge_cf_loc, ge_nsga2_loc, certif_cf_loc, model, scaler, columns_to_standardize)"
   ],
   "metadata": {
    "collapsed": false,
    "ExecuteTime": {
     "end_time": "2024-08-16T07:50:37.157418Z",
     "start_time": "2024-08-16T07:50:33.435385Z"
    }
   },
   "id": "38e1198c798d2e19",
   "execution_count": 6
  },
  {
   "cell_type": "code",
   "outputs": [],
   "source": [
    "def average_shift(metric):\n",
    "    metric_dict = {}\n",
    "    dice_shift = []\n",
    "    our_method_shift = []\n",
    "    certif_shift = []\n",
    "    nsga2_shift = []\n",
    "    for i in range(0, 30):\n",
    "        if metric['dice_prob'][i]!= 0:\n",
    "            dice_shift.append(metric['dice_prob'][i] - metric['initial_prob'][i])\n",
    "        else:\n",
    "            dice_shift.append(0)\n",
    "        \n",
    "        if metric['Our_method_prob'][i]!= 0:\n",
    "            our_method_shift.append(metric['Our_method_prob'][i] - metric['initial_prob'][i])\n",
    "        else:\n",
    "            our_method_shift.append(0)\n",
    "        \n",
    "        if metric['certif_prob'][i]!= 0:\n",
    "            certif_shift.append(metric['certif_prob'][i] - metric['initial_prob'][i])\n",
    "        else:\n",
    "            certif_shift.append(0)\n",
    "        \n",
    "        if metric['GE_NSGAII_prob'][i]!= 0:\n",
    "            nsga2_shift.append(metric['GE_NSGAII_prob'][i] - metric['initial_prob'][i])\n",
    "        else:\n",
    "            nsga2_shift.append(0)\n",
    "        \n",
    "    \n",
    "    metric_dict['Dice'] =     sum(dice_shift)/len(dice_shift)\n",
    "    metric_dict['Our_method'] = sum(our_method_shift)/len(our_method_shift)\n",
    "    metric_dict['Certif'] = sum(certif_shift)/len(certif_shift)\n",
    "    metric_dict['GE_NSGAII'] = sum(nsga2_shift)/len(nsga2_shift)\n",
    "    \n",
    "    d = {'Dice': dice_shift, 'Certif': certif_shift,\n",
    "                              'Our_method': our_method_shift, 'GE_NSGAII':nsga2_shift}\n",
    "    \n",
    "    return metric_dict, d\n",
    "        \n",
    "        \n",
    "    "
   ],
   "metadata": {
    "collapsed": false,
    "ExecuteTime": {
     "end_time": "2024-08-16T07:50:49.835373Z",
     "start_time": "2024-08-16T07:50:49.830879Z"
    }
   },
   "id": "21cba13d29a232e8",
   "execution_count": 7
  },
  {
   "cell_type": "code",
   "outputs": [],
   "source": [
    "output, daf = average_shift(metric)\n",
    "save_dict(daf, 'data_statistical_test/average_shift.pickle')"
   ],
   "metadata": {
    "collapsed": false,
    "ExecuteTime": {
     "end_time": "2024-08-16T07:51:01.003525Z",
     "start_time": "2024-08-16T07:51:00.998182Z"
    }
   },
   "id": "b6593fd4afc93164",
   "execution_count": 8
  },
  {
   "cell_type": "code",
   "outputs": [
    {
     "data": {
      "text/plain": "{'Dice': 0.7701223525434141,\n 'Our_method': 0.8747108732033949,\n 'Certif': 0.8829772421380592,\n 'GE_NSGAII': 0.8969172290012061}"
     },
     "execution_count": 9,
     "metadata": {},
     "output_type": "execute_result"
    }
   ],
   "source": [
    "output"
   ],
   "metadata": {
    "collapsed": false,
    "ExecuteTime": {
     "end_time": "2024-08-16T07:51:06.772588Z",
     "start_time": "2024-08-16T07:51:06.767278Z"
    }
   },
   "id": "5c18d3f7e715fe2e",
   "execution_count": 9
  },
  {
   "cell_type": "markdown",
   "source": [],
   "metadata": {
    "collapsed": false
   },
   "id": "d938705b10b822fd"
  },
  {
   "cell_type": "markdown",
   "source": [
    "## Proximity comparison : average distance of counterfactuals from input \n",
    "- lower the better"
   ],
   "metadata": {
    "collapsed": false
   },
   "id": "be6ec7326fec628b"
  },
  {
   "cell_type": "code",
   "outputs": [],
   "source": [
    "from sklearn.metrics import DistanceMetric\n",
    "\n",
    "\n",
    "def mean(l):\n",
    "    return sum(l)/len(l)\n",
    "\n",
    "def calculate_l2_distance_sklearn(array, df):\n",
    "    \n",
    "    # Create a DistanceMetric object for Euclidean distance\n",
    "    if df.shape[0] == 0:\n",
    "        print(\"no counterfactuals\")\n",
    "        return []\n",
    "    \n",
    "    euclidean = DistanceMetric.get_metric('euclidean')\n",
    "    \n",
    "    # Ensure array is 2D for pairwise\n",
    "    array_2d = array.reshape(1, -1)\n",
    "    \n",
    "    # Calculate distances using the pairwise method\n",
    "    distances = euclidean.pairwise(array_2d, df.values)\n",
    "    \n",
    "    # Convert distances to a list\n",
    "    distances_list = distances.flatten().tolist()\n",
    "    \n",
    "    return distances_list\n",
    "\n",
    "\n",
    "def calculate_proximity(input_data_loc, dice_loc, ge_cf_loc, ge_nsga2_loc, certif_cf_loc, model):\n",
    "    metric_dict = {'Dice' : [],\n",
    "                   'Our_method' : [],\n",
    "                   'Certif' : [],\n",
    "                   'GE_NSGAII': []}\n",
    "        \n",
    "    for i in os.listdir(input_data_loc):\n",
    "        if i=='.DS_Store':\n",
    "            continue\n",
    "        # print(i)\n",
    "        input_array_location = input_data_loc + '/' + i + '/' + 'input_data.npy'\n",
    "        input = load_data(input_array_location)\n",
    "        # print(i)\n",
    "        # print(prob)\n",
    "        dice_df = pd.read_csv(dice_loc +  i + '.csv')\n",
    "        dice_df.drop(columns=['outcome'], inplace=True)\n",
    "        Our_method_df  = pd.read_csv(ge_cf_loc +  i + '.csv')\n",
    "        certif_df = pd.read_csv(certif_cf_loc +  i + '.csv')\n",
    "        NSGAII_df = pd.read_csv(ge_nsga2_loc +  i + '.csv')\n",
    "        \n",
    "        if dice_df.shape[0] > 0:\n",
    "            metric_dict['Dice'].append(mean(calculate_l2_distance_sklearn(input, dice_df)))\n",
    "        if Our_method_df.shape[0] > 0:\n",
    "            metric_dict['Our_method'].append(mean(calculate_l2_distance_sklearn(input, Our_method_df)))\n",
    "        if certif_df.shape[0] > 0:\n",
    "            metric_dict['Certif'].append(mean(calculate_l2_distance_sklearn(input, certif_df)))\n",
    "        if NSGAII_df.shape[0] > 0:\n",
    "            metric_dict['GE_NSGAII'].append(mean(calculate_l2_distance_sklearn(input, NSGAII_df)))\n",
    "    \n",
    "    d = {'Dice': metric_dict['Dice'], 'Certif': metric_dict['Certif'],\n",
    "                              'Our_method': metric_dict['Our_method'], 'GE_NSGAII':metric_dict['GE_NSGAII']}\n",
    "    out_metric = {}\n",
    "    for key, value in metric_dict.items():\n",
    "        out_metric[key] = mean(value)\n",
    "    return out_metric, d\n",
    "        "
   ],
   "metadata": {
    "collapsed": false,
    "ExecuteTime": {
     "end_time": "2024-08-16T07:51:50.468967Z",
     "start_time": "2024-08-16T07:51:50.359055Z"
    }
   },
   "id": "4d0024147abe66e2",
   "execution_count": 14
  },
  {
   "cell_type": "code",
   "outputs": [
    {
     "data": {
      "text/plain": "{'Dice': 375932.3414453204,\n 'Our_method': 1745.1282250208048,\n 'Certif': 1055940.5486267565,\n 'GE_NSGAII': 2632.312839629941}"
     },
     "execution_count": 15,
     "metadata": {},
     "output_type": "execute_result"
    }
   ],
   "source": [
    "proximity, d_proximity = calculate_proximity(input_data_loc, dice_loc, ge_cf_loc, ge_nsga2_loc, certif_cf_loc, model)\n",
    "save_dict(d_proximity, 'data_statistical_test/proximity.pickle')\n",
    "proximity"
   ],
   "metadata": {
    "collapsed": false,
    "ExecuteTime": {
     "end_time": "2024-08-16T07:51:51.243906Z",
     "start_time": "2024-08-16T07:51:51.117043Z"
    }
   },
   "id": "31f126fbcb790215",
   "execution_count": 15
  },
  {
   "cell_type": "markdown",
   "source": [
    "## Sparsity: Average feature change in inputs\n",
    "- lower the better"
   ],
   "metadata": {
    "collapsed": false
   },
   "id": "a3e3066357d08d27"
  },
  {
   "cell_type": "code",
   "outputs": [],
   "source": [
    "def calculate_feature_changes(array, df):\n",
    "    changes = []\n",
    "    for index, row in df.iterrows():\n",
    "        # Compare array with row and count the number of differences\n",
    "        # print('row {} and array {}'.format(row.values, array))\n",
    "        num_changes = np.sum(array != row.values)\n",
    "        # print('num_changes: {}'.format(num_changes))\n",
    "        changes.append(num_changes)\n",
    "    return changes\n",
    "\n",
    "\n",
    "def calculate_sparsity(input_data_loc, dice_loc, ge_cf_loc, ge_nsga2_loc, certif_cf_loc, model):\n",
    "    metric_dict = {'Dice' : [],\n",
    "                   'Our_method' : [],\n",
    "                   'Certif' : [],\n",
    "                   'GE_NSGAII': []}\n",
    "        \n",
    "    for i in os.listdir(input_data_loc):\n",
    "        if i=='.DS_Store':\n",
    "            continue\n",
    "        # print(i)\n",
    "        input_array_location = input_data_loc + '/' + i + '/' + 'input_data.npy'\n",
    "        input = load_data(input_array_location)\n",
    "        # print(i)\n",
    "        # print(prob)\n",
    "        dice_df = pd.read_csv(dice_loc +  i + '.csv')\n",
    "        dice_df.drop(columns=['outcome'], inplace=True)\n",
    "        Our_method_df  = pd.read_csv(ge_cf_loc +  i + '.csv')\n",
    "        certif_df = pd.read_csv(certif_cf_loc +  i + '.csv')\n",
    "        NSGAII_df = pd.read_csv(ge_nsga2_loc +  i + '.csv')\n",
    "        \n",
    "        if dice_df.shape[0] > 0:\n",
    "            metric_dict['Dice'].append(mean(calculate_feature_changes(input, dice_df)))\n",
    "        if Our_method_df.shape[0] > 0:\n",
    "            metric_dict['Our_method'].append(mean(calculate_feature_changes(input, Our_method_df)))\n",
    "        if certif_df.shape[0] > 0:\n",
    "            metric_dict['Certif'].append(mean(calculate_feature_changes(input, certif_df)))\n",
    "        if NSGAII_df.shape[0] > 0:\n",
    "            metric_dict['GE_NSGAII'].append(mean(calculate_feature_changes(input, NSGAII_df)))\n",
    "    \n",
    "    d = {'Dice': metric_dict['Dice'], 'Certif': metric_dict['Certif'],\n",
    "                              'Our_method': metric_dict['Our_method'], 'GE_NSGAII':metric_dict['GE_NSGAII']}\n",
    "    out_metric = {}\n",
    "    for key, value in metric_dict.items():\n",
    "        out_metric[key] = mean(value)\n",
    "    return out_metric, d"
   ],
   "metadata": {
    "collapsed": false,
    "ExecuteTime": {
     "end_time": "2024-08-16T07:52:26.616857Z",
     "start_time": "2024-08-16T07:52:26.610233Z"
    }
   },
   "id": "f08d8061cecc6e3d",
   "execution_count": 17
  },
  {
   "cell_type": "code",
   "outputs": [
    {
     "data": {
      "text/plain": "{'Dice': 23.0,\n 'Our_method': 1.8894315342785566,\n 'Certif': 20.08622448979592,\n 'GE_NSGAII': 2.0379642231505266}"
     },
     "execution_count": 18,
     "metadata": {},
     "output_type": "execute_result"
    }
   ],
   "source": [
    "sparsity, d_sparsity = calculate_sparsity(input_data_loc, dice_loc, ge_cf_loc, ge_nsga2_loc, certif_cf_loc, model)\n",
    "save_dict(d_sparsity, 'data_statistical_test/sparsity.pickle')\n",
    "sparsity"
   ],
   "metadata": {
    "collapsed": false,
    "ExecuteTime": {
     "end_time": "2024-08-16T07:52:27.332645Z",
     "start_time": "2024-08-16T07:52:26.862334Z"
    }
   },
   "id": "1f9c42141524fe11",
   "execution_count": 18
  },
  {
   "cell_type": "markdown",
   "source": [
    "## Cohesive : how close these individuals are with each other\n",
    "1. 1 / Average distance between all the individual\n",
    "2. higher the better"
   ],
   "metadata": {
    "collapsed": false
   },
   "id": "d768591e16045fb5"
  },
  {
   "cell_type": "code",
   "outputs": [],
   "source": [
    "def distance_between_all_counterfactuals(df):\n",
    "    if not df.applymap(lambda x: isinstance(x, (int, float))).all().all():\n",
    "        raise ValueError(\"DataFrame contains non-numeric data.\")\n",
    "    \n",
    "    data = df.values\n",
    "    euclidean = DistanceMetric.get_metric('euclidean')\n",
    "    dist_matrix = euclidean.pairwise(data)\n",
    "    \n",
    "    distances = []\n",
    "    n = len(dist_matrix)\n",
    "    for i in range(n):\n",
    "        for j in range(i + 1, n):\n",
    "            distances.append(dist_matrix[i, j])\n",
    "    \n",
    "    return distances\n",
    "\n",
    "def calculate_cohesive(input_data_loc, dice_loc, ge_cf_loc, ge_nsga2_loc, certif_cf_loc, model):\n",
    "    metric_dict = {'Dice' : [],\n",
    "                   'Our_method' : [],\n",
    "                   'Certif' : [],\n",
    "                   'GE_NSGAII': []}\n",
    "        \n",
    "    for i in os.listdir(input_data_loc):\n",
    "        if i=='.DS_Store':\n",
    "            continue\n",
    "        # print(i)\n",
    "        input_array_location = input_data_loc + '/' + i + '/' + 'input_data.npy'\n",
    "        input = load_data(input_array_location)\n",
    "        # print(i)\n",
    "        # print(prob)\n",
    "        dice_df = pd.read_csv(dice_loc +  i + '.csv')\n",
    "        dice_df.drop(columns=['outcome'], inplace=True)\n",
    "        Our_method_df  = pd.read_csv(ge_cf_loc +  i + '.csv')\n",
    "        certif_df = pd.read_csv(certif_cf_loc +  i + '.csv')\n",
    "        NSGAII_df = pd.read_csv(ge_nsga2_loc +  i + '.csv')\n",
    "    \n",
    "        if dice_df.shape[0] > 1:\n",
    "            metric_dict['Dice'].append(mean(distance_between_all_counterfactuals(dice_df)))\n",
    "        if Our_method_df.shape[0] > 1:\n",
    "            metric_dict['Our_method'].append(mean(distance_between_all_counterfactuals(Our_method_df)))\n",
    "        if certif_df.shape[0] > 1:\n",
    "            metric_dict['Certif'].append(mean(distance_between_all_counterfactuals(certif_df)))\n",
    "        if NSGAII_df.shape[0] > 1:\n",
    "            metric_dict['GE_NSGAII'].append(mean(distance_between_all_counterfactuals(NSGAII_df)))\n",
    "    \n",
    "    d = {'Dice': metric_dict['Dice'], 'Certif': metric_dict['Certif'],\n",
    "                              'Our_method': metric_dict['Our_method'], 'GE_NSGAII':metric_dict['GE_NSGAII']}\n",
    "    out_metric = {}\n",
    "    for key, value in metric_dict.items():\n",
    "        out_metric[key] = 1/mean(value)\n",
    "    return out_metric, d"
   ],
   "metadata": {
    "collapsed": false,
    "ExecuteTime": {
     "end_time": "2024-08-16T07:53:01.353458Z",
     "start_time": "2024-08-16T07:53:01.346233Z"
    }
   },
   "id": "8e7416f0489b099",
   "execution_count": 20
  },
  {
   "cell_type": "code",
   "outputs": [
    {
     "data": {
      "text/plain": "{'Dice': 1.7496563954401489e-06,\n 'Our_method': 0.00033978972578940883,\n 'Certif': 9.632953085591424e-07,\n 'GE_NSGAII': 0.00022457892116942442}"
     },
     "execution_count": 21,
     "metadata": {},
     "output_type": "execute_result"
    }
   ],
   "source": [
    "cohesive, d_cohesive = calculate_cohesive(input_data_loc, dice_loc, ge_cf_loc, ge_nsga2_loc, certif_cf_loc, model)\n",
    "save_dict(d_cohesive, 'data_statistical_test/cohesive.pickle')\n",
    "cohesive"
   ],
   "metadata": {
    "collapsed": false,
    "ExecuteTime": {
     "end_time": "2024-08-16T07:53:02.298234Z",
     "start_time": "2024-08-16T07:53:01.622769Z"
    }
   },
   "id": "a1f36ae08e30863f",
   "execution_count": 21
  },
  {
   "cell_type": "markdown",
   "source": [
    "## closeness to data manifold - conformity : Mahabolis distance "
   ],
   "metadata": {
    "collapsed": false
   },
   "id": "78be26fb29a4f76e"
  },
  {
   "cell_type": "code",
   "outputs": [
    {
     "name": "stdout",
     "output_type": "stream",
     "text": [
      "{'Dice': 0.0663213552638933, 'Our_method': 0.4554002979749956, 'Certif': 0.041437042170322534, 'GE_NSGAII': 0.43684130459078857}\n"
     ]
    }
   ],
   "source": [
    "\n",
    "from sklearn.preprocessing import normalize\n",
    "from scipy.spatial.distance import mahalanobis\n",
    "from sklearn.preprocessing import normalize\n",
    "\n",
    "def normalize_dict(data_dict):\n",
    "    values = np.array(list(data_dict.values())).reshape(1, -1)\n",
    "    normalized_values = normalize(values, norm='l1')[0]\n",
    "    normalized_dict = {key: normalized_values[i] for i, key in enumerate(data_dict.keys())}\n",
    "    return normalized_dict\n",
    "\n",
    "\n",
    "def find_mu_sigma(input_data_loc, output_column_name):\n",
    "    data = pd.read_csv(input_data_loc)\n",
    "    data.drop([output_column_name], axis=1, inplace=True)\n",
    "    mu = np.mean(data.values, axis=0)\n",
    "    sigma = np.cov(data.values.T)\n",
    "    return mu, sigma\n",
    "\n",
    "\n",
    "def mean_mahabolis_distances(df, mu, sigma):\n",
    "    dist= []\n",
    "    for index, row in df.iterrows():\n",
    "        x = row.to_numpy()\n",
    "        d = mahalanobis(x, mu, np.linalg.inv(sigma))\n",
    "        dist.append(d)\n",
    "    return mean(dist)\n",
    "        \n",
    "            \n",
    "\n",
    "\n",
    "def closer_to_data_manifold(input_data_loc, dice_loc, ge_cf_loc, ge_nsga2_loc, certif_cf_loc, output_column_name, input_file_name):\n",
    "    metric_dict = {'Dice' : [],\n",
    "                   'Our_method' : [],\n",
    "                   'Certif' : [],\n",
    "                   'GE_NSGAII': []}\n",
    "    \n",
    "    mu, sigma = find_mu_sigma(input_file_name, output_column_name)\n",
    "        \n",
    "    for i in os.listdir(input_data_loc):\n",
    "        if i=='.DS_Store':\n",
    "            continue\n",
    "        # print(i)\n",
    "        input_array_location = input_data_loc + '/' + i + '/' + 'input_data.npy'\n",
    "        input = load_data(input_array_location)\n",
    "        dice_df = pd.read_csv(dice_loc +  i + '.csv')\n",
    "        dice_df.drop(columns=['outcome'], inplace=True)\n",
    "        Our_method_df  = pd.read_csv(ge_cf_loc +  i + '.csv')\n",
    "        certif_df = pd.read_csv(certif_cf_loc +  i + '.csv')\n",
    "        NSGAII_df = pd.read_csv(ge_nsga2_loc +  i + '.csv')\n",
    "    \n",
    "        if dice_df.shape[0] > 1:\n",
    "            metric_dict['Dice'].append(mean_mahabolis_distances(dice_df, mu, sigma))\n",
    "        if Our_method_df.shape[0] > 1:\n",
    "            metric_dict['Our_method'].append(mean_mahabolis_distances(Our_method_df, mu, sigma))\n",
    "        if certif_df.shape[0] > 1:\n",
    "            metric_dict['Certif'].append(mean_mahabolis_distances(certif_df, mu, sigma))\n",
    "        if NSGAII_df.shape[0] > 1:\n",
    "            metric_dict['GE_NSGAII'].append(mean_mahabolis_distances(NSGAII_df, mu, sigma))\n",
    "    \n",
    "    d = {'Dice': metric_dict['Dice'], 'Certif': metric_dict['Certif'],\n",
    "                              'Our_method': metric_dict['Our_method'], 'GE_NSGAII':metric_dict['GE_NSGAII']}\n",
    "    out_metric = {}\n",
    "    for key, value in metric_dict.items():\n",
    "        out_metric[key] = 1/mean(value)\n",
    "    \n",
    "    out_metric = normalize_dict(out_metric)\n",
    "    \n",
    "    return out_metric, d\n",
    "\n",
    "input_file_name = './../test_balanced.csv'\n",
    "output_column_name = 'Y'\n",
    "\n",
    "conformity_dict, d_conformity = closer_to_data_manifold(input_data_loc, dice_loc, ge_cf_loc, ge_nsga2_loc, certif_cf_loc, output_column_name, input_file_name)\n",
    "print(conformity_dict)\n",
    "\n",
    "save_dict(d_conformity, 'data_statistical_test/conformity.pickle')"
   ],
   "metadata": {
    "collapsed": false,
    "ExecuteTime": {
     "end_time": "2024-08-16T07:53:53.368824Z",
     "start_time": "2024-08-16T07:53:49.304197Z"
    }
   },
   "id": "a8ae9f11605adcb0",
   "execution_count": 22
  },
  {
   "cell_type": "markdown",
   "source": [
    "## goodness of counterfactuals \n",
    "goodness = (avg_probability_increase * cohesiveness * Conformity)/(proximity * sparsity)\n",
    "- avg_probability_increase : increase the average probability of class\n",
    "- cohesiveness : generated counterfactuals should be close to each other\n",
    "- proximity: close to the input space\n",
    "- sparsity: minimum feature change\n",
    "- conformity : closeness to data manifold \n",
    "- higher is better"
   ],
   "metadata": {
    "collapsed": false
   },
   "id": "7d79ef96255f5c2e"
  },
  {
   "cell_type": "code",
   "outputs": [
    {
     "data": {
      "text/plain": "{'Dice': 1.798960520334679e-07,\n 'Our_method': 0.7145010065047568,\n 'Certif': 2.892365626678266e-08,\n 'GE_NSGAII': 0.2854987846755348}"
     },
     "execution_count": 25,
     "metadata": {},
     "output_type": "execute_result"
    }
   ],
   "source": [
    "from sklearn.preprocessing import normalize\n",
    "\n",
    "def normalize_dict(data_dict):\n",
    "    values = np.array(list(data_dict.values())).reshape(1, -1)\n",
    "    normalized_values = normalize(values, norm='l1')[0]\n",
    "    normalized_dict = {key: normalized_values[i] for i, key in enumerate(data_dict.keys())}\n",
    "    return normalized_dict\n",
    "\n",
    "\n",
    "def goodness_of_cf(avg_prob_dict, cohesive_dict,  proximity_dict, sparsity_dict, conformity_dict):\n",
    "    goodness_of_cf_dict = {}\n",
    "    for key, value in avg_prob_dict.items():\n",
    "        goodness_of_cf_dict[key] = (avg_prob_dict[key] * cohesive_dict[key] * conformity_dict[key])/(proximity_dict[key] * sparsity_dict[key])\n",
    "    return normalize_dict(goodness_of_cf_dict)\n",
    "\n",
    "goodness_of_cf = goodness_of_cf(output, cohesive, proximity, sparsity, conformity_dict)\n",
    "goodness_of_cf"
   ],
   "metadata": {
    "collapsed": false,
    "ExecuteTime": {
     "end_time": "2024-07-11T18:09:22.817221Z",
     "start_time": "2024-07-11T18:09:22.808933Z"
    }
   },
   "id": "a2de17cde8b331ee",
   "execution_count": 25
  },
  {
   "cell_type": "code",
   "outputs": [
    {
     "data": {
      "text/plain": "<Figure size 800x600 with 1 Axes>",
      "image/png": "[encoded data removed]"
     },
     "metadata": {},
     "output_type": "display_data"
    }
   ],
   "source": [
    "plot_bar_graph(goodness_of_cf, title=\"Goodness of CF's\", xlabel=\"methods\", ylabel=\"goodness\")"
   ],
   "metadata": {
    "collapsed": false,
    "ExecuteTime": {
     "end_time": "2024-07-11T18:09:22.945042Z",
     "start_time": "2024-07-11T18:09:22.819630Z"
    }
   },
   "id": "53d7b44c3521afa6",
   "execution_count": 26
  },
  {
   "cell_type": "code",
   "outputs": [],
   "source": [],
   "metadata": {
    "collapsed": false
   },
   "id": "842c972dfbb91d6",
   "execution_count": null
  },
  {
   "cell_type": "code",
   "outputs": [],
   "source": [],
   "metadata": {
    "collapsed": false
   },
   "id": "df202b03a3daa2e4"
  }
 ],
 "metadata": {
  "kernelspec": {
   "display_name": "Python 3",
   "language": "python",
   "name": "python3"
  },
  "language_info": {
   "codemirror_mode": {
    "name": "ipython",
    "version": 2
   },
   "file_extension": ".py",
   "mimetype": "text/x-python",
   "name": "python",
   "nbconvert_exporter": "python",
   "pygments_lexer": "ipython2",
   "version": "2.7.6"
  }
 },
 "nbformat": 4,
 "nbformat_minor": 5
}
