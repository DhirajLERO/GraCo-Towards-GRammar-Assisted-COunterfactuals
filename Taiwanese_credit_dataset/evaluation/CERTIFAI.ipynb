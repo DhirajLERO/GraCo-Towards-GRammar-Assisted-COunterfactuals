{
 "cells": [
  {
   "cell_type": "code",
   "execution_count": 4,
   "id": "initial_id",
   "metadata": {
    "collapsed": true,
    "ExecuteTime": {
     "end_time": "2024-06-29T22:52:17.872192Z",
     "start_time": "2024-06-29T22:52:17.868994Z"
    }
   },
   "outputs": [],
   "source": [
    "from CERTIFAI import CERTIFAI\n",
    "import numpy as np\n",
    "import torch.nn as nn\n",
    "import torch\n",
    "import os\n",
    "import pandas as pd \n",
    "from pickle import dump , load"
   ]
  },
  {
   "cell_type": "code",
   "outputs": [],
   "source": [
    "def load_data(data):\n",
    "    return np.load(data)\n",
    "\n",
    "\n",
    "class TaiwaneseCreditClassifier(nn.Module):\n",
    "    def __init__(self):\n",
    "        super().__init__()\n",
    "        self.hidden1 = nn.Linear(23, 64)\n",
    "        self.act1 = nn.ReLU()\n",
    "        self.hidden2 = nn.Linear(64, 128)\n",
    "        self.act2 = nn.ReLU()\n",
    "        self.hidden3 = nn.Linear(128, 32)\n",
    "        self.act3 = nn.ReLU()\n",
    "        self.hidden4 = nn.Linear(32, 16)\n",
    "        self.act4 = nn.ReLU()\n",
    "        self.output = nn.Linear(16, 1)\n",
    "        self.act_output = nn.Sigmoid()\n",
    "        self.dropout = nn.Dropout(0.1)\n",
    "\n",
    "    def forward(self, x):\n",
    "        x = self.dropout(self.act1(self.hidden1(x)))\n",
    "        x = self.dropout(self.act2(self.hidden2(x)))\n",
    "        x = self.dropout(self.act3(self.hidden3(x)))\n",
    "        x = self.dropout(self.act4(self.hidden4(x)))\n",
    "        # x = self.output(x)\n",
    "        x = self.act_output(self.output(x))\n",
    "        return x\n",
    "    \n",
    "    \n",
    "def load_model():\n",
    "    model = torch.load('./../model_training/Taiwanese_credit_model')\n",
    "    model.eval()\n",
    "    return model\n",
    "\n",
    "def eval_model(model, input, scaler, columns_to_standardize):\n",
    "    model.eval()\n",
    "    # print(input)\n",
    "    input = input.reshape(-1, 23)\n",
    "    input = torch.tensor(input, dtype=torch.float32)\n",
    "    input = input.numpy()\n",
    "    input[:, columns_to_standardize] = scaler.transform(input[:, columns_to_standardize])\n",
    "    input = torch.from_numpy(input).type(torch.float)\n",
    "    with torch.no_grad():\n",
    "        prob = model(input)\n",
    "    return prob.tolist()[0][0]\n",
    "\n",
    "def load_scaler(scaler_loc):\n",
    "    return load(open(scaler_loc, 'rb'))\n"
   ],
   "metadata": {
    "collapsed": false,
    "ExecuteTime": {
     "end_time": "2024-06-29T22:52:18.099864Z",
     "start_time": "2024-06-29T22:52:18.092891Z"
    }
   },
   "id": "89f26eeee7c67ce5",
   "execution_count": 5
  },
  {
   "cell_type": "code",
   "outputs": [],
   "source": [
    "def scale_input(scaler, input, columns_to_standardize):\n",
    "    input = input.reshape(-1, 23)\n",
    "    input = torch.tensor(input, dtype=torch.float32)\n",
    "    input = input.numpy()\n",
    "    input[:, columns_to_standardize] = scaler.transform(input[:, columns_to_standardize])\n",
    "    return input\n"
   ],
   "metadata": {
    "collapsed": false,
    "ExecuteTime": {
     "end_time": "2024-06-29T22:52:18.311887Z",
     "start_time": "2024-06-29T22:52:18.309646Z"
    }
   },
   "id": "bdbe6ac2abdaa0a2",
   "execution_count": 6
  },
  {
   "cell_type": "code",
   "outputs": [],
   "source": [
    "# file_path = \"./../output/NSGAIII/1/input_data.npy\"\n",
    "# input_array = load_data(file_path)\n",
    "model = load_model()\n",
    "scaler = load_scaler('./../model_training/StandardScaler.pkl')\n",
    "\n",
    "\n",
    "columns_to_standardize = list(range(23))\n",
    "\n",
    "bounds= [(10000, 1000000),\n",
    "              (0, 1),\n",
    "              (0, 6),\n",
    "              (0, 3),\n",
    "              (20, 80),\n",
    "              (-2, 8),\n",
    "              (-2, 8),\n",
    "              (-2, 8),\n",
    "              (-2, 8),\n",
    "              (-2, 8),\n",
    "              (-2, 8),\n",
    "              (-154973, 964511),\n",
    "              (-67526, 983931),\n",
    "              (-61506, 855086),\n",
    "              (-81334, 891586),\n",
    "              (53007, 927171),\n",
    "              (-339603, 961664),\n",
    "              (0, 873552),\n",
    "              (0, 1215471),\n",
    "              (0, 846040),\n",
    "              (0, 621000),\n",
    "              (0, 417990),\n",
    "              (0, 403500)]\n",
    "\n",
    "\n",
    "min_array = np.array([i[0] for i in bounds])\n",
    "max_array = np.array([i[1] for i in bounds])\n",
    "\n",
    "\n",
    "feature = ['X1', 'X2', 'X3', 'X4', 'X5', 'X6', 'X7', 'X8', 'X9', 'X10', 'X11','X12', 'X13',\n",
    "            'X14', 'X15', 'X16', 'X17', 'X18', 'X19', 'X20', 'X21', 'X22', 'X23']\n",
    "\n",
    "scaled_min = scale_input(scaler, min_array, columns_to_standardize)\n",
    "scaled_max = scale_input(scaler, max_array, columns_to_standardize)"
   ],
   "metadata": {
    "collapsed": false,
    "ExecuteTime": {
     "end_time": "2024-06-29T22:52:18.918722Z",
     "start_time": "2024-06-29T22:52:18.912508Z"
    }
   },
   "id": "bc3fa81df4f273eb",
   "execution_count": 7
  },
  {
   "cell_type": "code",
   "outputs": [
    {
     "name": "stdout",
     "output_type": "stream",
     "text": [
      "(32, 23)\n"
     ]
    }
   ],
   "source": [
    "def inverse_transform(df_scaled, scaler, columns_to_standardize):\n",
    "    df_values = df_scaled.values\n",
    "    print(df_values.shape)\n",
    "    df_values[:, columns_to_standardize] = scaler.inverse_transform(df_values[:, columns_to_standardize])\n",
    "    df_original = pd.DataFrame(df_values, columns=df_scaled.columns)\n",
    "    return df_original\n",
    "\n",
    "def transform(df, scaler, columns_to_standardize):\n",
    "    df_values = df.values\n",
    "    print(df_values.shape)\n",
    "    df_values[:, columns_to_standardize] = scaler.transform(df_values[:, columns_to_standardize])\n",
    "    df_original = pd.DataFrame(df_values, columns=df.columns)\n",
    "    return df_original\n",
    "\n",
    "def create_pd_dataframe(input_folder, scaler, columns_to_standardize, bounds):\n",
    "    features = ['X1', 'X2', 'X3', 'X4', 'X5', 'X6', 'X7', 'X8', 'X9', 'X10', 'X11','X12', 'X13',\n",
    "            'X14', 'X15', 'X16', 'X17', 'X18', 'X19', 'X20', 'X21', 'X22', 'X23']\n",
    "    max = [i[1] for i in bounds]\n",
    "    min = [i[0] for i in bounds]\n",
    "    input_data_list = []\n",
    "    order_list = []\n",
    "    for i in os.listdir(input_folder):\n",
    "        if i=='.DS_Store':\n",
    "            continue\n",
    "        # print(i)\n",
    "        input_array_location = input_folder + '/' + i + '/' + 'input_data.npy'\n",
    "        input = load_data(input_array_location)\n",
    "        input_data_list.append(input)\n",
    "        order_list.append(i)\n",
    "    input_data_list.append(min)\n",
    "    input_data_list.append(max)\n",
    "    data_frame  = pd.DataFrame(data=input_data_list, columns=features)\n",
    "    data_frame = transform(data_frame, scaler, columns_to_standardize)\n",
    "    return data_frame, order_list\n",
    "\n",
    "input_df, order_list = create_pd_dataframe(\"./../output/NSGAIII_multi/\", scaler, columns_to_standardize, bounds )\n",
    "input_df.to_csv('certif_input_df.csv', index=False)"
   ],
   "metadata": {
    "collapsed": false,
    "ExecuteTime": {
     "end_time": "2024-06-29T22:52:21.213602Z",
     "start_time": "2024-06-29T22:52:21.178678Z"
    }
   },
   "id": "baa17857956504e3",
   "execution_count": 8
  },
  {
   "cell_type": "code",
   "outputs": [
    {
     "name": "stdout",
     "output_type": "stream",
     "text": [
      "<class 'pandas.core.frame.DataFrame'>\n"
     ]
    }
   ],
   "source": [
    "certifai_instance = CERTIFAI.from_csv('certif_input_df.csv')\n",
    "print(type(certifai_instance.tab_dataset))"
   ],
   "metadata": {
    "collapsed": false,
    "ExecuteTime": {
     "end_time": "2024-06-29T22:52:27.735806Z",
     "start_time": "2024-06-29T22:52:27.726575Z"
    }
   },
   "id": "cf121afe1d458a89",
   "execution_count": 9
  },
  {
   "cell_type": "code",
   "outputs": [
    {
     "name": "stderr",
     "output_type": "stream",
     "text": [
      "Generating counterfactual(s) for sample 31: 100%|██████████| 32/32 [09:21<00:00, 17.55s/it]\n"
     ]
    }
   ],
   "source": [
    "certifai_instance.fit(model, generations=100, verbose=True, final_k= 196, classification=False, experiment=True, distance='L2')"
   ],
   "metadata": {
    "collapsed": false,
    "ExecuteTime": {
     "end_time": "2024-06-29T23:02:20.285340Z",
     "start_time": "2024-06-29T22:52:58.599105Z"
    }
   },
   "id": "982c9a851412a458",
   "execution_count": 11
  },
  {
   "cell_type": "code",
   "outputs": [],
   "source": [
    "def save_certif_counterfactuals(certifai_instance_results, order_list, scaler, columns_to_standardize):\n",
    "    certif_save_loc = 'Certif_cf'\n",
    "    features = ['X1', 'X2', 'X3', 'X4', 'X5', 'X6', 'X7', 'X8', 'X9', 'X10', 'X11','X12', 'X13',\n",
    "            'X14', 'X15', 'X16', 'X17', 'X18', 'X19', 'X20', 'X21', 'X22', 'X23']\n",
    "    \n",
    "    for i in range(len(order_list)):\n",
    "        cf_list = certifai_instance_results[i][1]\n",
    "        \n",
    "        certif_df  = pd.DataFrame(data=cf_list, columns=features)\n",
    "        certif_df = inverse_transform(certif_df, scaler, columns_to_standardize)\n",
    "        isExist = os.path.exists(certif_save_loc)\n",
    "        if not isExist:\n",
    "            os.makedirs(certif_save_loc)\n",
    "        certif_df.to_csv(certif_save_loc + \"/\" + order_list[i] + '.csv'  , index=False)\n",
    "    "
   ],
   "metadata": {
    "collapsed": false,
    "ExecuteTime": {
     "end_time": "2024-06-29T23:02:35.623825Z",
     "start_time": "2024-06-29T23:02:35.618828Z"
    }
   },
   "id": "f2b297da4f76b1f8",
   "execution_count": 12
  },
  {
   "cell_type": "code",
   "outputs": [
    {
     "name": "stdout",
     "output_type": "stream",
     "text": [
      "(196, 23)\n",
      "(196, 23)\n",
      "(196, 23)\n",
      "(196, 23)\n",
      "(196, 23)\n",
      "(196, 23)\n",
      "(196, 23)\n",
      "(196, 23)\n",
      "(196, 23)\n",
      "(196, 23)\n",
      "(196, 23)\n",
      "(196, 23)\n",
      "(196, 23)\n",
      "(196, 23)\n",
      "(196, 23)\n",
      "(196, 23)\n",
      "(196, 23)\n",
      "(196, 23)\n",
      "(196, 23)\n",
      "(196, 23)\n",
      "(196, 23)\n",
      "(196, 23)\n",
      "(196, 23)\n",
      "(196, 23)\n",
      "(196, 23)\n",
      "(196, 23)\n",
      "(196, 23)\n",
      "(196, 23)\n",
      "(196, 23)\n",
      "(196, 23)\n"
     ]
    }
   ],
   "source": [
    "save_certif_counterfactuals(certifai_instance.results, order_list, scaler, columns_to_standardize)"
   ],
   "metadata": {
    "collapsed": false,
    "ExecuteTime": {
     "end_time": "2024-06-29T23:02:36.443065Z",
     "start_time": "2024-06-29T23:02:36.276921Z"
    }
   },
   "id": "9b9cd0d25d264060",
   "execution_count": 13
  },
  {
   "cell_type": "code",
   "outputs": [],
   "source": [],
   "metadata": {
    "collapsed": false
   },
   "id": "c94a56e424825c07"
  }
 ],
 "metadata": {
  "kernelspec": {
   "display_name": "Python 3",
   "language": "python",
   "name": "python3"
  },
  "language_info": {
   "codemirror_mode": {
    "name": "ipython",
    "version": 2
   },
   "file_extension": ".py",
   "mimetype": "text/x-python",
   "name": "python",
   "nbconvert_exporter": "python",
   "pygments_lexer": "ipython2",
   "version": "2.7.6"
  }
 },
 "nbformat": 4,
 "nbformat_minor": 5
}
