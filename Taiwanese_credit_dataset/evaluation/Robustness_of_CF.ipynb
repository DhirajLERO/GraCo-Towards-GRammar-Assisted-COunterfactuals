{
 "cells": [
  {
   "cell_type": "code",
   "execution_count": 1,
   "id": "initial_id",
   "metadata": {
    "collapsed": true,
    "ExecuteTime": {
     "end_time": "2024-06-29T23:20:14.989453Z",
     "start_time": "2024-06-29T23:20:14.188494Z"
    }
   },
   "outputs": [],
   "source": [
    "import torch\n",
    "import torch.nn as nn\n",
    "import torch.optim as optim\n",
    "from pickle import dump , load\n",
    "from sklearn.preprocessing import StandardScaler\n",
    "import pandas as pd\n",
    "import numpy as np\n",
    "import os"
   ]
  },
  {
   "cell_type": "code",
   "outputs": [],
   "source": [
    "class TaiwaneseCreditClassifier(nn.Module):\n",
    "    def __init__(self):\n",
    "        super().__init__()\n",
    "        self.hidden1 = nn.Linear(23, 64)\n",
    "        self.act1 = nn.ReLU()\n",
    "        self.hidden2 = nn.Linear(64, 128)\n",
    "        self.act2 = nn.ReLU()\n",
    "        self.hidden3 = nn.Linear(128, 32)\n",
    "        self.act3 = nn.ReLU()\n",
    "        self.hidden4 = nn.Linear(32, 16)\n",
    "        self.act4 = nn.ReLU()\n",
    "        self.output = nn.Linear(16, 1)\n",
    "        self.act_output = nn.Sigmoid()\n",
    "        self.dropout = nn.Dropout(0.1)\n",
    "\n",
    "    def forward(self, x):\n",
    "        x = self.dropout(self.act1(self.hidden1(x)))\n",
    "        x = self.dropout(self.act2(self.hidden2(x)))\n",
    "        x = self.dropout(self.act3(self.hidden3(x)))\n",
    "        x = self.dropout(self.act4(self.hidden4(x)))\n",
    "        # x = self.output(x)\n",
    "        x = self.act_output(self.output(x))\n",
    "        return x\n",
    "\n",
    "\n",
    "def evaluate(model, X_test, y_test):\n",
    "    model.eval()\n",
    "    with torch.no_grad():\n",
    "        y_pred = model(X_test)\n",
    "    accuracy = (y_pred.round() == y_test).float().mean()\n",
    "    return accuracy\n",
    "\n",
    "    \n",
    "def create_and_train_model(X_train, y_train, X_test, y_test, num_epochs, seed):\n",
    "    torch.manual_seed(seed)\n",
    "    \n",
    "    model = TaiwaneseCreditClassifier()\n",
    "    batch_size = 128\n",
    "    loss_fn = nn.BCELoss() \n",
    "    optimizer = optim.Adam(model.parameters(), lr=0.001)\n",
    "    \n",
    "    model.eval()\n",
    "    accuracy = evaluate(model, X_test, y_test)\n",
    "    print('accuracy before training {}'.format(accuracy))\n",
    "    model.train()\n",
    "    for epoch in range(num_epochs):\n",
    "        optimizer.zero_grad()\n",
    "        for i in range(0, len(X_train), batch_size):\n",
    "            Xbatch = X_train[i:i+batch_size]\n",
    "            y_pred = model(Xbatch)\n",
    "            ybatch = y_train[i:i+batch_size]\n",
    "            loss = loss_fn(y_pred, ybatch)\n",
    "            # print(loss)\n",
    "            loss.backward()\n",
    "            optimizer.step()\n",
    "        # print(loss.tolist())\n",
    "        # evaluate model on each epoch\n",
    "    model.eval()\n",
    "    accuracy = evaluate(model, X_test, y_test)\n",
    "    print(f'Finished epoch {epoch},  accuracy {accuracy}')\n",
    "    return model\n",
    "\n",
    "\n",
    "def create_data(train_df_loc, test_df_loc, scaler):\n",
    "    train = pd.read_csv('./../train_balanced.csv')\n",
    "\n",
    "    test = pd.read_csv('./../test_balanced.csv')\n",
    "    X_train = train.iloc[:, 0:23].values\n",
    "    y_train = train.iloc[:, 23].values\n",
    "    # print(y_train)\n",
    "    X_train = torch.tensor(X_train, dtype=torch.float32)\n",
    "    y_train = torch.tensor(y_train, dtype=torch.float32).reshape(-1, 1)\n",
    "    \n",
    "    X_test = test.iloc[:, 0:23].values\n",
    "    y_test = test.iloc[:, 23].values\n",
    "    \n",
    "    X_test = torch.tensor(X_test, dtype=torch.float32)\n",
    "    y_test = torch.tensor(y_test, dtype=torch.float32).reshape(-1, 1)\n",
    "    \n",
    "    X_train_np = X_train.numpy()\n",
    "    X_test_np = X_test.numpy()  \n",
    "    \n",
    "    X_train_np[:, columns_to_standardize] = scaler.transform(X_train_np[:, columns_to_standardize])\n",
    "    X_test_np[:, columns_to_standardize] = scaler.transform(X_test_np[:, columns_to_standardize])\n",
    "    \n",
    "    # Convert back to PyTorch tensors\n",
    "    X_train = torch.from_numpy(X_train_np).type(torch.float) \n",
    "    X_test = torch.from_numpy(X_test_np).type(torch.float)\n",
    "    \n",
    "    return X_train, y_train, X_test, y_test\n",
    "\n",
    "\n",
    "def create_list_of_model(count, X_train, y_train, X_test, y_test, num_epochs):\n",
    "    list_of_models = []\n",
    "    for i in range(count):\n",
    "        model = create_and_train_model(X_train, y_train, X_test, y_test, num_epochs, i)\n",
    "        list_of_models.append(model)\n",
    "    return list_of_models\n",
    "\n",
    "def load_model():\n",
    "    model = torch.load('./../model_training/Taiwanese_credit_model')\n",
    "    model.eval()\n",
    "    return model\n",
    "\n",
    "def eval_model(model, input, scaler, columns_to_standardize):\n",
    "    model.eval()\n",
    "    # print(input)\n",
    "    input = input.reshape(-1, 23)\n",
    "    input = torch.tensor(input, dtype=torch.float32)\n",
    "    input = input.numpy()\n",
    "    input[:, columns_to_standardize] = scaler.transform(input[:, columns_to_standardize])\n",
    "    input = torch.from_numpy(input).type(torch.float)\n",
    "    with torch.no_grad():\n",
    "        prob = model(input)\n",
    "    return prob.tolist()[0][0]\n",
    "\n",
    "def evaluate_model_for_df(df , model_list, scaler, columns_to_standardize):\n",
    "    probability_list = []\n",
    "    if df.shape[0] == 0:\n",
    "        return 0\n",
    "    else:\n",
    "        for index, row in df.iterrows():\n",
    "            counterfactual_success =[]\n",
    "            x = row.to_numpy()\n",
    "            for model in model_list:\n",
    "                prob = eval_model(model, x, scaler, columns_to_standardize)\n",
    "                if prob > 0.5:\n",
    "                    counterfactual_success.append(1)\n",
    "                else:\n",
    "                    counterfactual_success.append(0)\n",
    "            probability_list.append(sum(counterfactual_success)/len(counterfactual_success))\n",
    "        return sum(probability_list)/len(probability_list)"
   ],
   "metadata": {
    "collapsed": false,
    "ExecuteTime": {
     "end_time": "2024-06-29T23:20:14.997583Z",
     "start_time": "2024-06-29T23:20:14.990222Z"
    }
   },
   "id": "5ed94de3ff390540",
   "execution_count": 2
  },
  {
   "cell_type": "code",
   "outputs": [],
   "source": [
    "def calculate_robustness(input_data_loc, dice_loc, ge_cf_loc, ge_nsga2_loc, certif_cf_loc, model_list, scaler, columns_to_standardize):\n",
    "    metric_dict = {'dice_robustness' : [],\n",
    "                   'Our_method_robustness' : [],\n",
    "                   'certif_robustness' : [],\n",
    "                   'GE_NSGAII_robustness': []}\n",
    "    \n",
    "    output_dict = {}\n",
    "        \n",
    "    for i in os.listdir(input_data_loc):\n",
    "        if i=='.DS_Store':\n",
    "            continue\n",
    "        dice_df = pd.read_csv(dice_loc +  i + '.csv')\n",
    "        dice_df.drop(columns=['outcome'], inplace=True)\n",
    "        Our_method_df  = pd.read_csv(ge_cf_loc +  i + '.csv')\n",
    "        certif_df = pd.read_csv(certif_cf_loc +  i + '.csv')\n",
    "        NSGAII_df = pd.read_csv(ge_nsga2_loc +  i + '.csv')\n",
    "        \n",
    "        \n",
    "        metric_dict['dice_robustness'].append(evaluate_model_for_df(dice_df, model_list, scaler, columns_to_standardize ))\n",
    "        metric_dict['Our_method_robustness'].append(evaluate_model_for_df(Our_method_df, model_list, scaler, columns_to_standardize))\n",
    "        metric_dict['certif_robustness'].append(evaluate_model_for_df(certif_df, model_list, scaler, columns_to_standardize))\n",
    "        metric_dict['GE_NSGAII_robustness'].append(evaluate_model_for_df(NSGAII_df, model_list, scaler, columns_to_standardize))\n",
    "    \n",
    "    for key, value in metric_dict.items():\n",
    "        output_dict[key] = sum(value)/ len(value)\n",
    "        \n",
    "        \n",
    "    return output_dict, metric_dict\n"
   ],
   "metadata": {
    "collapsed": false,
    "ExecuteTime": {
     "end_time": "2024-06-29T23:20:15.001422Z",
     "start_time": "2024-06-29T23:20:14.998744Z"
    }
   },
   "id": "19079261d13f84d7",
   "execution_count": 3
  },
  {
   "cell_type": "code",
   "outputs": [],
   "source": [
    "columns_to_standardize = list(range(23))\n",
    "scaler = load(open('./../model_training/StandardScaler.pkl', 'rb'))\n",
    "model_orig = load_model()\n",
    "\n",
    "input_data_loc = './../output/NSGAIII_multi/'\n",
    "dice_loc = 'Dice_cf/'\n",
    "ge_cf_loc = 'Ge_cf/'\n",
    "ge_nsga2_loc = 'Ge_NSGAII_cf/'\n",
    "certif_cf_loc = 'Certif_cf/'\n",
    "train_df_loc = \"./../train_balanced.csv\"\n",
    "test_df_loc = \"./../test_balanced.csv\"\n"
   ],
   "metadata": {
    "collapsed": false,
    "ExecuteTime": {
     "end_time": "2024-06-29T23:20:15.005755Z",
     "start_time": "2024-06-29T23:20:15.002177Z"
    }
   },
   "id": "1ae4dd207c8d8200",
   "execution_count": 4
  },
  {
   "cell_type": "code",
   "outputs": [],
   "source": [
    "X_train, y_train, X_test, y_test = create_data(train_df_loc, test_df_loc, scaler)"
   ],
   "metadata": {
    "collapsed": false,
    "ExecuteTime": {
     "end_time": "2024-06-29T23:20:15.608874Z",
     "start_time": "2024-06-29T23:20:15.577612Z"
    }
   },
   "id": "43db4365138be789",
   "execution_count": 5
  },
  {
   "cell_type": "code",
   "outputs": [
    {
     "name": "stdout",
     "output_type": "stream",
     "text": [
      "accuracy before training 0.49679848551750183\n",
      "Finished epoch 99,  accuracy 0.6779661178588867\n",
      "accuracy before training 0.5032014846801758\n",
      "Finished epoch 99,  accuracy 0.6839924454689026\n",
      "accuracy before training 0.49642184376716614\n",
      "Finished epoch 99,  accuracy 0.680979311466217\n",
      "accuracy before training 0.485122412443161\n",
      "Finished epoch 99,  accuracy 0.6768361330032349\n",
      "accuracy before training 0.5032014846801758\n",
      "Finished epoch 99,  accuracy 0.6802259683609009\n",
      "accuracy before training 0.49679848551750183\n",
      "Finished epoch 99,  accuracy 0.6824858784675598\n",
      "accuracy before training 0.4900188446044922\n",
      "Finished epoch 99,  accuracy 0.6711864471435547\n",
      "accuracy before training 0.49679848551750183\n",
      "Finished epoch 99,  accuracy 0.6745762825012207\n",
      "accuracy before training 0.501694917678833\n",
      "Finished epoch 99,  accuracy 0.6824858784675598\n",
      "accuracy before training 0.49679848551750183\n",
      "Finished epoch 99,  accuracy 0.6866289973258972\n",
      "accuracy before training 0.538229763507843\n",
      "Finished epoch 99,  accuracy 0.6824858784675598\n",
      "accuracy before training 0.49679848551750183\n",
      "Finished epoch 99,  accuracy 0.6760828495025635\n",
      "accuracy before training 0.4971751272678375\n",
      "Finished epoch 99,  accuracy 0.6764594912528992\n",
      "accuracy before training 0.4975517988204956\n",
      "Finished epoch 99,  accuracy 0.6919021010398865\n",
      "accuracy before training 0.4975517988204956\n",
      "Finished epoch 99,  accuracy 0.6885122656822205\n",
      "accuracy before training 0.481732577085495\n",
      "Finished epoch 99,  accuracy 0.6772128343582153\n",
      "accuracy before training 0.5028248429298401\n",
      "Finished epoch 99,  accuracy 0.6885122656822205\n",
      "accuracy before training 0.5032014846801758\n",
      "Finished epoch 99,  accuracy 0.680979311466217\n",
      "accuracy before training 0.5028248429298401\n",
      "Finished epoch 99,  accuracy 0.665160059928894\n",
      "accuracy before training 0.49529188871383667\n",
      "Finished epoch 99,  accuracy 0.6772128343582153\n",
      "accuracy before training 0.5032014846801758\n",
      "Finished epoch 99,  accuracy 0.6813559532165527\n",
      "accuracy before training 0.5386064052581787\n",
      "Finished epoch 99,  accuracy 0.6892655491828918\n",
      "accuracy before training 0.49679848551750183\n",
      "Finished epoch 99,  accuracy 0.6903954744338989\n",
      "accuracy before training 0.5032014846801758\n",
      "Finished epoch 99,  accuracy 0.6704331636428833\n",
      "accuracy before training 0.5032014846801758\n",
      "Finished epoch 99,  accuracy 0.6900188326835632\n",
      "accuracy before training 0.49642184376716614\n",
      "Finished epoch 99,  accuracy 0.6866289973258972\n",
      "accuracy before training 0.5032014846801758\n",
      "Finished epoch 99,  accuracy 0.6790960431098938\n",
      "accuracy before training 0.4971751272678375\n",
      "Finished epoch 99,  accuracy 0.6862523555755615\n",
      "accuracy before training 0.5032014846801758\n",
      "Finished epoch 99,  accuracy 0.6798493266105652\n",
      "accuracy before training 0.4971751272678375\n",
      "Finished epoch 99,  accuracy 0.6802259683609009\n",
      "accuracy before training 0.5028248429298401\n",
      "Finished epoch 99,  accuracy 0.6779661178588867\n",
      "accuracy before training 0.49679848551750183\n",
      "Finished epoch 99,  accuracy 0.6873822808265686\n",
      "accuracy before training 0.5028248429298401\n",
      "Finished epoch 99,  accuracy 0.6832391619682312\n",
      "accuracy before training 0.49679848551750183\n",
      "Finished epoch 99,  accuracy 0.6715630888938904\n",
      "accuracy before training 0.5077213048934937\n",
      "Finished epoch 99,  accuracy 0.6907721161842346\n",
      "accuracy before training 0.49679848551750183\n",
      "Finished epoch 99,  accuracy 0.6749529242515564\n",
      "accuracy before training 0.49114876985549927\n",
      "Finished epoch 99,  accuracy 0.6847457885742188\n",
      "accuracy before training 0.4979284405708313\n",
      "Finished epoch 99,  accuracy 0.6922787427902222\n",
      "accuracy before training 0.5032014846801758\n",
      "Finished epoch 99,  accuracy 0.691525399684906\n",
      "accuracy before training 0.4971751272678375\n",
      "Finished epoch 99,  accuracy 0.6790960431098938\n"
     ]
    }
   ],
   "source": [
    "list_of_models = create_list_of_model(40, X_train, y_train, X_test, y_test, num_epochs=100)"
   ],
   "metadata": {
    "collapsed": false,
    "ExecuteTime": {
     "end_time": "2024-06-29T23:22:58.613972Z",
     "start_time": "2024-06-29T23:20:17.320230Z"
    }
   },
   "id": "ad61785cdcd784da",
   "execution_count": 6
  },
  {
   "cell_type": "code",
   "outputs": [],
   "source": [
    "output_dict, metric_dict = calculate_robustness(input_data_loc, dice_loc, ge_cf_loc, ge_nsga2_loc, certif_cf_loc, list_of_models, scaler, columns_to_standardize)"
   ],
   "metadata": {
    "collapsed": false,
    "ExecuteTime": {
     "end_time": "2024-06-29T23:24:30.315221Z",
     "start_time": "2024-06-29T23:23:02.867528Z"
    }
   },
   "id": "98461b4aafe084b5",
   "execution_count": 7
  },
  {
   "cell_type": "code",
   "outputs": [
    {
     "data": {
      "text/plain": "{'dice_robustness': [0.5881637168141594,\n  0.5181297709923666,\n  0.5648437499999993,\n  0.5739197530864195,\n  0.5170903954802258,\n  0.5902616279069769,\n  0.5173507462686563,\n  0.548399390243902,\n  0.5366150442477876,\n  0.5778431372549014,\n  0.5845864661654138,\n  0.5795348837209301,\n  0.4977011494252876,\n  0.11875,\n  0.6116564417177912,\n  0.5714962121212119,\n  0.5365523465703971,\n  0.5888528138528136,\n  0.5562015503875973,\n  0.5959239130434779,\n  0.5726141078838175,\n  0.5334801762114535,\n  0.5343567251461991,\n  0.5954285714285715,\n  0.5332746478873239,\n  0.5692961165048543,\n  0.5624999999999998,\n  0.5632275132275132,\n  0.4706168831168834,\n  0.6238636363636364],\n 'Our_method_robustness': [0.7183628318584062,\n  0.7609732824427476,\n  0.8889648437500002,\n  0.9058641975308642,\n  0.9105932203389825,\n  0.9845930232558139,\n  0.6672574626865675,\n  0.7653201219512196,\n  0.6754424778761063,\n  0.6818627450980392,\n  0.9906015037593985,\n  0.8105813953488371,\n  0.9885057471264371,\n  0.75625,\n  0.9920245398773005,\n  0.7868371212121211,\n  0.743682310469314,\n  0.9734848484848486,\n  0.9515503875968999,\n  0.9953804347826086,\n  0.9993775933609959,\n  0.6747797356828193,\n  0.9739766081871344,\n  0.7984285714285716,\n  0.9253521126760565,\n  0.7117718446601943,\n  0.8231343283582073,\n  0.6964285714285721,\n  0.7909090909090903,\n  0.9100649350649357],\n 'certif_robustness': [0.5781887755102042,\n  0.5815051020408161,\n  0.5714285714285713,\n  0.5533163265306125,\n  0.5872448979591836,\n  0.5542091836734695,\n  0.6049744897959187,\n  0.5963010204081632,\n  0.5635204081632652,\n  0.5710459183673467,\n  0.5593112244897959,\n  0.5720663265306127,\n  0.5579081632653063,\n  0.5575255102040819,\n  0.5730867346938776,\n  0.6121173469387755,\n  0.5229591836734695,\n  0.5785714285714288,\n  0.5438775510204082,\n  0.57984693877551,\n  0.552295918367347,\n  0.5474489795918366,\n  0.5545918367346943,\n  0.5483418367346937,\n  0.5366071428571424,\n  0.5499999999999998,\n  0.5660714285714283,\n  0.538520408163265,\n  0.5684948979591835,\n  0.5687500000000001],\n 'GE_NSGAII_robustness': [0.8721638655462184,\n  0.8382838283828381,\n  0.8506963788300858,\n  0.9231884057971015,\n  0.9156976744186048,\n  0.9950862068965517,\n  0.8963793103448275,\n  0.9516483516483516,\n  0.7659817351598174,\n  0.881818181818182,\n  0.9828767123287672,\n  0.8793147208121828,\n  0.9617647058823502,\n  0.83125,\n  0.9946052631578947,\n  0.8658181818181818,\n  0.7521523178807945,\n  0.8869565217391304,\n  0.9593023255813954,\n  0.9859903381642513,\n  0.9958333333333333,\n  0.7433615819209038,\n  0.9785714285714286,\n  0.8728860294117647,\n  0.8933098591549293,\n  0.8704773869346734,\n  0.8172413793103442,\n  0.8462025316455699,\n  0.6632211538461538,\n  0.9485119047619047]}"
     },
     "execution_count": 8,
     "metadata": {},
     "output_type": "execute_result"
    }
   ],
   "source": [
    "metric_dict"
   ],
   "metadata": {
    "collapsed": false,
    "ExecuteTime": {
     "end_time": "2024-06-29T23:24:30.320331Z",
     "start_time": "2024-06-29T23:24:30.316413Z"
    }
   },
   "id": "d50db24030bf523",
   "execution_count": 8
  },
  {
   "cell_type": "code",
   "outputs": [
    {
     "data": {
      "text/plain": "{'dice_robustness': 0.5444177162356857,\n 'Our_method_robustness': 0.8417451962401029,\n 'certif_robustness': 0.5650042517006804,\n 'GE_NSGAII_robustness': 0.8873530538366179}"
     },
     "execution_count": 9,
     "metadata": {},
     "output_type": "execute_result"
    }
   ],
   "source": [
    "output_dict"
   ],
   "metadata": {
    "collapsed": false,
    "ExecuteTime": {
     "end_time": "2024-06-29T23:24:30.324868Z",
     "start_time": "2024-06-29T23:24:30.322039Z"
    }
   },
   "id": "7a2a71ea52d948db",
   "execution_count": 9
  },
  {
   "cell_type": "code",
   "outputs": [],
   "source": [
    "import matplotlib.pyplot as plt\n",
    "\n",
    "def plot_bar_graph(data_dict, title=\"Bar Graph\", xlabel=\"Labels\", ylabel=\"Values\"):\n",
    "    \n",
    "    labels = list(data_dict.keys())\n",
    "    values = list(data_dict.values())\n",
    "    \n",
    "    plt.figure(figsize=(8, 6))\n",
    "    plt.bar(labels, values, color='skyblue', width=0.4)\n",
    "    \n",
    "    plt.title(title)\n",
    "    plt.xlabel(xlabel)\n",
    "    plt.ylabel(ylabel)\n",
    "    \n",
    "    plt.xticks(rotation=45)\n",
    "    plt.tight_layout()\n",
    "    plt.show()"
   ],
   "metadata": {
    "collapsed": false,
    "ExecuteTime": {
     "end_time": "2024-06-29T23:24:30.328257Z",
     "start_time": "2024-06-29T23:24:30.325914Z"
    }
   },
   "id": "c89fa360cfe4c9c8",
   "execution_count": 10
  },
  {
   "cell_type": "code",
   "outputs": [
    {
     "data": {
      "text/plain": "<Figure size 800x600 with 1 Axes>",
      "image/png": "[encoded data removed]"
     },
     "metadata": {},
     "output_type": "display_data"
    }
   ],
   "source": [
    "plot_bar_graph(output_dict, title=\"Robustness\", xlabel=\"methods\", ylabel=\"robustness\")"
   ],
   "metadata": {
    "collapsed": false,
    "ExecuteTime": {
     "end_time": "2024-06-29T23:24:30.504549Z",
     "start_time": "2024-06-29T23:24:30.328977Z"
    }
   },
   "id": "3bc29d0ce678424",
   "execution_count": 11
  },
  {
   "cell_type": "code",
   "outputs": [],
   "source": [],
   "metadata": {
    "collapsed": false
   },
   "id": "f08766b9fd10f015"
  }
 ],
 "metadata": {
  "kernelspec": {
   "display_name": "Python 3",
   "language": "python",
   "name": "python3"
  },
  "language_info": {
   "codemirror_mode": {
    "name": "ipython",
    "version": 2
   },
   "file_extension": ".py",
   "mimetype": "text/x-python",
   "name": "python",
   "nbconvert_exporter": "python",
   "pygments_lexer": "ipython2",
   "version": "2.7.6"
  }
 },
 "nbformat": 4,
 "nbformat_minor": 5
}
