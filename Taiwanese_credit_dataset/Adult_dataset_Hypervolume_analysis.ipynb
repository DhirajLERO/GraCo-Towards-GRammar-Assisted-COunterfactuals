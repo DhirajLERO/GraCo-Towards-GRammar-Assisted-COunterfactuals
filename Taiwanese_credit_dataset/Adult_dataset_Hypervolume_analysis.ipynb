{
 "cells": [
  {
   "cell_type": "code",
   "execution_count": 1,
   "id": "initial_id",
   "metadata": {
    "collapsed": true,
    "ExecuteTime": {
     "end_time": "2024-06-29T07:54:57.030517Z",
     "start_time": "2024-06-29T07:54:55.382029Z"
    }
   },
   "outputs": [],
   "source": [
    "import os\n",
    "import pandas as pd\n",
    "import numpy as np\n"
   ]
  },
  {
   "cell_type": "code",
   "outputs": [],
   "source": [
    "def load_hypervolume_data(base_dir):\n",
    "    data_dict = {}\n",
    "    \n",
    "    for folder_name in os.listdir(base_dir):\n",
    "        folder_path = os.path.join(base_dir, folder_name)\n",
    "        \n",
    "        # Ensure it's a directory\n",
    "        if os.path.isdir(folder_path):\n",
    "            hypervolume_path = os.path.join(folder_path, 'hyper_volume.csv')\n",
    "            \n",
    "            # Check if hyper_volume.csv exists in the folder\n",
    "            if os.path.exists(hypervolume_path):\n",
    "                df = pd.read_csv(hypervolume_path)\n",
    "                data_dict[folder_name] = df\n",
    "    \n",
    "    return data_dict"
   ],
   "metadata": {
    "collapsed": false,
    "ExecuteTime": {
     "end_time": "2024-06-29T07:54:57.035889Z",
     "start_time": "2024-06-29T07:54:57.032341Z"
    }
   },
   "id": "51441ea312ef931d",
   "execution_count": 2
  },
  {
   "cell_type": "code",
   "outputs": [],
   "source": [
    "def remove_exceeding_rows(df, column_name, value):\n",
    "    \"\"\"\n",
    "    Remove rows from the DataFrame where the column's value exceeds the given value.\n",
    "\n",
    "    Parameters:\n",
    "    df (pd.DataFrame): The input DataFrame.\n",
    "    column_name (str): The name of the column to check the values.\n",
    "    value (numeric): The threshold value.\n",
    "\n",
    "    Returns:\n",
    "    pd.DataFrame: A DataFrame with the rows removed where the column's value exceeds the given value.\n",
    "    \"\"\"\n",
    "    # Ensure the column exists in the DataFrame\n",
    "    if column_name not in df.columns:\n",
    "        raise ValueError(f\"Column '{column_name}' does not exist in the DataFrame\")\n",
    "    \n",
    "    # Filter the DataFrame\n",
    "    filtered_df = df[df[column_name] <= value]\n",
    "    \n",
    "    return filtered_df"
   ],
   "metadata": {
    "collapsed": false,
    "ExecuteTime": {
     "end_time": "2024-06-29T07:54:57.039652Z",
     "start_time": "2024-06-29T07:54:57.036910Z"
    }
   },
   "id": "51fa2167d5add9a1",
   "execution_count": 3
  },
  {
   "cell_type": "markdown",
   "source": [
    "### load all the hyper-volume data"
   ],
   "metadata": {
    "collapsed": false
   },
   "id": "772649ff6d84bcf6"
  },
  {
   "cell_type": "code",
   "outputs": [],
   "source": [
    "NSGAIII_directory =  \"output/NSGAIII_multi\"\n",
    "NSGAIII_hypervolume = load_hypervolume_data(NSGAIII_directory)\n",
    "\n",
    "NSGAII_directory =  \"output/NSGAII_multi\"\n",
    "NSGAII_hypervolume = load_hypervolume_data(NSGAII_directory)"
   ],
   "metadata": {
    "collapsed": false,
    "ExecuteTime": {
     "end_time": "2024-06-29T07:54:57.180463Z",
     "start_time": "2024-06-29T07:54:57.040902Z"
    }
   },
   "id": "4a12935d8a73bde5",
   "execution_count": 4
  },
  {
   "cell_type": "markdown",
   "source": [
    "## Calculate the mean of hyper-volume across all the runs and across all the examples."
   ],
   "metadata": {
    "collapsed": false
   },
   "id": "ba66ad8077accbb2"
  },
  {
   "cell_type": "markdown",
   "source": [
    "#### 1. NSGA-II"
   ],
   "metadata": {
    "collapsed": false
   },
   "id": "17eef32054083430"
  },
  {
   "cell_type": "code",
   "outputs": [
    {
     "name": "stdout",
     "output_type": "stream",
     "text": [
      "20 :  0.9166874113941579\n",
      "18 :  0.9135347801706227\n",
      "27 :  0.9326146295673804\n",
      "9 :  0.900986535863448\n",
      "0 :  0.8876600089959197\n",
      "11 :  0.9168599699132566\n",
      "7 :  0.9164005449629333\n",
      "29 :  0.9276806114235493\n",
      "16 :  0.9203472407571326\n",
      "6 :  0.9206855611831392\n",
      "28 :  0.9161115395072101\n",
      "17 :  0.919218897321006\n",
      "1 :  0.9026080178796216\n",
      "10 :  0.7329155095545427\n",
      "19 :  0.9100213761789518\n",
      "26 :  0.9228160769672665\n",
      "8 :  0.9202562405986365\n",
      "21 :  0.9121562006247587\n",
      "24 :  0.9038754665425927\n",
      "23 :  0.9148154493876064\n",
      "4 :  0.9032288440178149\n",
      "15 :  0.9176493498643594\n",
      "3 :  0.9036537215255975\n",
      "12 :  0.9167856734946137\n",
      "2 :  0.8885722325092843\n",
      "13 :  0.9172381756954526\n",
      "5 :  0.8739276381557526\n",
      "14 :  0.9246412921706262\n",
      "22 :  0.8745263528078567\n",
      "25 :  0.9017097864500101\n",
      "[0.9166874113941579, 0.9135347801706227, 0.9326146295673804, 0.900986535863448, 0.8876600089959197, 0.9168599699132566, 0.9164005449629333, 0.9276806114235493, 0.9203472407571326, 0.9206855611831392, 0.9161115395072101, 0.919218897321006, 0.9026080178796216, 0.7329155095545427, 0.9100213761789518, 0.9228160769672665, 0.9202562405986365, 0.9121562006247587, 0.9038754665425927, 0.9148154493876064, 0.9032288440178149, 0.9176493498643594, 0.9036537215255975, 0.9167856734946137, 0.8885722325092843, 0.9172381756954526, 0.8739276381557526, 0.9246412921706262, 0.8745263528078567, 0.9017097864500101]\n",
      "Hypervolume mean for NSGA-II over all the input and run:  0.9043395045161698\n"
     ]
    }
   ],
   "source": [
    "NSGAII_hypervolume_list = []\n",
    "for key, value in NSGAII_hypervolume.items():\n",
    "    value = remove_exceeding_rows(value, \"hyper_volume\", 1.0)\n",
    "    print(key, \": \",  value['hyper_volume'].mean())\n",
    "    NSGAII_hypervolume_list.append(value['hyper_volume'].mean())\n",
    "\n",
    "print(NSGAII_hypervolume_list)\n",
    "print(\"Hypervolume mean for NSGA-II over all the input and run: \", np.mean(NSGAII_hypervolume_list))\n",
    "    "
   ],
   "metadata": {
    "collapsed": false,
    "ExecuteTime": {
     "end_time": "2024-06-29T07:54:57.194613Z",
     "start_time": "2024-06-29T07:54:57.182621Z"
    }
   },
   "id": "91a060ef5e96e5c6",
   "execution_count": 5
  },
  {
   "cell_type": "code",
   "outputs": [
    {
     "name": "stdout",
     "output_type": "stream",
     "text": [
      "20 :  0.9183893491320797\n",
      "18 :  0.9144762099379478\n",
      "27 :  0.933728521840635\n",
      "9 :  0.9002671879339839\n",
      "0 :  0.8869663472395094\n",
      "11 :  0.9170665202626461\n",
      "7 :  0.9164077099583589\n",
      "29 :  0.9285435511420057\n",
      "16 :  0.9210247460823325\n",
      "6 :  0.9211023978316802\n",
      "28 :  0.9166234438295078\n",
      "17 :  0.9194749085361688\n",
      "1 :  0.9040706843592299\n",
      "10 :  0.7308041425975925\n",
      "19 :  0.9092111767022667\n",
      "26 :  0.9233927521897727\n",
      "8 :  0.9211969361970205\n",
      "21 :  0.9144292989182873\n",
      "24 :  0.9041274287216571\n",
      "23 :  0.9153819867638162\n",
      "4 :  0.9034111854228021\n",
      "15 :  0.9182948462670083\n",
      "3 :  0.9023555561007697\n",
      "12 :  0.9182849528724546\n",
      "2 :  0.889039181272335\n",
      "13 :  0.9175162447187782\n",
      "5 :  0.8754447779260772\n",
      "14 :  0.9251768351076104\n",
      "22 :  0.8750080301250478\n",
      "25 :  0.9025266511720967\n",
      "[0.9183893491320797, 0.9144762099379478, 0.933728521840635, 0.9002671879339839, 0.8869663472395094, 0.9170665202626461, 0.9164077099583589, 0.9285435511420057, 0.9210247460823325, 0.9211023978316802, 0.9166234438295078, 0.9194749085361688, 0.9040706843592299, 0.7308041425975925, 0.9092111767022667, 0.9233927521897727, 0.9211969361970205, 0.9144292989182873, 0.9041274287216571, 0.9153819867638162, 0.9034111854228021, 0.9182948462670083, 0.9023555561007697, 0.9182849528724546, 0.889039181272335, 0.9175162447187782, 0.8754447779260772, 0.9251768351076104, 0.8750080301250478, 0.9025266511720967]\n",
      "Hypervolume mean for NSGA-III over all the input and run:  0.9047914520387159\n"
     ]
    }
   ],
   "source": [
    "NSGAIII_hypervolume_list = []\n",
    "for key, value in NSGAIII_hypervolume.items():\n",
    "    value = remove_exceeding_rows(value, \"hyper_volume\", 1.0)\n",
    "    print(key, \": \",  value['hyper_volume'].mean())\n",
    "    NSGAIII_hypervolume_list.append(value['hyper_volume'].mean())\n",
    "\n",
    "print(NSGAIII_hypervolume_list)\n",
    "print(\"Hypervolume mean for NSGA-III over all the input and run: \", np.mean(NSGAIII_hypervolume_list))"
   ],
   "metadata": {
    "collapsed": false,
    "ExecuteTime": {
     "end_time": "2024-06-29T07:54:59.983177Z",
     "start_time": "2024-06-29T07:54:59.966263Z"
    }
   },
   "id": "73e833f82b6a7d64",
   "execution_count": 6
  },
  {
   "cell_type": "code",
   "outputs": [],
   "source": [],
   "metadata": {
    "collapsed": false,
    "ExecuteTime": {
     "end_time": "2024-06-29T07:55:00.402388Z",
     "start_time": "2024-06-29T07:55:00.400939Z"
    }
   },
   "id": "7d40b77f809ca74c",
   "execution_count": 6
  },
  {
   "cell_type": "code",
   "outputs": [],
   "source": [],
   "metadata": {
    "collapsed": false
   },
   "id": "65b51f0856009870"
  }
 ],
 "metadata": {
  "kernelspec": {
   "display_name": "Python 3",
   "language": "python",
   "name": "python3"
  },
  "language_info": {
   "codemirror_mode": {
    "name": "ipython",
    "version": 2
   },
   "file_extension": ".py",
   "mimetype": "text/x-python",
   "name": "python",
   "nbconvert_exporter": "python",
   "pygments_lexer": "ipython2",
   "version": "2.7.6"
  }
 },
 "nbformat": 4,
 "nbformat_minor": 5
}
