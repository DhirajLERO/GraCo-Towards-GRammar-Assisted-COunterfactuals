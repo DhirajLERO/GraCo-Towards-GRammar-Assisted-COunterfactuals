{
 "cells": [
  {
   "cell_type": "code",
   "execution_count": 52,
   "id": "initial_id",
   "metadata": {
    "collapsed": true,
    "ExecuteTime": {
     "end_time": "2024-06-28T11:36:28.854849Z",
     "start_time": "2024-06-28T11:36:28.852725Z"
    }
   },
   "outputs": [],
   "source": [
    "import torch\n",
    "import torch.nn as nn\n",
    "import torch.optim as optim\n",
    "import pandas as pd"
   ]
  },
  {
   "cell_type": "markdown",
   "source": [
    "## load dataset for training and testing"
   ],
   "metadata": {
    "collapsed": false
   },
   "id": "adc62e1101041835"
  },
  {
   "cell_type": "code",
   "outputs": [],
   "source": [
    "train = pd.read_csv('./../train_balanced.csv')\n",
    "# train.drop(['Unnamed: 0'], axis=1, inplace=True)\n",
    "\n",
    "test = pd.read_csv('./../test_balanced.csv')\n",
    "# test.drop(['Unnamed: 0'], axis=1, inplace=True)"
   ],
   "metadata": {
    "collapsed": false,
    "ExecuteTime": {
     "end_time": "2024-06-28T11:36:29.201381Z",
     "start_time": "2024-06-28T11:36:29.184581Z"
    }
   },
   "id": "dd2d7fcc9c374b6e",
   "execution_count": 53
  },
  {
   "cell_type": "code",
   "outputs": [
    {
     "data": {
      "text/plain": "       X1  X2  X3  X4  X5  X6  X7  X8  X9  X10  ...    X15    X16    X17  \\\n0  120000   0   2   1  25   0   0   0  -2   -2  ...      0      0      0   \n1   30000   0   3   1  41   1   2   0   0    2  ...  30566  29229  26260   \n2   20000   0   2   1  32   3   2   2   7    7  ...   2400   2400   2400   \n3  200000   0   1   2  28  -1  -1   2  -1   -1  ...   1117   1117      0   \n4   50000   1   1   2  28   0   0  -1  -1   -1  ...  11132      0      0   \n\n     X18    X19    X20   X21   X22   X23  Y  \n0   6000      0      0     0     0     0  0  \n1      0   2000   2200     0  1100  1100  0  \n2      0      0      0     0     0     0  1  \n3  26286      0   1117  1117     0  1128  0  \n4   5224  19906  11132     0     0     0  0  \n\n[5 rows x 24 columns]",
      "text/html": "<div>\n<style scoped>\n    .dataframe tbody tr th:only-of-type {\n        vertical-align: middle;\n    }\n\n    .dataframe tbody tr th {\n        vertical-align: top;\n    }\n\n    .dataframe thead th {\n        text-align: right;\n    }\n</style>\n<table border=\"1\" class=\"dataframe\">\n  <thead>\n    <tr style=\"text-align: right;\">\n      <th></th>\n      <th>X1</th>\n      <th>X2</th>\n      <th>X3</th>\n      <th>X4</th>\n      <th>X5</th>\n      <th>X6</th>\n      <th>X7</th>\n      <th>X8</th>\n      <th>X9</th>\n      <th>X10</th>\n      <th>...</th>\n      <th>X15</th>\n      <th>X16</th>\n      <th>X17</th>\n      <th>X18</th>\n      <th>X19</th>\n      <th>X20</th>\n      <th>X21</th>\n      <th>X22</th>\n      <th>X23</th>\n      <th>Y</th>\n    </tr>\n  </thead>\n  <tbody>\n    <tr>\n      <th>0</th>\n      <td>120000</td>\n      <td>0</td>\n      <td>2</td>\n      <td>1</td>\n      <td>25</td>\n      <td>0</td>\n      <td>0</td>\n      <td>0</td>\n      <td>-2</td>\n      <td>-2</td>\n      <td>...</td>\n      <td>0</td>\n      <td>0</td>\n      <td>0</td>\n      <td>6000</td>\n      <td>0</td>\n      <td>0</td>\n      <td>0</td>\n      <td>0</td>\n      <td>0</td>\n      <td>0</td>\n    </tr>\n    <tr>\n      <th>1</th>\n      <td>30000</td>\n      <td>0</td>\n      <td>3</td>\n      <td>1</td>\n      <td>41</td>\n      <td>1</td>\n      <td>2</td>\n      <td>0</td>\n      <td>0</td>\n      <td>2</td>\n      <td>...</td>\n      <td>30566</td>\n      <td>29229</td>\n      <td>26260</td>\n      <td>0</td>\n      <td>2000</td>\n      <td>2200</td>\n      <td>0</td>\n      <td>1100</td>\n      <td>1100</td>\n      <td>0</td>\n    </tr>\n    <tr>\n      <th>2</th>\n      <td>20000</td>\n      <td>0</td>\n      <td>2</td>\n      <td>1</td>\n      <td>32</td>\n      <td>3</td>\n      <td>2</td>\n      <td>2</td>\n      <td>7</td>\n      <td>7</td>\n      <td>...</td>\n      <td>2400</td>\n      <td>2400</td>\n      <td>2400</td>\n      <td>0</td>\n      <td>0</td>\n      <td>0</td>\n      <td>0</td>\n      <td>0</td>\n      <td>0</td>\n      <td>1</td>\n    </tr>\n    <tr>\n      <th>3</th>\n      <td>200000</td>\n      <td>0</td>\n      <td>1</td>\n      <td>2</td>\n      <td>28</td>\n      <td>-1</td>\n      <td>-1</td>\n      <td>2</td>\n      <td>-1</td>\n      <td>-1</td>\n      <td>...</td>\n      <td>1117</td>\n      <td>1117</td>\n      <td>0</td>\n      <td>26286</td>\n      <td>0</td>\n      <td>1117</td>\n      <td>1117</td>\n      <td>0</td>\n      <td>1128</td>\n      <td>0</td>\n    </tr>\n    <tr>\n      <th>4</th>\n      <td>50000</td>\n      <td>1</td>\n      <td>1</td>\n      <td>2</td>\n      <td>28</td>\n      <td>0</td>\n      <td>0</td>\n      <td>-1</td>\n      <td>-1</td>\n      <td>-1</td>\n      <td>...</td>\n      <td>11132</td>\n      <td>0</td>\n      <td>0</td>\n      <td>5224</td>\n      <td>19906</td>\n      <td>11132</td>\n      <td>0</td>\n      <td>0</td>\n      <td>0</td>\n      <td>0</td>\n    </tr>\n  </tbody>\n</table>\n<p>5 rows × 24 columns</p>\n</div>"
     },
     "execution_count": 54,
     "metadata": {},
     "output_type": "execute_result"
    }
   ],
   "source": [
    "train.head()"
   ],
   "metadata": {
    "collapsed": false,
    "ExecuteTime": {
     "end_time": "2024-06-28T11:36:29.903126Z",
     "start_time": "2024-06-28T11:36:29.898196Z"
    }
   },
   "id": "56d47dfe4c2460fa",
   "execution_count": 54
  },
  {
   "cell_type": "code",
   "outputs": [],
   "source": [
    "X_train = train.iloc[:, 0:23].values\n",
    "y_train = train.iloc[:, 23].values\n",
    "# print(y_train)\n",
    "X_train = torch.tensor(X_train, dtype=torch.float32)\n",
    "y_train = torch.tensor(y_train, dtype=torch.float32).reshape(-1, 1)"
   ],
   "metadata": {
    "collapsed": false,
    "ExecuteTime": {
     "end_time": "2024-06-28T11:36:30.467612Z",
     "start_time": "2024-06-28T11:36:30.464665Z"
    }
   },
   "id": "f9babd9b7bf944f3",
   "execution_count": 55
  },
  {
   "cell_type": "code",
   "outputs": [],
   "source": [
    "X_test = test.iloc[:, 0:23].values\n",
    "y_test = test.iloc[:, 23].values\n",
    "\n",
    "X_test = torch.tensor(X_test, dtype=torch.float32)\n",
    "y_test = torch.tensor(y_test, dtype=torch.float32).reshape(-1, 1)"
   ],
   "metadata": {
    "collapsed": false,
    "ExecuteTime": {
     "end_time": "2024-06-28T11:36:30.968835Z",
     "start_time": "2024-06-28T11:36:30.964820Z"
    }
   },
   "id": "a6a132d4ef70594c",
   "execution_count": 56
  },
  {
   "cell_type": "code",
   "outputs": [
    {
     "data": {
      "text/plain": "       X1  X2  X3  X4  X5  X6  X7  X8  X9  X10  ...     X15     X16     X17  \\\n0  120000   0   2   1  25   0   0   0  -2   -2  ...       0       0       0   \n1   30000   0   3   1  41   1   2   0   0    2  ...   30566   29229   26260   \n2   20000   0   2   1  32   3   2   2   7    7  ...    2400    2400    2400   \n3  200000   0   1   2  28  -1  -1   2  -1   -1  ...    1117    1117       0   \n4   50000   1   1   2  28   0   0  -1  -1   -1  ...   11132       0       0   \n5  260000   1   1   1  51   1  -2  -2  -2   -2  ...    6682    1718    1512   \n6  110000   0   3   1  46   0   0   2   2    0  ...  100188  102110  107014   \n7   80000   0   1   1  34  -1   2   2   2    2  ...    5092    6008    5618   \n8  140000   0   2   1  27  -2  -2  -2  -2   -2  ...       0    2226       0   \n9  130000   0   1   2  26   0   0   0   0    0  ...   10079   10289   10495   \n\n     X18    X19    X20   X21   X22   X23  Y  \n0   6000      0      0     0     0     0  0  \n1      0   2000   2200     0  1100  1100  0  \n2      0      0      0     0     0     0  1  \n3  26286      0   1117  1117     0  1128  0  \n4   5224  19906  11132     0     0     0  0  \n5      0      0   6882  1734  1512     0  0  \n6   8942   3800      0  3685  6580  4703  1  \n7      0   1500      0  1000     0  1000  1  \n8      0   1650      0  2226     0   656  1  \n9   1152   1164    360   372   376   540  1  \n\n[10 rows x 24 columns]",
      "text/html": "<div>\n<style scoped>\n    .dataframe tbody tr th:only-of-type {\n        vertical-align: middle;\n    }\n\n    .dataframe tbody tr th {\n        vertical-align: top;\n    }\n\n    .dataframe thead th {\n        text-align: right;\n    }\n</style>\n<table border=\"1\" class=\"dataframe\">\n  <thead>\n    <tr style=\"text-align: right;\">\n      <th></th>\n      <th>X1</th>\n      <th>X2</th>\n      <th>X3</th>\n      <th>X4</th>\n      <th>X5</th>\n      <th>X6</th>\n      <th>X7</th>\n      <th>X8</th>\n      <th>X9</th>\n      <th>X10</th>\n      <th>...</th>\n      <th>X15</th>\n      <th>X16</th>\n      <th>X17</th>\n      <th>X18</th>\n      <th>X19</th>\n      <th>X20</th>\n      <th>X21</th>\n      <th>X22</th>\n      <th>X23</th>\n      <th>Y</th>\n    </tr>\n  </thead>\n  <tbody>\n    <tr>\n      <th>0</th>\n      <td>120000</td>\n      <td>0</td>\n      <td>2</td>\n      <td>1</td>\n      <td>25</td>\n      <td>0</td>\n      <td>0</td>\n      <td>0</td>\n      <td>-2</td>\n      <td>-2</td>\n      <td>...</td>\n      <td>0</td>\n      <td>0</td>\n      <td>0</td>\n      <td>6000</td>\n      <td>0</td>\n      <td>0</td>\n      <td>0</td>\n      <td>0</td>\n      <td>0</td>\n      <td>0</td>\n    </tr>\n    <tr>\n      <th>1</th>\n      <td>30000</td>\n      <td>0</td>\n      <td>3</td>\n      <td>1</td>\n      <td>41</td>\n      <td>1</td>\n      <td>2</td>\n      <td>0</td>\n      <td>0</td>\n      <td>2</td>\n      <td>...</td>\n      <td>30566</td>\n      <td>29229</td>\n      <td>26260</td>\n      <td>0</td>\n      <td>2000</td>\n      <td>2200</td>\n      <td>0</td>\n      <td>1100</td>\n      <td>1100</td>\n      <td>0</td>\n    </tr>\n    <tr>\n      <th>2</th>\n      <td>20000</td>\n      <td>0</td>\n      <td>2</td>\n      <td>1</td>\n      <td>32</td>\n      <td>3</td>\n      <td>2</td>\n      <td>2</td>\n      <td>7</td>\n      <td>7</td>\n      <td>...</td>\n      <td>2400</td>\n      <td>2400</td>\n      <td>2400</td>\n      <td>0</td>\n      <td>0</td>\n      <td>0</td>\n      <td>0</td>\n      <td>0</td>\n      <td>0</td>\n      <td>1</td>\n    </tr>\n    <tr>\n      <th>3</th>\n      <td>200000</td>\n      <td>0</td>\n      <td>1</td>\n      <td>2</td>\n      <td>28</td>\n      <td>-1</td>\n      <td>-1</td>\n      <td>2</td>\n      <td>-1</td>\n      <td>-1</td>\n      <td>...</td>\n      <td>1117</td>\n      <td>1117</td>\n      <td>0</td>\n      <td>26286</td>\n      <td>0</td>\n      <td>1117</td>\n      <td>1117</td>\n      <td>0</td>\n      <td>1128</td>\n      <td>0</td>\n    </tr>\n    <tr>\n      <th>4</th>\n      <td>50000</td>\n      <td>1</td>\n      <td>1</td>\n      <td>2</td>\n      <td>28</td>\n      <td>0</td>\n      <td>0</td>\n      <td>-1</td>\n      <td>-1</td>\n      <td>-1</td>\n      <td>...</td>\n      <td>11132</td>\n      <td>0</td>\n      <td>0</td>\n      <td>5224</td>\n      <td>19906</td>\n      <td>11132</td>\n      <td>0</td>\n      <td>0</td>\n      <td>0</td>\n      <td>0</td>\n    </tr>\n    <tr>\n      <th>5</th>\n      <td>260000</td>\n      <td>1</td>\n      <td>1</td>\n      <td>1</td>\n      <td>51</td>\n      <td>1</td>\n      <td>-2</td>\n      <td>-2</td>\n      <td>-2</td>\n      <td>-2</td>\n      <td>...</td>\n      <td>6682</td>\n      <td>1718</td>\n      <td>1512</td>\n      <td>0</td>\n      <td>0</td>\n      <td>6882</td>\n      <td>1734</td>\n      <td>1512</td>\n      <td>0</td>\n      <td>0</td>\n    </tr>\n    <tr>\n      <th>6</th>\n      <td>110000</td>\n      <td>0</td>\n      <td>3</td>\n      <td>1</td>\n      <td>46</td>\n      <td>0</td>\n      <td>0</td>\n      <td>2</td>\n      <td>2</td>\n      <td>0</td>\n      <td>...</td>\n      <td>100188</td>\n      <td>102110</td>\n      <td>107014</td>\n      <td>8942</td>\n      <td>3800</td>\n      <td>0</td>\n      <td>3685</td>\n      <td>6580</td>\n      <td>4703</td>\n      <td>1</td>\n    </tr>\n    <tr>\n      <th>7</th>\n      <td>80000</td>\n      <td>0</td>\n      <td>1</td>\n      <td>1</td>\n      <td>34</td>\n      <td>-1</td>\n      <td>2</td>\n      <td>2</td>\n      <td>2</td>\n      <td>2</td>\n      <td>...</td>\n      <td>5092</td>\n      <td>6008</td>\n      <td>5618</td>\n      <td>0</td>\n      <td>1500</td>\n      <td>0</td>\n      <td>1000</td>\n      <td>0</td>\n      <td>1000</td>\n      <td>1</td>\n    </tr>\n    <tr>\n      <th>8</th>\n      <td>140000</td>\n      <td>0</td>\n      <td>2</td>\n      <td>1</td>\n      <td>27</td>\n      <td>-2</td>\n      <td>-2</td>\n      <td>-2</td>\n      <td>-2</td>\n      <td>-2</td>\n      <td>...</td>\n      <td>0</td>\n      <td>2226</td>\n      <td>0</td>\n      <td>0</td>\n      <td>1650</td>\n      <td>0</td>\n      <td>2226</td>\n      <td>0</td>\n      <td>656</td>\n      <td>1</td>\n    </tr>\n    <tr>\n      <th>9</th>\n      <td>130000</td>\n      <td>0</td>\n      <td>1</td>\n      <td>2</td>\n      <td>26</td>\n      <td>0</td>\n      <td>0</td>\n      <td>0</td>\n      <td>0</td>\n      <td>0</td>\n      <td>...</td>\n      <td>10079</td>\n      <td>10289</td>\n      <td>10495</td>\n      <td>1152</td>\n      <td>1164</td>\n      <td>360</td>\n      <td>372</td>\n      <td>376</td>\n      <td>540</td>\n      <td>1</td>\n    </tr>\n  </tbody>\n</table>\n<p>10 rows × 24 columns</p>\n</div>"
     },
     "execution_count": 57,
     "metadata": {},
     "output_type": "execute_result"
    }
   ],
   "source": [
    "train.head(10)"
   ],
   "metadata": {
    "collapsed": false,
    "ExecuteTime": {
     "end_time": "2024-06-28T11:36:31.628392Z",
     "start_time": "2024-06-28T11:36:31.621406Z"
    }
   },
   "id": "9a75cc8b3298c555",
   "execution_count": 57
  },
  {
   "cell_type": "code",
   "outputs": [
    {
     "name": "stdout",
     "output_type": "stream",
     "text": [
      "(2655, 23)\n"
     ]
    }
   ],
   "source": [
    "from sklearn.preprocessing import StandardScaler\n",
    "from pickle import dump , load\n",
    "\n",
    "columns_to_standardize = list(range(0, 23))\n",
    "scaler = StandardScaler()\n",
    "\n",
    "X_train_np = X_train.numpy()\n",
    "X_test_np = X_test.numpy()\n",
    "print(X_test_np.shape)\n",
    "\n",
    "# Fit the scaler on the training data columns\n",
    "scaler.fit(X_train_np[:, columns_to_standardize])\n",
    "\n",
    "# Standardize the selected columns in both X_train and X_test\n",
    "X_train_np[:, columns_to_standardize] = scaler.transform(X_train_np[:, columns_to_standardize])\n",
    "X_test_np[:, columns_to_standardize] = scaler.transform(X_test_np[:, columns_to_standardize])\n",
    "\n",
    "# Convert back to PyTorch tensors\n",
    "X_train = torch.from_numpy(X_train_np).type(torch.float) \n",
    "X_test = torch.from_numpy(X_test_np).type(torch.float)\n",
    "\n",
    "\n",
    "# save standard scaler model.\n",
    "# save model\n",
    "dump(scaler, open('StandardScaler.pkl', 'wb'))\n",
    "\n",
    "# load model\n",
    "scaler = load(open('StandardScaler.pkl', 'rb'))"
   ],
   "metadata": {
    "collapsed": false,
    "ExecuteTime": {
     "end_time": "2024-06-28T11:36:33.346980Z",
     "start_time": "2024-06-28T11:36:33.335264Z"
    }
   },
   "id": "8e7c65b3c3862e4e",
   "execution_count": 58
  },
  {
   "cell_type": "code",
   "outputs": [
    {
     "data": {
      "text/plain": "tensor([[-0.2711, -0.8309,  0.1622,  ..., -0.3148, -0.2964, -0.2806],\n        [-0.9755, -0.8309,  1.4549,  ..., -0.3148, -0.2203, -0.2126],\n        [-1.0538, -0.8309,  0.1622,  ..., -0.3148, -0.2964, -0.2806],\n        ...,\n        [-0.6624,  1.2036,  0.1622,  ..., -0.0819, -0.1228, -0.2806],\n        [ 0.1986, -0.8309,  0.1622,  ...,  1.4956, -0.2272, -0.2188],\n        [-0.8190, -0.8309,  0.1622,  ..., -0.2614, -0.1580, -0.2393]])"
     },
     "execution_count": 59,
     "metadata": {},
     "output_type": "execute_result"
    }
   ],
   "source": [
    "X_train"
   ],
   "metadata": {
    "collapsed": false,
    "ExecuteTime": {
     "end_time": "2024-06-28T11:36:37.654977Z",
     "start_time": "2024-06-28T11:36:37.650547Z"
    }
   },
   "id": "ecaa5b8de681d655",
   "execution_count": 59
  },
  {
   "cell_type": "code",
   "outputs": [
    {
     "name": "stdout",
     "output_type": "stream",
     "text": [
      "TaiwaneseCreditClassifier(\n",
      "  (hidden1): Linear(in_features=23, out_features=64, bias=True)\n",
      "  (act1): ReLU()\n",
      "  (hidden2): Linear(in_features=64, out_features=128, bias=True)\n",
      "  (act2): ReLU()\n",
      "  (hidden3): Linear(in_features=128, out_features=32, bias=True)\n",
      "  (act3): ReLU()\n",
      "  (hidden4): Linear(in_features=32, out_features=16, bias=True)\n",
      "  (act4): ReLU()\n",
      "  (output): Linear(in_features=16, out_features=1, bias=True)\n",
      "  (act_output): Sigmoid()\n",
      "  (dropout): Dropout(p=0.1, inplace=False)\n",
      ")\n"
     ]
    }
   ],
   "source": [
    "class TaiwaneseCreditClassifier(nn.Module):\n",
    "    def __init__(self):\n",
    "        super().__init__()\n",
    "        self.hidden1 = nn.Linear(23, 64)\n",
    "        self.act1 = nn.ReLU()\n",
    "        self.hidden2 = nn.Linear(64, 128)\n",
    "        self.act2 = nn.ReLU()\n",
    "        self.hidden3 = nn.Linear(128, 32)\n",
    "        self.act3 = nn.ReLU()\n",
    "        self.hidden4 = nn.Linear(32, 16)\n",
    "        self.act4 = nn.ReLU()\n",
    "        self.output = nn.Linear(16, 1)\n",
    "        self.act_output = nn.Sigmoid()\n",
    "        self.dropout = nn.Dropout(0.1)\n",
    "\n",
    "    def forward(self, x):\n",
    "        x = self.dropout(self.act1(self.hidden1(x)))\n",
    "        x = self.dropout(self.act2(self.hidden2(x)))\n",
    "        x = self.dropout(self.act3(self.hidden3(x)))\n",
    "        x = self.dropout(self.act4(self.hidden4(x)))\n",
    "        # x = self.output(x)\n",
    "        x = self.act_output(self.output(x))\n",
    "        return x\n",
    "\n",
    "model = TaiwaneseCreditClassifier()\n",
    "print(model)\n",
    "\n",
    "# loss function and optimizer\n",
    "loss_fn = nn.BCELoss() # binary cross entropy\n",
    "optimizer = optim.Adam(model.parameters(), lr=0.001)"
   ],
   "metadata": {
    "collapsed": false,
    "ExecuteTime": {
     "end_time": "2024-06-28T11:36:41.196332Z",
     "start_time": "2024-06-28T11:36:41.188198Z"
    }
   },
   "id": "9530e4a4e95acc07",
   "execution_count": 60
  },
  {
   "cell_type": "code",
   "outputs": [],
   "source": [
    "def evaluate(model, X_test, y_test):\n",
    "    model.eval()\n",
    "    with torch.no_grad():\n",
    "        y_pred = model(X_test)\n",
    "        # print(\"y_pred :\",  y_pred)\n",
    "        # print(\"y_round  :\",  y_pred.round())\n",
    "    accuracy = (y_pred.round() == y_test).float().mean()\n",
    "    # print(y_pred, y_test)\n",
    "    return accuracy"
   ],
   "metadata": {
    "collapsed": false,
    "ExecuteTime": {
     "end_time": "2024-06-28T11:36:42.242265Z",
     "start_time": "2024-06-28T11:36:42.238664Z"
    }
   },
   "id": "cb77b9d87d7ac441",
   "execution_count": 61
  },
  {
   "cell_type": "code",
   "outputs": [
    {
     "name": "stdout",
     "output_type": "stream",
     "text": [
      "accuracy before training 0.4971751272678375\n",
      "Finished epoch 0,  accuracy 0.5905838012695312\n",
      "Finished epoch 1,  accuracy 0.6463276743888855\n",
      "Finished epoch 2,  accuracy 0.647834300994873\n",
      "Finished epoch 3,  accuracy 0.6508474349975586\n",
      "Finished epoch 4,  accuracy 0.6813559532165527\n",
      "Finished epoch 5,  accuracy 0.6858757138252258\n",
      "Finished epoch 6,  accuracy 0.644444465637207\n",
      "Finished epoch 7,  accuracy 0.6470809578895569\n",
      "Finished epoch 8,  accuracy 0.677589476108551\n",
      "Finished epoch 9,  accuracy 0.6802259683609009\n",
      "Finished epoch 10,  accuracy 0.6726930141448975\n",
      "Finished epoch 11,  accuracy 0.6158192157745361\n",
      "Finished epoch 12,  accuracy 0.6455743908882141\n",
      "Finished epoch 13,  accuracy 0.6817325949668884\n",
      "Finished epoch 14,  accuracy 0.6813559532165527\n",
      "Finished epoch 15,  accuracy 0.661770224571228\n",
      "Finished epoch 16,  accuracy 0.6726930141448975\n",
      "Finished epoch 17,  accuracy 0.6911487579345703\n",
      "Finished epoch 18,  accuracy 0.6922787427902222\n",
      "Finished epoch 19,  accuracy 0.6821092367172241\n",
      "Finished epoch 20,  accuracy 0.6873822808265686\n",
      "Finished epoch 21,  accuracy 0.6926553845405579\n",
      "Finished epoch 22,  accuracy 0.6851224303245544\n",
      "Finished epoch 23,  accuracy 0.698305070400238\n",
      "Finished epoch 24,  accuracy 0.6824858784675598\n",
      "Finished epoch 25,  accuracy 0.6994350552558899\n",
      "Finished epoch 26,  accuracy 0.6967985033988953\n",
      "Finished epoch 27,  accuracy 0.6941619515419006\n",
      "Finished epoch 28,  accuracy 0.6730696558952332\n",
      "Finished epoch 29,  accuracy 0.6715630888938904\n",
      "Finished epoch 30,  accuracy 0.6866289973258972\n",
      "Finished epoch 31,  accuracy 0.6975517868995667\n",
      "Finished epoch 32,  accuracy 0.6839924454689026\n",
      "Finished epoch 33,  accuracy 0.664030134677887\n",
      "Finished epoch 34,  accuracy 0.6824858784675598\n",
      "Finished epoch 35,  accuracy 0.6670433282852173\n",
      "Finished epoch 36,  accuracy 0.6681732535362244\n",
      "Finished epoch 37,  accuracy 0.6866289973258972\n",
      "Finished epoch 38,  accuracy 0.6655367016792297\n",
      "Finished epoch 39,  accuracy 0.6967985033988953\n",
      "Finished epoch 40,  accuracy 0.6877589225769043\n",
      "Finished epoch 41,  accuracy 0.6847457885742188\n",
      "Finished epoch 42,  accuracy 0.6990583539009094\n",
      "Finished epoch 43,  accuracy 0.6813559532165527\n",
      "Finished epoch 44,  accuracy 0.6738229990005493\n",
      "Finished epoch 45,  accuracy 0.6836158037185669\n",
      "Finished epoch 46,  accuracy 0.6903954744338989\n",
      "Finished epoch 47,  accuracy 0.6903954744338989\n",
      "Finished epoch 48,  accuracy 0.6979284286499023\n",
      "Finished epoch 49,  accuracy 0.6945385932922363\n"
     ]
    }
   ],
   "source": [
    "n_epochs = 50\n",
    "batch_size = 128\n",
    "\n",
    "\n",
    "accuracy = evaluate(model, X_test, y_test)\n",
    "print('accuracy before training {}'.format(accuracy))\n",
    "for epoch in range(n_epochs):\n",
    "    optimizer.zero_grad()\n",
    "    for i in range(0, len(X_train), batch_size):\n",
    "        Xbatch = X_train[i:i+batch_size]\n",
    "        y_pred = model(Xbatch)\n",
    "        ybatch = y_train[i:i+batch_size]\n",
    "        loss = loss_fn(y_pred, ybatch)\n",
    "        # print(loss)\n",
    "        loss.backward()\n",
    "        optimizer.step()\n",
    "    # print(loss.tolist())\n",
    "    # evaluate model on each epoch\n",
    "    accuracy = evaluate(model, X_test, y_test)\n",
    "    print(f'Finished epoch {epoch},  accuracy {accuracy}')"
   ],
   "metadata": {
    "collapsed": false,
    "ExecuteTime": {
     "end_time": "2024-06-28T11:36:48.467613Z",
     "start_time": "2024-06-28T11:36:46.734982Z"
    }
   },
   "id": "6d054ba0c0eb0e32",
   "execution_count": 62
  },
  {
   "cell_type": "markdown",
   "source": [],
   "metadata": {
    "collapsed": false
   },
   "id": "b6ba7d16b625f0cc"
  },
  {
   "cell_type": "code",
   "outputs": [
    {
     "name": "stdout",
     "output_type": "stream",
     "text": [
      "tensor(0.6945)\n"
     ]
    }
   ],
   "source": [
    "accuracy = evaluate(model, X_test, y_test)\n",
    "print(accuracy)"
   ],
   "metadata": {
    "collapsed": false,
    "ExecuteTime": {
     "end_time": "2024-06-28T11:36:50.069145Z",
     "start_time": "2024-06-28T11:36:50.063302Z"
    }
   },
   "id": "628729e8f4789c6b",
   "execution_count": 63
  },
  {
   "cell_type": "markdown",
   "source": [
    "## Save/load model and evaluate "
   ],
   "metadata": {
    "collapsed": false
   },
   "id": "4cfc25b525193e8d"
  },
  {
   "cell_type": "code",
   "outputs": [],
   "source": [
    "torch.save(model, 'Taiwanese_credit_model')"
   ],
   "metadata": {
    "collapsed": false,
    "ExecuteTime": {
     "end_time": "2024-06-28T11:36:52.834370Z",
     "start_time": "2024-06-28T11:36:52.814832Z"
    }
   },
   "id": "ec654b09bf985386",
   "execution_count": 64
  },
  {
   "cell_type": "code",
   "outputs": [
    {
     "name": "stdout",
     "output_type": "stream",
     "text": [
      "tensor(0.6945)\n"
     ]
    }
   ],
   "source": [
    "model = torch.load('Taiwanese_credit_model')\n",
    "model.eval()\n",
    "accuracy = evaluate(model, X_test, y_test)\n",
    "print(accuracy)"
   ],
   "metadata": {
    "collapsed": false,
    "ExecuteTime": {
     "end_time": "2024-06-28T11:36:53.303415Z",
     "start_time": "2024-06-28T11:36:53.289073Z"
    }
   },
   "id": "9f48106c0cbc9d4b",
   "execution_count": 65
  },
  {
   "cell_type": "markdown",
   "source": [
    "## create util functions for evolution"
   ],
   "metadata": {
    "collapsed": false
   },
   "id": "a0dab6cee79b1226"
  },
  {
   "cell_type": "code",
   "outputs": [],
   "source": [
    "def scale_input_data(scaler, df, columns_to_standardize = list(range(23))):\n",
    "    numpy_array = torch.tensor(df.iloc[:, 0:23].values, dtype=torch.float32)\n",
    "    numpy_array = numpy_array.numpy()\n",
    "    numpy_array[:, columns_to_standardize] = scaler.transform(numpy_array[:, columns_to_standardize])\n",
    "    return numpy_array\n",
    "    "
   ],
   "metadata": {
    "collapsed": false,
    "ExecuteTime": {
     "end_time": "2024-06-28T11:36:55.493235Z",
     "start_time": "2024-06-28T11:36:55.488784Z"
    }
   },
   "id": "87bb7c1c00b4e79f",
   "execution_count": 66
  },
  {
   "cell_type": "code",
   "outputs": [
    {
     "data": {
      "text/plain": "array([[ 0.04203123, -0.83086455, -1.1305646 , ..., -0.14366117,\n        -0.15796189, -0.28059798],\n       [-0.584143  ,  1.2035656 , -1.1305646 , ..., -0.15949832,\n        -0.29640576, -0.21879433],\n       [-0.8972301 ,  1.2035656 , -1.1305646 , ..., -0.3147646 ,\n        -0.08873996, -0.0333833 ],\n       ...,\n       [ 0.7464772 ,  1.2035656 ,  0.16218762, ..., -0.3147646 ,\n         0.13277024,  0.10258478],\n       [ 1.3726513 , -0.83086455, -1.1305646 , ..., -0.12844507,\n        -0.08873996, -0.15699065],\n       [ 0.35511833,  1.2035656 , -1.1305646 , ..., -0.28402188,\n        -0.26899388, -0.25612375]], dtype=float32)"
     },
     "execution_count": 67,
     "metadata": {},
     "output_type": "execute_result"
    }
   ],
   "source": [
    "scale_input_data(scaler, test, columns_to_standardize = list(range(23)))"
   ],
   "metadata": {
    "collapsed": false,
    "ExecuteTime": {
     "end_time": "2024-06-28T11:36:56.209946Z",
     "start_time": "2024-06-28T11:36:56.204063Z"
    }
   },
   "id": "1f9505ebfd217cd7",
   "execution_count": 67
  },
  {
   "cell_type": "code",
   "outputs": [
    {
     "data": {
      "text/plain": "(2655, 23)"
     },
     "execution_count": 68,
     "metadata": {},
     "output_type": "execute_result"
    }
   ],
   "source": [
    "X_test_np.shape"
   ],
   "metadata": {
    "collapsed": false,
    "ExecuteTime": {
     "end_time": "2024-06-28T11:36:57.620400Z",
     "start_time": "2024-06-28T11:36:57.615917Z"
    }
   },
   "id": "d00a6a70011decfb",
   "execution_count": 68
  },
  {
   "cell_type": "code",
   "outputs": [],
   "source": [
    "import numpy as np\n",
    "# columns_to_standardize = [0, 1, 2, 3, 4, 5, 6, 7, 8, 10, 11, 12, 13]\n",
    "# \n",
    "# def eval_model(model, input):\n",
    "#         # print(input)\n",
    "#         model.eval()\n",
    "#         with torch.no_grad():\n",
    "#             prob = model(input)\n",
    "#             # print(prob)\n",
    "#         return 1 - prob.tolist()[0][0]\n",
    "# \n",
    "# for i in range(20):\n",
    "#     x_in = test.iloc[i, 0:14].values.reshape(-1, 14)\n",
    "#     # print(x_in)\n",
    "#     x_in = torch.tensor(x_in, dtype=torch.float32)\n",
    "#     x_in = x_in.numpy()\n",
    "#     x_in[:, columns_to_standardize] = scaler.transform(x_in[:, columns_to_standardize])\n",
    "#     \n",
    "#     # Convert back to PyTorch tensors\n",
    "#     x_in = torch.from_numpy(x_in).type(torch.float) \n",
    "#     # print(x_in)\n",
    "#     \n",
    "#     print( eval_model(model, x_in))"
   ],
   "metadata": {
    "collapsed": false,
    "ExecuteTime": {
     "end_time": "2024-06-21T15:03:11.980090Z",
     "start_time": "2024-06-21T15:03:11.976170Z"
    }
   },
   "id": "2c1f1e506d291dac",
   "execution_count": 51
  },
  {
   "cell_type": "code",
   "outputs": [],
   "source": [],
   "metadata": {
    "collapsed": false
   },
   "id": "7a5e4a6e843af326"
  }
 ],
 "metadata": {
  "kernelspec": {
   "display_name": "Python 3",
   "language": "python",
   "name": "python3"
  },
  "language_info": {
   "codemirror_mode": {
    "name": "ipython",
    "version": 2
   },
   "file_extension": ".py",
   "mimetype": "text/x-python",
   "name": "python",
   "nbconvert_exporter": "python",
   "pygments_lexer": "ipython2",
   "version": "2.7.6"
  }
 },
 "nbformat": 4,
 "nbformat_minor": 5
}
