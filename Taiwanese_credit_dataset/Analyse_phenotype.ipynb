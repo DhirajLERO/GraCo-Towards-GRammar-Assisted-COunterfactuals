{
 "cells": [
  {
   "cell_type": "code",
   "execution_count": 8,
   "id": "initial_id",
   "metadata": {
    "collapsed": true,
    "ExecuteTime": {
     "end_time": "2024-06-22T12:29:59.547094Z",
     "start_time": "2024-06-22T12:29:59.385449Z"
    }
   },
   "outputs": [],
   "source": [
    "import pandas as pd\n",
    "import numpy as np\n",
    "import torch.nn as nn\n",
    "import torch\n",
    "import numpy as np\n",
    "import copy\n",
    "import re\n",
    "import networkx as nx\n",
    "import matplotlib.pyplot as plt\n",
    "import numpy as np\n",
    "from pickle import dump , load"
   ]
  },
  {
   "cell_type": "code",
   "outputs": [],
   "source": [
    "class AdultClassifier(nn.Module):\n",
    "    def __init__(self):\n",
    "        super().__init__()\n",
    "        self.hidden1 = nn.Linear(13, 64)\n",
    "        self.act1 = nn.ReLU()\n",
    "        self.hidden2 = nn.Linear(64, 128)\n",
    "        self.act2 = nn.ReLU()\n",
    "        self.hidden3 = nn.Linear(128, 32)\n",
    "        self.act3 = nn.ReLU()\n",
    "        self.hidden4 = nn.Linear(32, 16)\n",
    "        self.act4 = nn.ReLU()\n",
    "        self.output = nn.Linear(16, 1)\n",
    "        self.act_output = nn.Sigmoid()\n",
    "        self.dropout = nn.Dropout(0.1)\n",
    "\n",
    "    def forward(self, x):\n",
    "        x = self.dropout(self.act1(self.hidden1(x)))\n",
    "        x = self.dropout(self.act2(self.hidden2(x)))\n",
    "        x = self.dropout(self.act3(self.hidden3(x)))\n",
    "        x = self.dropout(self.act4(self.hidden4(x)))\n",
    "        # x = self.output(x)\n",
    "        x = self.act_output(self.output(x))\n",
    "        return x\n",
    "    \n",
    "    \n",
    "def load_model():\n",
    "    model = torch.load('model_training/adult_credit__model')\n",
    "    model.eval()\n",
    "    return model\n",
    "\n",
    "def eval_model(model, input, scaler, columns_to_standardize):\n",
    "    model.eval()\n",
    "    # print(input)\n",
    "    input = input.reshape(-1, 13)\n",
    "    input = torch.tensor(input, dtype=torch.float32)\n",
    "    input = input.numpy()\n",
    "    input[:, columns_to_standardize] = scaler.transform(input[:, columns_to_standardize])\n",
    "    input = torch.from_numpy(input).type(torch.float)\n",
    "    with torch.no_grad():\n",
    "        prob = model(input)\n",
    "    return prob.tolist()[0][0]\n",
    "\n",
    "def load_scaler(scaler_loc):\n",
    "    return load(open(scaler_loc, 'rb'))\n",
    "\n",
    "columns_to_standardize = [0, 1, 2, 3, 4, 5, 6, 7, 9, 10, 11, 12]\n",
    "\n",
    "def load_data(data):\n",
    "    return np.load(data)\n",
    "\n",
    "data = pd.read_csv('output/NSGAIII_multi/0/final_gen.csv')"
   ],
   "metadata": {
    "collapsed": false,
    "ExecuteTime": {
     "end_time": "2024-06-22T12:30:21.245579Z",
     "start_time": "2024-06-22T12:30:21.100887Z"
    }
   },
   "id": "e913eaf519ef9ab5",
   "execution_count": 12
  },
  {
   "cell_type": "code",
   "outputs": [
    {
     "name": "stdout",
     "output_type": "stream",
     "text": [
      "[    17      0 332666      6      4      0      3      4      0      0\n",
      "      0      4     39]\n"
     ]
    }
   ],
   "source": [
    "input = load_data('output/NSGAIII_multi/0/input_data.npy')\n",
    "model = load_model()\n",
    "scaler = load_scaler(scaler_loc='model_training/StandardScaler.pkl')\n",
    "print(input)"
   ],
   "metadata": {
    "collapsed": false,
    "ExecuteTime": {
     "end_time": "2024-06-22T12:30:21.973046Z",
     "start_time": "2024-06-22T12:30:21.939070Z"
    }
   },
   "id": "d6d09a7123c58a95",
   "execution_count": 13
  },
  {
   "cell_type": "code",
   "outputs": [
    {
     "name": "stdout",
     "output_type": "stream",
     "text": [
      "2.788897585093153e-11\n"
     ]
    }
   ],
   "source": [
    "output = eval_model(model, input, scaler, columns_to_standardize)\n",
    "print(output)"
   ],
   "metadata": {
    "collapsed": false,
    "ExecuteTime": {
     "end_time": "2024-06-22T12:30:22.787627Z",
     "start_time": "2024-06-22T12:30:22.762594Z"
    }
   },
   "id": "de2c29f16ecf66f5",
   "execution_count": 14
  },
  {
   "cell_type": "code",
   "outputs": [
    {
     "data": {
      "text/plain": "     Unnamed: 0                                 Phenotype       o_1       o_2  \\\n0             0                    x[12] += 3 ; x[3] += 8  1.000000  0.013558   \n1             1                                 x[3] += 7  1.000000  0.035897   \n2             2                                 x[3] += 5  1.000000  0.025641   \n3             3                  x[3] += 7 ; x[2] *= 8000  0.999999  0.035125   \n4             4                                 x[3] += 6  1.000000  0.030769   \n..          ...                                       ...       ...       ...   \n452         452                               x[2] += 300  1.000000  0.000023   \n453         453                                 x[3] += 3  1.000000  0.015385   \n454         454                               x[9] *= 300  1.000000  0.000000   \n455         455                                 x[3] += 3  1.000000  0.015385   \n456         456  x[2] -= 9000 ; x[9] += 300 ; x[9] *= 300  0.000000  0.077601   \n\n          o_3       o_4  \n0    0.153846  0.039456  \n1    0.076923  0.043811  \n2    0.076923  0.033555  \n3    0.153846  0.037649  \n4    0.076923  0.038683  \n..        ...       ...  \n452  0.076923  0.038254  \n453  0.076923  0.027828  \n454  0.000000  0.038238  \n455  0.076923  0.027828  \n456  0.153846  0.114934  \n\n[457 rows x 6 columns]",
      "text/html": "<div>\n<style scoped>\n    .dataframe tbody tr th:only-of-type {\n        vertical-align: middle;\n    }\n\n    .dataframe tbody tr th {\n        vertical-align: top;\n    }\n\n    .dataframe thead th {\n        text-align: right;\n    }\n</style>\n<table border=\"1\" class=\"dataframe\">\n  <thead>\n    <tr style=\"text-align: right;\">\n      <th></th>\n      <th>Unnamed: 0</th>\n      <th>Phenotype</th>\n      <th>o_1</th>\n      <th>o_2</th>\n      <th>o_3</th>\n      <th>o_4</th>\n    </tr>\n  </thead>\n  <tbody>\n    <tr>\n      <th>0</th>\n      <td>0</td>\n      <td>x[12] += 3 ; x[3] += 8</td>\n      <td>1.000000</td>\n      <td>0.013558</td>\n      <td>0.153846</td>\n      <td>0.039456</td>\n    </tr>\n    <tr>\n      <th>1</th>\n      <td>1</td>\n      <td>x[3] += 7</td>\n      <td>1.000000</td>\n      <td>0.035897</td>\n      <td>0.076923</td>\n      <td>0.043811</td>\n    </tr>\n    <tr>\n      <th>2</th>\n      <td>2</td>\n      <td>x[3] += 5</td>\n      <td>1.000000</td>\n      <td>0.025641</td>\n      <td>0.076923</td>\n      <td>0.033555</td>\n    </tr>\n    <tr>\n      <th>3</th>\n      <td>3</td>\n      <td>x[3] += 7 ; x[2] *= 8000</td>\n      <td>0.999999</td>\n      <td>0.035125</td>\n      <td>0.153846</td>\n      <td>0.037649</td>\n    </tr>\n    <tr>\n      <th>4</th>\n      <td>4</td>\n      <td>x[3] += 6</td>\n      <td>1.000000</td>\n      <td>0.030769</td>\n      <td>0.076923</td>\n      <td>0.038683</td>\n    </tr>\n    <tr>\n      <th>...</th>\n      <td>...</td>\n      <td>...</td>\n      <td>...</td>\n      <td>...</td>\n      <td>...</td>\n      <td>...</td>\n    </tr>\n    <tr>\n      <th>452</th>\n      <td>452</td>\n      <td>x[2] += 300</td>\n      <td>1.000000</td>\n      <td>0.000023</td>\n      <td>0.076923</td>\n      <td>0.038254</td>\n    </tr>\n    <tr>\n      <th>453</th>\n      <td>453</td>\n      <td>x[3] += 3</td>\n      <td>1.000000</td>\n      <td>0.015385</td>\n      <td>0.076923</td>\n      <td>0.027828</td>\n    </tr>\n    <tr>\n      <th>454</th>\n      <td>454</td>\n      <td>x[9] *= 300</td>\n      <td>1.000000</td>\n      <td>0.000000</td>\n      <td>0.000000</td>\n      <td>0.038238</td>\n    </tr>\n    <tr>\n      <th>455</th>\n      <td>455</td>\n      <td>x[3] += 3</td>\n      <td>1.000000</td>\n      <td>0.015385</td>\n      <td>0.076923</td>\n      <td>0.027828</td>\n    </tr>\n    <tr>\n      <th>456</th>\n      <td>456</td>\n      <td>x[2] -= 9000 ; x[9] += 300 ; x[9] *= 300</td>\n      <td>0.000000</td>\n      <td>0.077601</td>\n      <td>0.153846</td>\n      <td>0.114934</td>\n    </tr>\n  </tbody>\n</table>\n<p>457 rows × 6 columns</p>\n</div>"
     },
     "execution_count": 15,
     "metadata": {},
     "output_type": "execute_result"
    }
   ],
   "source": [
    "data"
   ],
   "metadata": {
    "collapsed": false,
    "ExecuteTime": {
     "end_time": "2024-06-22T12:30:29.265881Z",
     "start_time": "2024-06-22T12:30:29.242128Z"
    }
   },
   "id": "456194523f337ff6",
   "execution_count": 15
  },
  {
   "cell_type": "code",
   "outputs": [
    {
     "data": {
      "text/plain": "(4, 6)"
     },
     "execution_count": 16,
     "metadata": {},
     "output_type": "execute_result"
    }
   ],
   "source": [
    "data = data.sort_values(by=['o_1'])\n",
    "data = data[data['o_1'] < 0.45]\n",
    "data.shape"
   ],
   "metadata": {
    "collapsed": false,
    "ExecuteTime": {
     "end_time": "2024-06-22T12:30:52.369610Z",
     "start_time": "2024-06-22T12:30:52.361371Z"
    }
   },
   "id": "5a8c4a0975b05e20",
   "execution_count": 16
  },
  {
   "cell_type": "code",
   "outputs": [
    {
     "data": {
      "text/plain": "     Unnamed: 0                                 Phenotype       o_1       o_2  \\\n456         456  x[2] -= 9000 ; x[9] += 300 ; x[9] *= 300  0.000000  0.077601   \n63           63       x[2] -= 300 ; x[6] += 1 ; x[5] -= 4  0.000000  0.077601   \n49           49                  x[2] *= 300 ; x[11] -= 3  0.000000  0.077601   \n35           35   x[2] -= 9000 ; x[9] += 8000 ; x[3] += 9  0.306011  0.123755   \n\n          o_3       o_4  \n456  0.153846  0.114934  \n63   0.153846  0.114934  \n49   0.153846  0.114934  \n35   0.230769  0.127290  ",
      "text/html": "<div>\n<style scoped>\n    .dataframe tbody tr th:only-of-type {\n        vertical-align: middle;\n    }\n\n    .dataframe tbody tr th {\n        vertical-align: top;\n    }\n\n    .dataframe thead th {\n        text-align: right;\n    }\n</style>\n<table border=\"1\" class=\"dataframe\">\n  <thead>\n    <tr style=\"text-align: right;\">\n      <th></th>\n      <th>Unnamed: 0</th>\n      <th>Phenotype</th>\n      <th>o_1</th>\n      <th>o_2</th>\n      <th>o_3</th>\n      <th>o_4</th>\n    </tr>\n  </thead>\n  <tbody>\n    <tr>\n      <th>456</th>\n      <td>456</td>\n      <td>x[2] -= 9000 ; x[9] += 300 ; x[9] *= 300</td>\n      <td>0.000000</td>\n      <td>0.077601</td>\n      <td>0.153846</td>\n      <td>0.114934</td>\n    </tr>\n    <tr>\n      <th>63</th>\n      <td>63</td>\n      <td>x[2] -= 300 ; x[6] += 1 ; x[5] -= 4</td>\n      <td>0.000000</td>\n      <td>0.077601</td>\n      <td>0.153846</td>\n      <td>0.114934</td>\n    </tr>\n    <tr>\n      <th>49</th>\n      <td>49</td>\n      <td>x[2] *= 300 ; x[11] -= 3</td>\n      <td>0.000000</td>\n      <td>0.077601</td>\n      <td>0.153846</td>\n      <td>0.114934</td>\n    </tr>\n    <tr>\n      <th>35</th>\n      <td>35</td>\n      <td>x[2] -= 9000 ; x[9] += 8000 ; x[3] += 9</td>\n      <td>0.306011</td>\n      <td>0.123755</td>\n      <td>0.230769</td>\n      <td>0.127290</td>\n    </tr>\n  </tbody>\n</table>\n</div>"
     },
     "execution_count": 17,
     "metadata": {},
     "output_type": "execute_result"
    }
   ],
   "source": [
    "data.head()"
   ],
   "metadata": {
    "collapsed": false,
    "ExecuteTime": {
     "end_time": "2024-06-22T12:31:14.914848Z",
     "start_time": "2024-06-22T12:31:14.764476Z"
    }
   },
   "id": "49b80054c9a9f3de",
   "execution_count": 17
  },
  {
   "cell_type": "code",
   "outputs": [],
   "source": [
    "def apply_phenotype(array, phenotype):\n",
    "    # Split the phenotype string into individual operations\n",
    "    operations = phenotype.split(';')\n",
    "    x = copy.deepcopy(array)\n",
    "    # Iterate over each operation and execute it\n",
    "    for operation in operations:\n",
    "        # Strip any leading/trailing whitespace from the operation\n",
    "        operation = operation.strip()\n",
    "        \n",
    "        # Use the exec function to execute the operation on the array\n",
    "        if operation:\n",
    "            exec(operation)\n",
    "\n",
    "    return x"
   ],
   "metadata": {
    "collapsed": false,
    "ExecuteTime": {
     "end_time": "2024-06-22T12:33:16.980037Z",
     "start_time": "2024-06-22T12:33:16.971398Z"
    }
   },
   "id": "5c6c48ab6cf85c0b",
   "execution_count": 19
  },
  {
   "cell_type": "code",
   "outputs": [
    {
     "data": {
      "text/plain": "     Unnamed: 0                                 Phenotype       o_1       o_2  \\\n456         456  x[2] -= 9000 ; x[9] += 300 ; x[9] *= 300  0.000000  0.077601   \n63           63       x[2] -= 300 ; x[6] += 1 ; x[5] -= 4  0.000000  0.077601   \n49           49                  x[2] *= 300 ; x[11] -= 3  0.000000  0.077601   \n35           35   x[2] -= 9000 ; x[9] += 8000 ; x[3] += 9  0.306011  0.123755   \n\n          o_3       o_4  \n456  0.153846  0.114934  \n63   0.153846  0.114934  \n49   0.153846  0.114934  \n35   0.230769  0.127290  ",
      "text/html": "<div>\n<style scoped>\n    .dataframe tbody tr th:only-of-type {\n        vertical-align: middle;\n    }\n\n    .dataframe tbody tr th {\n        vertical-align: top;\n    }\n\n    .dataframe thead th {\n        text-align: right;\n    }\n</style>\n<table border=\"1\" class=\"dataframe\">\n  <thead>\n    <tr style=\"text-align: right;\">\n      <th></th>\n      <th>Unnamed: 0</th>\n      <th>Phenotype</th>\n      <th>o_1</th>\n      <th>o_2</th>\n      <th>o_3</th>\n      <th>o_4</th>\n    </tr>\n  </thead>\n  <tbody>\n    <tr>\n      <th>456</th>\n      <td>456</td>\n      <td>x[2] -= 9000 ; x[9] += 300 ; x[9] *= 300</td>\n      <td>0.000000</td>\n      <td>0.077601</td>\n      <td>0.153846</td>\n      <td>0.114934</td>\n    </tr>\n    <tr>\n      <th>63</th>\n      <td>63</td>\n      <td>x[2] -= 300 ; x[6] += 1 ; x[5] -= 4</td>\n      <td>0.000000</td>\n      <td>0.077601</td>\n      <td>0.153846</td>\n      <td>0.114934</td>\n    </tr>\n    <tr>\n      <th>49</th>\n      <td>49</td>\n      <td>x[2] *= 300 ; x[11] -= 3</td>\n      <td>0.000000</td>\n      <td>0.077601</td>\n      <td>0.153846</td>\n      <td>0.114934</td>\n    </tr>\n    <tr>\n      <th>35</th>\n      <td>35</td>\n      <td>x[2] -= 9000 ; x[9] += 8000 ; x[3] += 9</td>\n      <td>0.306011</td>\n      <td>0.123755</td>\n      <td>0.230769</td>\n      <td>0.127290</td>\n    </tr>\n  </tbody>\n</table>\n</div>"
     },
     "execution_count": 20,
     "metadata": {},
     "output_type": "execute_result"
    }
   ],
   "source": [
    "data.head()"
   ],
   "metadata": {
    "collapsed": false,
    "ExecuteTime": {
     "end_time": "2024-06-22T12:33:18.185581Z",
     "start_time": "2024-06-22T12:33:18.156277Z"
    }
   },
   "id": "f59d93d1115d3ef9",
   "execution_count": 20
  },
  {
   "cell_type": "code",
   "outputs": [
    {
     "name": "stdout",
     "output_type": "stream",
     "text": [
      "[    17      0 323666      6      4      0      3      4      0  90000\n",
      "      0      4     39]\n"
     ]
    }
   ],
   "source": [
    "input_evolved = apply_phenotype(input, data['Phenotype'][456])\n",
    "print(input_evolved)"
   ],
   "metadata": {
    "collapsed": false,
    "ExecuteTime": {
     "end_time": "2024-06-22T12:34:08.583848Z",
     "start_time": "2024-06-22T12:34:08.566694Z"
    }
   },
   "id": "b33247fcfffebed5",
   "execution_count": 21
  },
  {
   "cell_type": "code",
   "outputs": [
    {
     "name": "stdout",
     "output_type": "stream",
     "text": [
      "1.0\n"
     ]
    }
   ],
   "source": [
    "output = eval_model(model, input_evolved, scaler, columns_to_standardize)\n",
    "print(output)"
   ],
   "metadata": {
    "collapsed": false,
    "ExecuteTime": {
     "end_time": "2024-06-22T12:34:42.685202Z",
     "start_time": "2024-06-22T12:34:42.520639Z"
    }
   },
   "id": "bc17c078bfd977bd",
   "execution_count": 22
  }
 ],
 "metadata": {
  "kernelspec": {
   "display_name": "Python 3",
   "language": "python",
   "name": "python3"
  },
  "language_info": {
   "codemirror_mode": {
    "name": "ipython",
    "version": 2
   },
   "file_extension": ".py",
   "mimetype": "text/x-python",
   "name": "python",
   "nbconvert_exporter": "python",
   "pygments_lexer": "ipython2",
   "version": "2.7.6"
  }
 },
 "nbformat": 4,
 "nbformat_minor": 5
}
