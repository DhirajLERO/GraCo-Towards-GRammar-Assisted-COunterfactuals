{
 "cells": [
  {
   "cell_type": "code",
   "execution_count": 42,
   "id": "initial_id",
   "metadata": {
    "collapsed": true,
    "ExecuteTime": {
     "end_time": "2024-06-28T11:33:00.355238Z",
     "start_time": "2024-06-28T11:33:00.346886Z"
    }
   },
   "outputs": [],
   "source": [
    "import pandas as pd \n",
    "import ucimlrepo"
   ]
  },
  {
   "cell_type": "code",
   "outputs": [],
   "source": [
    "data  = ucimlrepo.fetch_ucirepo(id=350)"
   ],
   "metadata": {
    "collapsed": false,
    "ExecuteTime": {
     "end_time": "2024-06-28T11:33:03.155919Z",
     "start_time": "2024-06-28T11:33:00.560525Z"
    }
   },
   "id": "63fc31d59ed7a423",
   "execution_count": 43
  },
  {
   "cell_type": "code",
   "outputs": [
    {
     "data": {
      "text/plain": "       Y\n0      1\n1      1\n2      0\n3      0\n4      0\n...   ..\n29995  0\n29996  0\n29997  1\n29998  1\n29999  1\n\n[30000 rows x 1 columns]",
      "text/html": "<div>\n<style scoped>\n    .dataframe tbody tr th:only-of-type {\n        vertical-align: middle;\n    }\n\n    .dataframe tbody tr th {\n        vertical-align: top;\n    }\n\n    .dataframe thead th {\n        text-align: right;\n    }\n</style>\n<table border=\"1\" class=\"dataframe\">\n  <thead>\n    <tr style=\"text-align: right;\">\n      <th></th>\n      <th>Y</th>\n    </tr>\n  </thead>\n  <tbody>\n    <tr>\n      <th>0</th>\n      <td>1</td>\n    </tr>\n    <tr>\n      <th>1</th>\n      <td>1</td>\n    </tr>\n    <tr>\n      <th>2</th>\n      <td>0</td>\n    </tr>\n    <tr>\n      <th>3</th>\n      <td>0</td>\n    </tr>\n    <tr>\n      <th>4</th>\n      <td>0</td>\n    </tr>\n    <tr>\n      <th>...</th>\n      <td>...</td>\n    </tr>\n    <tr>\n      <th>29995</th>\n      <td>0</td>\n    </tr>\n    <tr>\n      <th>29996</th>\n      <td>0</td>\n    </tr>\n    <tr>\n      <th>29997</th>\n      <td>1</td>\n    </tr>\n    <tr>\n      <th>29998</th>\n      <td>1</td>\n    </tr>\n    <tr>\n      <th>29999</th>\n      <td>1</td>\n    </tr>\n  </tbody>\n</table>\n<p>30000 rows × 1 columns</p>\n</div>"
     },
     "execution_count": 44,
     "metadata": {},
     "output_type": "execute_result"
    }
   ],
   "source": [
    "data.data.targets\n",
    "\n",
    "## 1 = yes ==> default\n",
    "## 0 = No ==> Not default"
   ],
   "metadata": {
    "collapsed": false,
    "ExecuteTime": {
     "end_time": "2024-06-28T11:33:03.161003Z",
     "start_time": "2024-06-28T11:33:03.156929Z"
    }
   },
   "id": "9f151104d1d7facb",
   "execution_count": 44
  },
  {
   "cell_type": "code",
   "outputs": [
    {
     "data": {
      "text/plain": "(30000, 23)"
     },
     "execution_count": 45,
     "metadata": {},
     "output_type": "execute_result"
    }
   ],
   "source": [
    "data.data.features.shape "
   ],
   "metadata": {
    "collapsed": false,
    "ExecuteTime": {
     "end_time": "2024-06-28T11:33:03.163982Z",
     "start_time": "2024-06-28T11:33:03.161684Z"
    }
   },
   "id": "bb34dc320a522cd6",
   "execution_count": 45
  },
  {
   "cell_type": "code",
   "outputs": [
    {
     "name": "stdout",
     "output_type": "stream",
     "text": [
      "{'uci_id': 350, 'name': 'Default of Credit Card Clients', 'repository_url': 'https://archive.ics.uci.edu/dataset/350/default+of+credit+card+clients', 'data_url': 'https://archive.ics.uci.edu/static/public/350/data.csv', 'abstract': \"This research aimed at the case of customers' default payments in Taiwan and compares the predictive accuracy of probability of default among six data mining methods.\", 'area': 'Business', 'tasks': ['Classification'], 'characteristics': ['Multivariate'], 'num_instances': 30000, 'num_features': 23, 'feature_types': ['Integer', 'Real'], 'demographics': ['Sex', 'Education Level', 'Marital Status', 'Age'], 'target_col': ['Y'], 'index_col': ['ID'], 'has_missing_values': 'no', 'missing_values_symbol': None, 'year_of_dataset_creation': 2009, 'last_updated': 'Fri Mar 29 2024', 'dataset_doi': '10.24432/C55S3H', 'creators': ['I-Cheng Yeh'], 'intro_paper': {'title': 'The comparisons of data mining techniques for the predictive accuracy of probability of default of credit card clients', 'authors': 'I. Yeh, Che-hui Lien', 'published_in': 'Expert systems with applications', 'year': 2009, 'url': 'https://www.semanticscholar.org/paper/1cacac4f0ea9fdff3cd88c151c94115a9fddcf33', 'doi': '10.1016/j.eswa.2007.12.020'}, 'additional_info': {'summary': \"This research aimed at the case of customers' default payments in Taiwan and compares the predictive accuracy of probability of default among six data mining methods. From the perspective of risk management, the result of predictive accuracy of the estimated probability of default will be more valuable than the binary result of classification - credible or not credible clients. Because the real probability of default is unknown, this study presented the novel Sorting Smoothing Method to estimate the real probability of default. With the real probability of default as the response variable (Y), and the predictive probability of default as the independent variable (X), the simple linear regression result (Y = A + BX) shows that the forecasting model produced by artificial neural network has the highest coefficient of determination; its regression intercept (A) is close to zero, and regression coefficient (B) to one. Therefore, among the six data mining techniques, artificial neural network is the only one that can accurately estimate the real probability of default.\", 'purpose': None, 'funded_by': None, 'instances_represent': None, 'recommended_data_splits': None, 'sensitive_data': None, 'preprocessing_description': None, 'variable_info': 'This research employed a binary variable, default payment (Yes = 1, No = 0), as the response variable. This study reviewed the literature and used the following 23 variables as explanatory variables:\\r\\nX1: Amount of the given credit (NT dollar): it includes both the individual consumer credit and his/her family (supplementary) credit.\\r\\nX2: Gender (1 = male; 2 = female).\\r\\nX3: Education (1 = graduate school; 2 = university; 3 = high school; 4 = others).\\r\\nX4: Marital status (1 = married; 2 = single; 3 = others).\\r\\nX5: Age (year).\\r\\nX6 - X11: History of past payment. We tracked the past monthly payment records (from April to September, 2005) as follows: X6 = the repayment status in September, 2005; X7 = the repayment status in August, 2005; . . .;X11 = the repayment status in April, 2005. The measurement scale for the repayment status is: -1 = pay duly; 1 = payment delay for one month; 2 = payment delay for two months; . . .; 8 = payment delay for eight months; 9 = payment delay for nine months and above.\\r\\nX12-X17: Amount of bill statement (NT dollar). X12 = amount of bill statement in September, 2005; X13 = amount of bill statement in August, 2005; . . .; X17 = amount of bill statement in April, 2005. \\r\\nX18-X23: Amount of previous payment (NT dollar). X18 = amount paid in September, 2005; X19 = amount paid in August, 2005; . . .;X23 = amount paid in April, 2005.\\r\\n', 'citation': None}}\n"
     ]
    }
   ],
   "source": [
    "# metadata \n",
    "print(data.metadata) \n"
   ],
   "metadata": {
    "collapsed": false,
    "ExecuteTime": {
     "end_time": "2024-06-28T11:33:03.167051Z",
     "start_time": "2024-06-28T11:33:03.165242Z"
    }
   },
   "id": "67cb858dc361c295",
   "execution_count": 46
  },
  {
   "cell_type": "markdown",
   "source": [
    "### Data\n",
    "This research employed a binary variable, default payment (Yes = 1, No = 0), as the response variable. This study reviewed the literature and used the following 23 variables as explanatory variables:\n",
    "- X1: Amount of the given credit (NT dollar): it includes both the individual consumer credit and his/her family (supplementary) credit.\n",
    "- X2: Gender (1 = male; 2 = female) converted to (1 = male; 0 = female) .\n",
    "- X3: Education (1 = graduate school; 2 = university; 3 = high school; 4 = others).\n",
    "- X4: Marital status (1 = married; 2 = single; 3 = others).\n",
    "- X5: Age (year).\n",
    "- X6 - X11: History of past payment. We tracked the past monthly payment records (from April to September, 2005) as follows: X6 = the repayment status in September, 2005; X7 = the repayment status in August, 2005; . . .;X11 = the repayment status in April, 2005. The measurement scale for the repayment status is: -1 = pay duly; 1 = payment delay for one month; 2 = payment delay for two months; . . .; 8 = payment delay for eight months; 9 = payment delay for nine months and above.\n",
    "- X12-X17: Amount of bill statement (NT dollar). X12 = amount of bill statement in September, 2005; X13 = amount of bill statement in August, 2005; . . .; X17 = amount of bill statement in April, 2005. \n",
    "- X18-X23: Amount of previous payment (NT dollar). X18 = amount paid in September, 2005; X19 = amount paid in August, 2005; . . .;X23 = amount paid in April, 2005."
   ],
   "metadata": {
    "collapsed": false
   },
   "id": "b809a9fc603b1054"
  },
  {
   "cell_type": "code",
   "outputs": [
    {
     "data": {
      "text/plain": "   name     role     type      demographic description units missing_values\n0    ID       ID  Integer             None        None  None             no\n1    X1  Feature  Integer             None   LIMIT_BAL  None             no\n2    X2  Feature  Integer              Sex         SEX  None             no\n3    X3  Feature  Integer  Education Level   EDUCATION  None             no\n4    X4  Feature  Integer   Marital Status    MARRIAGE  None             no\n5    X5  Feature  Integer              Age         AGE  None             no\n6    X6  Feature  Integer             None       PAY_0  None             no\n7    X7  Feature  Integer             None       PAY_2  None             no\n8    X8  Feature  Integer             None       PAY_3  None             no\n9    X9  Feature  Integer             None       PAY_4  None             no\n10  X10  Feature  Integer             None       PAY_5  None             no\n11  X11  Feature  Integer             None       PAY_6  None             no\n12  X12  Feature  Integer             None   BILL_AMT1  None             no\n13  X13  Feature  Integer             None   BILL_AMT2  None             no\n14  X14  Feature  Integer             None   BILL_AMT3  None             no\n15  X15  Feature  Integer             None   BILL_AMT4  None             no\n16  X16  Feature  Integer             None   BILL_AMT5  None             no\n17  X17  Feature  Integer             None   BILL_AMT6  None             no\n18  X18  Feature  Integer             None    PAY_AMT1  None             no\n19  X19  Feature  Integer             None    PAY_AMT2  None             no",
      "text/html": "<div>\n<style scoped>\n    .dataframe tbody tr th:only-of-type {\n        vertical-align: middle;\n    }\n\n    .dataframe tbody tr th {\n        vertical-align: top;\n    }\n\n    .dataframe thead th {\n        text-align: right;\n    }\n</style>\n<table border=\"1\" class=\"dataframe\">\n  <thead>\n    <tr style=\"text-align: right;\">\n      <th></th>\n      <th>name</th>\n      <th>role</th>\n      <th>type</th>\n      <th>demographic</th>\n      <th>description</th>\n      <th>units</th>\n      <th>missing_values</th>\n    </tr>\n  </thead>\n  <tbody>\n    <tr>\n      <th>0</th>\n      <td>ID</td>\n      <td>ID</td>\n      <td>Integer</td>\n      <td>None</td>\n      <td>None</td>\n      <td>None</td>\n      <td>no</td>\n    </tr>\n    <tr>\n      <th>1</th>\n      <td>X1</td>\n      <td>Feature</td>\n      <td>Integer</td>\n      <td>None</td>\n      <td>LIMIT_BAL</td>\n      <td>None</td>\n      <td>no</td>\n    </tr>\n    <tr>\n      <th>2</th>\n      <td>X2</td>\n      <td>Feature</td>\n      <td>Integer</td>\n      <td>Sex</td>\n      <td>SEX</td>\n      <td>None</td>\n      <td>no</td>\n    </tr>\n    <tr>\n      <th>3</th>\n      <td>X3</td>\n      <td>Feature</td>\n      <td>Integer</td>\n      <td>Education Level</td>\n      <td>EDUCATION</td>\n      <td>None</td>\n      <td>no</td>\n    </tr>\n    <tr>\n      <th>4</th>\n      <td>X4</td>\n      <td>Feature</td>\n      <td>Integer</td>\n      <td>Marital Status</td>\n      <td>MARRIAGE</td>\n      <td>None</td>\n      <td>no</td>\n    </tr>\n    <tr>\n      <th>5</th>\n      <td>X5</td>\n      <td>Feature</td>\n      <td>Integer</td>\n      <td>Age</td>\n      <td>AGE</td>\n      <td>None</td>\n      <td>no</td>\n    </tr>\n    <tr>\n      <th>6</th>\n      <td>X6</td>\n      <td>Feature</td>\n      <td>Integer</td>\n      <td>None</td>\n      <td>PAY_0</td>\n      <td>None</td>\n      <td>no</td>\n    </tr>\n    <tr>\n      <th>7</th>\n      <td>X7</td>\n      <td>Feature</td>\n      <td>Integer</td>\n      <td>None</td>\n      <td>PAY_2</td>\n      <td>None</td>\n      <td>no</td>\n    </tr>\n    <tr>\n      <th>8</th>\n      <td>X8</td>\n      <td>Feature</td>\n      <td>Integer</td>\n      <td>None</td>\n      <td>PAY_3</td>\n      <td>None</td>\n      <td>no</td>\n    </tr>\n    <tr>\n      <th>9</th>\n      <td>X9</td>\n      <td>Feature</td>\n      <td>Integer</td>\n      <td>None</td>\n      <td>PAY_4</td>\n      <td>None</td>\n      <td>no</td>\n    </tr>\n    <tr>\n      <th>10</th>\n      <td>X10</td>\n      <td>Feature</td>\n      <td>Integer</td>\n      <td>None</td>\n      <td>PAY_5</td>\n      <td>None</td>\n      <td>no</td>\n    </tr>\n    <tr>\n      <th>11</th>\n      <td>X11</td>\n      <td>Feature</td>\n      <td>Integer</td>\n      <td>None</td>\n      <td>PAY_6</td>\n      <td>None</td>\n      <td>no</td>\n    </tr>\n    <tr>\n      <th>12</th>\n      <td>X12</td>\n      <td>Feature</td>\n      <td>Integer</td>\n      <td>None</td>\n      <td>BILL_AMT1</td>\n      <td>None</td>\n      <td>no</td>\n    </tr>\n    <tr>\n      <th>13</th>\n      <td>X13</td>\n      <td>Feature</td>\n      <td>Integer</td>\n      <td>None</td>\n      <td>BILL_AMT2</td>\n      <td>None</td>\n      <td>no</td>\n    </tr>\n    <tr>\n      <th>14</th>\n      <td>X14</td>\n      <td>Feature</td>\n      <td>Integer</td>\n      <td>None</td>\n      <td>BILL_AMT3</td>\n      <td>None</td>\n      <td>no</td>\n    </tr>\n    <tr>\n      <th>15</th>\n      <td>X15</td>\n      <td>Feature</td>\n      <td>Integer</td>\n      <td>None</td>\n      <td>BILL_AMT4</td>\n      <td>None</td>\n      <td>no</td>\n    </tr>\n    <tr>\n      <th>16</th>\n      <td>X16</td>\n      <td>Feature</td>\n      <td>Integer</td>\n      <td>None</td>\n      <td>BILL_AMT5</td>\n      <td>None</td>\n      <td>no</td>\n    </tr>\n    <tr>\n      <th>17</th>\n      <td>X17</td>\n      <td>Feature</td>\n      <td>Integer</td>\n      <td>None</td>\n      <td>BILL_AMT6</td>\n      <td>None</td>\n      <td>no</td>\n    </tr>\n    <tr>\n      <th>18</th>\n      <td>X18</td>\n      <td>Feature</td>\n      <td>Integer</td>\n      <td>None</td>\n      <td>PAY_AMT1</td>\n      <td>None</td>\n      <td>no</td>\n    </tr>\n    <tr>\n      <th>19</th>\n      <td>X19</td>\n      <td>Feature</td>\n      <td>Integer</td>\n      <td>None</td>\n      <td>PAY_AMT2</td>\n      <td>None</td>\n      <td>no</td>\n    </tr>\n  </tbody>\n</table>\n</div>"
     },
     "execution_count": 47,
     "metadata": {},
     "output_type": "execute_result"
    }
   ],
   "source": [
    "data.variables.head(20) "
   ],
   "metadata": {
    "collapsed": false,
    "ExecuteTime": {
     "end_time": "2024-06-28T11:33:03.594786Z",
     "start_time": "2024-06-28T11:33:03.586611Z"
    }
   },
   "id": "c86817f57ff5628f",
   "execution_count": 47
  },
  {
   "cell_type": "code",
   "outputs": [
    {
     "data": {
      "text/plain": "       X1  X2  X3  X4  X5  X6  X7  X8  X9  X10  ...    X15    X16    X17  \\\n0   20000   2   2   1  24   2   2  -1  -1   -2  ...      0      0      0   \n1  120000   2   2   2  26  -1   2   0   0    0  ...   3272   3455   3261   \n2   90000   2   2   2  34   0   0   0   0    0  ...  14331  14948  15549   \n3   50000   2   2   1  37   0   0   0   0    0  ...  28314  28959  29547   \n4   50000   1   2   1  57  -1   0  -1   0    0  ...  20940  19146  19131   \n\n    X18    X19    X20   X21   X22   X23  Y  \n0     0    689      0     0     0     0  1  \n1     0   1000   1000  1000     0  2000  1  \n2  1518   1500   1000  1000  1000  5000  0  \n3  2000   2019   1200  1100  1069  1000  0  \n4  2000  36681  10000  9000   689   679  0  \n\n[5 rows x 24 columns]",
      "text/html": "<div>\n<style scoped>\n    .dataframe tbody tr th:only-of-type {\n        vertical-align: middle;\n    }\n\n    .dataframe tbody tr th {\n        vertical-align: top;\n    }\n\n    .dataframe thead th {\n        text-align: right;\n    }\n</style>\n<table border=\"1\" class=\"dataframe\">\n  <thead>\n    <tr style=\"text-align: right;\">\n      <th></th>\n      <th>X1</th>\n      <th>X2</th>\n      <th>X3</th>\n      <th>X4</th>\n      <th>X5</th>\n      <th>X6</th>\n      <th>X7</th>\n      <th>X8</th>\n      <th>X9</th>\n      <th>X10</th>\n      <th>...</th>\n      <th>X15</th>\n      <th>X16</th>\n      <th>X17</th>\n      <th>X18</th>\n      <th>X19</th>\n      <th>X20</th>\n      <th>X21</th>\n      <th>X22</th>\n      <th>X23</th>\n      <th>Y</th>\n    </tr>\n  </thead>\n  <tbody>\n    <tr>\n      <th>0</th>\n      <td>20000</td>\n      <td>2</td>\n      <td>2</td>\n      <td>1</td>\n      <td>24</td>\n      <td>2</td>\n      <td>2</td>\n      <td>-1</td>\n      <td>-1</td>\n      <td>-2</td>\n      <td>...</td>\n      <td>0</td>\n      <td>0</td>\n      <td>0</td>\n      <td>0</td>\n      <td>689</td>\n      <td>0</td>\n      <td>0</td>\n      <td>0</td>\n      <td>0</td>\n      <td>1</td>\n    </tr>\n    <tr>\n      <th>1</th>\n      <td>120000</td>\n      <td>2</td>\n      <td>2</td>\n      <td>2</td>\n      <td>26</td>\n      <td>-1</td>\n      <td>2</td>\n      <td>0</td>\n      <td>0</td>\n      <td>0</td>\n      <td>...</td>\n      <td>3272</td>\n      <td>3455</td>\n      <td>3261</td>\n      <td>0</td>\n      <td>1000</td>\n      <td>1000</td>\n      <td>1000</td>\n      <td>0</td>\n      <td>2000</td>\n      <td>1</td>\n    </tr>\n    <tr>\n      <th>2</th>\n      <td>90000</td>\n      <td>2</td>\n      <td>2</td>\n      <td>2</td>\n      <td>34</td>\n      <td>0</td>\n      <td>0</td>\n      <td>0</td>\n      <td>0</td>\n      <td>0</td>\n      <td>...</td>\n      <td>14331</td>\n      <td>14948</td>\n      <td>15549</td>\n      <td>1518</td>\n      <td>1500</td>\n      <td>1000</td>\n      <td>1000</td>\n      <td>1000</td>\n      <td>5000</td>\n      <td>0</td>\n    </tr>\n    <tr>\n      <th>3</th>\n      <td>50000</td>\n      <td>2</td>\n      <td>2</td>\n      <td>1</td>\n      <td>37</td>\n      <td>0</td>\n      <td>0</td>\n      <td>0</td>\n      <td>0</td>\n      <td>0</td>\n      <td>...</td>\n      <td>28314</td>\n      <td>28959</td>\n      <td>29547</td>\n      <td>2000</td>\n      <td>2019</td>\n      <td>1200</td>\n      <td>1100</td>\n      <td>1069</td>\n      <td>1000</td>\n      <td>0</td>\n    </tr>\n    <tr>\n      <th>4</th>\n      <td>50000</td>\n      <td>1</td>\n      <td>2</td>\n      <td>1</td>\n      <td>57</td>\n      <td>-1</td>\n      <td>0</td>\n      <td>-1</td>\n      <td>0</td>\n      <td>0</td>\n      <td>...</td>\n      <td>20940</td>\n      <td>19146</td>\n      <td>19131</td>\n      <td>2000</td>\n      <td>36681</td>\n      <td>10000</td>\n      <td>9000</td>\n      <td>689</td>\n      <td>679</td>\n      <td>0</td>\n    </tr>\n  </tbody>\n</table>\n<p>5 rows × 24 columns</p>\n</div>"
     },
     "execution_count": 48,
     "metadata": {},
     "output_type": "execute_result"
    }
   ],
   "source": [
    "final_dataset = pd.concat([data.data.features,  data.data.targets], axis = 1)\n",
    "final_dataset.head()"
   ],
   "metadata": {
    "collapsed": false,
    "ExecuteTime": {
     "end_time": "2024-06-28T11:33:05.582740Z",
     "start_time": "2024-06-28T11:33:05.568755Z"
    }
   },
   "id": "ce423d797c258f50",
   "execution_count": 48
  },
  {
   "cell_type": "code",
   "outputs": [
    {
     "data": {
      "text/plain": "0    23364\n1     6636\nName: Y, dtype: int64"
     },
     "execution_count": 49,
     "metadata": {},
     "output_type": "execute_result"
    }
   ],
   "source": [
    "final_dataset['Y'].value_counts()"
   ],
   "metadata": {
    "collapsed": false,
    "ExecuteTime": {
     "end_time": "2024-06-28T11:33:08.655451Z",
     "start_time": "2024-06-28T11:33:08.649427Z"
    }
   },
   "id": "b7b54f3da25d33c8",
   "execution_count": 49
  },
  {
   "cell_type": "code",
   "outputs": [
    {
     "data": {
      "text/plain": "X1     0\nX2     0\nX3     0\nX4     0\nX5     0\nX6     0\nX7     0\nX8     0\nX9     0\nX10    0\nX11    0\nX12    0\nX13    0\nX14    0\nX15    0\nX16    0\nX17    0\nX18    0\nX19    0\nX20    0\nX21    0\nX22    0\nX23    0\nY      0\ndtype: int64"
     },
     "execution_count": 50,
     "metadata": {},
     "output_type": "execute_result"
    }
   ],
   "source": [
    "final_dataset.isnull().sum()"
   ],
   "metadata": {
    "collapsed": false,
    "ExecuteTime": {
     "end_time": "2024-06-28T11:33:11.797019Z",
     "start_time": "2024-06-28T11:33:11.790635Z"
    }
   },
   "id": "5cda1be197e2dc8e",
   "execution_count": 50
  },
  {
   "cell_type": "code",
   "outputs": [
    {
     "data": {
      "text/plain": "       X1  X2  X3  X4  X5  X6  X7  X8  X9  X10  ...    X15    X16    X17  \\\n0   20000   0   2   1  24   2   2  -1  -1   -2  ...      0      0      0   \n1  120000   0   2   2  26  -1   2   0   0    0  ...   3272   3455   3261   \n2   90000   0   2   2  34   0   0   0   0    0  ...  14331  14948  15549   \n3   50000   0   2   1  37   0   0   0   0    0  ...  28314  28959  29547   \n4   50000   1   2   1  57  -1   0  -1   0    0  ...  20940  19146  19131   \n\n    X18    X19    X20   X21   X22   X23  Y  \n0     0    689      0     0     0     0  1  \n1     0   1000   1000  1000     0  2000  1  \n2  1518   1500   1000  1000  1000  5000  0  \n3  2000   2019   1200  1100  1069  1000  0  \n4  2000  36681  10000  9000   689   679  0  \n\n[5 rows x 24 columns]",
      "text/html": "<div>\n<style scoped>\n    .dataframe tbody tr th:only-of-type {\n        vertical-align: middle;\n    }\n\n    .dataframe tbody tr th {\n        vertical-align: top;\n    }\n\n    .dataframe thead th {\n        text-align: right;\n    }\n</style>\n<table border=\"1\" class=\"dataframe\">\n  <thead>\n    <tr style=\"text-align: right;\">\n      <th></th>\n      <th>X1</th>\n      <th>X2</th>\n      <th>X3</th>\n      <th>X4</th>\n      <th>X5</th>\n      <th>X6</th>\n      <th>X7</th>\n      <th>X8</th>\n      <th>X9</th>\n      <th>X10</th>\n      <th>...</th>\n      <th>X15</th>\n      <th>X16</th>\n      <th>X17</th>\n      <th>X18</th>\n      <th>X19</th>\n      <th>X20</th>\n      <th>X21</th>\n      <th>X22</th>\n      <th>X23</th>\n      <th>Y</th>\n    </tr>\n  </thead>\n  <tbody>\n    <tr>\n      <th>0</th>\n      <td>20000</td>\n      <td>0</td>\n      <td>2</td>\n      <td>1</td>\n      <td>24</td>\n      <td>2</td>\n      <td>2</td>\n      <td>-1</td>\n      <td>-1</td>\n      <td>-2</td>\n      <td>...</td>\n      <td>0</td>\n      <td>0</td>\n      <td>0</td>\n      <td>0</td>\n      <td>689</td>\n      <td>0</td>\n      <td>0</td>\n      <td>0</td>\n      <td>0</td>\n      <td>1</td>\n    </tr>\n    <tr>\n      <th>1</th>\n      <td>120000</td>\n      <td>0</td>\n      <td>2</td>\n      <td>2</td>\n      <td>26</td>\n      <td>-1</td>\n      <td>2</td>\n      <td>0</td>\n      <td>0</td>\n      <td>0</td>\n      <td>...</td>\n      <td>3272</td>\n      <td>3455</td>\n      <td>3261</td>\n      <td>0</td>\n      <td>1000</td>\n      <td>1000</td>\n      <td>1000</td>\n      <td>0</td>\n      <td>2000</td>\n      <td>1</td>\n    </tr>\n    <tr>\n      <th>2</th>\n      <td>90000</td>\n      <td>0</td>\n      <td>2</td>\n      <td>2</td>\n      <td>34</td>\n      <td>0</td>\n      <td>0</td>\n      <td>0</td>\n      <td>0</td>\n      <td>0</td>\n      <td>...</td>\n      <td>14331</td>\n      <td>14948</td>\n      <td>15549</td>\n      <td>1518</td>\n      <td>1500</td>\n      <td>1000</td>\n      <td>1000</td>\n      <td>1000</td>\n      <td>5000</td>\n      <td>0</td>\n    </tr>\n    <tr>\n      <th>3</th>\n      <td>50000</td>\n      <td>0</td>\n      <td>2</td>\n      <td>1</td>\n      <td>37</td>\n      <td>0</td>\n      <td>0</td>\n      <td>0</td>\n      <td>0</td>\n      <td>0</td>\n      <td>...</td>\n      <td>28314</td>\n      <td>28959</td>\n      <td>29547</td>\n      <td>2000</td>\n      <td>2019</td>\n      <td>1200</td>\n      <td>1100</td>\n      <td>1069</td>\n      <td>1000</td>\n      <td>0</td>\n    </tr>\n    <tr>\n      <th>4</th>\n      <td>50000</td>\n      <td>1</td>\n      <td>2</td>\n      <td>1</td>\n      <td>57</td>\n      <td>-1</td>\n      <td>0</td>\n      <td>-1</td>\n      <td>0</td>\n      <td>0</td>\n      <td>...</td>\n      <td>20940</td>\n      <td>19146</td>\n      <td>19131</td>\n      <td>2000</td>\n      <td>36681</td>\n      <td>10000</td>\n      <td>9000</td>\n      <td>689</td>\n      <td>679</td>\n      <td>0</td>\n    </tr>\n  </tbody>\n</table>\n<p>5 rows × 24 columns</p>\n</div>"
     },
     "execution_count": 51,
     "metadata": {},
     "output_type": "execute_result"
    }
   ],
   "source": [
    "def set_gender(value):\n",
    "    if value == 1:\n",
    "        return 1\n",
    "    else:\n",
    "        return 0\n",
    "    \n",
    "final_dataset['X2'] = final_dataset['X2'].apply(set_gender)\n",
    "final_dataset.head()"
   ],
   "metadata": {
    "collapsed": false,
    "ExecuteTime": {
     "end_time": "2024-06-28T11:34:54.798347Z",
     "start_time": "2024-06-28T11:34:54.776413Z"
    }
   },
   "id": "af40307c2307fd0a",
   "execution_count": 51
  },
  {
   "cell_type": "code",
   "outputs": [],
   "source": [
    "final_dataset.to_csv(\"Taiwanese_credit_risk_dataset.csv\", index=False)"
   ],
   "metadata": {
    "collapsed": false,
    "ExecuteTime": {
     "end_time": "2024-06-28T11:35:23.614025Z",
     "start_time": "2024-06-28T11:35:23.531790Z"
    }
   },
   "id": "1342039b6898aa2e",
   "execution_count": 52
  },
  {
   "cell_type": "code",
   "outputs": [
    {
     "data": {
      "text/plain": "(30000, 24)"
     },
     "execution_count": 53,
     "metadata": {},
     "output_type": "execute_result"
    }
   ],
   "source": [
    "df = pd.read_csv('Taiwanese_credit_risk_dataset.csv')\n",
    "df.shape"
   ],
   "metadata": {
    "collapsed": false,
    "ExecuteTime": {
     "end_time": "2024-06-28T11:35:23.996886Z",
     "start_time": "2024-06-28T11:35:23.947828Z"
    }
   },
   "id": "5f179ed08f4c04f6",
   "execution_count": 53
  },
  {
   "cell_type": "markdown",
   "source": [
    "## lets create and save train and test split for training"
   ],
   "metadata": {
    "collapsed": false
   },
   "id": "4f9f999dadbc9fb9"
  },
  {
   "cell_type": "code",
   "outputs": [
    {
     "name": "stdout",
     "output_type": "stream",
     "text": [
      "Training data saved to train.csv\n",
      "Testing data saved to test.csv\n"
     ]
    }
   ],
   "source": [
    "from sklearn.model_selection import train_test_split\n",
    "\n",
    "def split_and_save_data(df, test_size=0.2, train_filepath='train.csv', test_filepath='test.csv', random_state=10):\n",
    "    # Split the DataFrame into training and testing sets\n",
    "    train_df, test_df = train_test_split(df, test_size=test_size, random_state=random_state)\n",
    "    \n",
    "    # Save the training set to a CSV file\n",
    "    train_df.to_csv(train_filepath, index=False)\n",
    "    print(f\"Training data saved to {train_filepath}\")\n",
    "    \n",
    "    # Save the testing set to a CSV file\n",
    "    test_df.to_csv(test_filepath, index=False)\n",
    "    print(f\"Testing data saved to {test_filepath}\")\n",
    "    \n",
    "    return train_df, test_df\n",
    "\n",
    "train_df, test_df = split_and_save_data(df)\n"
   ],
   "metadata": {
    "collapsed": false,
    "ExecuteTime": {
     "end_time": "2024-06-28T11:35:25.346231Z",
     "start_time": "2024-06-28T11:35:25.257487Z"
    }
   },
   "id": "6fb83ee56a182536",
   "execution_count": 54
  },
  {
   "cell_type": "code",
   "outputs": [
    {
     "name": "stdout",
     "output_type": "stream",
     "text": [
      "shape of training data (24000, 24)\n",
      "shape of testing data (6000, 24)\n"
     ]
    }
   ],
   "source": [
    "print(\"shape of training data\", train_df.shape)\n",
    "print(\"shape of testing data\", test_df.shape)"
   ],
   "metadata": {
    "collapsed": false,
    "ExecuteTime": {
     "end_time": "2024-06-28T11:35:25.824280Z",
     "start_time": "2024-06-28T11:35:25.820955Z"
    }
   },
   "id": "df566df833eb302",
   "execution_count": 55
  },
  {
   "cell_type": "markdown",
   "source": [
    "## lets look at the bounds for each column"
   ],
   "metadata": {
    "collapsed": false
   },
   "id": "29c906595453c707"
  },
  {
   "cell_type": "code",
   "outputs": [
    {
     "data": {
      "text/plain": "<Figure size 1000x800 with 25 Axes>",
      "image/png": "[encoded data removed]"
     },
     "metadata": {},
     "output_type": "display_data"
    }
   ],
   "source": [
    "import matplotlib.pyplot as plt\n",
    "import pandas as pd\n",
    "\n",
    "\n",
    "\n",
    "\n",
    "df.hist(bins=10, figsize=(10, 8))\n",
    "\n",
    "\n",
    "plt.tight_layout()\n",
    "plt.show()"
   ],
   "metadata": {
    "collapsed": false,
    "ExecuteTime": {
     "end_time": "2024-06-28T11:35:27.692571Z",
     "start_time": "2024-06-28T11:35:26.871987Z"
    }
   },
   "id": "b4eb30a6221769a3",
   "execution_count": 56
  },
  {
   "cell_type": "code",
   "outputs": [
    {
     "data": {
      "text/plain": "                   X1            X2            X3            X4            X5  \\\ncount    30000.000000  30000.000000  30000.000000  30000.000000  30000.000000   \nmean    167484.322667      0.396267      1.853133      1.551867     35.485500   \nstd     129747.661567      0.489129      0.790349      0.521970      9.217904   \nmin      10000.000000      0.000000      0.000000      0.000000     21.000000   \n25%      50000.000000      0.000000      1.000000      1.000000     28.000000   \n50%     140000.000000      0.000000      2.000000      2.000000     34.000000   \n75%     240000.000000      1.000000      2.000000      2.000000     41.000000   \nmax    1000000.000000      1.000000      6.000000      3.000000     79.000000   \n\n                 X6            X7            X8            X9           X10  \\\ncount  30000.000000  30000.000000  30000.000000  30000.000000  30000.000000   \nmean      -0.016700     -0.133767     -0.166200     -0.220667     -0.266200   \nstd        1.123802      1.197186      1.196868      1.169139      1.133187   \nmin       -2.000000     -2.000000     -2.000000     -2.000000     -2.000000   \n25%       -1.000000     -1.000000     -1.000000     -1.000000     -1.000000   \n50%        0.000000      0.000000      0.000000      0.000000      0.000000   \n75%        0.000000      0.000000      0.000000      0.000000      0.000000   \nmax        8.000000      8.000000      8.000000      8.000000      8.000000   \n\n       ...            X15            X16            X17            X18  \\\ncount  ...   30000.000000   30000.000000   30000.000000   30000.000000   \nmean   ...   43262.948967   40311.400967   38871.760400    5663.580500   \nstd    ...   64332.856134   60797.155770   59554.107537   16563.280354   \nmin    ... -170000.000000  -81334.000000 -339603.000000       0.000000   \n25%    ...    2326.750000    1763.000000    1256.000000    1000.000000   \n50%    ...   19052.000000   18104.500000   17071.000000    2100.000000   \n75%    ...   54506.000000   50190.500000   49198.250000    5006.000000   \nmax    ...  891586.000000  927171.000000  961664.000000  873552.000000   \n\n                X19           X20            X21            X22  \\\ncount  3.000000e+04   30000.00000   30000.000000   30000.000000   \nmean   5.921163e+03    5225.68150    4826.076867    4799.387633   \nstd    2.304087e+04   17606.96147   15666.159744   15278.305679   \nmin    0.000000e+00       0.00000       0.000000       0.000000   \n25%    8.330000e+02     390.00000     296.000000     252.500000   \n50%    2.009000e+03    1800.00000    1500.000000    1500.000000   \n75%    5.000000e+03    4505.00000    4013.250000    4031.500000   \nmax    1.684259e+06  896040.00000  621000.000000  426529.000000   \n\n                 X23             Y  \ncount   30000.000000  30000.000000  \nmean     5215.502567      0.221200  \nstd     17777.465775      0.415062  \nmin         0.000000      0.000000  \n25%       117.750000      0.000000  \n50%      1500.000000      0.000000  \n75%      4000.000000      0.000000  \nmax    528666.000000      1.000000  \n\n[8 rows x 24 columns]",
      "text/html": "<div>\n<style scoped>\n    .dataframe tbody tr th:only-of-type {\n        vertical-align: middle;\n    }\n\n    .dataframe tbody tr th {\n        vertical-align: top;\n    }\n\n    .dataframe thead th {\n        text-align: right;\n    }\n</style>\n<table border=\"1\" class=\"dataframe\">\n  <thead>\n    <tr style=\"text-align: right;\">\n      <th></th>\n      <th>X1</th>\n      <th>X2</th>\n      <th>X3</th>\n      <th>X4</th>\n      <th>X5</th>\n      <th>X6</th>\n      <th>X7</th>\n      <th>X8</th>\n      <th>X9</th>\n      <th>X10</th>\n      <th>...</th>\n      <th>X15</th>\n      <th>X16</th>\n      <th>X17</th>\n      <th>X18</th>\n      <th>X19</th>\n      <th>X20</th>\n      <th>X21</th>\n      <th>X22</th>\n      <th>X23</th>\n      <th>Y</th>\n    </tr>\n  </thead>\n  <tbody>\n    <tr>\n      <th>count</th>\n      <td>30000.000000</td>\n      <td>30000.000000</td>\n      <td>30000.000000</td>\n      <td>30000.000000</td>\n      <td>30000.000000</td>\n      <td>30000.000000</td>\n      <td>30000.000000</td>\n      <td>30000.000000</td>\n      <td>30000.000000</td>\n      <td>30000.000000</td>\n      <td>...</td>\n      <td>30000.000000</td>\n      <td>30000.000000</td>\n      <td>30000.000000</td>\n      <td>30000.000000</td>\n      <td>3.000000e+04</td>\n      <td>30000.00000</td>\n      <td>30000.000000</td>\n      <td>30000.000000</td>\n      <td>30000.000000</td>\n      <td>30000.000000</td>\n    </tr>\n    <tr>\n      <th>mean</th>\n      <td>167484.322667</td>\n      <td>0.396267</td>\n      <td>1.853133</td>\n      <td>1.551867</td>\n      <td>35.485500</td>\n      <td>-0.016700</td>\n      <td>-0.133767</td>\n      <td>-0.166200</td>\n      <td>-0.220667</td>\n      <td>-0.266200</td>\n      <td>...</td>\n      <td>43262.948967</td>\n      <td>40311.400967</td>\n      <td>38871.760400</td>\n      <td>5663.580500</td>\n      <td>5.921163e+03</td>\n      <td>5225.68150</td>\n      <td>4826.076867</td>\n      <td>4799.387633</td>\n      <td>5215.502567</td>\n      <td>0.221200</td>\n    </tr>\n    <tr>\n      <th>std</th>\n      <td>129747.661567</td>\n      <td>0.489129</td>\n      <td>0.790349</td>\n      <td>0.521970</td>\n      <td>9.217904</td>\n      <td>1.123802</td>\n      <td>1.197186</td>\n      <td>1.196868</td>\n      <td>1.169139</td>\n      <td>1.133187</td>\n      <td>...</td>\n      <td>64332.856134</td>\n      <td>60797.155770</td>\n      <td>59554.107537</td>\n      <td>16563.280354</td>\n      <td>2.304087e+04</td>\n      <td>17606.96147</td>\n      <td>15666.159744</td>\n      <td>15278.305679</td>\n      <td>17777.465775</td>\n      <td>0.415062</td>\n    </tr>\n    <tr>\n      <th>min</th>\n      <td>10000.000000</td>\n      <td>0.000000</td>\n      <td>0.000000</td>\n      <td>0.000000</td>\n      <td>21.000000</td>\n      <td>-2.000000</td>\n      <td>-2.000000</td>\n      <td>-2.000000</td>\n      <td>-2.000000</td>\n      <td>-2.000000</td>\n      <td>...</td>\n      <td>-170000.000000</td>\n      <td>-81334.000000</td>\n      <td>-339603.000000</td>\n      <td>0.000000</td>\n      <td>0.000000e+00</td>\n      <td>0.00000</td>\n      <td>0.000000</td>\n      <td>0.000000</td>\n      <td>0.000000</td>\n      <td>0.000000</td>\n    </tr>\n    <tr>\n      <th>25%</th>\n      <td>50000.000000</td>\n      <td>0.000000</td>\n      <td>1.000000</td>\n      <td>1.000000</td>\n      <td>28.000000</td>\n      <td>-1.000000</td>\n      <td>-1.000000</td>\n      <td>-1.000000</td>\n      <td>-1.000000</td>\n      <td>-1.000000</td>\n      <td>...</td>\n      <td>2326.750000</td>\n      <td>1763.000000</td>\n      <td>1256.000000</td>\n      <td>1000.000000</td>\n      <td>8.330000e+02</td>\n      <td>390.00000</td>\n      <td>296.000000</td>\n      <td>252.500000</td>\n      <td>117.750000</td>\n      <td>0.000000</td>\n    </tr>\n    <tr>\n      <th>50%</th>\n      <td>140000.000000</td>\n      <td>0.000000</td>\n      <td>2.000000</td>\n      <td>2.000000</td>\n      <td>34.000000</td>\n      <td>0.000000</td>\n      <td>0.000000</td>\n      <td>0.000000</td>\n      <td>0.000000</td>\n      <td>0.000000</td>\n      <td>...</td>\n      <td>19052.000000</td>\n      <td>18104.500000</td>\n      <td>17071.000000</td>\n      <td>2100.000000</td>\n      <td>2.009000e+03</td>\n      <td>1800.00000</td>\n      <td>1500.000000</td>\n      <td>1500.000000</td>\n      <td>1500.000000</td>\n      <td>0.000000</td>\n    </tr>\n    <tr>\n      <th>75%</th>\n      <td>240000.000000</td>\n      <td>1.000000</td>\n      <td>2.000000</td>\n      <td>2.000000</td>\n      <td>41.000000</td>\n      <td>0.000000</td>\n      <td>0.000000</td>\n      <td>0.000000</td>\n      <td>0.000000</td>\n      <td>0.000000</td>\n      <td>...</td>\n      <td>54506.000000</td>\n      <td>50190.500000</td>\n      <td>49198.250000</td>\n      <td>5006.000000</td>\n      <td>5.000000e+03</td>\n      <td>4505.00000</td>\n      <td>4013.250000</td>\n      <td>4031.500000</td>\n      <td>4000.000000</td>\n      <td>0.000000</td>\n    </tr>\n    <tr>\n      <th>max</th>\n      <td>1000000.000000</td>\n      <td>1.000000</td>\n      <td>6.000000</td>\n      <td>3.000000</td>\n      <td>79.000000</td>\n      <td>8.000000</td>\n      <td>8.000000</td>\n      <td>8.000000</td>\n      <td>8.000000</td>\n      <td>8.000000</td>\n      <td>...</td>\n      <td>891586.000000</td>\n      <td>927171.000000</td>\n      <td>961664.000000</td>\n      <td>873552.000000</td>\n      <td>1.684259e+06</td>\n      <td>896040.00000</td>\n      <td>621000.000000</td>\n      <td>426529.000000</td>\n      <td>528666.000000</td>\n      <td>1.000000</td>\n    </tr>\n  </tbody>\n</table>\n<p>8 rows × 24 columns</p>\n</div>"
     },
     "execution_count": 57,
     "metadata": {},
     "output_type": "execute_result"
    }
   ],
   "source": [
    "df.describe()"
   ],
   "metadata": {
    "collapsed": false,
    "ExecuteTime": {
     "end_time": "2024-06-28T11:35:27.718658Z",
     "start_time": "2024-06-28T11:35:27.693544Z"
    }
   },
   "id": "ceefe6dc4f4f998",
   "execution_count": 57
  },
  {
   "cell_type": "code",
   "outputs": [
    {
     "data": {
      "text/plain": "(6636, 24)"
     },
     "execution_count": 58,
     "metadata": {},
     "output_type": "execute_result"
    }
   ],
   "source": [
    "df[df['Y'] == 1].shape"
   ],
   "metadata": {
    "collapsed": false,
    "ExecuteTime": {
     "end_time": "2024-06-28T11:35:33.276125Z",
     "start_time": "2024-06-28T11:35:33.269180Z"
    }
   },
   "id": "33b62222fd941228",
   "execution_count": 58
  },
  {
   "cell_type": "code",
   "outputs": [
    {
     "data": {
      "text/plain": "(23364, 24)"
     },
     "execution_count": 59,
     "metadata": {},
     "output_type": "execute_result"
    }
   ],
   "source": [
    "df[df['Y'] == 0].shape"
   ],
   "metadata": {
    "collapsed": false,
    "ExecuteTime": {
     "end_time": "2024-06-28T11:35:34.426017Z",
     "start_time": "2024-06-28T11:35:34.421393Z"
    }
   },
   "id": "d9ebaa3e1a97731",
   "execution_count": 59
  },
  {
   "cell_type": "code",
   "outputs": [],
   "source": [
    "def balance_dataset(df, column_name):\n",
    "    # Find the size of the smallest class\n",
    "    min_class_size = df[column_name].value_counts().min()\n",
    "    \n",
    "    # Sample from each class to get an equal number of rows\n",
    "    balanced_df = df.groupby(column_name).apply(lambda x: x.sample(min_class_size)).reset_index(drop=True)\n",
    "    \n",
    "    return balanced_df\n",
    "\n",
    "balanced_df = balance_dataset(df, 'Y')"
   ],
   "metadata": {
    "collapsed": false,
    "ExecuteTime": {
     "end_time": "2024-06-28T11:35:35.460588Z",
     "start_time": "2024-06-28T11:35:35.447454Z"
    }
   },
   "id": "6eaa2ba492f2d5e7",
   "execution_count": 60
  },
  {
   "cell_type": "code",
   "outputs": [
    {
     "data": {
      "text/plain": "(6636, 24)"
     },
     "execution_count": 61,
     "metadata": {},
     "output_type": "execute_result"
    }
   ],
   "source": [
    "balanced_df[balanced_df['Y'] == 1].shape"
   ],
   "metadata": {
    "collapsed": false,
    "ExecuteTime": {
     "end_time": "2024-06-28T11:35:36.099284Z",
     "start_time": "2024-06-28T11:35:36.093319Z"
    }
   },
   "id": "ab15a2c454d7794f",
   "execution_count": 61
  },
  {
   "cell_type": "code",
   "outputs": [
    {
     "data": {
      "text/plain": "(6636, 24)"
     },
     "execution_count": 62,
     "metadata": {},
     "output_type": "execute_result"
    }
   ],
   "source": [
    "balanced_df[balanced_df['Y'] == 0].shape"
   ],
   "metadata": {
    "collapsed": false,
    "ExecuteTime": {
     "end_time": "2024-06-28T11:35:36.413311Z",
     "start_time": "2024-06-28T11:35:36.408197Z"
    }
   },
   "id": "a36e1d0f282d9ad2",
   "execution_count": 62
  },
  {
   "cell_type": "code",
   "outputs": [
    {
     "data": {
      "text/plain": "                   X1            X2            X3            X4            X5  \\\ncount    13272.000000  13272.000000  13272.000000  13272.000000  13272.000000   \nmean    154470.138638      0.407550      1.867541      1.542646     35.550784   \nstd     127240.397860      0.491397      0.768274      0.523422      9.394259   \nmin      10000.000000      0.000000      0.000000      0.000000     21.000000   \n25%      50000.000000      0.000000      1.000000      1.000000     28.000000   \n50%     120000.000000      0.000000      2.000000      2.000000     34.000000   \n75%     220000.000000      1.000000      2.000000      2.000000     42.000000   \nmax    1000000.000000      1.000000      6.000000      3.000000     79.000000   \n\n                 X6            X7            X8            X9           X10  \\\ncount  13272.000000  13272.000000  13272.000000  13272.000000  13272.000000   \nmean       0.232595      0.074367      0.019063     -0.049955     -0.111287   \nstd        1.271429      1.348246      1.337151      1.318243      1.283041   \nmin       -2.000000     -2.000000     -2.000000     -2.000000     -2.000000   \n25%        0.000000     -1.000000     -1.000000     -1.000000     -1.000000   \n50%        0.000000      0.000000      0.000000      0.000000      0.000000   \n75%        1.000000      0.000000      0.000000      0.000000      0.000000   \nmax        8.000000      7.000000      8.000000      8.000000      8.000000   \n\n       ...            X15            X16            X17            X18  \\\ncount  ...   13272.000000   13272.000000   13272.000000   13272.000000   \nmean   ...   43204.789783   40243.148885   38930.286920    4945.544153   \nstd    ...   65136.645217   61811.376223   60280.151446   16086.538503   \nmin    ...  -81334.000000  -53007.000000 -339603.000000       0.000000   \n25%    ...    2348.000000    1721.250000    1272.000000     390.000000   \n50%    ...   19112.000000   18181.000000   17511.500000    2000.000000   \n75%    ...   53285.750000   49409.750000   48691.000000    4557.750000   \nmax    ...  891586.000000  927171.000000  961664.000000  873552.000000   \n\n                X19            X20            X21            X22  \\\ncount  1.327200e+04   13272.000000   13272.000000   13272.000000   \nmean   5.000603e+03    4563.121609    4160.468505    4320.769515   \nstd    2.053096e+04   17947.016105   14342.942041   15074.780392   \nmin    0.000000e+00       0.000000       0.000000       0.000000   \n25%    3.900000e+02     213.500000      16.000000       4.000000   \n50%    2.000000e+03    1531.500000    1253.000000    1300.000000   \n75%    4.406500e+03    4000.000000    3520.500000    3600.000000   \nmax    1.215471e+06  896040.000000  621000.000000  417990.000000   \n\n                 X23             Y  \ncount   13272.000000  13272.000000  \nmean     4516.938743      0.500000  \nstd     15849.715898      0.500019  \nmin         0.000000      0.000000  \n25%         0.000000      0.000000  \n50%      1204.000000      0.500000  \n75%      3500.000000      1.000000  \nmax    403500.000000      1.000000  \n\n[8 rows x 24 columns]",
      "text/html": "<div>\n<style scoped>\n    .dataframe tbody tr th:only-of-type {\n        vertical-align: middle;\n    }\n\n    .dataframe tbody tr th {\n        vertical-align: top;\n    }\n\n    .dataframe thead th {\n        text-align: right;\n    }\n</style>\n<table border=\"1\" class=\"dataframe\">\n  <thead>\n    <tr style=\"text-align: right;\">\n      <th></th>\n      <th>X1</th>\n      <th>X2</th>\n      <th>X3</th>\n      <th>X4</th>\n      <th>X5</th>\n      <th>X6</th>\n      <th>X7</th>\n      <th>X8</th>\n      <th>X9</th>\n      <th>X10</th>\n      <th>...</th>\n      <th>X15</th>\n      <th>X16</th>\n      <th>X17</th>\n      <th>X18</th>\n      <th>X19</th>\n      <th>X20</th>\n      <th>X21</th>\n      <th>X22</th>\n      <th>X23</th>\n      <th>Y</th>\n    </tr>\n  </thead>\n  <tbody>\n    <tr>\n      <th>count</th>\n      <td>13272.000000</td>\n      <td>13272.000000</td>\n      <td>13272.000000</td>\n      <td>13272.000000</td>\n      <td>13272.000000</td>\n      <td>13272.000000</td>\n      <td>13272.000000</td>\n      <td>13272.000000</td>\n      <td>13272.000000</td>\n      <td>13272.000000</td>\n      <td>...</td>\n      <td>13272.000000</td>\n      <td>13272.000000</td>\n      <td>13272.000000</td>\n      <td>13272.000000</td>\n      <td>1.327200e+04</td>\n      <td>13272.000000</td>\n      <td>13272.000000</td>\n      <td>13272.000000</td>\n      <td>13272.000000</td>\n      <td>13272.000000</td>\n    </tr>\n    <tr>\n      <th>mean</th>\n      <td>154470.138638</td>\n      <td>0.407550</td>\n      <td>1.867541</td>\n      <td>1.542646</td>\n      <td>35.550784</td>\n      <td>0.232595</td>\n      <td>0.074367</td>\n      <td>0.019063</td>\n      <td>-0.049955</td>\n      <td>-0.111287</td>\n      <td>...</td>\n      <td>43204.789783</td>\n      <td>40243.148885</td>\n      <td>38930.286920</td>\n      <td>4945.544153</td>\n      <td>5.000603e+03</td>\n      <td>4563.121609</td>\n      <td>4160.468505</td>\n      <td>4320.769515</td>\n      <td>4516.938743</td>\n      <td>0.500000</td>\n    </tr>\n    <tr>\n      <th>std</th>\n      <td>127240.397860</td>\n      <td>0.491397</td>\n      <td>0.768274</td>\n      <td>0.523422</td>\n      <td>9.394259</td>\n      <td>1.271429</td>\n      <td>1.348246</td>\n      <td>1.337151</td>\n      <td>1.318243</td>\n      <td>1.283041</td>\n      <td>...</td>\n      <td>65136.645217</td>\n      <td>61811.376223</td>\n      <td>60280.151446</td>\n      <td>16086.538503</td>\n      <td>2.053096e+04</td>\n      <td>17947.016105</td>\n      <td>14342.942041</td>\n      <td>15074.780392</td>\n      <td>15849.715898</td>\n      <td>0.500019</td>\n    </tr>\n    <tr>\n      <th>min</th>\n      <td>10000.000000</td>\n      <td>0.000000</td>\n      <td>0.000000</td>\n      <td>0.000000</td>\n      <td>21.000000</td>\n      <td>-2.000000</td>\n      <td>-2.000000</td>\n      <td>-2.000000</td>\n      <td>-2.000000</td>\n      <td>-2.000000</td>\n      <td>...</td>\n      <td>-81334.000000</td>\n      <td>-53007.000000</td>\n      <td>-339603.000000</td>\n      <td>0.000000</td>\n      <td>0.000000e+00</td>\n      <td>0.000000</td>\n      <td>0.000000</td>\n      <td>0.000000</td>\n      <td>0.000000</td>\n      <td>0.000000</td>\n    </tr>\n    <tr>\n      <th>25%</th>\n      <td>50000.000000</td>\n      <td>0.000000</td>\n      <td>1.000000</td>\n      <td>1.000000</td>\n      <td>28.000000</td>\n      <td>0.000000</td>\n      <td>-1.000000</td>\n      <td>-1.000000</td>\n      <td>-1.000000</td>\n      <td>-1.000000</td>\n      <td>...</td>\n      <td>2348.000000</td>\n      <td>1721.250000</td>\n      <td>1272.000000</td>\n      <td>390.000000</td>\n      <td>3.900000e+02</td>\n      <td>213.500000</td>\n      <td>16.000000</td>\n      <td>4.000000</td>\n      <td>0.000000</td>\n      <td>0.000000</td>\n    </tr>\n    <tr>\n      <th>50%</th>\n      <td>120000.000000</td>\n      <td>0.000000</td>\n      <td>2.000000</td>\n      <td>2.000000</td>\n      <td>34.000000</td>\n      <td>0.000000</td>\n      <td>0.000000</td>\n      <td>0.000000</td>\n      <td>0.000000</td>\n      <td>0.000000</td>\n      <td>...</td>\n      <td>19112.000000</td>\n      <td>18181.000000</td>\n      <td>17511.500000</td>\n      <td>2000.000000</td>\n      <td>2.000000e+03</td>\n      <td>1531.500000</td>\n      <td>1253.000000</td>\n      <td>1300.000000</td>\n      <td>1204.000000</td>\n      <td>0.500000</td>\n    </tr>\n    <tr>\n      <th>75%</th>\n      <td>220000.000000</td>\n      <td>1.000000</td>\n      <td>2.000000</td>\n      <td>2.000000</td>\n      <td>42.000000</td>\n      <td>1.000000</td>\n      <td>0.000000</td>\n      <td>0.000000</td>\n      <td>0.000000</td>\n      <td>0.000000</td>\n      <td>...</td>\n      <td>53285.750000</td>\n      <td>49409.750000</td>\n      <td>48691.000000</td>\n      <td>4557.750000</td>\n      <td>4.406500e+03</td>\n      <td>4000.000000</td>\n      <td>3520.500000</td>\n      <td>3600.000000</td>\n      <td>3500.000000</td>\n      <td>1.000000</td>\n    </tr>\n    <tr>\n      <th>max</th>\n      <td>1000000.000000</td>\n      <td>1.000000</td>\n      <td>6.000000</td>\n      <td>3.000000</td>\n      <td>79.000000</td>\n      <td>8.000000</td>\n      <td>7.000000</td>\n      <td>8.000000</td>\n      <td>8.000000</td>\n      <td>8.000000</td>\n      <td>...</td>\n      <td>891586.000000</td>\n      <td>927171.000000</td>\n      <td>961664.000000</td>\n      <td>873552.000000</td>\n      <td>1.215471e+06</td>\n      <td>896040.000000</td>\n      <td>621000.000000</td>\n      <td>417990.000000</td>\n      <td>403500.000000</td>\n      <td>1.000000</td>\n    </tr>\n  </tbody>\n</table>\n<p>8 rows × 24 columns</p>\n</div>"
     },
     "execution_count": 63,
     "metadata": {},
     "output_type": "execute_result"
    }
   ],
   "source": [
    "balanced_df.describe()"
   ],
   "metadata": {
    "collapsed": false,
    "ExecuteTime": {
     "end_time": "2024-06-28T11:35:36.886945Z",
     "start_time": "2024-06-28T11:35:36.862426Z"
    }
   },
   "id": "bffb528f946636fc",
   "execution_count": 63
  },
  {
   "cell_type": "code",
   "outputs": [
    {
     "data": {
      "text/plain": "       X1  X2  X3  X4  X5  X6  X7  X8  X9  X10  ...    X15    X16    X17  \\\n0   80000   1   1   2  26   1   2   2   0    0  ...  40793  42990  42854   \n1  470000   1   2   2  31   0   0   0   0    0  ...  85334  87948  90479   \n2   30000   0   2   2  22   0   0   0   0   -1  ...  25130   7746  10583   \n3  170000   0   1   2  25   0   0   0   0    0  ...  68724  68889  69712   \n4   60000   1   2   2  27   0   0   0   2    2  ...  29906  29292  29729   \n\n    X18   X19   X20   X21   X22   X23  Y  \n0  2000     0  1603  3000  2000  1056  0  \n1  3000  3500  4000  4000  4000  4200  0  \n2  3000  3376  5076  8009  6017  3023  0  \n3  3100  3626  2500  2450  2693  2602  0  \n4  3300  3900  1500     0  1074  1200  0  \n\n[5 rows x 24 columns]",
      "text/html": "<div>\n<style scoped>\n    .dataframe tbody tr th:only-of-type {\n        vertical-align: middle;\n    }\n\n    .dataframe tbody tr th {\n        vertical-align: top;\n    }\n\n    .dataframe thead th {\n        text-align: right;\n    }\n</style>\n<table border=\"1\" class=\"dataframe\">\n  <thead>\n    <tr style=\"text-align: right;\">\n      <th></th>\n      <th>X1</th>\n      <th>X2</th>\n      <th>X3</th>\n      <th>X4</th>\n      <th>X5</th>\n      <th>X6</th>\n      <th>X7</th>\n      <th>X8</th>\n      <th>X9</th>\n      <th>X10</th>\n      <th>...</th>\n      <th>X15</th>\n      <th>X16</th>\n      <th>X17</th>\n      <th>X18</th>\n      <th>X19</th>\n      <th>X20</th>\n      <th>X21</th>\n      <th>X22</th>\n      <th>X23</th>\n      <th>Y</th>\n    </tr>\n  </thead>\n  <tbody>\n    <tr>\n      <th>0</th>\n      <td>80000</td>\n      <td>1</td>\n      <td>1</td>\n      <td>2</td>\n      <td>26</td>\n      <td>1</td>\n      <td>2</td>\n      <td>2</td>\n      <td>0</td>\n      <td>0</td>\n      <td>...</td>\n      <td>40793</td>\n      <td>42990</td>\n      <td>42854</td>\n      <td>2000</td>\n      <td>0</td>\n      <td>1603</td>\n      <td>3000</td>\n      <td>2000</td>\n      <td>1056</td>\n      <td>0</td>\n    </tr>\n    <tr>\n      <th>1</th>\n      <td>470000</td>\n      <td>1</td>\n      <td>2</td>\n      <td>2</td>\n      <td>31</td>\n      <td>0</td>\n      <td>0</td>\n      <td>0</td>\n      <td>0</td>\n      <td>0</td>\n      <td>...</td>\n      <td>85334</td>\n      <td>87948</td>\n      <td>90479</td>\n      <td>3000</td>\n      <td>3500</td>\n      <td>4000</td>\n      <td>4000</td>\n      <td>4000</td>\n      <td>4200</td>\n      <td>0</td>\n    </tr>\n    <tr>\n      <th>2</th>\n      <td>30000</td>\n      <td>0</td>\n      <td>2</td>\n      <td>2</td>\n      <td>22</td>\n      <td>0</td>\n      <td>0</td>\n      <td>0</td>\n      <td>0</td>\n      <td>-1</td>\n      <td>...</td>\n      <td>25130</td>\n      <td>7746</td>\n      <td>10583</td>\n      <td>3000</td>\n      <td>3376</td>\n      <td>5076</td>\n      <td>8009</td>\n      <td>6017</td>\n      <td>3023</td>\n      <td>0</td>\n    </tr>\n    <tr>\n      <th>3</th>\n      <td>170000</td>\n      <td>0</td>\n      <td>1</td>\n      <td>2</td>\n      <td>25</td>\n      <td>0</td>\n      <td>0</td>\n      <td>0</td>\n      <td>0</td>\n      <td>0</td>\n      <td>...</td>\n      <td>68724</td>\n      <td>68889</td>\n      <td>69712</td>\n      <td>3100</td>\n      <td>3626</td>\n      <td>2500</td>\n      <td>2450</td>\n      <td>2693</td>\n      <td>2602</td>\n      <td>0</td>\n    </tr>\n    <tr>\n      <th>4</th>\n      <td>60000</td>\n      <td>1</td>\n      <td>2</td>\n      <td>2</td>\n      <td>27</td>\n      <td>0</td>\n      <td>0</td>\n      <td>0</td>\n      <td>2</td>\n      <td>2</td>\n      <td>...</td>\n      <td>29906</td>\n      <td>29292</td>\n      <td>29729</td>\n      <td>3300</td>\n      <td>3900</td>\n      <td>1500</td>\n      <td>0</td>\n      <td>1074</td>\n      <td>1200</td>\n      <td>0</td>\n    </tr>\n  </tbody>\n</table>\n<p>5 rows × 24 columns</p>\n</div>"
     },
     "execution_count": 64,
     "metadata": {},
     "output_type": "execute_result"
    }
   ],
   "source": [
    "balanced_df.head()"
   ],
   "metadata": {
    "collapsed": false,
    "ExecuteTime": {
     "end_time": "2024-06-28T11:35:37.651072Z",
     "start_time": "2024-06-28T11:35:37.645135Z"
    }
   },
   "id": "dbc5211555b60179",
   "execution_count": 64
  },
  {
   "cell_type": "code",
   "outputs": [],
   "source": [
    "# balanced_df.drop(['Unnamed: 0'], axis=1, inplace=True)\n",
    "balanced_df.to_csv('Taiwanese_credit_risk_dataset_balanced.csv', index=False)"
   ],
   "metadata": {
    "collapsed": false,
    "ExecuteTime": {
     "end_time": "2024-06-28T11:35:38.222816Z",
     "start_time": "2024-06-28T11:35:38.182527Z"
    }
   },
   "id": "222a71d224158d60",
   "execution_count": 65
  },
  {
   "cell_type": "code",
   "outputs": [
    {
     "name": "stdout",
     "output_type": "stream",
     "text": [
      "Training data saved to train_balanced.csv\n",
      "Testing data saved to test_balanced.csv\n"
     ]
    }
   ],
   "source": [
    "train_df_b, test_df_b = split_and_save_data(balanced_df, train_filepath='train_balanced.csv', test_filepath='test_balanced.csv')"
   ],
   "metadata": {
    "collapsed": false,
    "ExecuteTime": {
     "end_time": "2024-06-28T11:35:39.195096Z",
     "start_time": "2024-06-28T11:35:39.146181Z"
    }
   },
   "id": "1a609c90fc1107b9",
   "execution_count": 66
  },
  {
   "cell_type": "code",
   "outputs": [
    {
     "data": {
      "text/plain": "((10617, 24), (2655, 24))"
     },
     "execution_count": 67,
     "metadata": {},
     "output_type": "execute_result"
    }
   ],
   "source": [
    "train_df_b.shape, test_df_b.shape"
   ],
   "metadata": {
    "collapsed": false,
    "ExecuteTime": {
     "end_time": "2024-06-28T11:35:40.466690Z",
     "start_time": "2024-06-28T11:35:40.461795Z"
    }
   },
   "id": "86bbe314dc7dd6c3",
   "execution_count": 67
  },
  {
   "cell_type": "code",
   "outputs": [
    {
     "data": {
      "text/plain": "          X1  X2  X3  X4  X5  X6  X7  X8  X9  X10  ...    X15    X16    X17  \\\n5472  120000   0   2   1  25   0   0   0  -2   -2  ...      0      0      0   \n2317   30000   0   3   1  41   1   2   0   0    2  ...  30566  29229  26260   \n8567   20000   0   2   1  32   3   2   2   7    7  ...   2400   2400   2400   \n686   200000   0   1   2  28  -1  -1   2  -1   -1  ...   1117   1117      0   \n2132   50000   1   1   2  28   0   0  -1  -1   -1  ...  11132      0      0   \n\n        X18    X19    X20   X21   X22   X23  Y  \n5472   6000      0      0     0     0     0  0  \n2317      0   2000   2200     0  1100  1100  0  \n8567      0      0      0     0     0     0  1  \n686   26286      0   1117  1117     0  1128  0  \n2132   5224  19906  11132     0     0     0  0  \n\n[5 rows x 24 columns]",
      "text/html": "<div>\n<style scoped>\n    .dataframe tbody tr th:only-of-type {\n        vertical-align: middle;\n    }\n\n    .dataframe tbody tr th {\n        vertical-align: top;\n    }\n\n    .dataframe thead th {\n        text-align: right;\n    }\n</style>\n<table border=\"1\" class=\"dataframe\">\n  <thead>\n    <tr style=\"text-align: right;\">\n      <th></th>\n      <th>X1</th>\n      <th>X2</th>\n      <th>X3</th>\n      <th>X4</th>\n      <th>X5</th>\n      <th>X6</th>\n      <th>X7</th>\n      <th>X8</th>\n      <th>X9</th>\n      <th>X10</th>\n      <th>...</th>\n      <th>X15</th>\n      <th>X16</th>\n      <th>X17</th>\n      <th>X18</th>\n      <th>X19</th>\n      <th>X20</th>\n      <th>X21</th>\n      <th>X22</th>\n      <th>X23</th>\n      <th>Y</th>\n    </tr>\n  </thead>\n  <tbody>\n    <tr>\n      <th>5472</th>\n      <td>120000</td>\n      <td>0</td>\n      <td>2</td>\n      <td>1</td>\n      <td>25</td>\n      <td>0</td>\n      <td>0</td>\n      <td>0</td>\n      <td>-2</td>\n      <td>-2</td>\n      <td>...</td>\n      <td>0</td>\n      <td>0</td>\n      <td>0</td>\n      <td>6000</td>\n      <td>0</td>\n      <td>0</td>\n      <td>0</td>\n      <td>0</td>\n      <td>0</td>\n      <td>0</td>\n    </tr>\n    <tr>\n      <th>2317</th>\n      <td>30000</td>\n      <td>0</td>\n      <td>3</td>\n      <td>1</td>\n      <td>41</td>\n      <td>1</td>\n      <td>2</td>\n      <td>0</td>\n      <td>0</td>\n      <td>2</td>\n      <td>...</td>\n      <td>30566</td>\n      <td>29229</td>\n      <td>26260</td>\n      <td>0</td>\n      <td>2000</td>\n      <td>2200</td>\n      <td>0</td>\n      <td>1100</td>\n      <td>1100</td>\n      <td>0</td>\n    </tr>\n    <tr>\n      <th>8567</th>\n      <td>20000</td>\n      <td>0</td>\n      <td>2</td>\n      <td>1</td>\n      <td>32</td>\n      <td>3</td>\n      <td>2</td>\n      <td>2</td>\n      <td>7</td>\n      <td>7</td>\n      <td>...</td>\n      <td>2400</td>\n      <td>2400</td>\n      <td>2400</td>\n      <td>0</td>\n      <td>0</td>\n      <td>0</td>\n      <td>0</td>\n      <td>0</td>\n      <td>0</td>\n      <td>1</td>\n    </tr>\n    <tr>\n      <th>686</th>\n      <td>200000</td>\n      <td>0</td>\n      <td>1</td>\n      <td>2</td>\n      <td>28</td>\n      <td>-1</td>\n      <td>-1</td>\n      <td>2</td>\n      <td>-1</td>\n      <td>-1</td>\n      <td>...</td>\n      <td>1117</td>\n      <td>1117</td>\n      <td>0</td>\n      <td>26286</td>\n      <td>0</td>\n      <td>1117</td>\n      <td>1117</td>\n      <td>0</td>\n      <td>1128</td>\n      <td>0</td>\n    </tr>\n    <tr>\n      <th>2132</th>\n      <td>50000</td>\n      <td>1</td>\n      <td>1</td>\n      <td>2</td>\n      <td>28</td>\n      <td>0</td>\n      <td>0</td>\n      <td>-1</td>\n      <td>-1</td>\n      <td>-1</td>\n      <td>...</td>\n      <td>11132</td>\n      <td>0</td>\n      <td>0</td>\n      <td>5224</td>\n      <td>19906</td>\n      <td>11132</td>\n      <td>0</td>\n      <td>0</td>\n      <td>0</td>\n      <td>0</td>\n    </tr>\n  </tbody>\n</table>\n<p>5 rows × 24 columns</p>\n</div>"
     },
     "execution_count": 68,
     "metadata": {},
     "output_type": "execute_result"
    }
   ],
   "source": [
    "train_df_b.head()"
   ],
   "metadata": {
    "collapsed": false,
    "ExecuteTime": {
     "end_time": "2024-06-28T11:35:43.493610Z",
     "start_time": "2024-06-28T11:35:43.484100Z"
    }
   },
   "id": "99206dcb4abaef8d",
   "execution_count": 68
  },
  {
   "cell_type": "code",
   "outputs": [],
   "source": [],
   "metadata": {
    "collapsed": false
   },
   "id": "a5f943b65900f7b1"
  }
 ],
 "metadata": {
  "kernelspec": {
   "display_name": "Python 3",
   "language": "python",
   "name": "python3"
  },
  "language_info": {
   "codemirror_mode": {
    "name": "ipython",
    "version": 2
   },
   "file_extension": ".py",
   "mimetype": "text/x-python",
   "name": "python",
   "nbconvert_exporter": "python",
   "pygments_lexer": "ipython2",
   "version": "2.7.6"
  }
 },
 "nbformat": 4,
 "nbformat_minor": 5
}
