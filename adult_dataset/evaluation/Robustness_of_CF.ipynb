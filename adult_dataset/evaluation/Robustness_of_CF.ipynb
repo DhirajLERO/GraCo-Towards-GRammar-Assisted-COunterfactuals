{
 "cells": [
  {
   "cell_type": "code",
   "execution_count": 1,
   "id": "initial_id",
   "metadata": {
    "collapsed": true,
    "ExecuteTime": {
     "end_time": "2024-06-28T11:36:01.970514Z",
     "start_time": "2024-06-28T11:35:56.597913Z"
    }
   },
   "outputs": [],
   "source": [
    "import torch\n",
    "import torch.nn as nn\n",
    "import torch.optim as optim\n",
    "from pickle import dump , load\n",
    "from sklearn.preprocessing import StandardScaler\n",
    "import pandas as pd\n",
    "import numpy as np\n",
    "import os"
   ]
  },
  {
   "cell_type": "code",
   "outputs": [],
   "source": [
    "class AdultClassifier(nn.Module):\n",
    "    def __init__(self):\n",
    "        super().__init__()\n",
    "        self.hidden1 = nn.Linear(13, 64)\n",
    "        self.act1 = nn.ReLU()\n",
    "        self.hidden2 = nn.Linear(64, 128)\n",
    "        self.act2 = nn.ReLU()\n",
    "        self.hidden3 = nn.Linear(128, 32)\n",
    "        self.act3 = nn.ReLU()\n",
    "        self.hidden4 = nn.Linear(32, 16)\n",
    "        self.act4 = nn.ReLU()\n",
    "        self.output = nn.Linear(16, 1)\n",
    "        self.act_output = nn.Sigmoid()\n",
    "        self.dropout = nn.Dropout(0.1)\n",
    "\n",
    "    def forward(self, x):\n",
    "        x = self.dropout(self.act1(self.hidden1(x)))\n",
    "        x = self.dropout(self.act2(self.hidden2(x)))\n",
    "        x = self.dropout(self.act3(self.hidden3(x)))\n",
    "        x = self.dropout(self.act4(self.hidden4(x)))\n",
    "        # x = self.output(x)\n",
    "        x = self.act_output(self.output(x))\n",
    "        return x\n",
    "\n",
    "\n",
    "def evaluate(model, X_test, y_test):\n",
    "    model.eval()\n",
    "    with torch.no_grad():\n",
    "        y_pred = model(X_test)\n",
    "    accuracy = (y_pred.round() == y_test).float().mean()\n",
    "    return accuracy\n",
    "\n",
    "    \n",
    "def create_and_train_model(X_train, y_train, X_test, y_test, num_epochs, seed):\n",
    "    torch.manual_seed(seed)\n",
    "    \n",
    "    model = AdultClassifier()\n",
    "    batch_size = 128\n",
    "    loss_fn = nn.BCELoss() \n",
    "    optimizer = optim.Adam(model.parameters(), lr=0.001)\n",
    "    \n",
    "    model.eval()\n",
    "    accuracy = evaluate(model, X_test, y_test)\n",
    "    print('accuracy before training {}'.format(accuracy))\n",
    "    model.train()\n",
    "    for epoch in range(num_epochs):\n",
    "        optimizer.zero_grad()\n",
    "        for i in range(0, len(X_train), batch_size):\n",
    "            Xbatch = X_train[i:i+batch_size]\n",
    "            y_pred = model(Xbatch)\n",
    "            ybatch = y_train[i:i+batch_size]\n",
    "            loss = loss_fn(y_pred, ybatch)\n",
    "            # print(loss)\n",
    "            loss.backward()\n",
    "            optimizer.step()\n",
    "        # print(loss.tolist())\n",
    "        # evaluate model on each epoch\n",
    "    model.eval()\n",
    "    accuracy = evaluate(model, X_test, y_test)\n",
    "    print(f'Finished epoch {epoch},  accuracy {accuracy}')\n",
    "    return model\n",
    "\n",
    "\n",
    "def create_data(train_df_loc, test_df_loc, scaler):\n",
    "    train = pd.read_csv('./../train_balanced.csv')\n",
    "\n",
    "    test = pd.read_csv('./../test_balanced.csv')\n",
    "    X_train = train.iloc[:, 0:13].values\n",
    "    y_train = train.iloc[:, 13].values\n",
    "    # print(y_train)\n",
    "    X_train = torch.tensor(X_train, dtype=torch.float32)\n",
    "    y_train = torch.tensor(y_train, dtype=torch.float32).reshape(-1, 1)\n",
    "    \n",
    "    X_test = test.iloc[:, 0:13].values\n",
    "    y_test = test.iloc[:, 13].values\n",
    "    \n",
    "    X_test = torch.tensor(X_test, dtype=torch.float32)\n",
    "    y_test = torch.tensor(y_test, dtype=torch.float32).reshape(-1, 1)\n",
    "    \n",
    "    X_train_np = X_train.numpy()\n",
    "    X_test_np = X_test.numpy()  \n",
    "    \n",
    "    X_train_np[:, columns_to_standardize] = scaler.transform(X_train_np[:, columns_to_standardize])\n",
    "    X_test_np[:, columns_to_standardize] = scaler.transform(X_test_np[:, columns_to_standardize])\n",
    "    \n",
    "    # Convert back to PyTorch tensors\n",
    "    X_train = torch.from_numpy(X_train_np).type(torch.float) \n",
    "    X_test = torch.from_numpy(X_test_np).type(torch.float)\n",
    "    \n",
    "    return X_train, y_train, X_test, y_test\n",
    "\n",
    "\n",
    "def create_list_of_model(count, X_train, y_train, X_test, y_test, num_epochs):\n",
    "    list_of_models = []\n",
    "    for i in range(count):\n",
    "        model = create_and_train_model(X_train, y_train, X_test, y_test, num_epochs, i)\n",
    "        list_of_models.append(model)\n",
    "    return list_of_models\n",
    "\n",
    "def load_model():\n",
    "    model = torch.load('./../model_training/adult_credit__model')\n",
    "    model.eval()\n",
    "    return model\n",
    "\n",
    "def eval_model(model, input, scaler, columns_to_standardize):\n",
    "    model.eval()\n",
    "    # print(input)\n",
    "    input = input.reshape(-1, 13)\n",
    "    input = torch.tensor(input, dtype=torch.float32)\n",
    "    input = input.numpy()\n",
    "    input[:, columns_to_standardize] = scaler.transform(input[:, columns_to_standardize])\n",
    "    input = torch.from_numpy(input).type(torch.float)\n",
    "    with torch.no_grad():\n",
    "        prob = model(input)\n",
    "    return prob.tolist()[0][0]\n",
    "\n",
    "def evaluate_model_for_df(df , model_list, scaler, columns_to_standardize):\n",
    "    probability_list = []\n",
    "    if df.shape[0] == 0:\n",
    "        return 0\n",
    "    else:\n",
    "        for index, row in df.iterrows():\n",
    "            counterfactual_success =[]\n",
    "            x = row.to_numpy()\n",
    "            for model in model_list:\n",
    "                prob = eval_model(model, x, scaler, columns_to_standardize)\n",
    "                if prob > 0.5:\n",
    "                    counterfactual_success.append(1)\n",
    "                else:\n",
    "                    counterfactual_success.append(0)\n",
    "            probability_list.append(sum(counterfactual_success)/len(counterfactual_success))\n",
    "        return sum(probability_list)/len(probability_list)"
   ],
   "metadata": {
    "collapsed": false,
    "ExecuteTime": {
     "end_time": "2024-06-28T11:36:01.982530Z",
     "start_time": "2024-06-28T11:36:01.971844Z"
    }
   },
   "id": "5ed94de3ff390540",
   "execution_count": 2
  },
  {
   "cell_type": "code",
   "outputs": [],
   "source": [
    "def calculate_robustness(input_data_loc, dice_loc, ge_cf_loc, ge_nsga2_loc, certif_cf_loc, model_list, scaler, columns_to_standardize):\n",
    "    metric_dict = {'dice_robustness' : [],\n",
    "                   'Our_method_robustness' : [],\n",
    "                   'certif_robustness' : [],\n",
    "                   'GE_NSGAII_robustness': []}\n",
    "    \n",
    "    output_dict = {}\n",
    "        \n",
    "    for i in os.listdir(input_data_loc):\n",
    "        if i=='.DS_Store':\n",
    "            continue\n",
    "        dice_df = pd.read_csv(dice_loc +  i + '.csv')\n",
    "        dice_df.drop(columns=['outcome'], inplace=True)\n",
    "        Our_method_df  = pd.read_csv(ge_cf_loc +  i + '.csv')\n",
    "        certif_df = pd.read_csv(certif_cf_loc +  i + '.csv')\n",
    "        NSGAII_df = pd.read_csv(ge_nsga2_loc +  i + '.csv')\n",
    "        \n",
    "        \n",
    "        metric_dict['dice_robustness'].append(evaluate_model_for_df(dice_df, model_list, scaler, columns_to_standardize ))\n",
    "        metric_dict['Our_method_robustness'].append(evaluate_model_for_df(Our_method_df, model_list, scaler, columns_to_standardize))\n",
    "        metric_dict['certif_robustness'].append(evaluate_model_for_df(certif_df, model_list, scaler, columns_to_standardize))\n",
    "        metric_dict['GE_NSGAII_robustness'].append(evaluate_model_for_df(NSGAII_df, model_list, scaler, columns_to_standardize))\n",
    "    \n",
    "    for key, value in metric_dict.items():\n",
    "        output_dict[key] = sum(value)/ len(value)\n",
    "        \n",
    "        \n",
    "    return output_dict, metric_dict\n"
   ],
   "metadata": {
    "collapsed": false,
    "ExecuteTime": {
     "end_time": "2024-06-25T22:59:37.431912Z",
     "start_time": "2024-06-25T22:59:37.407596Z"
    }
   },
   "id": "19079261d13f84d7",
   "execution_count": 35
  },
  {
   "cell_type": "code",
   "outputs": [],
   "source": [
    "columns_to_standardize = [0, 1, 2, 3, 4, 5, 6, 7, 9, 10, 11, 12]\n",
    "scaler = load(open('./../model_training/StandardScaler.pkl', 'rb'))\n",
    "model_orig = load_model()\n",
    "\n",
    "input_data_loc = './../output/NSGAIII_multi/'\n",
    "dice_loc = 'Dice_cf/'\n",
    "ge_cf_loc = 'Ge_cf/'\n",
    "ge_nsga2_loc = 'Ge_NSGAII_cf/'\n",
    "certif_cf_loc = 'Certif_cf/'\n",
    "train_df_loc = \"./../train_balanced.csv\"\n",
    "test_df_loc = \"./../test_balanced.csv\"\n"
   ],
   "metadata": {
    "collapsed": false,
    "ExecuteTime": {
     "end_time": "2024-06-25T22:48:31.879506Z",
     "start_time": "2024-06-25T22:48:31.870076Z"
    }
   },
   "id": "1ae4dd207c8d8200",
   "execution_count": 19
  },
  {
   "cell_type": "code",
   "outputs": [],
   "source": [
    "X_train, y_train, X_test, y_test = create_data(train_df_loc, test_df_loc, scaler)"
   ],
   "metadata": {
    "collapsed": false,
    "ExecuteTime": {
     "end_time": "2024-06-25T22:48:32.905534Z",
     "start_time": "2024-06-25T22:48:32.885861Z"
    }
   },
   "id": "43db4365138be789",
   "execution_count": 20
  },
  {
   "cell_type": "code",
   "outputs": [
    {
     "name": "stdout",
     "output_type": "stream",
     "text": [
      "accuracy before training 0.4964262545108795\n",
      "Finished epoch 99,  accuracy 0.810049831867218\n",
      "accuracy before training 0.5172189474105835\n",
      "Finished epoch 99,  accuracy 0.8081005215644836\n",
      "accuracy before training 0.4964262545108795\n",
      "Finished epoch 99,  accuracy 0.8094000220298767\n",
      "accuracy before training 0.4964262545108795\n",
      "Finished epoch 99,  accuracy 0.8111327886581421\n",
      "accuracy before training 0.5040069222450256\n",
      "Finished epoch 99,  accuracy 0.8087502717971802\n",
      "accuracy before training 0.4964262545108795\n",
      "Finished epoch 99,  accuracy 0.7738791704177856\n",
      "accuracy before training 0.4964262545108795\n",
      "Finished epoch 99,  accuracy 0.7927225232124329\n",
      "accuracy before training 0.4964262545108795\n",
      "Finished epoch 99,  accuracy 0.7970543503761292\n",
      "accuracy before training 0.4964262545108795\n",
      "Finished epoch 99,  accuracy 0.8091834783554077\n",
      "accuracy before training 0.5035737752914429\n",
      "Finished epoch 99,  accuracy 0.8050682544708252\n",
      "accuracy before training 0.5035737752914429\n",
      "Finished epoch 99,  accuracy 0.8078839182853699\n",
      "accuracy before training 0.49685943126678467\n",
      "Finished epoch 99,  accuracy 0.8098332285881042\n",
      "accuracy before training 0.5035737752914429\n",
      "Finished epoch 99,  accuracy 0.798353910446167\n",
      "accuracy before training 0.4964262545108795\n",
      "Finished epoch 99,  accuracy 0.8083170652389526\n",
      "accuracy before training 0.4964262545108795\n",
      "Finished epoch 99,  accuracy 0.7994368672370911\n",
      "accuracy before training 0.5035737752914429\n",
      "Finished epoch 99,  accuracy 0.8035520911216736\n",
      "accuracy before training 0.4964262545108795\n",
      "Finished epoch 99,  accuracy 0.8011695742607117\n",
      "accuracy before training 0.4964262545108795\n",
      "Finished epoch 99,  accuracy 0.791206419467926\n",
      "accuracy before training 0.5035737752914429\n",
      "Finished epoch 99,  accuracy 0.803118884563446\n",
      "accuracy before training 0.4964262545108795\n",
      "Finished epoch 99,  accuracy 0.8091834783554077\n",
      "accuracy before training 0.5035737752914429\n",
      "Finished epoch 99,  accuracy 0.8117825388908386\n",
      "accuracy before training 0.4964262545108795\n",
      "Finished epoch 99,  accuracy 0.8141650557518005\n",
      "accuracy before training 0.5438596606254578\n",
      "Finished epoch 99,  accuracy 0.7979207038879395\n",
      "accuracy before training 0.4964262545108795\n",
      "Finished epoch 99,  accuracy 0.8091834783554077\n",
      "accuracy before training 0.4964262545108795\n",
      "Finished epoch 99,  accuracy 0.8052847981452942\n",
      "accuracy before training 0.4964262545108795\n",
      "Finished epoch 99,  accuracy 0.8117825388908386\n",
      "accuracy before training 0.4964262545108795\n",
      "Finished epoch 99,  accuracy 0.7987871170043945\n",
      "accuracy before training 0.5035737752914429\n",
      "Finished epoch 99,  accuracy 0.8042018413543701\n",
      "accuracy before training 0.5035737752914429\n",
      "Finished epoch 99,  accuracy 0.8124322891235352\n",
      "accuracy before training 0.4964262545108795\n",
      "Finished epoch 99,  accuracy 0.8083170652389526\n",
      "accuracy before training 0.5046567320823669\n",
      "Finished epoch 99,  accuracy 0.7987871170043945\n",
      "accuracy before training 0.5079055428504944\n",
      "Finished epoch 99,  accuracy 0.8087502717971802\n",
      "accuracy before training 0.4964262545108795\n",
      "Finished epoch 99,  accuracy 0.8022525310516357\n",
      "accuracy before training 0.5035737752914429\n",
      "Finished epoch 99,  accuracy 0.8061511516571045\n",
      "accuracy before training 0.5035737752914429\n",
      "Finished epoch 99,  accuracy 0.8076673150062561\n",
      "accuracy before training 0.4949101209640503\n",
      "Finished epoch 99,  accuracy 0.7968377470970154\n",
      "accuracy before training 0.4957764744758606\n",
      "Finished epoch 99,  accuracy 0.8083170652389526\n",
      "accuracy before training 0.5035737752914429\n",
      "Finished epoch 99,  accuracy 0.8048516511917114\n",
      "accuracy before training 0.4964262545108795\n",
      "Finished epoch 99,  accuracy 0.8115659356117249\n",
      "accuracy before training 0.4964262545108795\n",
      "Finished epoch 99,  accuracy 0.8016027808189392\n"
     ]
    }
   ],
   "source": [
    "list_of_models = create_list_of_model(40, X_train, y_train, X_test, y_test, num_epochs=100)"
   ],
   "metadata": {
    "collapsed": false,
    "ExecuteTime": {
     "end_time": "2024-06-25T22:53:08.747825Z",
     "start_time": "2024-06-25T22:48:34.385889Z"
    }
   },
   "id": "ad61785cdcd784da",
   "execution_count": 21
  },
  {
   "cell_type": "code",
   "outputs": [],
   "source": [
    "output_dict, metric_dict = calculate_robustness(input_data_loc, dice_loc, ge_cf_loc, ge_nsga2_loc, certif_cf_loc, list_of_models, scaler, columns_to_standardize)"
   ],
   "metadata": {
    "collapsed": false,
    "ExecuteTime": {
     "end_time": "2024-06-25T22:59:43.631433Z",
     "start_time": "2024-06-25T22:59:39.971666Z"
    }
   },
   "id": "98461b4aafe084b5",
   "execution_count": 36
  },
  {
   "cell_type": "code",
   "outputs": [
    {
     "data": {
      "text/plain": "{'dice_robustness': [1.0,\n  1.0,\n  0.985,\n  1.0,\n  0.9949999999999999,\n  1.0,\n  0.8,\n  0.9,\n  1.0,\n  1.0,\n  0.875,\n  0.9125000000000001,\n  1.0,\n  0.805,\n  1.0,\n  0.8654411764705884,\n  1.0,\n  0.9765624999999999,\n  0.96875,\n  1.0,\n  0.9,\n  1.0,\n  0.795,\n  1.0,\n  1.0,\n  1.0,\n  1.0,\n  0.9980769230769231,\n  1.0,\n  0.9],\n 'Our_method_robustness': [1.0,\n  0.95,\n  0.9049999999999999,\n  0.89,\n  0.5900000000000001,\n  0.6859375,\n  0.79,\n  0.805,\n  0.48906250000000007,\n  1.0,\n  0.8774999999999998,\n  0.85625,\n  0.925,\n  1.0,\n  0.81875,\n  0.20992647058823527,\n  1.0,\n  0.30937499999999996,\n  0.6749999999999999,\n  0.6781250000000001,\n  0.9428571428571428,\n  1.0,\n  0.9949999999999999,\n  0.7607142857142858,\n  1.0,\n  1.0,\n  0.825,\n  0.8288461538461538,\n  0.5125,\n  0.796875],\n 'certif_robustness': [0.7916666666666666,\n  0.8305555555555555,\n  0.9833333333333333,\n  0.9055555555555556,\n  0.9194444444444445,\n  0.8333333333333334,\n  0.7861111111111111,\n  0.9472222222222223,\n  1.0,\n  0.9527777777777777,\n  0.9888888888888889,\n  0.9888888888888889,\n  0.9555555555555555,\n  0.8333333333333334,\n  0.8638888888888889,\n  0.8694444444444444,\n  0.9749999999999999,\n  0.8583333333333333,\n  0.9666666666666666,\n  0.8888888888888888,\n  0.7,\n  0.8388888888888889,\n  0.9888888888888889,\n  0.8944444444444445,\n  0.7833333333333333,\n  0.9222222222222223,\n  0.7722222222222221,\n  0.9666666666666666,\n  0.8777777777777778,\n  0.8833333333333333],\n 'GE_NSGAII_robustness': [1.0,\n  0.99375,\n  0.79375,\n  0.4865384615384615,\n  0.9642857142857142,\n  0.75,\n  1.0,\n  0.865625,\n  0.5359375,\n  0.975,\n  0.8600000000000001,\n  1.0,\n  0.9833333333333334,\n  0.525,\n  1.0,\n  0.3527777777777778,\n  0.95,\n  0.4428571428571429,\n  0.6229166666666666,\n  0.8916666666666666,\n  0.865,\n  1.0,\n  1.0,\n  0.71,\n  1.0,\n  1.0,\n  0.9500000000000001,\n  0.8416666666666667,\n  0.1625,\n  1.0]}"
     },
     "execution_count": 37,
     "metadata": {},
     "output_type": "execute_result"
    }
   ],
   "source": [
    "metric_dict"
   ],
   "metadata": {
    "collapsed": false,
    "ExecuteTime": {
     "end_time": "2024-06-25T22:59:46.733780Z",
     "start_time": "2024-06-25T22:59:46.728074Z"
    }
   },
   "id": "d50db24030bf523",
   "execution_count": 37
  },
  {
   "cell_type": "code",
   "outputs": [
    {
     "data": {
      "text/plain": "{'dice_robustness': 0.9558776866515836,\n 'Our_method_robustness': 0.8038906351001939,\n 'certif_robustness': 0.892222222222222,\n 'GE_NSGAII_robustness': 0.8174201643264142}"
     },
     "execution_count": 40,
     "metadata": {},
     "output_type": "execute_result"
    }
   ],
   "source": [
    "output_dict"
   ],
   "metadata": {
    "collapsed": false,
    "ExecuteTime": {
     "end_time": "2024-06-25T23:01:23.339847Z",
     "start_time": "2024-06-25T23:01:23.336488Z"
    }
   },
   "id": "7a2a71ea52d948db",
   "execution_count": 40
  },
  {
   "cell_type": "code",
   "outputs": [],
   "source": [
    "import matplotlib.pyplot as plt\n",
    "\n",
    "def plot_bar_graph(data_dict, title=\"Bar Graph\", xlabel=\"Labels\", ylabel=\"Values\"):\n",
    "    \n",
    "    labels = list(data_dict.keys())\n",
    "    values = list(data_dict.values())\n",
    "    \n",
    "    plt.figure(figsize=(8, 6))\n",
    "    plt.bar(labels, values, color='skyblue', width=0.4)\n",
    "    \n",
    "    plt.title(title)\n",
    "    plt.xlabel(xlabel)\n",
    "    plt.ylabel(ylabel)\n",
    "    \n",
    "    plt.xticks(rotation=45)\n",
    "    plt.tight_layout()\n",
    "    plt.show()"
   ],
   "metadata": {
    "collapsed": false,
    "ExecuteTime": {
     "end_time": "2024-06-25T23:00:48.432373Z",
     "start_time": "2024-06-25T23:00:48.427731Z"
    }
   },
   "id": "c89fa360cfe4c9c8",
   "execution_count": 38
  },
  {
   "cell_type": "code",
   "outputs": [
    {
     "data": {
      "text/plain": "<Figure size 800x600 with 1 Axes>",
      "image/png": "[encoded data removed]"
     },
     "metadata": {},
     "output_type": "display_data"
    }
   ],
   "source": [
    "plot_bar_graph(output_dict, title=\"Robustness\", xlabel=\"methods\", ylabel=\"robustness\")"
   ],
   "metadata": {
    "collapsed": false,
    "ExecuteTime": {
     "end_time": "2024-06-25T23:00:50.819438Z",
     "start_time": "2024-06-25T23:00:50.747840Z"
    }
   },
   "id": "3bc29d0ce678424",
   "execution_count": 39
  },
  {
   "cell_type": "code",
   "outputs": [],
   "source": [],
   "metadata": {
    "collapsed": false
   },
   "id": "f08766b9fd10f015"
  }
 ],
 "metadata": {
  "kernelspec": {
   "display_name": "Python 3",
   "language": "python",
   "name": "python3"
  },
  "language_info": {
   "codemirror_mode": {
    "name": "ipython",
    "version": 2
   },
   "file_extension": ".py",
   "mimetype": "text/x-python",
   "name": "python",
   "nbconvert_exporter": "python",
   "pygments_lexer": "ipython2",
   "version": "2.7.6"
  }
 },
 "nbformat": 4,
 "nbformat_minor": 5
}
