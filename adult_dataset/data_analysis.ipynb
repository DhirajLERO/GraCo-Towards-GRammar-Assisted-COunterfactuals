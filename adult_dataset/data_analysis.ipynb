{
 "cells": [
  {
   "cell_type": "code",
   "execution_count": 1,
   "id": "initial_id",
   "metadata": {
    "collapsed": true,
    "ExecuteTime": {
     "end_time": "2024-06-21T14:56:56.341799Z",
     "start_time": "2024-06-21T14:56:55.108750Z"
    }
   },
   "outputs": [],
   "source": [
    "import pandas as pd \n",
    "import ucimlrepo"
   ]
  },
  {
   "cell_type": "code",
   "outputs": [],
   "source": [
    "data  = ucimlrepo.fetch_ucirepo(id=2)"
   ],
   "metadata": {
    "collapsed": false,
    "ExecuteTime": {
     "end_time": "2024-06-21T14:57:00.785488Z",
     "start_time": "2024-06-21T14:56:56.342853Z"
    }
   },
   "id": "63fc31d59ed7a423",
   "execution_count": 2
  },
  {
   "cell_type": "code",
   "outputs": [
    {
     "data": {
      "text/plain": "(48842, 1)"
     },
     "execution_count": 3,
     "metadata": {},
     "output_type": "execute_result"
    }
   ],
   "source": [
    "data.data.targets.shape"
   ],
   "metadata": {
    "collapsed": false,
    "ExecuteTime": {
     "end_time": "2024-06-21T14:57:00.790016Z",
     "start_time": "2024-06-21T14:57:00.786509Z"
    }
   },
   "id": "9f151104d1d7facb",
   "execution_count": 3
  },
  {
   "cell_type": "code",
   "outputs": [
    {
     "data": {
      "text/plain": "(48842, 14)"
     },
     "execution_count": 4,
     "metadata": {},
     "output_type": "execute_result"
    }
   ],
   "source": [
    "data.data.features.shape "
   ],
   "metadata": {
    "collapsed": false,
    "ExecuteTime": {
     "end_time": "2024-06-21T14:57:00.791839Z",
     "start_time": "2024-06-21T14:57:00.789036Z"
    }
   },
   "id": "bb34dc320a522cd6",
   "execution_count": 4
  },
  {
   "cell_type": "code",
   "outputs": [
    {
     "name": "stdout",
     "output_type": "stream",
     "text": [
      "{'uci_id': 2, 'name': 'Adult', 'repository_url': 'https://archive.ics.uci.edu/dataset/2/adult', 'data_url': 'https://archive.ics.uci.edu/static/public/2/data.csv', 'abstract': 'Predict whether income exceeds $50K/yr based on census data. Also known as \"Census Income\" dataset. ', 'area': 'Social Science', 'tasks': ['Classification'], 'characteristics': ['Multivariate'], 'num_instances': 48842, 'num_features': 14, 'feature_types': ['Categorical', 'Integer'], 'demographics': ['Age', 'Income', 'Education Level', 'Other', 'Race', 'Sex'], 'target_col': ['income'], 'index_col': None, 'has_missing_values': 'yes', 'missing_values_symbol': 'NaN', 'year_of_dataset_creation': 1996, 'last_updated': 'Mon Aug 07 2023', 'dataset_doi': '10.24432/C5XW20', 'creators': ['Barry Becker', 'Ronny Kohavi'], 'intro_paper': None, 'additional_info': {'summary': 'Extraction was done by Barry Becker from the 1994 Census database.  A set of reasonably clean records was extracted using the following conditions: ((AAGE>16) && (AGI>100) && (AFNLWGT>1)&& (HRSWK>0))\\r\\n\\r\\nPrediction task is to determine whether a person makes over 50K a year.\\r\\n', 'purpose': None, 'funded_by': None, 'instances_represent': None, 'recommended_data_splits': None, 'sensitive_data': None, 'preprocessing_description': None, 'variable_info': 'Listing of attributes:\\r\\n\\r\\n>50K, <=50K.\\r\\n\\r\\nage: continuous.\\r\\nworkclass: Private, Self-emp-not-inc, Self-emp-inc, Federal-gov, Local-gov, State-gov, Without-pay, Never-worked.\\r\\nfnlwgt: continuous.\\r\\neducation: Bachelors, Some-college, 11th, HS-grad, Prof-school, Assoc-acdm, Assoc-voc, 9th, 7th-8th, 12th, Masters, 1st-4th, 10th, Doctorate, 5th-6th, Preschool.\\r\\neducation-num: continuous.\\r\\nmarital-status: Married-civ-spouse, Divorced, Never-married, Separated, Widowed, Married-spouse-absent, Married-AF-spouse.\\r\\noccupation: Tech-support, Craft-repair, Other-service, Sales, Exec-managerial, Prof-specialty, Handlers-cleaners, Machine-op-inspct, Adm-clerical, Farming-fishing, Transport-moving, Priv-house-serv, Protective-serv, Armed-Forces.\\r\\nrelationship: Wife, Own-child, Husband, Not-in-family, Other-relative, Unmarried.\\r\\nrace: White, Asian-Pac-Islander, Amer-Indian-Eskimo, Other, Black.\\r\\nsex: Female, Male.\\r\\ncapital-gain: continuous.\\r\\ncapital-loss: continuous.\\r\\nhours-per-week: continuous.\\r\\nnative-country: United-States, Cambodia, England, Puerto-Rico, Canada, Germany, Outlying-US(Guam-USVI-etc), India, Japan, Greece, South, China, Cuba, Iran, Honduras, Philippines, Italy, Poland, Jamaica, Vietnam, Mexico, Portugal, Ireland, France, Dominican-Republic, Laos, Ecuador, Taiwan, Haiti, Columbia, Hungary, Guatemala, Nicaragua, Scotland, Thailand, Yugoslavia, El-Salvador, Trinadad&Tobago, Peru, Hong, Holand-Netherlands.', 'citation': None}}\n"
     ]
    }
   ],
   "source": [
    "# metadata \n",
    "print(data.metadata) \n"
   ],
   "metadata": {
    "collapsed": false,
    "ExecuteTime": {
     "end_time": "2024-06-21T14:57:00.796637Z",
     "start_time": "2024-06-21T14:57:00.792081Z"
    }
   },
   "id": "67cb858dc361c295",
   "execution_count": 5
  },
  {
   "cell_type": "code",
   "outputs": [
    {
     "data": {
      "text/plain": "              name     role         type      demographic  \\\n0              age  Feature      Integer              Age   \n1        workclass  Feature  Categorical           Income   \n2           fnlwgt  Feature      Integer             None   \n3        education  Feature  Categorical  Education Level   \n4    education-num  Feature      Integer  Education Level   \n5   marital-status  Feature  Categorical            Other   \n6       occupation  Feature  Categorical            Other   \n7     relationship  Feature  Categorical            Other   \n8             race  Feature  Categorical             Race   \n9              sex  Feature       Binary              Sex   \n10    capital-gain  Feature      Integer             None   \n11    capital-loss  Feature      Integer             None   \n12  hours-per-week  Feature      Integer             None   \n13  native-country  Feature  Categorical            Other   \n14          income   Target       Binary           Income   \n\n                                          description units missing_values  \n0                                                 N/A  None             no  \n1   Private, Self-emp-not-inc, Self-emp-inc, Feder...  None            yes  \n2                                                None  None             no  \n3    Bachelors, Some-college, 11th, HS-grad, Prof-...  None             no  \n4                                                None  None             no  \n5   Married-civ-spouse, Divorced, Never-married, S...  None             no  \n6   Tech-support, Craft-repair, Other-service, Sal...  None            yes  \n7   Wife, Own-child, Husband, Not-in-family, Other...  None             no  \n8   White, Asian-Pac-Islander, Amer-Indian-Eskimo,...  None             no  \n9                                       Female, Male.  None             no  \n10                                               None  None             no  \n11                                               None  None             no  \n12                                               None  None             no  \n13  United-States, Cambodia, England, Puerto-Rico,...  None            yes  \n14                                       >50K, <=50K.  None             no  ",
      "text/html": "<div>\n<style scoped>\n    .dataframe tbody tr th:only-of-type {\n        vertical-align: middle;\n    }\n\n    .dataframe tbody tr th {\n        vertical-align: top;\n    }\n\n    .dataframe thead th {\n        text-align: right;\n    }\n</style>\n<table border=\"1\" class=\"dataframe\">\n  <thead>\n    <tr style=\"text-align: right;\">\n      <th></th>\n      <th>name</th>\n      <th>role</th>\n      <th>type</th>\n      <th>demographic</th>\n      <th>description</th>\n      <th>units</th>\n      <th>missing_values</th>\n    </tr>\n  </thead>\n  <tbody>\n    <tr>\n      <th>0</th>\n      <td>age</td>\n      <td>Feature</td>\n      <td>Integer</td>\n      <td>Age</td>\n      <td>N/A</td>\n      <td>None</td>\n      <td>no</td>\n    </tr>\n    <tr>\n      <th>1</th>\n      <td>workclass</td>\n      <td>Feature</td>\n      <td>Categorical</td>\n      <td>Income</td>\n      <td>Private, Self-emp-not-inc, Self-emp-inc, Feder...</td>\n      <td>None</td>\n      <td>yes</td>\n    </tr>\n    <tr>\n      <th>2</th>\n      <td>fnlwgt</td>\n      <td>Feature</td>\n      <td>Integer</td>\n      <td>None</td>\n      <td>None</td>\n      <td>None</td>\n      <td>no</td>\n    </tr>\n    <tr>\n      <th>3</th>\n      <td>education</td>\n      <td>Feature</td>\n      <td>Categorical</td>\n      <td>Education Level</td>\n      <td>Bachelors, Some-college, 11th, HS-grad, Prof-...</td>\n      <td>None</td>\n      <td>no</td>\n    </tr>\n    <tr>\n      <th>4</th>\n      <td>education-num</td>\n      <td>Feature</td>\n      <td>Integer</td>\n      <td>Education Level</td>\n      <td>None</td>\n      <td>None</td>\n      <td>no</td>\n    </tr>\n    <tr>\n      <th>5</th>\n      <td>marital-status</td>\n      <td>Feature</td>\n      <td>Categorical</td>\n      <td>Other</td>\n      <td>Married-civ-spouse, Divorced, Never-married, S...</td>\n      <td>None</td>\n      <td>no</td>\n    </tr>\n    <tr>\n      <th>6</th>\n      <td>occupation</td>\n      <td>Feature</td>\n      <td>Categorical</td>\n      <td>Other</td>\n      <td>Tech-support, Craft-repair, Other-service, Sal...</td>\n      <td>None</td>\n      <td>yes</td>\n    </tr>\n    <tr>\n      <th>7</th>\n      <td>relationship</td>\n      <td>Feature</td>\n      <td>Categorical</td>\n      <td>Other</td>\n      <td>Wife, Own-child, Husband, Not-in-family, Other...</td>\n      <td>None</td>\n      <td>no</td>\n    </tr>\n    <tr>\n      <th>8</th>\n      <td>race</td>\n      <td>Feature</td>\n      <td>Categorical</td>\n      <td>Race</td>\n      <td>White, Asian-Pac-Islander, Amer-Indian-Eskimo,...</td>\n      <td>None</td>\n      <td>no</td>\n    </tr>\n    <tr>\n      <th>9</th>\n      <td>sex</td>\n      <td>Feature</td>\n      <td>Binary</td>\n      <td>Sex</td>\n      <td>Female, Male.</td>\n      <td>None</td>\n      <td>no</td>\n    </tr>\n    <tr>\n      <th>10</th>\n      <td>capital-gain</td>\n      <td>Feature</td>\n      <td>Integer</td>\n      <td>None</td>\n      <td>None</td>\n      <td>None</td>\n      <td>no</td>\n    </tr>\n    <tr>\n      <th>11</th>\n      <td>capital-loss</td>\n      <td>Feature</td>\n      <td>Integer</td>\n      <td>None</td>\n      <td>None</td>\n      <td>None</td>\n      <td>no</td>\n    </tr>\n    <tr>\n      <th>12</th>\n      <td>hours-per-week</td>\n      <td>Feature</td>\n      <td>Integer</td>\n      <td>None</td>\n      <td>None</td>\n      <td>None</td>\n      <td>no</td>\n    </tr>\n    <tr>\n      <th>13</th>\n      <td>native-country</td>\n      <td>Feature</td>\n      <td>Categorical</td>\n      <td>Other</td>\n      <td>United-States, Cambodia, England, Puerto-Rico,...</td>\n      <td>None</td>\n      <td>yes</td>\n    </tr>\n    <tr>\n      <th>14</th>\n      <td>income</td>\n      <td>Target</td>\n      <td>Binary</td>\n      <td>Income</td>\n      <td>&gt;50K, &lt;=50K.</td>\n      <td>None</td>\n      <td>no</td>\n    </tr>\n  </tbody>\n</table>\n</div>"
     },
     "execution_count": 6,
     "metadata": {},
     "output_type": "execute_result"
    }
   ],
   "source": [
    "data.variables.head(20) "
   ],
   "metadata": {
    "collapsed": false,
    "ExecuteTime": {
     "end_time": "2024-06-21T14:57:00.819668Z",
     "start_time": "2024-06-21T14:57:00.794518Z"
    }
   },
   "id": "c86817f57ff5628f",
   "execution_count": 6
  },
  {
   "cell_type": "code",
   "outputs": [],
   "source": [
    "def set_target(value):\n",
    "    if value.strip().upper() == \"<=50K\" or value.strip().upper() == \"<=50K.\":\n",
    "        return 0\n",
    "    else:\n",
    "        return 1"
   ],
   "metadata": {
    "collapsed": false,
    "ExecuteTime": {
     "end_time": "2024-06-21T14:57:00.820160Z",
     "start_time": "2024-06-21T14:57:00.812468Z"
    }
   },
   "id": "ed73868f27ab8b2",
   "execution_count": 7
  },
  {
   "cell_type": "code",
   "outputs": [
    {
     "data": {
      "text/plain": "   age         workclass  fnlwgt  education  education-num  \\\n0   39         State-gov   77516  Bachelors             13   \n1   50  Self-emp-not-inc   83311  Bachelors             13   \n2   38           Private  215646    HS-grad              9   \n3   53           Private  234721       11th              7   \n4   28           Private  338409  Bachelors             13   \n\n       marital-status         occupation   relationship   race     sex  \\\n0       Never-married       Adm-clerical  Not-in-family  White    Male   \n1  Married-civ-spouse    Exec-managerial        Husband  White    Male   \n2            Divorced  Handlers-cleaners  Not-in-family  White    Male   \n3  Married-civ-spouse  Handlers-cleaners        Husband  Black    Male   \n4  Married-civ-spouse     Prof-specialty           Wife  Black  Female   \n\n   capital-gain  capital-loss  hours-per-week native-country income  \n0          2174             0              40  United-States  <=50K  \n1             0             0              13  United-States  <=50K  \n2             0             0              40  United-States  <=50K  \n3             0             0              40  United-States  <=50K  \n4             0             0              40           Cuba  <=50K  ",
      "text/html": "<div>\n<style scoped>\n    .dataframe tbody tr th:only-of-type {\n        vertical-align: middle;\n    }\n\n    .dataframe tbody tr th {\n        vertical-align: top;\n    }\n\n    .dataframe thead th {\n        text-align: right;\n    }\n</style>\n<table border=\"1\" class=\"dataframe\">\n  <thead>\n    <tr style=\"text-align: right;\">\n      <th></th>\n      <th>age</th>\n      <th>workclass</th>\n      <th>fnlwgt</th>\n      <th>education</th>\n      <th>education-num</th>\n      <th>marital-status</th>\n      <th>occupation</th>\n      <th>relationship</th>\n      <th>race</th>\n      <th>sex</th>\n      <th>capital-gain</th>\n      <th>capital-loss</th>\n      <th>hours-per-week</th>\n      <th>native-country</th>\n      <th>income</th>\n    </tr>\n  </thead>\n  <tbody>\n    <tr>\n      <th>0</th>\n      <td>39</td>\n      <td>State-gov</td>\n      <td>77516</td>\n      <td>Bachelors</td>\n      <td>13</td>\n      <td>Never-married</td>\n      <td>Adm-clerical</td>\n      <td>Not-in-family</td>\n      <td>White</td>\n      <td>Male</td>\n      <td>2174</td>\n      <td>0</td>\n      <td>40</td>\n      <td>United-States</td>\n      <td>&lt;=50K</td>\n    </tr>\n    <tr>\n      <th>1</th>\n      <td>50</td>\n      <td>Self-emp-not-inc</td>\n      <td>83311</td>\n      <td>Bachelors</td>\n      <td>13</td>\n      <td>Married-civ-spouse</td>\n      <td>Exec-managerial</td>\n      <td>Husband</td>\n      <td>White</td>\n      <td>Male</td>\n      <td>0</td>\n      <td>0</td>\n      <td>13</td>\n      <td>United-States</td>\n      <td>&lt;=50K</td>\n    </tr>\n    <tr>\n      <th>2</th>\n      <td>38</td>\n      <td>Private</td>\n      <td>215646</td>\n      <td>HS-grad</td>\n      <td>9</td>\n      <td>Divorced</td>\n      <td>Handlers-cleaners</td>\n      <td>Not-in-family</td>\n      <td>White</td>\n      <td>Male</td>\n      <td>0</td>\n      <td>0</td>\n      <td>40</td>\n      <td>United-States</td>\n      <td>&lt;=50K</td>\n    </tr>\n    <tr>\n      <th>3</th>\n      <td>53</td>\n      <td>Private</td>\n      <td>234721</td>\n      <td>11th</td>\n      <td>7</td>\n      <td>Married-civ-spouse</td>\n      <td>Handlers-cleaners</td>\n      <td>Husband</td>\n      <td>Black</td>\n      <td>Male</td>\n      <td>0</td>\n      <td>0</td>\n      <td>40</td>\n      <td>United-States</td>\n      <td>&lt;=50K</td>\n    </tr>\n    <tr>\n      <th>4</th>\n      <td>28</td>\n      <td>Private</td>\n      <td>338409</td>\n      <td>Bachelors</td>\n      <td>13</td>\n      <td>Married-civ-spouse</td>\n      <td>Prof-specialty</td>\n      <td>Wife</td>\n      <td>Black</td>\n      <td>Female</td>\n      <td>0</td>\n      <td>0</td>\n      <td>40</td>\n      <td>Cuba</td>\n      <td>&lt;=50K</td>\n    </tr>\n  </tbody>\n</table>\n</div>"
     },
     "execution_count": 8,
     "metadata": {},
     "output_type": "execute_result"
    }
   ],
   "source": [
    "final_dataset = pd.concat([data.data.features,  data.data.targets], axis = 1)\n",
    "final_dataset.head()"
   ],
   "metadata": {
    "collapsed": false,
    "ExecuteTime": {
     "end_time": "2024-06-21T14:57:00.823293Z",
     "start_time": "2024-06-21T14:57:00.815475Z"
    }
   },
   "id": "ce423d797c258f50",
   "execution_count": 8
  },
  {
   "cell_type": "code",
   "outputs": [
    {
     "data": {
      "text/plain": "<=50K     24720\n<=50K.    12435\n>50K       7841\n>50K.      3846\nName: income, dtype: int64"
     },
     "execution_count": 10,
     "metadata": {},
     "output_type": "execute_result"
    }
   ],
   "source": [
    "final_dataset['income'].value_counts()"
   ],
   "metadata": {
    "collapsed": false,
    "ExecuteTime": {
     "end_time": "2024-06-21T14:57:38.468944Z",
     "start_time": "2024-06-21T14:57:38.449890Z"
    }
   },
   "id": "b7b54f3da25d33c8",
   "execution_count": 10
  },
  {
   "cell_type": "code",
   "outputs": [],
   "source": [
    "final_dataset['class'] = final_dataset['income'].apply(set_target)\n",
    "final_dataset.drop(['income', 'education'], axis = 1, inplace = True)"
   ],
   "metadata": {
    "collapsed": false,
    "ExecuteTime": {
     "end_time": "2024-06-21T14:57:59.939347Z",
     "start_time": "2024-06-21T14:57:59.932280Z"
    }
   },
   "id": "2dbef42396a70568",
   "execution_count": 11
  },
  {
   "cell_type": "code",
   "outputs": [
    {
     "data": {
      "text/plain": "    age         workclass  fnlwgt  education-num         marital-status  \\\n0    39         State-gov   77516             13          Never-married   \n1    50  Self-emp-not-inc   83311             13     Married-civ-spouse   \n2    38           Private  215646              9               Divorced   \n3    53           Private  234721              7     Married-civ-spouse   \n4    28           Private  338409             13     Married-civ-spouse   \n5    37           Private  284582             14     Married-civ-spouse   \n6    49           Private  160187              5  Married-spouse-absent   \n7    52  Self-emp-not-inc  209642              9     Married-civ-spouse   \n8    31           Private   45781             14          Never-married   \n9    42           Private  159449             13     Married-civ-spouse   \n10   37           Private  280464             10     Married-civ-spouse   \n11   30         State-gov  141297             13     Married-civ-spouse   \n12   23           Private  122272             13          Never-married   \n13   32           Private  205019             12          Never-married   \n14   40           Private  121772             11     Married-civ-spouse   \n15   34           Private  245487              4     Married-civ-spouse   \n16   25  Self-emp-not-inc  176756              9          Never-married   \n17   32           Private  186824              9          Never-married   \n18   38           Private   28887              7     Married-civ-spouse   \n19   43  Self-emp-not-inc  292175             14               Divorced   \n\n           occupation   relationship                race     sex  \\\n0        Adm-clerical  Not-in-family               White    Male   \n1     Exec-managerial        Husband               White    Male   \n2   Handlers-cleaners  Not-in-family               White    Male   \n3   Handlers-cleaners        Husband               Black    Male   \n4      Prof-specialty           Wife               Black  Female   \n5     Exec-managerial           Wife               White  Female   \n6       Other-service  Not-in-family               Black  Female   \n7     Exec-managerial        Husband               White    Male   \n8      Prof-specialty  Not-in-family               White  Female   \n9     Exec-managerial        Husband               White    Male   \n10    Exec-managerial        Husband               Black    Male   \n11     Prof-specialty        Husband  Asian-Pac-Islander    Male   \n12       Adm-clerical      Own-child               White  Female   \n13              Sales  Not-in-family               Black    Male   \n14       Craft-repair        Husband  Asian-Pac-Islander    Male   \n15   Transport-moving        Husband  Amer-Indian-Eskimo    Male   \n16    Farming-fishing      Own-child               White    Male   \n17  Machine-op-inspct      Unmarried               White    Male   \n18              Sales        Husband               White    Male   \n19    Exec-managerial      Unmarried               White  Female   \n\n    capital-gain  capital-loss  hours-per-week native-country  class  \n0           2174             0              40  United-States      0  \n1              0             0              13  United-States      0  \n2              0             0              40  United-States      0  \n3              0             0              40  United-States      0  \n4              0             0              40           Cuba      0  \n5              0             0              40  United-States      0  \n6              0             0              16        Jamaica      0  \n7              0             0              45  United-States      1  \n8          14084             0              50  United-States      1  \n9           5178             0              40  United-States      1  \n10             0             0              80  United-States      1  \n11             0             0              40          India      1  \n12             0             0              30  United-States      0  \n13             0             0              50  United-States      0  \n14             0             0              40              ?      1  \n15             0             0              45         Mexico      0  \n16             0             0              35  United-States      0  \n17             0             0              40  United-States      0  \n18             0             0              50  United-States      0  \n19             0             0              45  United-States      1  ",
      "text/html": "<div>\n<style scoped>\n    .dataframe tbody tr th:only-of-type {\n        vertical-align: middle;\n    }\n\n    .dataframe tbody tr th {\n        vertical-align: top;\n    }\n\n    .dataframe thead th {\n        text-align: right;\n    }\n</style>\n<table border=\"1\" class=\"dataframe\">\n  <thead>\n    <tr style=\"text-align: right;\">\n      <th></th>\n      <th>age</th>\n      <th>workclass</th>\n      <th>fnlwgt</th>\n      <th>education-num</th>\n      <th>marital-status</th>\n      <th>occupation</th>\n      <th>relationship</th>\n      <th>race</th>\n      <th>sex</th>\n      <th>capital-gain</th>\n      <th>capital-loss</th>\n      <th>hours-per-week</th>\n      <th>native-country</th>\n      <th>class</th>\n    </tr>\n  </thead>\n  <tbody>\n    <tr>\n      <th>0</th>\n      <td>39</td>\n      <td>State-gov</td>\n      <td>77516</td>\n      <td>13</td>\n      <td>Never-married</td>\n      <td>Adm-clerical</td>\n      <td>Not-in-family</td>\n      <td>White</td>\n      <td>Male</td>\n      <td>2174</td>\n      <td>0</td>\n      <td>40</td>\n      <td>United-States</td>\n      <td>0</td>\n    </tr>\n    <tr>\n      <th>1</th>\n      <td>50</td>\n      <td>Self-emp-not-inc</td>\n      <td>83311</td>\n      <td>13</td>\n      <td>Married-civ-spouse</td>\n      <td>Exec-managerial</td>\n      <td>Husband</td>\n      <td>White</td>\n      <td>Male</td>\n      <td>0</td>\n      <td>0</td>\n      <td>13</td>\n      <td>United-States</td>\n      <td>0</td>\n    </tr>\n    <tr>\n      <th>2</th>\n      <td>38</td>\n      <td>Private</td>\n      <td>215646</td>\n      <td>9</td>\n      <td>Divorced</td>\n      <td>Handlers-cleaners</td>\n      <td>Not-in-family</td>\n      <td>White</td>\n      <td>Male</td>\n      <td>0</td>\n      <td>0</td>\n      <td>40</td>\n      <td>United-States</td>\n      <td>0</td>\n    </tr>\n    <tr>\n      <th>3</th>\n      <td>53</td>\n      <td>Private</td>\n      <td>234721</td>\n      <td>7</td>\n      <td>Married-civ-spouse</td>\n      <td>Handlers-cleaners</td>\n      <td>Husband</td>\n      <td>Black</td>\n      <td>Male</td>\n      <td>0</td>\n      <td>0</td>\n      <td>40</td>\n      <td>United-States</td>\n      <td>0</td>\n    </tr>\n    <tr>\n      <th>4</th>\n      <td>28</td>\n      <td>Private</td>\n      <td>338409</td>\n      <td>13</td>\n      <td>Married-civ-spouse</td>\n      <td>Prof-specialty</td>\n      <td>Wife</td>\n      <td>Black</td>\n      <td>Female</td>\n      <td>0</td>\n      <td>0</td>\n      <td>40</td>\n      <td>Cuba</td>\n      <td>0</td>\n    </tr>\n    <tr>\n      <th>5</th>\n      <td>37</td>\n      <td>Private</td>\n      <td>284582</td>\n      <td>14</td>\n      <td>Married-civ-spouse</td>\n      <td>Exec-managerial</td>\n      <td>Wife</td>\n      <td>White</td>\n      <td>Female</td>\n      <td>0</td>\n      <td>0</td>\n      <td>40</td>\n      <td>United-States</td>\n      <td>0</td>\n    </tr>\n    <tr>\n      <th>6</th>\n      <td>49</td>\n      <td>Private</td>\n      <td>160187</td>\n      <td>5</td>\n      <td>Married-spouse-absent</td>\n      <td>Other-service</td>\n      <td>Not-in-family</td>\n      <td>Black</td>\n      <td>Female</td>\n      <td>0</td>\n      <td>0</td>\n      <td>16</td>\n      <td>Jamaica</td>\n      <td>0</td>\n    </tr>\n    <tr>\n      <th>7</th>\n      <td>52</td>\n      <td>Self-emp-not-inc</td>\n      <td>209642</td>\n      <td>9</td>\n      <td>Married-civ-spouse</td>\n      <td>Exec-managerial</td>\n      <td>Husband</td>\n      <td>White</td>\n      <td>Male</td>\n      <td>0</td>\n      <td>0</td>\n      <td>45</td>\n      <td>United-States</td>\n      <td>1</td>\n    </tr>\n    <tr>\n      <th>8</th>\n      <td>31</td>\n      <td>Private</td>\n      <td>45781</td>\n      <td>14</td>\n      <td>Never-married</td>\n      <td>Prof-specialty</td>\n      <td>Not-in-family</td>\n      <td>White</td>\n      <td>Female</td>\n      <td>14084</td>\n      <td>0</td>\n      <td>50</td>\n      <td>United-States</td>\n      <td>1</td>\n    </tr>\n    <tr>\n      <th>9</th>\n      <td>42</td>\n      <td>Private</td>\n      <td>159449</td>\n      <td>13</td>\n      <td>Married-civ-spouse</td>\n      <td>Exec-managerial</td>\n      <td>Husband</td>\n      <td>White</td>\n      <td>Male</td>\n      <td>5178</td>\n      <td>0</td>\n      <td>40</td>\n      <td>United-States</td>\n      <td>1</td>\n    </tr>\n    <tr>\n      <th>10</th>\n      <td>37</td>\n      <td>Private</td>\n      <td>280464</td>\n      <td>10</td>\n      <td>Married-civ-spouse</td>\n      <td>Exec-managerial</td>\n      <td>Husband</td>\n      <td>Black</td>\n      <td>Male</td>\n      <td>0</td>\n      <td>0</td>\n      <td>80</td>\n      <td>United-States</td>\n      <td>1</td>\n    </tr>\n    <tr>\n      <th>11</th>\n      <td>30</td>\n      <td>State-gov</td>\n      <td>141297</td>\n      <td>13</td>\n      <td>Married-civ-spouse</td>\n      <td>Prof-specialty</td>\n      <td>Husband</td>\n      <td>Asian-Pac-Islander</td>\n      <td>Male</td>\n      <td>0</td>\n      <td>0</td>\n      <td>40</td>\n      <td>India</td>\n      <td>1</td>\n    </tr>\n    <tr>\n      <th>12</th>\n      <td>23</td>\n      <td>Private</td>\n      <td>122272</td>\n      <td>13</td>\n      <td>Never-married</td>\n      <td>Adm-clerical</td>\n      <td>Own-child</td>\n      <td>White</td>\n      <td>Female</td>\n      <td>0</td>\n      <td>0</td>\n      <td>30</td>\n      <td>United-States</td>\n      <td>0</td>\n    </tr>\n    <tr>\n      <th>13</th>\n      <td>32</td>\n      <td>Private</td>\n      <td>205019</td>\n      <td>12</td>\n      <td>Never-married</td>\n      <td>Sales</td>\n      <td>Not-in-family</td>\n      <td>Black</td>\n      <td>Male</td>\n      <td>0</td>\n      <td>0</td>\n      <td>50</td>\n      <td>United-States</td>\n      <td>0</td>\n    </tr>\n    <tr>\n      <th>14</th>\n      <td>40</td>\n      <td>Private</td>\n      <td>121772</td>\n      <td>11</td>\n      <td>Married-civ-spouse</td>\n      <td>Craft-repair</td>\n      <td>Husband</td>\n      <td>Asian-Pac-Islander</td>\n      <td>Male</td>\n      <td>0</td>\n      <td>0</td>\n      <td>40</td>\n      <td>?</td>\n      <td>1</td>\n    </tr>\n    <tr>\n      <th>15</th>\n      <td>34</td>\n      <td>Private</td>\n      <td>245487</td>\n      <td>4</td>\n      <td>Married-civ-spouse</td>\n      <td>Transport-moving</td>\n      <td>Husband</td>\n      <td>Amer-Indian-Eskimo</td>\n      <td>Male</td>\n      <td>0</td>\n      <td>0</td>\n      <td>45</td>\n      <td>Mexico</td>\n      <td>0</td>\n    </tr>\n    <tr>\n      <th>16</th>\n      <td>25</td>\n      <td>Self-emp-not-inc</td>\n      <td>176756</td>\n      <td>9</td>\n      <td>Never-married</td>\n      <td>Farming-fishing</td>\n      <td>Own-child</td>\n      <td>White</td>\n      <td>Male</td>\n      <td>0</td>\n      <td>0</td>\n      <td>35</td>\n      <td>United-States</td>\n      <td>0</td>\n    </tr>\n    <tr>\n      <th>17</th>\n      <td>32</td>\n      <td>Private</td>\n      <td>186824</td>\n      <td>9</td>\n      <td>Never-married</td>\n      <td>Machine-op-inspct</td>\n      <td>Unmarried</td>\n      <td>White</td>\n      <td>Male</td>\n      <td>0</td>\n      <td>0</td>\n      <td>40</td>\n      <td>United-States</td>\n      <td>0</td>\n    </tr>\n    <tr>\n      <th>18</th>\n      <td>38</td>\n      <td>Private</td>\n      <td>28887</td>\n      <td>7</td>\n      <td>Married-civ-spouse</td>\n      <td>Sales</td>\n      <td>Husband</td>\n      <td>White</td>\n      <td>Male</td>\n      <td>0</td>\n      <td>0</td>\n      <td>50</td>\n      <td>United-States</td>\n      <td>0</td>\n    </tr>\n    <tr>\n      <th>19</th>\n      <td>43</td>\n      <td>Self-emp-not-inc</td>\n      <td>292175</td>\n      <td>14</td>\n      <td>Divorced</td>\n      <td>Exec-managerial</td>\n      <td>Unmarried</td>\n      <td>White</td>\n      <td>Female</td>\n      <td>0</td>\n      <td>0</td>\n      <td>45</td>\n      <td>United-States</td>\n      <td>1</td>\n    </tr>\n  </tbody>\n</table>\n</div>"
     },
     "execution_count": 12,
     "metadata": {},
     "output_type": "execute_result"
    }
   ],
   "source": [
    "final_dataset.head(20)"
   ],
   "metadata": {
    "collapsed": false,
    "ExecuteTime": {
     "end_time": "2024-06-21T14:58:01.219587Z",
     "start_time": "2024-06-21T14:58:01.211763Z"
    }
   },
   "id": "460c2d3323a92c0a",
   "execution_count": 12
  },
  {
   "cell_type": "code",
   "outputs": [
    {
     "data": {
      "text/plain": "age                 0\nworkclass         963\nfnlwgt              0\neducation-num       0\nmarital-status      0\noccupation        966\nrelationship        0\nrace                0\nsex                 0\ncapital-gain        0\ncapital-loss        0\nhours-per-week      0\nnative-country    274\nclass               0\ndtype: int64"
     },
     "execution_count": 13,
     "metadata": {},
     "output_type": "execute_result"
    }
   ],
   "source": [
    "final_dataset.isnull().sum()"
   ],
   "metadata": {
    "collapsed": false,
    "ExecuteTime": {
     "end_time": "2024-06-21T14:58:14.885574Z",
     "start_time": "2024-06-21T14:58:14.881855Z"
    }
   },
   "id": "5cda1be197e2dc8e",
   "execution_count": 13
  },
  {
   "cell_type": "code",
   "outputs": [
    {
     "name": "stdout",
     "output_type": "stream",
     "text": [
      "(47621, 14)\n"
     ]
    },
    {
     "data": {
      "text/plain": "age               0\nworkclass         0\nfnlwgt            0\neducation-num     0\nmarital-status    0\noccupation        0\nrelationship      0\nrace              0\nsex               0\ncapital-gain      0\ncapital-loss      0\nhours-per-week    0\nnative-country    0\nclass             0\ndtype: int64"
     },
     "execution_count": 14,
     "metadata": {},
     "output_type": "execute_result"
    }
   ],
   "source": [
    "final_dataset = final_dataset.dropna()\n",
    "print(final_dataset.shape)\n",
    "final_dataset.isnull().sum()"
   ],
   "metadata": {
    "collapsed": false,
    "ExecuteTime": {
     "end_time": "2024-06-21T14:58:18.949107Z",
     "start_time": "2024-06-21T14:58:18.890860Z"
    }
   },
   "id": "e0cb0008f069e463",
   "execution_count": 14
  },
  {
   "cell_type": "code",
   "outputs": [],
   "source": [
    "final_dataset.to_csv(\"adult_dataset_final.csv\", index=False)"
   ],
   "metadata": {
    "collapsed": false,
    "ExecuteTime": {
     "end_time": "2024-06-21T14:58:25.523371Z",
     "start_time": "2024-06-21T14:58:25.426970Z"
    }
   },
   "id": "1342039b6898aa2e",
   "execution_count": 15
  },
  {
   "cell_type": "code",
   "outputs": [
    {
     "data": {
      "text/plain": "(47621, 14)"
     },
     "execution_count": 16,
     "metadata": {},
     "output_type": "execute_result"
    }
   ],
   "source": [
    "df = pd.read_csv('adult_dataset_final.csv')\n",
    "df.shape"
   ],
   "metadata": {
    "collapsed": false,
    "ExecuteTime": {
     "end_time": "2024-06-21T14:58:26.532056Z",
     "start_time": "2024-06-21T14:58:26.488418Z"
    }
   },
   "id": "5f179ed08f4c04f6",
   "execution_count": 16
  },
  {
   "cell_type": "markdown",
   "source": [
    "## lets  create the training data and label encoding  for categorical columns "
   ],
   "metadata": {
    "collapsed": false
   },
   "id": "28da22d046bf28a7"
  },
  {
   "cell_type": "code",
   "outputs": [
    {
     "name": "stdout",
     "output_type": "stream",
     "text": [
      "Mapping for column 'workclass':\n",
      "  ? -> 0\n",
      "  Federal-gov -> 1\n",
      "  Local-gov -> 2\n",
      "  Never-worked -> 3\n",
      "  Private -> 4\n",
      "  Self-emp-inc -> 5\n",
      "  Self-emp-not-inc -> 6\n",
      "  State-gov -> 7\n",
      "  Without-pay -> 8\n",
      "Mapping for column 'marital-status':\n",
      "  Divorced -> 0\n",
      "  Married-AF-spouse -> 1\n",
      "  Married-civ-spouse -> 2\n",
      "  Married-spouse-absent -> 3\n",
      "  Never-married -> 4\n",
      "  Separated -> 5\n",
      "  Widowed -> 6\n",
      "Mapping for column 'occupation':\n",
      "  ? -> 0\n",
      "  Adm-clerical -> 1\n",
      "  Armed-Forces -> 2\n",
      "  Craft-repair -> 3\n",
      "  Exec-managerial -> 4\n",
      "  Farming-fishing -> 5\n",
      "  Handlers-cleaners -> 6\n",
      "  Machine-op-inspct -> 7\n",
      "  Other-service -> 8\n",
      "  Priv-house-serv -> 9\n",
      "  Prof-specialty -> 10\n",
      "  Protective-serv -> 11\n",
      "  Sales -> 12\n",
      "  Tech-support -> 13\n",
      "  Transport-moving -> 14\n",
      "Mapping for column 'relationship':\n",
      "  Husband -> 0\n",
      "  Not-in-family -> 1\n",
      "  Other-relative -> 2\n",
      "  Own-child -> 3\n",
      "  Unmarried -> 4\n",
      "  Wife -> 5\n",
      "Mapping for column 'race':\n",
      "  Amer-Indian-Eskimo -> 0\n",
      "  Asian-Pac-Islander -> 1\n",
      "  Black -> 2\n",
      "  Other -> 3\n",
      "  White -> 4\n",
      "Mapping for column 'sex':\n",
      "  Female -> 0\n",
      "  Male -> 1\n",
      "Mapping for column 'native-country':\n",
      "  ? -> 0\n",
      "  Cambodia -> 1\n",
      "  Canada -> 2\n",
      "  China -> 3\n",
      "  Columbia -> 4\n",
      "  Cuba -> 5\n",
      "  Dominican-Republic -> 6\n",
      "  Ecuador -> 7\n",
      "  El-Salvador -> 8\n",
      "  England -> 9\n",
      "  France -> 10\n",
      "  Germany -> 11\n",
      "  Greece -> 12\n",
      "  Guatemala -> 13\n",
      "  Haiti -> 14\n",
      "  Holand-Netherlands -> 15\n",
      "  Honduras -> 16\n",
      "  Hong -> 17\n",
      "  Hungary -> 18\n",
      "  India -> 19\n",
      "  Iran -> 20\n",
      "  Ireland -> 21\n",
      "  Italy -> 22\n",
      "  Jamaica -> 23\n",
      "  Japan -> 24\n",
      "  Laos -> 25\n",
      "  Mexico -> 26\n",
      "  Nicaragua -> 27\n",
      "  Outlying-US(Guam-USVI-etc) -> 28\n",
      "  Peru -> 29\n",
      "  Philippines -> 30\n",
      "  Poland -> 31\n",
      "  Portugal -> 32\n",
      "  Puerto-Rico -> 33\n",
      "  Scotland -> 34\n",
      "  South -> 35\n",
      "  Taiwan -> 36\n",
      "  Thailand -> 37\n",
      "  Trinadad&Tobago -> 38\n",
      "  United-States -> 39\n",
      "  Vietnam -> 40\n",
      "  Yugoslavia -> 41\n"
     ]
    }
   ],
   "source": [
    "import pandas as pd\n",
    "from sklearn.preprocessing import LabelEncoder\n",
    "\n",
    "\n",
    "def encode_categorical_columns(df):\n",
    "    label_encoders = {}\n",
    "    for column in df.select_dtypes(include=['object']).columns:\n",
    "        le = LabelEncoder()\n",
    "        df[column] = le.fit_transform(df[column])\n",
    "        label_encoders[column] = le\n",
    "        print(f\"Mapping for column '{column}':\")\n",
    "        for class_, val in zip(le.classes_, le.transform(le.classes_)):\n",
    "            print(f\"  {class_} -> {val}\")\n",
    "    return df, label_encoders\n",
    "\n",
    "df_encoded, label_encoders  = encode_categorical_columns(df)"
   ],
   "metadata": {
    "collapsed": false,
    "ExecuteTime": {
     "end_time": "2024-06-21T14:58:29.432210Z",
     "start_time": "2024-06-21T14:58:27.663222Z"
    }
   },
   "id": "631ced4729c1a5cf",
   "execution_count": 17
  },
  {
   "cell_type": "code",
   "outputs": [],
   "source": [
    "import pickle\n",
    "def save_label_encoders(encoders, filepath):\n",
    "    with open(filepath, 'wb') as file:\n",
    "        pickle.dump(encoders, file)\n",
    "    print(f\"Label encoders saved to {filepath}\")\n",
    "\n",
    "def load_label_encoders(filepath):\n",
    "    with open(filepath, 'rb') as file:\n",
    "        encoders = pickle.load(file)\n",
    "    print(f\"Label encoders loaded from {filepath}\")\n",
    "    return encoders\n"
   ],
   "metadata": {
    "collapsed": false,
    "ExecuteTime": {
     "end_time": "2024-06-21T14:58:29.442718Z",
     "start_time": "2024-06-21T14:58:29.432559Z"
    }
   },
   "id": "2e3e6929b5c54c3c",
   "execution_count": 18
  },
  {
   "cell_type": "markdown",
   "source": [
    "## Save all the label encoders for future analysis"
   ],
   "metadata": {
    "collapsed": false
   },
   "id": "61242d0a7c295f67"
  },
  {
   "cell_type": "code",
   "outputs": [
    {
     "name": "stdout",
     "output_type": "stream",
     "text": [
      "Label encoders saved to label_encoders.pkl\n",
      "Label encoders loaded from label_encoders.pkl\n",
      "Mapping for column 'workclass':\n",
      "  ? -> 0\n",
      "  Federal-gov -> 1\n",
      "  Local-gov -> 2\n",
      "  Never-worked -> 3\n",
      "  Private -> 4\n",
      "  Self-emp-inc -> 5\n",
      "  Self-emp-not-inc -> 6\n",
      "  State-gov -> 7\n",
      "  Without-pay -> 8\n",
      "Mapping for column 'marital-status':\n",
      "  Divorced -> 0\n",
      "  Married-AF-spouse -> 1\n",
      "  Married-civ-spouse -> 2\n",
      "  Married-spouse-absent -> 3\n",
      "  Never-married -> 4\n",
      "  Separated -> 5\n",
      "  Widowed -> 6\n",
      "Mapping for column 'occupation':\n",
      "  ? -> 0\n",
      "  Adm-clerical -> 1\n",
      "  Armed-Forces -> 2\n",
      "  Craft-repair -> 3\n",
      "  Exec-managerial -> 4\n",
      "  Farming-fishing -> 5\n",
      "  Handlers-cleaners -> 6\n",
      "  Machine-op-inspct -> 7\n",
      "  Other-service -> 8\n",
      "  Priv-house-serv -> 9\n",
      "  Prof-specialty -> 10\n",
      "  Protective-serv -> 11\n",
      "  Sales -> 12\n",
      "  Tech-support -> 13\n",
      "  Transport-moving -> 14\n",
      "Mapping for column 'relationship':\n",
      "  Husband -> 0\n",
      "  Not-in-family -> 1\n",
      "  Other-relative -> 2\n",
      "  Own-child -> 3\n",
      "  Unmarried -> 4\n",
      "  Wife -> 5\n",
      "Mapping for column 'race':\n",
      "  Amer-Indian-Eskimo -> 0\n",
      "  Asian-Pac-Islander -> 1\n",
      "  Black -> 2\n",
      "  Other -> 3\n",
      "  White -> 4\n",
      "Mapping for column 'sex':\n",
      "  Female -> 0\n",
      "  Male -> 1\n",
      "Mapping for column 'native-country':\n",
      "  ? -> 0\n",
      "  Cambodia -> 1\n",
      "  Canada -> 2\n",
      "  China -> 3\n",
      "  Columbia -> 4\n",
      "  Cuba -> 5\n",
      "  Dominican-Republic -> 6\n",
      "  Ecuador -> 7\n",
      "  El-Salvador -> 8\n",
      "  England -> 9\n",
      "  France -> 10\n",
      "  Germany -> 11\n",
      "  Greece -> 12\n",
      "  Guatemala -> 13\n",
      "  Haiti -> 14\n",
      "  Holand-Netherlands -> 15\n",
      "  Honduras -> 16\n",
      "  Hong -> 17\n",
      "  Hungary -> 18\n",
      "  India -> 19\n",
      "  Iran -> 20\n",
      "  Ireland -> 21\n",
      "  Italy -> 22\n",
      "  Jamaica -> 23\n",
      "  Japan -> 24\n",
      "  Laos -> 25\n",
      "  Mexico -> 26\n",
      "  Nicaragua -> 27\n",
      "  Outlying-US(Guam-USVI-etc) -> 28\n",
      "  Peru -> 29\n",
      "  Philippines -> 30\n",
      "  Poland -> 31\n",
      "  Portugal -> 32\n",
      "  Puerto-Rico -> 33\n",
      "  Scotland -> 34\n",
      "  South -> 35\n",
      "  Taiwan -> 36\n",
      "  Thailand -> 37\n",
      "  Trinadad&Tobago -> 38\n",
      "  United-States -> 39\n",
      "  Vietnam -> 40\n",
      "  Yugoslavia -> 41\n"
     ]
    }
   ],
   "source": [
    "save_label_encoders(label_encoders, 'label_encoders.pkl')\n",
    "\n",
    "# Load the label encoders from the file\n",
    "loaded_encoders = load_label_encoders('label_encoders.pkl')\n",
    "\n",
    "for key, value in label_encoders.items():\n",
    "    print(f\"Mapping for column '{key}':\")\n",
    "    for class_, val in zip(value.classes_, value.transform(value.classes_)):\n",
    "        print(f\"  {class_} -> {val}\")\n",
    "    "
   ],
   "metadata": {
    "collapsed": false,
    "ExecuteTime": {
     "end_time": "2024-06-21T14:58:30.721115Z",
     "start_time": "2024-06-21T14:58:30.706718Z"
    }
   },
   "id": "94644adebd40443",
   "execution_count": 19
  },
  {
   "cell_type": "markdown",
   "source": [
    "## save the encoded dataframe"
   ],
   "metadata": {
    "collapsed": false
   },
   "id": "a0b380b6591cbabc"
  },
  {
   "cell_type": "code",
   "outputs": [],
   "source": [
    "df_encoded.to_csv(\"encoded_adult_dataset.csv\")"
   ],
   "metadata": {
    "collapsed": false,
    "ExecuteTime": {
     "end_time": "2024-06-21T14:58:43.303111Z",
     "start_time": "2024-06-21T14:58:43.233339Z"
    }
   },
   "id": "f0aaf7d580b122c8",
   "execution_count": 20
  },
  {
   "cell_type": "markdown",
   "source": [
    "## lets create and save train and test split for training"
   ],
   "metadata": {
    "collapsed": false
   },
   "id": "4f9f999dadbc9fb9"
  },
  {
   "cell_type": "code",
   "outputs": [
    {
     "name": "stdout",
     "output_type": "stream",
     "text": [
      "Training data saved to train.csv\n",
      "Testing data saved to test.csv\n"
     ]
    }
   ],
   "source": [
    "from sklearn.model_selection import train_test_split\n",
    "\n",
    "def split_and_save_data(df, test_size=0.2, train_filepath='train.csv', test_filepath='test.csv', random_state=10):\n",
    "    # Split the DataFrame into training and testing sets\n",
    "    train_df, test_df = train_test_split(df, test_size=test_size, random_state=random_state)\n",
    "    \n",
    "    # Save the training set to a CSV file\n",
    "    train_df.to_csv(train_filepath, index=False)\n",
    "    print(f\"Training data saved to {train_filepath}\")\n",
    "    \n",
    "    # Save the testing set to a CSV file\n",
    "    test_df.to_csv(test_filepath, index=False)\n",
    "    print(f\"Testing data saved to {test_filepath}\")\n",
    "    \n",
    "    return train_df, test_df\n",
    "\n",
    "train_df, test_df = split_and_save_data(df_encoded)\n"
   ],
   "metadata": {
    "collapsed": false,
    "ExecuteTime": {
     "end_time": "2024-06-21T14:58:44.683298Z",
     "start_time": "2024-06-21T14:58:44.267925Z"
    }
   },
   "id": "6fb83ee56a182536",
   "execution_count": 21
  },
  {
   "cell_type": "code",
   "outputs": [
    {
     "name": "stdout",
     "output_type": "stream",
     "text": [
      "shape of training data (38096, 14)\n",
      "shape of testing data (9525, 14)\n"
     ]
    }
   ],
   "source": [
    "print(\"shape of training data\", train_df.shape)\n",
    "print(\"shape of testing data\", test_df.shape)"
   ],
   "metadata": {
    "collapsed": false,
    "ExecuteTime": {
     "end_time": "2024-06-21T14:58:46.084941Z",
     "start_time": "2024-06-21T14:58:46.073975Z"
    }
   },
   "id": "df566df833eb302",
   "execution_count": 22
  },
  {
   "cell_type": "markdown",
   "source": [
    "## lets look at the bounds for each column"
   ],
   "metadata": {
    "collapsed": false
   },
   "id": "29c906595453c707"
  },
  {
   "cell_type": "code",
   "outputs": [
    {
     "data": {
      "text/plain": "<Figure size 1000x800 with 16 Axes>",
      "image/png": "[encoded data removed]"
     },
     "metadata": {},
     "output_type": "display_data"
    }
   ],
   "source": [
    "import matplotlib.pyplot as plt\n",
    "import pandas as pd\n",
    "\n",
    "df_encoded = pd.read_csv(\"encoded_adult_dataset.csv\")\n",
    "\n",
    "\n",
    "df_encoded.hist(bins=10, figsize=(10, 8))\n",
    "\n",
    "\n",
    "plt.tight_layout()\n",
    "plt.show()"
   ],
   "metadata": {
    "collapsed": false,
    "ExecuteTime": {
     "end_time": "2024-06-21T14:58:49.658228Z",
     "start_time": "2024-06-21T14:58:48.126916Z"
    }
   },
   "id": "b4eb30a6221769a3",
   "execution_count": 23
  },
  {
   "cell_type": "code",
   "outputs": [
    {
     "data": {
      "text/plain": "         Unnamed: 0           age     workclass        fnlwgt  education-num  \\\ncount  47621.000000  47621.000000  47621.000000  4.762100e+04   47621.000000   \nmean   23810.000000     38.640684      3.946893  1.897271e+05      10.090821   \nstd    13747.142921     13.558961      1.371859  1.055695e+05       2.568320   \nmin        0.000000     17.000000      0.000000  1.228500e+04       1.000000   \n25%    11905.000000     28.000000      4.000000  1.175840e+05       9.000000   \n50%    23810.000000     37.000000      4.000000  1.782820e+05      10.000000   \n75%    35715.000000     48.000000      4.000000  2.377200e+05      12.000000   \nmax    47620.000000     90.000000      8.000000  1.490400e+06      16.000000   \n\n       marital-status    occupation  relationship          race           sex  \\\ncount    47621.000000  47621.000000  47621.000000  47621.000000  47621.000000   \nmean         2.606602      6.704395      1.432141      3.671489      0.670650   \nstd          1.505946      4.168429      1.601278      0.842198      0.469982   \nmin          0.000000      0.000000      0.000000      0.000000      0.000000   \n25%          2.000000      3.000000      0.000000      4.000000      0.000000   \n50%          2.000000      7.000000      1.000000      4.000000      1.000000   \n75%          4.000000     10.000000      3.000000      4.000000      1.000000   \nmax          6.000000     14.000000      5.000000      4.000000      1.000000   \n\n       capital-gain  capital-loss  hours-per-week  native-country  \\\ncount  47621.000000  47621.000000    47621.000000    47621.000000   \nmean    1091.137649     87.853489       40.600050       36.946284   \nstd     7487.228336    404.010612       12.260345        7.311473   \nmin        0.000000      0.000000        1.000000        0.000000   \n25%        0.000000      0.000000       40.000000       39.000000   \n50%        0.000000      0.000000       40.000000       39.000000   \n75%        0.000000      0.000000       45.000000       39.000000   \nmax    99999.000000   4356.000000       99.000000       41.000000   \n\n              class  \ncount  47621.000000  \nmean       0.242351  \nstd        0.428510  \nmin        0.000000  \n25%        0.000000  \n50%        0.000000  \n75%        0.000000  \nmax        1.000000  ",
      "text/html": "<div>\n<style scoped>\n    .dataframe tbody tr th:only-of-type {\n        vertical-align: middle;\n    }\n\n    .dataframe tbody tr th {\n        vertical-align: top;\n    }\n\n    .dataframe thead th {\n        text-align: right;\n    }\n</style>\n<table border=\"1\" class=\"dataframe\">\n  <thead>\n    <tr style=\"text-align: right;\">\n      <th></th>\n      <th>Unnamed: 0</th>\n      <th>age</th>\n      <th>workclass</th>\n      <th>fnlwgt</th>\n      <th>education-num</th>\n      <th>marital-status</th>\n      <th>occupation</th>\n      <th>relationship</th>\n      <th>race</th>\n      <th>sex</th>\n      <th>capital-gain</th>\n      <th>capital-loss</th>\n      <th>hours-per-week</th>\n      <th>native-country</th>\n      <th>class</th>\n    </tr>\n  </thead>\n  <tbody>\n    <tr>\n      <th>count</th>\n      <td>47621.000000</td>\n      <td>47621.000000</td>\n      <td>47621.000000</td>\n      <td>4.762100e+04</td>\n      <td>47621.000000</td>\n      <td>47621.000000</td>\n      <td>47621.000000</td>\n      <td>47621.000000</td>\n      <td>47621.000000</td>\n      <td>47621.000000</td>\n      <td>47621.000000</td>\n      <td>47621.000000</td>\n      <td>47621.000000</td>\n      <td>47621.000000</td>\n      <td>47621.000000</td>\n    </tr>\n    <tr>\n      <th>mean</th>\n      <td>23810.000000</td>\n      <td>38.640684</td>\n      <td>3.946893</td>\n      <td>1.897271e+05</td>\n      <td>10.090821</td>\n      <td>2.606602</td>\n      <td>6.704395</td>\n      <td>1.432141</td>\n      <td>3.671489</td>\n      <td>0.670650</td>\n      <td>1091.137649</td>\n      <td>87.853489</td>\n      <td>40.600050</td>\n      <td>36.946284</td>\n      <td>0.242351</td>\n    </tr>\n    <tr>\n      <th>std</th>\n      <td>13747.142921</td>\n      <td>13.558961</td>\n      <td>1.371859</td>\n      <td>1.055695e+05</td>\n      <td>2.568320</td>\n      <td>1.505946</td>\n      <td>4.168429</td>\n      <td>1.601278</td>\n      <td>0.842198</td>\n      <td>0.469982</td>\n      <td>7487.228336</td>\n      <td>404.010612</td>\n      <td>12.260345</td>\n      <td>7.311473</td>\n      <td>0.428510</td>\n    </tr>\n    <tr>\n      <th>min</th>\n      <td>0.000000</td>\n      <td>17.000000</td>\n      <td>0.000000</td>\n      <td>1.228500e+04</td>\n      <td>1.000000</td>\n      <td>0.000000</td>\n      <td>0.000000</td>\n      <td>0.000000</td>\n      <td>0.000000</td>\n      <td>0.000000</td>\n      <td>0.000000</td>\n      <td>0.000000</td>\n      <td>1.000000</td>\n      <td>0.000000</td>\n      <td>0.000000</td>\n    </tr>\n    <tr>\n      <th>25%</th>\n      <td>11905.000000</td>\n      <td>28.000000</td>\n      <td>4.000000</td>\n      <td>1.175840e+05</td>\n      <td>9.000000</td>\n      <td>2.000000</td>\n      <td>3.000000</td>\n      <td>0.000000</td>\n      <td>4.000000</td>\n      <td>0.000000</td>\n      <td>0.000000</td>\n      <td>0.000000</td>\n      <td>40.000000</td>\n      <td>39.000000</td>\n      <td>0.000000</td>\n    </tr>\n    <tr>\n      <th>50%</th>\n      <td>23810.000000</td>\n      <td>37.000000</td>\n      <td>4.000000</td>\n      <td>1.782820e+05</td>\n      <td>10.000000</td>\n      <td>2.000000</td>\n      <td>7.000000</td>\n      <td>1.000000</td>\n      <td>4.000000</td>\n      <td>1.000000</td>\n      <td>0.000000</td>\n      <td>0.000000</td>\n      <td>40.000000</td>\n      <td>39.000000</td>\n      <td>0.000000</td>\n    </tr>\n    <tr>\n      <th>75%</th>\n      <td>35715.000000</td>\n      <td>48.000000</td>\n      <td>4.000000</td>\n      <td>2.377200e+05</td>\n      <td>12.000000</td>\n      <td>4.000000</td>\n      <td>10.000000</td>\n      <td>3.000000</td>\n      <td>4.000000</td>\n      <td>1.000000</td>\n      <td>0.000000</td>\n      <td>0.000000</td>\n      <td>45.000000</td>\n      <td>39.000000</td>\n      <td>0.000000</td>\n    </tr>\n    <tr>\n      <th>max</th>\n      <td>47620.000000</td>\n      <td>90.000000</td>\n      <td>8.000000</td>\n      <td>1.490400e+06</td>\n      <td>16.000000</td>\n      <td>6.000000</td>\n      <td>14.000000</td>\n      <td>5.000000</td>\n      <td>4.000000</td>\n      <td>1.000000</td>\n      <td>99999.000000</td>\n      <td>4356.000000</td>\n      <td>99.000000</td>\n      <td>41.000000</td>\n      <td>1.000000</td>\n    </tr>\n  </tbody>\n</table>\n</div>"
     },
     "execution_count": 24,
     "metadata": {},
     "output_type": "execute_result"
    }
   ],
   "source": [
    "df_encoded.describe()"
   ],
   "metadata": {
    "collapsed": false,
    "ExecuteTime": {
     "end_time": "2024-06-21T14:58:49.675732Z",
     "start_time": "2024-06-21T14:58:49.656769Z"
    }
   },
   "id": "ceefe6dc4f4f998",
   "execution_count": 24
  },
  {
   "cell_type": "code",
   "outputs": [
    {
     "data": {
      "text/plain": "(11541, 15)"
     },
     "execution_count": 25,
     "metadata": {},
     "output_type": "execute_result"
    }
   ],
   "source": [
    "df_encoded[df_encoded['class'] == 1].shape"
   ],
   "metadata": {
    "collapsed": false,
    "ExecuteTime": {
     "end_time": "2024-06-21T14:58:49.740416Z",
     "start_time": "2024-06-21T14:58:49.675778Z"
    }
   },
   "id": "33b62222fd941228",
   "execution_count": 25
  },
  {
   "cell_type": "code",
   "outputs": [
    {
     "data": {
      "text/plain": "(36080, 15)"
     },
     "execution_count": 26,
     "metadata": {},
     "output_type": "execute_result"
    }
   ],
   "source": [
    "df_encoded[df_encoded['class'] == 0].shape"
   ],
   "metadata": {
    "collapsed": false,
    "ExecuteTime": {
     "end_time": "2024-06-21T14:58:54.454205Z",
     "start_time": "2024-06-21T14:58:54.448019Z"
    }
   },
   "id": "d9ebaa3e1a97731",
   "execution_count": 26
  },
  {
   "cell_type": "code",
   "outputs": [],
   "source": [
    "def balance_dataset(df, column_name):\n",
    "    # Find the size of the smallest class\n",
    "    min_class_size = df[column_name].value_counts().min()\n",
    "    \n",
    "    # Sample from each class to get an equal number of rows\n",
    "    balanced_df = df.groupby(column_name).apply(lambda x: x.sample(min_class_size)).reset_index(drop=True)\n",
    "    \n",
    "    return balanced_df\n",
    "\n",
    "balanced_df = balance_dataset(df_encoded, 'class')"
   ],
   "metadata": {
    "collapsed": false,
    "ExecuteTime": {
     "end_time": "2024-06-21T14:59:06.340042Z",
     "start_time": "2024-06-21T14:59:06.321046Z"
    }
   },
   "id": "6eaa2ba492f2d5e7",
   "execution_count": 27
  },
  {
   "cell_type": "code",
   "outputs": [
    {
     "data": {
      "text/plain": "(11541, 15)"
     },
     "execution_count": 28,
     "metadata": {},
     "output_type": "execute_result"
    }
   ],
   "source": [
    "balanced_df[balanced_df['class'] == 1].shape"
   ],
   "metadata": {
    "collapsed": false,
    "ExecuteTime": {
     "end_time": "2024-06-21T14:59:06.953724Z",
     "start_time": "2024-06-21T14:59:06.950343Z"
    }
   },
   "id": "ab15a2c454d7794f",
   "execution_count": 28
  },
  {
   "cell_type": "code",
   "outputs": [
    {
     "data": {
      "text/plain": "(11541, 15)"
     },
     "execution_count": 29,
     "metadata": {},
     "output_type": "execute_result"
    }
   ],
   "source": [
    "balanced_df[balanced_df['class'] == 0].shape"
   ],
   "metadata": {
    "collapsed": false,
    "ExecuteTime": {
     "end_time": "2024-06-21T14:59:07.431407Z",
     "start_time": "2024-06-21T14:59:07.428268Z"
    }
   },
   "id": "a36e1d0f282d9ad2",
   "execution_count": 29
  },
  {
   "cell_type": "code",
   "outputs": [
    {
     "data": {
      "text/plain": "         Unnamed: 0           age     workclass        fnlwgt  education-num  \\\ncount  23082.000000  23082.000000  23082.000000  2.308200e+04   23082.000000   \nmean   23871.398666     40.532363      3.972316  1.885893e+05      10.586431   \nstd    13785.948382     12.908271      1.377987  1.043220e+05       2.628773   \nmin        0.000000     17.000000      0.000000  1.228500e+04       1.000000   \n25%    11897.250000     31.000000      4.000000  1.173810e+05       9.000000   \n50%    24004.000000     40.000000      4.000000  1.769950e+05      10.000000   \n75%    35812.750000     49.000000      4.000000  2.352980e+05      13.000000   \nmax    47620.000000     90.000000      8.000000  1.455435e+06      16.000000   \n\n       marital-status    occupation  relationship          race           sex  \\\ncount    23082.000000  23082.000000  23082.000000  23082.000000  23082.000000   \nmean         2.428862      6.878433      1.177714      3.711593      0.735032   \nstd          1.332859      4.138952      1.621327      0.802737      0.441326   \nmin          0.000000      0.000000      0.000000      0.000000      0.000000   \n25%          2.000000      3.000000      0.000000      4.000000      0.000000   \n50%          2.000000      7.000000      0.000000      4.000000      1.000000   \n75%          4.000000     10.000000      2.000000      4.000000      1.000000   \nmax          6.000000     14.000000      5.000000      4.000000      1.000000   \n\n       capital-gain  capital-loss  hours-per-week  native-country  \\\ncount  23082.000000  23082.000000    23082.000000    23082.000000   \nmean    2097.032060    123.460879       42.232865       36.990815   \nstd    10624.475754    479.537981       12.079756        7.301631   \nmin        0.000000      0.000000        1.000000        0.000000   \n25%        0.000000      0.000000       40.000000       39.000000   \n50%        0.000000      0.000000       40.000000       39.000000   \n75%        0.000000      0.000000       50.000000       39.000000   \nmax    99999.000000   4356.000000       99.000000       41.000000   \n\n              class  \ncount  23082.000000  \nmean       0.500000  \nstd        0.500011  \nmin        0.000000  \n25%        0.000000  \n50%        0.500000  \n75%        1.000000  \nmax        1.000000  ",
      "text/html": "<div>\n<style scoped>\n    .dataframe tbody tr th:only-of-type {\n        vertical-align: middle;\n    }\n\n    .dataframe tbody tr th {\n        vertical-align: top;\n    }\n\n    .dataframe thead th {\n        text-align: right;\n    }\n</style>\n<table border=\"1\" class=\"dataframe\">\n  <thead>\n    <tr style=\"text-align: right;\">\n      <th></th>\n      <th>Unnamed: 0</th>\n      <th>age</th>\n      <th>workclass</th>\n      <th>fnlwgt</th>\n      <th>education-num</th>\n      <th>marital-status</th>\n      <th>occupation</th>\n      <th>relationship</th>\n      <th>race</th>\n      <th>sex</th>\n      <th>capital-gain</th>\n      <th>capital-loss</th>\n      <th>hours-per-week</th>\n      <th>native-country</th>\n      <th>class</th>\n    </tr>\n  </thead>\n  <tbody>\n    <tr>\n      <th>count</th>\n      <td>23082.000000</td>\n      <td>23082.000000</td>\n      <td>23082.000000</td>\n      <td>2.308200e+04</td>\n      <td>23082.000000</td>\n      <td>23082.000000</td>\n      <td>23082.000000</td>\n      <td>23082.000000</td>\n      <td>23082.000000</td>\n      <td>23082.000000</td>\n      <td>23082.000000</td>\n      <td>23082.000000</td>\n      <td>23082.000000</td>\n      <td>23082.000000</td>\n      <td>23082.000000</td>\n    </tr>\n    <tr>\n      <th>mean</th>\n      <td>23871.398666</td>\n      <td>40.532363</td>\n      <td>3.972316</td>\n      <td>1.885893e+05</td>\n      <td>10.586431</td>\n      <td>2.428862</td>\n      <td>6.878433</td>\n      <td>1.177714</td>\n      <td>3.711593</td>\n      <td>0.735032</td>\n      <td>2097.032060</td>\n      <td>123.460879</td>\n      <td>42.232865</td>\n      <td>36.990815</td>\n      <td>0.500000</td>\n    </tr>\n    <tr>\n      <th>std</th>\n      <td>13785.948382</td>\n      <td>12.908271</td>\n      <td>1.377987</td>\n      <td>1.043220e+05</td>\n      <td>2.628773</td>\n      <td>1.332859</td>\n      <td>4.138952</td>\n      <td>1.621327</td>\n      <td>0.802737</td>\n      <td>0.441326</td>\n      <td>10624.475754</td>\n      <td>479.537981</td>\n      <td>12.079756</td>\n      <td>7.301631</td>\n      <td>0.500011</td>\n    </tr>\n    <tr>\n      <th>min</th>\n      <td>0.000000</td>\n      <td>17.000000</td>\n      <td>0.000000</td>\n      <td>1.228500e+04</td>\n      <td>1.000000</td>\n      <td>0.000000</td>\n      <td>0.000000</td>\n      <td>0.000000</td>\n      <td>0.000000</td>\n      <td>0.000000</td>\n      <td>0.000000</td>\n      <td>0.000000</td>\n      <td>1.000000</td>\n      <td>0.000000</td>\n      <td>0.000000</td>\n    </tr>\n    <tr>\n      <th>25%</th>\n      <td>11897.250000</td>\n      <td>31.000000</td>\n      <td>4.000000</td>\n      <td>1.173810e+05</td>\n      <td>9.000000</td>\n      <td>2.000000</td>\n      <td>3.000000</td>\n      <td>0.000000</td>\n      <td>4.000000</td>\n      <td>0.000000</td>\n      <td>0.000000</td>\n      <td>0.000000</td>\n      <td>40.000000</td>\n      <td>39.000000</td>\n      <td>0.000000</td>\n    </tr>\n    <tr>\n      <th>50%</th>\n      <td>24004.000000</td>\n      <td>40.000000</td>\n      <td>4.000000</td>\n      <td>1.769950e+05</td>\n      <td>10.000000</td>\n      <td>2.000000</td>\n      <td>7.000000</td>\n      <td>0.000000</td>\n      <td>4.000000</td>\n      <td>1.000000</td>\n      <td>0.000000</td>\n      <td>0.000000</td>\n      <td>40.000000</td>\n      <td>39.000000</td>\n      <td>0.500000</td>\n    </tr>\n    <tr>\n      <th>75%</th>\n      <td>35812.750000</td>\n      <td>49.000000</td>\n      <td>4.000000</td>\n      <td>2.352980e+05</td>\n      <td>13.000000</td>\n      <td>4.000000</td>\n      <td>10.000000</td>\n      <td>2.000000</td>\n      <td>4.000000</td>\n      <td>1.000000</td>\n      <td>0.000000</td>\n      <td>0.000000</td>\n      <td>50.000000</td>\n      <td>39.000000</td>\n      <td>1.000000</td>\n    </tr>\n    <tr>\n      <th>max</th>\n      <td>47620.000000</td>\n      <td>90.000000</td>\n      <td>8.000000</td>\n      <td>1.455435e+06</td>\n      <td>16.000000</td>\n      <td>6.000000</td>\n      <td>14.000000</td>\n      <td>5.000000</td>\n      <td>4.000000</td>\n      <td>1.000000</td>\n      <td>99999.000000</td>\n      <td>4356.000000</td>\n      <td>99.000000</td>\n      <td>41.000000</td>\n      <td>1.000000</td>\n    </tr>\n  </tbody>\n</table>\n</div>"
     },
     "execution_count": 30,
     "metadata": {},
     "output_type": "execute_result"
    }
   ],
   "source": [
    "balanced_df.describe()"
   ],
   "metadata": {
    "collapsed": false,
    "ExecuteTime": {
     "end_time": "2024-06-21T14:59:08.046854Z",
     "start_time": "2024-06-21T14:59:08.024557Z"
    }
   },
   "id": "bffb528f946636fc",
   "execution_count": 30
  },
  {
   "cell_type": "code",
   "outputs": [],
   "source": [
    "balanced_df.drop(['Unnamed: 0'], axis=1, inplace=True)\n",
    "balanced_df.to_csv('balanced_adult_dataset.csv', index=False)"
   ],
   "metadata": {
    "collapsed": false,
    "ExecuteTime": {
     "end_time": "2024-06-21T14:59:14.445084Z",
     "start_time": "2024-06-21T14:59:14.400434Z"
    }
   },
   "id": "222a71d224158d60",
   "execution_count": 31
  },
  {
   "cell_type": "code",
   "outputs": [
    {
     "name": "stdout",
     "output_type": "stream",
     "text": [
      "Training data saved to train_balanced.csv\n",
      "Testing data saved to test_balanced.csv\n"
     ]
    }
   ],
   "source": [
    "train_df_b, test_df_b = split_and_save_data(balanced_df, train_filepath='train_balanced.csv', test_filepath='test_balanced.csv')"
   ],
   "metadata": {
    "collapsed": false,
    "ExecuteTime": {
     "end_time": "2024-06-21T14:59:17.996609Z",
     "start_time": "2024-06-21T14:59:17.945110Z"
    }
   },
   "id": "1a609c90fc1107b9",
   "execution_count": 32
  },
  {
   "cell_type": "code",
   "outputs": [
    {
     "data": {
      "text/plain": "((18465, 14), (4617, 14))"
     },
     "execution_count": 33,
     "metadata": {},
     "output_type": "execute_result"
    }
   ],
   "source": [
    "train_df_b.shape, test_df_b.shape"
   ],
   "metadata": {
    "collapsed": false,
    "ExecuteTime": {
     "end_time": "2024-06-21T14:59:20.771501Z",
     "start_time": "2024-06-21T14:59:20.764014Z"
    }
   },
   "id": "86bbe314dc7dd6c3",
   "execution_count": 33
  },
  {
   "cell_type": "code",
   "outputs": [
    {
     "data": {
      "text/plain": "       age  workclass  fnlwgt  education-num  marital-status  occupation  \\\n1359    58          4  169611              9               2           1   \n11790   76          5   99328             13               2           5   \n12413   53          4  172962             15               2          10   \n16511   30          4  205950             10               2           7   \n14831   50          2   68898             16               2           4   \n\n       relationship  race  sex  capital-gain  capital-loss  hours-per-week  \\\n1359              5     4    0             0             0              40   \n11790             0     4    1          6514             0              40   \n12413             0     4    1             0             0              40   \n16511             0     4    1             0             0              40   \n14831             0     4    1             0             0              55   \n\n       native-country  class  \n1359               39      0  \n11790              39      1  \n12413              39      1  \n16511              39      1  \n14831              39      1  ",
      "text/html": "<div>\n<style scoped>\n    .dataframe tbody tr th:only-of-type {\n        vertical-align: middle;\n    }\n\n    .dataframe tbody tr th {\n        vertical-align: top;\n    }\n\n    .dataframe thead th {\n        text-align: right;\n    }\n</style>\n<table border=\"1\" class=\"dataframe\">\n  <thead>\n    <tr style=\"text-align: right;\">\n      <th></th>\n      <th>age</th>\n      <th>workclass</th>\n      <th>fnlwgt</th>\n      <th>education-num</th>\n      <th>marital-status</th>\n      <th>occupation</th>\n      <th>relationship</th>\n      <th>race</th>\n      <th>sex</th>\n      <th>capital-gain</th>\n      <th>capital-loss</th>\n      <th>hours-per-week</th>\n      <th>native-country</th>\n      <th>class</th>\n    </tr>\n  </thead>\n  <tbody>\n    <tr>\n      <th>1359</th>\n      <td>58</td>\n      <td>4</td>\n      <td>169611</td>\n      <td>9</td>\n      <td>2</td>\n      <td>1</td>\n      <td>5</td>\n      <td>4</td>\n      <td>0</td>\n      <td>0</td>\n      <td>0</td>\n      <td>40</td>\n      <td>39</td>\n      <td>0</td>\n    </tr>\n    <tr>\n      <th>11790</th>\n      <td>76</td>\n      <td>5</td>\n      <td>99328</td>\n      <td>13</td>\n      <td>2</td>\n      <td>5</td>\n      <td>0</td>\n      <td>4</td>\n      <td>1</td>\n      <td>6514</td>\n      <td>0</td>\n      <td>40</td>\n      <td>39</td>\n      <td>1</td>\n    </tr>\n    <tr>\n      <th>12413</th>\n      <td>53</td>\n      <td>4</td>\n      <td>172962</td>\n      <td>15</td>\n      <td>2</td>\n      <td>10</td>\n      <td>0</td>\n      <td>4</td>\n      <td>1</td>\n      <td>0</td>\n      <td>0</td>\n      <td>40</td>\n      <td>39</td>\n      <td>1</td>\n    </tr>\n    <tr>\n      <th>16511</th>\n      <td>30</td>\n      <td>4</td>\n      <td>205950</td>\n      <td>10</td>\n      <td>2</td>\n      <td>7</td>\n      <td>0</td>\n      <td>4</td>\n      <td>1</td>\n      <td>0</td>\n      <td>0</td>\n      <td>40</td>\n      <td>39</td>\n      <td>1</td>\n    </tr>\n    <tr>\n      <th>14831</th>\n      <td>50</td>\n      <td>2</td>\n      <td>68898</td>\n      <td>16</td>\n      <td>2</td>\n      <td>4</td>\n      <td>0</td>\n      <td>4</td>\n      <td>1</td>\n      <td>0</td>\n      <td>0</td>\n      <td>55</td>\n      <td>39</td>\n      <td>1</td>\n    </tr>\n  </tbody>\n</table>\n</div>"
     },
     "execution_count": 34,
     "metadata": {},
     "output_type": "execute_result"
    }
   ],
   "source": [
    "train_df_b.head()"
   ],
   "metadata": {
    "collapsed": false,
    "ExecuteTime": {
     "end_time": "2024-06-21T14:59:27.021022Z",
     "start_time": "2024-06-21T14:59:27.004514Z"
    }
   },
   "id": "99206dcb4abaef8d",
   "execution_count": 34
  }
 ],
 "metadata": {
  "kernelspec": {
   "display_name": "Python 3",
   "language": "python",
   "name": "python3"
  },
  "language_info": {
   "codemirror_mode": {
    "name": "ipython",
    "version": 2
   },
   "file_extension": ".py",
   "mimetype": "text/x-python",
   "name": "python",
   "nbconvert_exporter": "python",
   "pygments_lexer": "ipython2",
   "version": "2.7.6"
  }
 },
 "nbformat": 4,
 "nbformat_minor": 5
}
