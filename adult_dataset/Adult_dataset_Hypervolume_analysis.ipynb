{
 "cells": [
  {
   "cell_type": "code",
   "execution_count": 13,
   "id": "initial_id",
   "metadata": {
    "collapsed": true,
    "ExecuteTime": {
     "end_time": "2024-06-25T07:00:45.794188Z",
     "start_time": "2024-06-25T07:00:45.793115Z"
    }
   },
   "outputs": [],
   "source": [
    "import os\n",
    "import pandas as pd\n",
    "import numpy as np\n"
   ]
  },
  {
   "cell_type": "code",
   "outputs": [],
   "source": [
    "def load_hypervolume_data(base_dir):\n",
    "    data_dict = {}\n",
    "    \n",
    "    for folder_name in os.listdir(base_dir):\n",
    "        folder_path = os.path.join(base_dir, folder_name)\n",
    "        \n",
    "        # Ensure it's a directory\n",
    "        if os.path.isdir(folder_path):\n",
    "            hypervolume_path = os.path.join(folder_path, 'hyper_volume.csv')\n",
    "            \n",
    "            # Check if hyper_volume.csv exists in the folder\n",
    "            if os.path.exists(hypervolume_path):\n",
    "                df = pd.read_csv(hypervolume_path)\n",
    "                data_dict[folder_name] = df\n",
    "    \n",
    "    return data_dict"
   ],
   "metadata": {
    "collapsed": false,
    "ExecuteTime": {
     "end_time": "2024-06-25T07:00:46.043482Z",
     "start_time": "2024-06-25T07:00:46.040023Z"
    }
   },
   "id": "51441ea312ef931d",
   "execution_count": 14
  },
  {
   "cell_type": "code",
   "outputs": [],
   "source": [
    "def remove_exceeding_rows(df, column_name, value):\n",
    "    \"\"\"\n",
    "    Remove rows from the DataFrame where the column's value exceeds the given value.\n",
    "\n",
    "    Parameters:\n",
    "    df (pd.DataFrame): The input DataFrame.\n",
    "    column_name (str): The name of the column to check the values.\n",
    "    value (numeric): The threshold value.\n",
    "\n",
    "    Returns:\n",
    "    pd.DataFrame: A DataFrame with the rows removed where the column's value exceeds the given value.\n",
    "    \"\"\"\n",
    "    # Ensure the column exists in the DataFrame\n",
    "    if column_name not in df.columns:\n",
    "        raise ValueError(f\"Column '{column_name}' does not exist in the DataFrame\")\n",
    "    \n",
    "    # Filter the DataFrame\n",
    "    filtered_df = df[df[column_name] <= value]\n",
    "    \n",
    "    return filtered_df"
   ],
   "metadata": {
    "collapsed": false,
    "ExecuteTime": {
     "end_time": "2024-06-25T07:00:46.897915Z",
     "start_time": "2024-06-25T07:00:46.892529Z"
    }
   },
   "id": "51fa2167d5add9a1",
   "execution_count": 15
  },
  {
   "cell_type": "markdown",
   "source": [
    "### load all the hyper-volume data"
   ],
   "metadata": {
    "collapsed": false
   },
   "id": "772649ff6d84bcf6"
  },
  {
   "cell_type": "code",
   "outputs": [],
   "source": [
    "NSGAIII_directory =  \"output/NSGAIII_multi\"\n",
    "NSGAIII_hypervolume = load_hypervolume_data(NSGAIII_directory)\n",
    "\n",
    "NSGAII_directory =  \"output/NSGAII_multi\"\n",
    "NSGAII_hypervolume = load_hypervolume_data(NSGAII_directory)"
   ],
   "metadata": {
    "collapsed": false,
    "ExecuteTime": {
     "end_time": "2024-06-25T09:38:34.087287Z",
     "start_time": "2024-06-25T09:38:33.735833Z"
    }
   },
   "id": "4a12935d8a73bde5",
   "execution_count": 19
  },
  {
   "cell_type": "markdown",
   "source": [
    "## Calculate the mean of hyper-volume across all the runs and across all the examples."
   ],
   "metadata": {
    "collapsed": false
   },
   "id": "ba66ad8077accbb2"
  },
  {
   "cell_type": "markdown",
   "source": [
    "#### 1. NSGA-II"
   ],
   "metadata": {
    "collapsed": false
   },
   "id": "17eef32054083430"
  },
  {
   "cell_type": "code",
   "outputs": [
    {
     "name": "stdout",
     "output_type": "stream",
     "text": [
      "20 :  0.7193317812700987\n",
      "18 :  0.7194481337614415\n",
      "27 :  0.7725875785194641\n",
      "9 :  0.7341670737770453\n",
      "0 :  0.6536870413060891\n",
      "11 :  0.7757829158835269\n",
      "7 :  0.751587992315505\n",
      "29 :  0.7835275360771751\n",
      "16 :  0.7610937772803936\n",
      "6 :  0.6940023816276304\n",
      "28 :  0.7661822124048361\n",
      "17 :  0.6099883760698825\n",
      "1 :  0.7242976819703965\n",
      "10 :  0.7483181133020367\n",
      "19 :  0.773974203891809\n",
      "26 :  0.8340324463517959\n",
      "8 :  0.6792649320847413\n",
      "21 :  0.712880673147572\n",
      "24 :  0.7417750295736558\n",
      "23 :  0.7548485957100145\n",
      "4 :  0.7411134339992903\n",
      "15 :  0.7275091827497154\n",
      "3 :  0.7075395143960217\n",
      "12 :  0.7618768239848464\n",
      "2 :  0.729612673655087\n",
      "13 :  0.7170719206081704\n",
      "5 :  0.7663859157324358\n",
      "14 :  0.7695062475181355\n",
      "22 :  0.6470805238157226\n",
      "25 :  0.7127627238568607\n",
      "[0.7193317812700987, 0.7194481337614415, 0.7725875785194641, 0.7341670737770453, 0.6536870413060891, 0.7757829158835269, 0.751587992315505, 0.7835275360771751, 0.7610937772803936, 0.6940023816276304, 0.7661822124048361, 0.6099883760698825, 0.7242976819703965, 0.7483181133020367, 0.773974203891809, 0.8340324463517959, 0.6792649320847413, 0.712880673147572, 0.7417750295736558, 0.7548485957100145, 0.7411134339992903, 0.7275091827497154, 0.7075395143960217, 0.7618768239848464, 0.729612673655087, 0.7170719206081704, 0.7663859157324358, 0.7695062475181355, 0.6470805238157226, 0.7127627238568607]\n",
      "Hypervolume mean for NSGA-II over all the input and run:  0.7330412478880466\n"
     ]
    }
   ],
   "source": [
    "NSGAII_hypervolume_list = []\n",
    "for key, value in NSGAII_hypervolume.items():\n",
    "    value = remove_exceeding_rows(value, \"hyper_volume\", 1.0)\n",
    "    print(key, \": \",  value['hyper_volume'].mean())\n",
    "    NSGAII_hypervolume_list.append(value['hyper_volume'].mean())\n",
    "\n",
    "print(NSGAII_hypervolume_list)\n",
    "print(\"Hypervolume mean for NSGA-II over all the input and run: \", np.mean(NSGAII_hypervolume_list))\n",
    "    "
   ],
   "metadata": {
    "collapsed": false,
    "ExecuteTime": {
     "end_time": "2024-06-25T09:38:35.331151Z",
     "start_time": "2024-06-25T09:38:35.328723Z"
    }
   },
   "id": "91a060ef5e96e5c6",
   "execution_count": 20
  },
  {
   "cell_type": "code",
   "outputs": [
    {
     "name": "stdout",
     "output_type": "stream",
     "text": [
      "20 :  0.7312259110641851\n",
      "18 :  0.6930988519798158\n",
      "27 :  0.769838600032612\n",
      "9 :  0.7373726808329669\n",
      "0 :  0.5861495472384431\n",
      "11 :  0.7681451442796743\n",
      "7 :  0.7467068385553717\n",
      "29 :  0.7696299823308966\n",
      "16 :  0.7577149570798345\n",
      "6 :  0.6095754958758969\n",
      "28 :  0.7551407101840141\n",
      "17 :  0.5644015658919607\n",
      "1 :  0.6987268142550193\n",
      "10 :  0.7367570393124121\n",
      "19 :  0.7412039408767498\n",
      "26 :  0.8383949089517728\n",
      "8 :  0.6901987071690769\n",
      "21 :  0.716988883150744\n",
      "24 :  0.7293816796990616\n",
      "23 :  0.745525736670705\n",
      "4 :  0.7335878095090796\n",
      "15 :  0.7284256295972853\n",
      "3 :  0.6466374180495582\n",
      "12 :  0.7545517075225462\n",
      "2 :  0.6925672625598736\n",
      "13 :  0.7092098840209776\n",
      "5 :  0.7153733317162827\n",
      "14 :  0.7714220439473176\n",
      "22 :  0.6211427946902063\n",
      "25 :  0.6814224556412853\n",
      "[0.7312259110641851, 0.6930988519798158, 0.769838600032612, 0.7373726808329669, 0.5861495472384431, 0.7681451442796743, 0.7467068385553717, 0.7696299823308966, 0.7577149570798345, 0.6095754958758969, 0.7551407101840141, 0.5644015658919607, 0.6987268142550193, 0.7367570393124121, 0.7412039408767498, 0.8383949089517728, 0.6901987071690769, 0.716988883150744, 0.7293816796990616, 0.745525736670705, 0.7335878095090796, 0.7284256295972853, 0.6466374180495582, 0.7545517075225462, 0.6925672625598736, 0.7092098840209776, 0.7153733317162827, 0.7714220439473176, 0.6211427946902063, 0.6814224556412853]\n",
      "Hypervolume mean for NSGA-III over all the input and run:  0.7146839444228543\n"
     ]
    }
   ],
   "source": [
    "NSGAIII_hypervolume_list = []\n",
    "for key, value in NSGAIII_hypervolume.items():\n",
    "    value = remove_exceeding_rows(value, \"hyper_volume\", 1.0)\n",
    "    print(key, \": \",  value['hyper_volume'].mean())\n",
    "    NSGAIII_hypervolume_list.append(value['hyper_volume'].mean())\n",
    "\n",
    "print(NSGAIII_hypervolume_list)\n",
    "print(\"Hypervolume mean for NSGA-III over all the input and run: \", np.mean(NSGAIII_hypervolume_list))"
   ],
   "metadata": {
    "collapsed": false,
    "ExecuteTime": {
     "end_time": "2024-06-25T09:38:36.175497Z",
     "start_time": "2024-06-25T09:38:36.173234Z"
    }
   },
   "id": "73e833f82b6a7d64",
   "execution_count": 21
  },
  {
   "cell_type": "code",
   "outputs": [],
   "source": [],
   "metadata": {
    "collapsed": false,
    "ExecuteTime": {
     "end_time": "2024-06-25T09:38:36.668603Z",
     "start_time": "2024-06-25T09:38:36.665971Z"
    }
   },
   "id": "7d40b77f809ca74c",
   "execution_count": 21
  },
  {
   "cell_type": "code",
   "outputs": [],
   "source": [],
   "metadata": {
    "collapsed": false
   },
   "id": "65b51f0856009870"
  }
 ],
 "metadata": {
  "kernelspec": {
   "display_name": "Python 3",
   "language": "python",
   "name": "python3"
  },
  "language_info": {
   "codemirror_mode": {
    "name": "ipython",
    "version": 2
   },
   "file_extension": ".py",
   "mimetype": "text/x-python",
   "name": "python",
   "nbconvert_exporter": "python",
   "pygments_lexer": "ipython2",
   "version": "2.7.6"
  }
 },
 "nbformat": 4,
 "nbformat_minor": 5
}
