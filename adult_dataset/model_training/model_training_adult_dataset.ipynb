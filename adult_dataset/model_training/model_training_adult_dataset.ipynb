{
 "cells": [
  {
   "cell_type": "code",
   "execution_count": 32,
   "id": "initial_id",
   "metadata": {
    "collapsed": true,
    "ExecuteTime": {
     "end_time": "2024-06-21T14:59:37.402945Z",
     "start_time": "2024-06-21T14:59:37.399197Z"
    }
   },
   "outputs": [],
   "source": [
    "import torch\n",
    "import torch.nn as nn\n",
    "import torch.optim as optim\n",
    "import pandas as pd"
   ]
  },
  {
   "cell_type": "markdown",
   "source": [
    "## load dataset for training and testing"
   ],
   "metadata": {
    "collapsed": false
   },
   "id": "adc62e1101041835"
  },
  {
   "cell_type": "code",
   "outputs": [],
   "source": [
    "train = pd.read_csv('./../train_balanced.csv')\n",
    "# train.drop(['Unnamed: 0'], axis=1, inplace=True)\n",
    "\n",
    "test = pd.read_csv('./../test_balanced.csv')\n",
    "# test.drop(['Unnamed: 0'], axis=1, inplace=True)"
   ],
   "metadata": {
    "collapsed": false,
    "ExecuteTime": {
     "end_time": "2024-06-21T14:59:40.009325Z",
     "start_time": "2024-06-21T14:59:39.982693Z"
    }
   },
   "id": "dd2d7fcc9c374b6e",
   "execution_count": 33
  },
  {
   "cell_type": "code",
   "outputs": [],
   "source": [
    "X_train = train.iloc[:, 0:13].values\n",
    "y_train = train.iloc[:, 13].values\n",
    "# print(y_train)\n",
    "X_train = torch.tensor(X_train, dtype=torch.float32)\n",
    "y_train = torch.tensor(y_train, dtype=torch.float32).reshape(-1, 1)"
   ],
   "metadata": {
    "collapsed": false,
    "ExecuteTime": {
     "end_time": "2024-06-21T14:59:58.513282Z",
     "start_time": "2024-06-21T14:59:58.508192Z"
    }
   },
   "id": "f9babd9b7bf944f3",
   "execution_count": 35
  },
  {
   "cell_type": "code",
   "outputs": [],
   "source": [
    "X_test = test.iloc[:, 0:13].values\n",
    "y_test = test.iloc[:, 13].values\n",
    "\n",
    "X_test = torch.tensor(X_test, dtype=torch.float32)\n",
    "y_test = torch.tensor(y_test, dtype=torch.float32).reshape(-1, 1)"
   ],
   "metadata": {
    "collapsed": false,
    "ExecuteTime": {
     "end_time": "2024-06-21T15:00:07.902223Z",
     "start_time": "2024-06-21T15:00:07.896303Z"
    }
   },
   "id": "a6a132d4ef70594c",
   "execution_count": 36
  },
  {
   "cell_type": "code",
   "outputs": [
    {
     "data": {
      "text/plain": "    age  workclass  fnlwgt  education-num  marital-status  occupation  \\\n0    58          4  169611              9               2           1   \n1    76          5   99328             13               2           5   \n2    53          4  172962             15               2          10   \n3    30          4  205950             10               2           7   \n4    50          2   68898             16               2           4   \n5    68          4  193666             16               2          10   \n6    55          6  308746             15               6          10   \n7    53          4  270655              8               2          13   \n8    41          7  190910              9               2           5   \n9    49          2  298445             15               2          10   \n10   18          4  400616             10               4           1   \n11   27          4  247102              6               0           6   \n12   55          0  141807              9               4           0   \n13   21          4   75763             10               2          12   \n14   39          4  111275              9               2           3   \n15   22          4  242912              9               4           8   \n16   20          4   42706             10               4           1   \n17   47          4  129513             13               2           4   \n18   49          4  169760             13               2          10   \n19   47          4   54260              7               4           6   \n\n    relationship  race  sex  capital-gain  capital-loss  hours-per-week  \\\n0              5     4    0             0             0              40   \n1              0     4    1          6514             0              40   \n2              0     4    1             0             0              40   \n3              0     4    1             0             0              40   \n4              0     4    1             0             0              55   \n5              0     4    1         20051             0              55   \n6              1     4    1             0             0              55   \n7              0     4    1             0             0              45   \n8              2     4    1             0             0              40   \n9              5     4    0             0          1977              60   \n10             3     4    1             0             0              40   \n11             3     4    1             0             0              40   \n12             1     4    1         13550             0              40   \n13             5     0    0             0             0              40   \n14             0     4    1             0             0              40   \n15             4     4    0             0             0              35   \n16             1     4    1             0             0              25   \n17             0     4    1             0             0              60   \n18             5     4    0             0             0              50   \n19             3     4    1             0             0              40   \n\n    native-country  class  \n0               39      0  \n1               39      1  \n2               39      1  \n3               39      1  \n4               39      1  \n5               39      1  \n6               39      1  \n7               39      1  \n8               39      0  \n9               39      1  \n10              39      0  \n11              39      0  \n12              39      1  \n13              39      0  \n14              39      0  \n15              39      0  \n16              39      0  \n17              39      1  \n18              39      1  \n19              39      0  ",
      "text/html": "<div>\n<style scoped>\n    .dataframe tbody tr th:only-of-type {\n        vertical-align: middle;\n    }\n\n    .dataframe tbody tr th {\n        vertical-align: top;\n    }\n\n    .dataframe thead th {\n        text-align: right;\n    }\n</style>\n<table border=\"1\" class=\"dataframe\">\n  <thead>\n    <tr style=\"text-align: right;\">\n      <th></th>\n      <th>age</th>\n      <th>workclass</th>\n      <th>fnlwgt</th>\n      <th>education-num</th>\n      <th>marital-status</th>\n      <th>occupation</th>\n      <th>relationship</th>\n      <th>race</th>\n      <th>sex</th>\n      <th>capital-gain</th>\n      <th>capital-loss</th>\n      <th>hours-per-week</th>\n      <th>native-country</th>\n      <th>class</th>\n    </tr>\n  </thead>\n  <tbody>\n    <tr>\n      <th>0</th>\n      <td>58</td>\n      <td>4</td>\n      <td>169611</td>\n      <td>9</td>\n      <td>2</td>\n      <td>1</td>\n      <td>5</td>\n      <td>4</td>\n      <td>0</td>\n      <td>0</td>\n      <td>0</td>\n      <td>40</td>\n      <td>39</td>\n      <td>0</td>\n    </tr>\n    <tr>\n      <th>1</th>\n      <td>76</td>\n      <td>5</td>\n      <td>99328</td>\n      <td>13</td>\n      <td>2</td>\n      <td>5</td>\n      <td>0</td>\n      <td>4</td>\n      <td>1</td>\n      <td>6514</td>\n      <td>0</td>\n      <td>40</td>\n      <td>39</td>\n      <td>1</td>\n    </tr>\n    <tr>\n      <th>2</th>\n      <td>53</td>\n      <td>4</td>\n      <td>172962</td>\n      <td>15</td>\n      <td>2</td>\n      <td>10</td>\n      <td>0</td>\n      <td>4</td>\n      <td>1</td>\n      <td>0</td>\n      <td>0</td>\n      <td>40</td>\n      <td>39</td>\n      <td>1</td>\n    </tr>\n    <tr>\n      <th>3</th>\n      <td>30</td>\n      <td>4</td>\n      <td>205950</td>\n      <td>10</td>\n      <td>2</td>\n      <td>7</td>\n      <td>0</td>\n      <td>4</td>\n      <td>1</td>\n      <td>0</td>\n      <td>0</td>\n      <td>40</td>\n      <td>39</td>\n      <td>1</td>\n    </tr>\n    <tr>\n      <th>4</th>\n      <td>50</td>\n      <td>2</td>\n      <td>68898</td>\n      <td>16</td>\n      <td>2</td>\n      <td>4</td>\n      <td>0</td>\n      <td>4</td>\n      <td>1</td>\n      <td>0</td>\n      <td>0</td>\n      <td>55</td>\n      <td>39</td>\n      <td>1</td>\n    </tr>\n    <tr>\n      <th>5</th>\n      <td>68</td>\n      <td>4</td>\n      <td>193666</td>\n      <td>16</td>\n      <td>2</td>\n      <td>10</td>\n      <td>0</td>\n      <td>4</td>\n      <td>1</td>\n      <td>20051</td>\n      <td>0</td>\n      <td>55</td>\n      <td>39</td>\n      <td>1</td>\n    </tr>\n    <tr>\n      <th>6</th>\n      <td>55</td>\n      <td>6</td>\n      <td>308746</td>\n      <td>15</td>\n      <td>6</td>\n      <td>10</td>\n      <td>1</td>\n      <td>4</td>\n      <td>1</td>\n      <td>0</td>\n      <td>0</td>\n      <td>55</td>\n      <td>39</td>\n      <td>1</td>\n    </tr>\n    <tr>\n      <th>7</th>\n      <td>53</td>\n      <td>4</td>\n      <td>270655</td>\n      <td>8</td>\n      <td>2</td>\n      <td>13</td>\n      <td>0</td>\n      <td>4</td>\n      <td>1</td>\n      <td>0</td>\n      <td>0</td>\n      <td>45</td>\n      <td>39</td>\n      <td>1</td>\n    </tr>\n    <tr>\n      <th>8</th>\n      <td>41</td>\n      <td>7</td>\n      <td>190910</td>\n      <td>9</td>\n      <td>2</td>\n      <td>5</td>\n      <td>2</td>\n      <td>4</td>\n      <td>1</td>\n      <td>0</td>\n      <td>0</td>\n      <td>40</td>\n      <td>39</td>\n      <td>0</td>\n    </tr>\n    <tr>\n      <th>9</th>\n      <td>49</td>\n      <td>2</td>\n      <td>298445</td>\n      <td>15</td>\n      <td>2</td>\n      <td>10</td>\n      <td>5</td>\n      <td>4</td>\n      <td>0</td>\n      <td>0</td>\n      <td>1977</td>\n      <td>60</td>\n      <td>39</td>\n      <td>1</td>\n    </tr>\n    <tr>\n      <th>10</th>\n      <td>18</td>\n      <td>4</td>\n      <td>400616</td>\n      <td>10</td>\n      <td>4</td>\n      <td>1</td>\n      <td>3</td>\n      <td>4</td>\n      <td>1</td>\n      <td>0</td>\n      <td>0</td>\n      <td>40</td>\n      <td>39</td>\n      <td>0</td>\n    </tr>\n    <tr>\n      <th>11</th>\n      <td>27</td>\n      <td>4</td>\n      <td>247102</td>\n      <td>6</td>\n      <td>0</td>\n      <td>6</td>\n      <td>3</td>\n      <td>4</td>\n      <td>1</td>\n      <td>0</td>\n      <td>0</td>\n      <td>40</td>\n      <td>39</td>\n      <td>0</td>\n    </tr>\n    <tr>\n      <th>12</th>\n      <td>55</td>\n      <td>0</td>\n      <td>141807</td>\n      <td>9</td>\n      <td>4</td>\n      <td>0</td>\n      <td>1</td>\n      <td>4</td>\n      <td>1</td>\n      <td>13550</td>\n      <td>0</td>\n      <td>40</td>\n      <td>39</td>\n      <td>1</td>\n    </tr>\n    <tr>\n      <th>13</th>\n      <td>21</td>\n      <td>4</td>\n      <td>75763</td>\n      <td>10</td>\n      <td>2</td>\n      <td>12</td>\n      <td>5</td>\n      <td>0</td>\n      <td>0</td>\n      <td>0</td>\n      <td>0</td>\n      <td>40</td>\n      <td>39</td>\n      <td>0</td>\n    </tr>\n    <tr>\n      <th>14</th>\n      <td>39</td>\n      <td>4</td>\n      <td>111275</td>\n      <td>9</td>\n      <td>2</td>\n      <td>3</td>\n      <td>0</td>\n      <td>4</td>\n      <td>1</td>\n      <td>0</td>\n      <td>0</td>\n      <td>40</td>\n      <td>39</td>\n      <td>0</td>\n    </tr>\n    <tr>\n      <th>15</th>\n      <td>22</td>\n      <td>4</td>\n      <td>242912</td>\n      <td>9</td>\n      <td>4</td>\n      <td>8</td>\n      <td>4</td>\n      <td>4</td>\n      <td>0</td>\n      <td>0</td>\n      <td>0</td>\n      <td>35</td>\n      <td>39</td>\n      <td>0</td>\n    </tr>\n    <tr>\n      <th>16</th>\n      <td>20</td>\n      <td>4</td>\n      <td>42706</td>\n      <td>10</td>\n      <td>4</td>\n      <td>1</td>\n      <td>1</td>\n      <td>4</td>\n      <td>1</td>\n      <td>0</td>\n      <td>0</td>\n      <td>25</td>\n      <td>39</td>\n      <td>0</td>\n    </tr>\n    <tr>\n      <th>17</th>\n      <td>47</td>\n      <td>4</td>\n      <td>129513</td>\n      <td>13</td>\n      <td>2</td>\n      <td>4</td>\n      <td>0</td>\n      <td>4</td>\n      <td>1</td>\n      <td>0</td>\n      <td>0</td>\n      <td>60</td>\n      <td>39</td>\n      <td>1</td>\n    </tr>\n    <tr>\n      <th>18</th>\n      <td>49</td>\n      <td>4</td>\n      <td>169760</td>\n      <td>13</td>\n      <td>2</td>\n      <td>10</td>\n      <td>5</td>\n      <td>4</td>\n      <td>0</td>\n      <td>0</td>\n      <td>0</td>\n      <td>50</td>\n      <td>39</td>\n      <td>1</td>\n    </tr>\n    <tr>\n      <th>19</th>\n      <td>47</td>\n      <td>4</td>\n      <td>54260</td>\n      <td>7</td>\n      <td>4</td>\n      <td>6</td>\n      <td>3</td>\n      <td>4</td>\n      <td>1</td>\n      <td>0</td>\n      <td>0</td>\n      <td>40</td>\n      <td>39</td>\n      <td>0</td>\n    </tr>\n  </tbody>\n</table>\n</div>"
     },
     "execution_count": 38,
     "metadata": {},
     "output_type": "execute_result"
    }
   ],
   "source": [
    "train.head(20)"
   ],
   "metadata": {
    "collapsed": false,
    "ExecuteTime": {
     "end_time": "2024-06-21T15:00:48.798202Z",
     "start_time": "2024-06-21T15:00:48.795939Z"
    }
   },
   "id": "9a75cc8b3298c555",
   "execution_count": 38
  },
  {
   "cell_type": "code",
   "outputs": [
    {
     "name": "stdout",
     "output_type": "stream",
     "text": [
      "(4617, 13)\n"
     ]
    }
   ],
   "source": [
    "from sklearn.preprocessing import StandardScaler\n",
    "from pickle import dump , load\n",
    "\n",
    "columns_to_standardize = [0, 1, 2, 3, 4, 5, 6, 7, 9, 10, 11, 12]\n",
    "scaler = StandardScaler()\n",
    "\n",
    "X_train_np = X_train.numpy()\n",
    "X_test_np = X_test.numpy()\n",
    "print(X_test_np.shape)\n",
    "\n",
    "# Fit the scaler on the training data columns\n",
    "scaler.fit(X_train_np[:, columns_to_standardize])\n",
    "\n",
    "# Standardize the selected columns in both X_train and X_test\n",
    "X_train_np[:, columns_to_standardize] = scaler.transform(X_train_np[:, columns_to_standardize])\n",
    "X_test_np[:, columns_to_standardize] = scaler.transform(X_test_np[:, columns_to_standardize])\n",
    "\n",
    "# Convert back to PyTorch tensors\n",
    "X_train = torch.from_numpy(X_train_np).type(torch.float) \n",
    "X_test = torch.from_numpy(X_test_np).type(torch.float)\n",
    "\n",
    "\n",
    "# save standard scaler model.\n",
    "# save model\n",
    "dump(scaler, open('StandardScaler.pkl', 'wb'))\n",
    "\n",
    "# load model\n",
    "scaler = load(open('StandardScaler.pkl', 'rb'))"
   ],
   "metadata": {
    "collapsed": false,
    "ExecuteTime": {
     "end_time": "2024-06-21T15:02:03.703878Z",
     "start_time": "2024-06-21T15:02:03.686720Z"
    }
   },
   "id": "8e7c65b3c3862e4e",
   "execution_count": 39
  },
  {
   "cell_type": "code",
   "outputs": [
    {
     "name": "stdout",
     "output_type": "stream",
     "text": [
      "AdultClassifier(\n",
      "  (hidden1): Linear(in_features=13, out_features=64, bias=True)\n",
      "  (act1): ReLU()\n",
      "  (hidden2): Linear(in_features=64, out_features=128, bias=True)\n",
      "  (act2): ReLU()\n",
      "  (hidden3): Linear(in_features=128, out_features=32, bias=True)\n",
      "  (act3): ReLU()\n",
      "  (hidden4): Linear(in_features=32, out_features=16, bias=True)\n",
      "  (act4): ReLU()\n",
      "  (output): Linear(in_features=16, out_features=1, bias=True)\n",
      "  (act_output): Sigmoid()\n",
      "  (dropout): Dropout(p=0.1, inplace=False)\n",
      ")\n"
     ]
    }
   ],
   "source": [
    "class AdultClassifier(nn.Module):\n",
    "    def __init__(self):\n",
    "        super().__init__()\n",
    "        self.hidden1 = nn.Linear(13, 64)\n",
    "        self.act1 = nn.ReLU()\n",
    "        self.hidden2 = nn.Linear(64, 128)\n",
    "        self.act2 = nn.ReLU()\n",
    "        self.hidden3 = nn.Linear(128, 32)\n",
    "        self.act3 = nn.ReLU()\n",
    "        self.hidden4 = nn.Linear(32, 16)\n",
    "        self.act4 = nn.ReLU()\n",
    "        self.output = nn.Linear(16, 1)\n",
    "        self.act_output = nn.Sigmoid()\n",
    "        self.dropout = nn.Dropout(0.1)\n",
    "\n",
    "    def forward(self, x):\n",
    "        x = self.dropout(self.act1(self.hidden1(x)))\n",
    "        x = self.dropout(self.act2(self.hidden2(x)))\n",
    "        x = self.dropout(self.act3(self.hidden3(x)))\n",
    "        x = self.dropout(self.act4(self.hidden4(x)))\n",
    "        # x = self.output(x)\n",
    "        x = self.act_output(self.output(x))\n",
    "        return x\n",
    "\n",
    "model = AdultClassifier()\n",
    "print(model)\n",
    "\n",
    "# loss function and optimizer\n",
    "loss_fn = nn.BCELoss() # binary cross entropy\n",
    "optimizer = optim.Adam(model.parameters(), lr=0.001)"
   ],
   "metadata": {
    "collapsed": false,
    "ExecuteTime": {
     "end_time": "2024-06-21T15:02:17.762462Z",
     "start_time": "2024-06-21T15:02:17.748182Z"
    }
   },
   "id": "9530e4a4e95acc07",
   "execution_count": 42
  },
  {
   "cell_type": "code",
   "outputs": [],
   "source": [
    "def evaluate(model, X_test, y_test):\n",
    "    model.eval()\n",
    "    with torch.no_grad():\n",
    "        y_pred = model(X_test)\n",
    "        # print(\"y_pred :\",  y_pred)\n",
    "        # print(\"y_round  :\",  y_pred.round())\n",
    "    accuracy = (y_pred.round() == y_test).float().mean()\n",
    "    # print(y_pred, y_test)\n",
    "    return accuracy"
   ],
   "metadata": {
    "collapsed": false,
    "ExecuteTime": {
     "end_time": "2024-06-21T15:02:19.077992Z",
     "start_time": "2024-06-21T15:02:19.075091Z"
    }
   },
   "id": "cb77b9d87d7ac441",
   "execution_count": 43
  },
  {
   "cell_type": "code",
   "outputs": [
    {
     "name": "stdout",
     "output_type": "stream",
     "text": [
      "accuracy before training 0.4964262545108795\n",
      "Finished epoch 0,  accuracy 0.4964262545108795\n",
      "Finished epoch 1,  accuracy 0.78774094581604\n",
      "Finished epoch 2,  accuracy 0.7808100581169128\n",
      "Finished epoch 3,  accuracy 0.7840589284896851\n",
      "Finished epoch 4,  accuracy 0.7658652663230896\n",
      "Finished epoch 5,  accuracy 0.78774094581604\n",
      "Finished epoch 6,  accuracy 0.8009529709815979\n",
      "Finished epoch 7,  accuracy 0.8059346079826355\n",
      "Finished epoch 8,  accuracy 0.7987871170043945\n",
      "Finished epoch 9,  accuracy 0.7574182152748108\n",
      "Finished epoch 10,  accuracy 0.7918561697006226\n",
      "Finished epoch 11,  accuracy 0.6289798617362976\n",
      "Finished epoch 12,  accuracy 0.8013861775398254\n",
      "Finished epoch 13,  accuracy 0.6991552710533142\n",
      "Finished epoch 14,  accuracy 0.8122157454490662\n",
      "Finished epoch 15,  accuracy 0.8098332285881042\n",
      "Finished epoch 16,  accuracy 0.8165475130081177\n",
      "Finished epoch 17,  accuracy 0.8135152459144592\n",
      "Finished epoch 18,  accuracy 0.8078839182853699\n",
      "Finished epoch 19,  accuracy 0.8048516511917114\n",
      "Finished epoch 20,  accuracy 0.8076673150062561\n",
      "Finished epoch 21,  accuracy 0.8035520911216736\n",
      "Finished epoch 22,  accuracy 0.8167641162872314\n",
      "Finished epoch 23,  accuracy 0.8111327886581421\n",
      "Finished epoch 24,  accuracy 0.8180636763572693\n",
      "Finished epoch 25,  accuracy 0.7998700737953186\n",
      "Finished epoch 26,  accuracy 0.8122157454490662\n",
      "Finished epoch 27,  accuracy 0.8037686944007874\n",
      "Finished epoch 28,  accuracy 0.8063677549362183\n",
      "Finished epoch 29,  accuracy 0.7940220832824707\n",
      "Finished epoch 30,  accuracy 0.8102664351463318\n",
      "Finished epoch 31,  accuracy 0.8059346079826355\n",
      "Finished epoch 32,  accuracy 0.801819384098053\n",
      "Finished epoch 33,  accuracy 0.803118884563446\n",
      "Finished epoch 34,  accuracy 0.8115659356117249\n",
      "Finished epoch 35,  accuracy 0.808966875076294\n",
      "Finished epoch 36,  accuracy 0.8117825388908386\n",
      "Finished epoch 37,  accuracy 0.803118884563446\n",
      "Finished epoch 38,  accuracy 0.8046350479125977\n",
      "Finished epoch 39,  accuracy 0.8070175647735596\n",
      "Finished epoch 40,  accuracy 0.8076673150062561\n",
      "Finished epoch 41,  accuracy 0.8119991421699524\n",
      "Finished epoch 42,  accuracy 0.8039852976799011\n",
      "Finished epoch 43,  accuracy 0.8098332285881042\n",
      "Finished epoch 44,  accuracy 0.8076673150062561\n",
      "Finished epoch 45,  accuracy 0.8104829788208008\n",
      "Finished epoch 46,  accuracy 0.8078839182853699\n",
      "Finished epoch 47,  accuracy 0.8072341084480286\n",
      "Finished epoch 48,  accuracy 0.8135152459144592\n",
      "Finished epoch 49,  accuracy 0.7979207038879395\n",
      "Finished epoch 50,  accuracy 0.8119991421699524\n",
      "Finished epoch 51,  accuracy 0.8161143660545349\n",
      "Finished epoch 52,  accuracy 0.8050682544708252\n",
      "Finished epoch 53,  accuracy 0.8106995820999146\n",
      "Finished epoch 54,  accuracy 0.8161143660545349\n",
      "Finished epoch 55,  accuracy 0.8104829788208008\n",
      "Finished epoch 56,  accuracy 0.8072341084480286\n",
      "Finished epoch 57,  accuracy 0.810049831867218\n",
      "Finished epoch 58,  accuracy 0.8009529709815979\n",
      "Finished epoch 59,  accuracy 0.8126488924026489\n",
      "Finished epoch 60,  accuracy 0.7940220832824707\n",
      "Finished epoch 61,  accuracy 0.8042018413543701\n",
      "Finished epoch 62,  accuracy 0.8119991421699524\n",
      "Finished epoch 63,  accuracy 0.8132987022399902\n",
      "Finished epoch 64,  accuracy 0.8126488924026489\n",
      "Finished epoch 65,  accuracy 0.805501401424408\n",
      "Finished epoch 66,  accuracy 0.8091834783554077\n",
      "Finished epoch 67,  accuracy 0.7942386865615845\n",
      "Finished epoch 68,  accuracy 0.8113493323326111\n",
      "Finished epoch 69,  accuracy 0.8109161853790283\n",
      "Finished epoch 70,  accuracy 0.8072341084480286\n",
      "Finished epoch 71,  accuracy 0.8083170652389526\n",
      "Finished epoch 72,  accuracy 0.8139484524726868\n",
      "Finished epoch 73,  accuracy 0.8091834783554077\n",
      "Finished epoch 74,  accuracy 0.8098332285881042\n",
      "Finished epoch 75,  accuracy 0.8081005215644836\n",
      "Finished epoch 76,  accuracy 0.8091834783554077\n",
      "Finished epoch 77,  accuracy 0.8061511516571045\n",
      "Finished epoch 78,  accuracy 0.8074507117271423\n",
      "Finished epoch 79,  accuracy 0.7868745923042297\n",
      "Finished epoch 80,  accuracy 0.8011695742607117\n",
      "Finished epoch 81,  accuracy 0.8059346079826355\n",
      "Finished epoch 82,  accuracy 0.8063677549362183\n",
      "Finished epoch 83,  accuracy 0.8085336685180664\n",
      "Finished epoch 84,  accuracy 0.8048516511917114\n",
      "Finished epoch 85,  accuracy 0.8046350479125977\n",
      "Finished epoch 86,  accuracy 0.8061511516571045\n",
      "Finished epoch 87,  accuracy 0.8050682544708252\n",
      "Finished epoch 88,  accuracy 0.808966875076294\n",
      "Finished epoch 89,  accuracy 0.802035927772522\n",
      "Finished epoch 90,  accuracy 0.8087502717971802\n",
      "Finished epoch 91,  accuracy 0.8042018413543701\n",
      "Finished epoch 92,  accuracy 0.8068009614944458\n",
      "Finished epoch 93,  accuracy 0.8033354878425598\n",
      "Finished epoch 94,  accuracy 0.8083170652389526\n",
      "Finished epoch 95,  accuracy 0.8046350479125977\n",
      "Finished epoch 96,  accuracy 0.8111327886581421\n",
      "Finished epoch 97,  accuracy 0.8048516511917114\n",
      "Finished epoch 98,  accuracy 0.8072341084480286\n",
      "Finished epoch 99,  accuracy 0.8003032207489014\n"
     ]
    }
   ],
   "source": [
    "n_epochs = 100\n",
    "batch_size = 128\n",
    "\n",
    "\n",
    "accuracy = evaluate(model, X_test, y_test)\n",
    "print('accuracy before training {}'.format(accuracy))\n",
    "for epoch in range(n_epochs):\n",
    "    optimizer.zero_grad()\n",
    "    for i in range(0, len(X_train), batch_size):\n",
    "        Xbatch = X_train[i:i+batch_size]\n",
    "        y_pred = model(Xbatch)\n",
    "        ybatch = y_train[i:i+batch_size]\n",
    "        loss = loss_fn(y_pred, ybatch)\n",
    "        # print(loss)\n",
    "        loss.backward()\n",
    "        optimizer.step()\n",
    "    # print(loss.tolist())\n",
    "    # evaluate model on each epoch\n",
    "    accuracy = evaluate(model, X_test, y_test)\n",
    "    print(f'Finished epoch {epoch},  accuracy {accuracy}')"
   ],
   "metadata": {
    "collapsed": false,
    "ExecuteTime": {
     "end_time": "2024-06-21T15:02:25.543458Z",
     "start_time": "2024-06-21T15:02:19.813447Z"
    }
   },
   "id": "6d054ba0c0eb0e32",
   "execution_count": 44
  },
  {
   "cell_type": "markdown",
   "source": [],
   "metadata": {
    "collapsed": false
   },
   "id": "b6ba7d16b625f0cc"
  },
  {
   "cell_type": "code",
   "outputs": [
    {
     "name": "stdout",
     "output_type": "stream",
     "text": [
      "tensor(0.8003)\n"
     ]
    }
   ],
   "source": [
    "accuracy = evaluate(model, X_test, y_test)\n",
    "print(accuracy)"
   ],
   "metadata": {
    "collapsed": false,
    "ExecuteTime": {
     "end_time": "2024-06-21T15:02:28.491403Z",
     "start_time": "2024-06-21T15:02:28.483483Z"
    }
   },
   "id": "628729e8f4789c6b",
   "execution_count": 45
  },
  {
   "cell_type": "markdown",
   "source": [
    "## Save/load model and evaluate "
   ],
   "metadata": {
    "collapsed": false
   },
   "id": "4cfc25b525193e8d"
  },
  {
   "cell_type": "code",
   "outputs": [],
   "source": [
    "torch.save(model, 'adult_credit__model')"
   ],
   "metadata": {
    "collapsed": false,
    "ExecuteTime": {
     "end_time": "2024-06-21T15:02:31.643250Z",
     "start_time": "2024-06-21T15:02:31.640565Z"
    }
   },
   "id": "ec654b09bf985386",
   "execution_count": 46
  },
  {
   "cell_type": "code",
   "outputs": [
    {
     "name": "stdout",
     "output_type": "stream",
     "text": [
      "tensor(0.8003)\n"
     ]
    }
   ],
   "source": [
    "model = torch.load('adult_credit__model')\n",
    "model.eval()\n",
    "accuracy = evaluate(model, X_test, y_test)\n",
    "print(accuracy)"
   ],
   "metadata": {
    "collapsed": false,
    "ExecuteTime": {
     "end_time": "2024-06-21T15:02:31.935738Z",
     "start_time": "2024-06-21T15:02:31.916885Z"
    }
   },
   "id": "9f48106c0cbc9d4b",
   "execution_count": 47
  },
  {
   "cell_type": "markdown",
   "source": [
    "## create util functions for evolution"
   ],
   "metadata": {
    "collapsed": false
   },
   "id": "a0dab6cee79b1226"
  },
  {
   "cell_type": "code",
   "outputs": [],
   "source": [
    "def scale_input_data(scaler, df, columns_to_standardize = [0, 1, 2, 3, 4, 5, 6, 7, 9, 10, 11, 12]):\n",
    "    numpy_array = torch.tensor(df.iloc[:, 0:13].values, dtype=torch.float32)\n",
    "    numpy_array = numpy_array.numpy()\n",
    "    numpy_array[:, columns_to_standardize] = scaler.transform(numpy_array[:, columns_to_standardize])\n",
    "    return numpy_array\n",
    "    "
   ],
   "metadata": {
    "collapsed": false,
    "ExecuteTime": {
     "end_time": "2024-06-21T15:03:02.770472Z",
     "start_time": "2024-06-21T15:03:02.763817Z"
    }
   },
   "id": "87bb7c1c00b4e79f",
   "execution_count": 48
  },
  {
   "cell_type": "code",
   "outputs": [
    {
     "data": {
      "text/plain": "array([[-0.9728292 , -1.437228  , -0.0283375 , ..., -0.25733045,\n         0.47698572,  0.2733499 ],\n       [-0.66309863,  0.01541938,  3.079678  , ..., -0.25733045,\n         0.6420446 , -4.82198   ],\n       [ 1.427583  ,  0.01541938, -0.11982964, ..., -0.25733045,\n        -2.906721  ,  0.2733499 ],\n       ...,\n       [ 0.49839118, -2.1635518 , -0.00976831, ..., -0.25733045,\n         0.47698572,  0.2733499 ],\n       [-0.8953966 ,  0.01541938,  0.6255687 , ..., -0.25733045,\n        -0.18324976,  0.2733499 ],\n       [ 1.1952851 ,  0.01541938, -0.01067085, ..., -0.25733045,\n         0.47698572,  0.2733499 ]], dtype=float32)"
     },
     "execution_count": 49,
     "metadata": {},
     "output_type": "execute_result"
    }
   ],
   "source": [
    "scale_input_data(scaler, test, columns_to_standardize = [0, 1, 2, 3, 4, 5, 6, 7, 9, 10, 11, 12])"
   ],
   "metadata": {
    "collapsed": false,
    "ExecuteTime": {
     "end_time": "2024-06-21T15:03:03.197493Z",
     "start_time": "2024-06-21T15:03:03.168251Z"
    }
   },
   "id": "1f9505ebfd217cd7",
   "execution_count": 49
  },
  {
   "cell_type": "code",
   "outputs": [
    {
     "data": {
      "text/plain": "(4617, 13)"
     },
     "execution_count": 50,
     "metadata": {},
     "output_type": "execute_result"
    }
   ],
   "source": [
    "X_test_np.shape"
   ],
   "metadata": {
    "collapsed": false,
    "ExecuteTime": {
     "end_time": "2024-06-21T15:03:09.743142Z",
     "start_time": "2024-06-21T15:03:09.740693Z"
    }
   },
   "id": "d00a6a70011decfb",
   "execution_count": 50
  },
  {
   "cell_type": "code",
   "outputs": [],
   "source": [
    "import numpy as np\n",
    "# columns_to_standardize = [0, 1, 2, 3, 4, 5, 6, 7, 8, 10, 11, 12, 13]\n",
    "# \n",
    "# def eval_model(model, input):\n",
    "#         # print(input)\n",
    "#         model.eval()\n",
    "#         with torch.no_grad():\n",
    "#             prob = model(input)\n",
    "#             # print(prob)\n",
    "#         return 1 - prob.tolist()[0][0]\n",
    "# \n",
    "# for i in range(20):\n",
    "#     x_in = test.iloc[i, 0:14].values.reshape(-1, 14)\n",
    "#     # print(x_in)\n",
    "#     x_in = torch.tensor(x_in, dtype=torch.float32)\n",
    "#     x_in = x_in.numpy()\n",
    "#     x_in[:, columns_to_standardize] = scaler.transform(x_in[:, columns_to_standardize])\n",
    "#     \n",
    "#     # Convert back to PyTorch tensors\n",
    "#     x_in = torch.from_numpy(x_in).type(torch.float) \n",
    "#     # print(x_in)\n",
    "#     \n",
    "#     print( eval_model(model, x_in))"
   ],
   "metadata": {
    "collapsed": false,
    "ExecuteTime": {
     "end_time": "2024-06-21T15:03:11.980090Z",
     "start_time": "2024-06-21T15:03:11.976170Z"
    }
   },
   "id": "2c1f1e506d291dac",
   "execution_count": 51
  },
  {
   "cell_type": "code",
   "outputs": [],
   "source": [],
   "metadata": {
    "collapsed": false
   },
   "id": "7a5e4a6e843af326"
  }
 ],
 "metadata": {
  "kernelspec": {
   "display_name": "Python 3",
   "language": "python",
   "name": "python3"
  },
  "language_info": {
   "codemirror_mode": {
    "name": "ipython",
    "version": 2
   },
   "file_extension": ".py",
   "mimetype": "text/x-python",
   "name": "python",
   "nbconvert_exporter": "python",
   "pygments_lexer": "ipython2",
   "version": "2.7.6"
  }
 },
 "nbformat": 4,
 "nbformat_minor": 5
}
